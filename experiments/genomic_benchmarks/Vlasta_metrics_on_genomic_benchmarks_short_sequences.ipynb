{
 "cells": [
  {
   "cell_type": "code",
   "execution_count": 1,
   "metadata": {
    "colab": {
     "base_uri": "https://localhost:8080/"
    },
    "id": "Gyck9b-I6tpY",
    "outputId": "eee2e692-7936-4250-9b27-789db827718d"
   },
   "outputs": [
    {
     "name": "stdout",
     "output_type": "stream",
     "text": [
      "[('demo_human_or_worm', 0)]\n"
     ]
    }
   ],
   "source": [
    "### Parameters\n",
    "RANDOMIZE_WEIGHTS = False \n",
    "OUTPUT_PATH = './OUTPUT_FILE_NAME.csv'\n",
    "\n",
    "MODEL_NAME = \"armheb/DNA_bert_6\"\n",
    "TOKENIZER_NAME = \"armheb/DNA_bert_6\"\n",
    "K = 6\n",
    "STRIDE = 1\n",
    "\n",
    "\n",
    "# MODEL_NAME = \"Vlasta/DNADebertaSentencepiece30k\"\n",
    "# TOKENIZER_NAME = \"Vlasta/DNADebertaSentencepiece30k\"\n",
    "# K = None\n",
    "# STRIDE = None\n",
    "\n",
    "\n",
    "\n",
    "# All datasets\n",
    "# DATASETS = [('demo_coding_vs_intergenomic_seqs', 0),\n",
    "#  ('demo_human_or_worm', 0), ('human_enhancers_cohn', 0), ('human_enhancers_ensembl', 0),\n",
    "#  ('human_ensembl_regulatory', 0), ('human_nontata_promoters', 0), ('human_ocr_ensembl', 0)]\n",
    "\n",
    "# Quick check dataset\n",
    "# DATASETS = [('demo_human_or_worm', 0)]\n",
    "\n",
    "\n",
    "# Binary classification datasets (without human_ensembl_regulatory)\n",
    "DATASETS = [('demo_coding_vs_intergenomic_seqs', 0),\n",
    " ('demo_human_or_worm', 0), ('human_enhancers_cohn', 0), ('human_enhancers_ensembl', 0),\n",
    "  ('human_nontata_promoters', 0), ('human_ocr_ensembl', 0)]\n",
    "\n",
    "\n",
    "# if ensemble refuses connection - \"[Errno 104] Connection reset by peer\", use attribute use_cloud_cache=True\n",
    "BENCHMARKS_FOLDER = '/home/jovyan/.genomic_benchmarks'\n",
    "USE_CLOUD_CACHE = True\n",
    "# if less than 1, only this fraction of each dataset is used\n",
    "DATASET_THINING = 1 \n",
    "\n",
    "BATCH_SIZE = 32\n",
    "ACCUMULATION = 2\n",
    "LEARNING_RATE = 1e-5\n",
    "EPOCHS = 100 \n",
    "RUNS = 1\n",
    "\n",
    "print(DATASETS)"
   ]
  },
  {
   "cell_type": "code",
   "execution_count": 2,
   "metadata": {},
   "outputs": [
    {
     "name": "stderr",
     "output_type": "stream",
     "text": [
      "/home/jovyan/my-conda-envs/myCudaCondaEnv/lib/python3.8/site-packages/requests/__init__.py:102: RequestsDependencyWarning: urllib3 (1.26.9) or chardet (5.0.0)/charset_normalizer (2.0.12) doesn't match a supported version!\n",
      "  warnings.warn(\"urllib3 ({}) or chardet ({})/charset_normalizer ({}) doesn't match a supported \"\n"
     ]
    }
   ],
   "source": [
    "from transformers import TrainingArguments\n",
    "from transformers import EarlyStoppingCallback\n",
    "warmup_ratio = 0.05 #5 epochs (for 100 epochs total train)\n",
    "if(RANDOMIZE_WEIGHTS):\n",
    "    warmup_ratio = 0\n",
    "def get_trainargs():\n",
    "    return TrainingArguments(\n",
    "        'outputs', \n",
    "        learning_rate=LEARNING_RATE, \n",
    "        warmup_ratio=warmup_ratio, \n",
    "        lr_scheduler_type='linear',\n",
    "        fp16=True,\n",
    "        evaluation_strategy=\"epoch\", \n",
    "        per_device_train_batch_size=BATCH_SIZE, \n",
    "        per_device_eval_batch_size=BATCH_SIZE,\n",
    "        gradient_accumulation_steps=ACCUMULATION,\n",
    "        num_train_epochs=EPOCHS, \n",
    "        weight_decay=0.01,\n",
    "        save_strategy='epoch',\n",
    "        seed=randrange(1,10001), \n",
    "        report_to='none',\n",
    "        load_best_model_at_end=True,\n",
    "    )\n",
    "#early stopping 5 epochs\n",
    "callbacks= [\n",
    "    EarlyStoppingCallback(early_stopping_patience=5, early_stopping_threshold=0.0),\n",
    "]"
   ]
  },
  {
   "cell_type": "code",
   "execution_count": 3,
   "metadata": {
    "colab": {
     "base_uri": "https://localhost:8080/"
    },
    "id": "Lq7oMV6baan7",
    "outputId": "6aa53001-2ddb-4cbf-ec5d-d296b168bf2c"
   },
   "outputs": [],
   "source": [
    "from itertools import product\n",
    "from transformers import AutoTokenizer\n",
    "\n",
    "tokenizer = AutoTokenizer.from_pretrained(TOKENIZER_NAME)\n",
    "if(K is not None and K>6):\n",
    "    alphabet = ('A', 'C', 'T', 'G')\n",
    "    vocab = list(map(''.join, product(alphabet, repeat=K)))\n",
    "    tokenizer.add_tokens(vocab)"
   ]
  },
  {
   "cell_type": "code",
   "execution_count": 4,
   "metadata": {
    "colab": {
     "base_uri": "https://localhost:8080/",
     "height": 73
    },
    "id": "aolqScmmYaIs",
    "outputId": "5a706116-b020-47ba-a298-57e5d75080dd"
   },
   "outputs": [
    {
     "name": "stdout",
     "output_type": "stream",
     "text": [
      "{'input_ids': [2, 501, 1989, 3848, 3089, 56, 212, 835, 3325, 999, 3983, 3629, 2214, 650, 2587, 2142, 3], 'token_type_ids': [0, 0, 0, 0, 0, 0, 0, 0, 0, 0, 0, 0, 0, 0, 0, 0, 0], 'attention_mask': [1, 1, 1, 1, 1, 1, 1, 1, 1, 1, 1, 1, 1, 1, 1, 1, 1]}\n"
     ]
    },
    {
     "data": {
      "text/plain": [
       "'[CLS] ATGGAA TGGAAA GGAAAG GAAAGA AAAGAG AAGAGG AGAGGC GAGGCA AGGCAC GGCACC GCACCA CACCAT ACCATT CCATTC CATTCT [SEP]'"
      ]
     },
     "execution_count": 4,
     "metadata": {},
     "output_type": "execute_result"
    }
   ],
   "source": [
    "def kmers_strideK(s, k=K):\n",
    "    return [s[i:i + k] for i in range(0, len(s), k) if i + k <= len(s)]\n",
    "\n",
    "def kmers_stride1(s, k=K):\n",
    "    return [s[i:i + k] for i in range(0, len(s)-k+1)]\n",
    "\n",
    "if (STRIDE == 1):\n",
    "  kmers = kmers_stride1\n",
    "else:\n",
    "  kmers = kmers_strideK\n",
    "\n",
    "# function used for the actual tokenization\n",
    "if(K is not None):\n",
    "    def tok_func(x): return tokenizer(\" \".join(kmers(x[\"seq\"])), truncation=True)\n",
    "else:\n",
    "    def tok_func(x): return tokenizer(x[\"seq\"], truncation=True)\n",
    "\n",
    "# example\n",
    "example = tok_func({'seq': 'ATGGAAAGAGGCACCATTCT'})    \n",
    "print(example)\n",
    "tokenizer.decode(example['input_ids'])"
   ]
  },
  {
   "cell_type": "markdown",
   "metadata": {
    "id": "dfoAktdfUsl1"
   },
   "source": [
    "## Download benchmark datasets and tokenizer"
   ]
  },
  {
   "cell_type": "code",
   "execution_count": 5,
   "metadata": {
    "colab": {
     "base_uri": "https://localhost:8080/",
     "height": 49,
     "referenced_widgets": [
      "b1389c9d504e41b3bdc51a8805cfee5e",
      "cb813c47be474313bb9bdbec8327ddaf",
      "d33afcc4a33442d090d29ff1284e49ec",
      "dd67380f41b548cc8882b31219ab36de",
      "628aa13a3c8140be876e937c87d111be",
      "b59de534cb5b4d4486c6033c8f7bb4c2",
      "e3f54f15415a4a27bb77a7c06410db57",
      "01d30f8e4fde43fc8a3e4593d3932d47",
      "240183ed0048432e8f953293ea24bdce",
      "e9ca594da9214565bf101c528d74fc3d",
      "c04acfbcab1549e891f2320534af0400"
     ]
    },
    "id": "I3ZRsNqx7LNa",
    "outputId": "3562075e-a73f-4bc5-c977-f5d761762144"
   },
   "outputs": [
    {
     "data": {
      "application/vnd.jupyter.widget-view+json": {
       "model_id": "28965d7469d94ca1829f7734ce0faf46",
       "version_major": 2,
       "version_minor": 0
      },
      "text/plain": [
       "  0%|          | 0/1 [00:00<?, ?it/s]"
      ]
     },
     "metadata": {},
     "output_type": "display_data"
    }
   ],
   "source": [
    "from genomic_benchmarks.loc2seq import download_dataset\n",
    "from genomic_benchmarks.data_check.info import is_downloaded\n",
    "from pathlib import Path\n",
    "from tqdm.autonotebook import tqdm\n",
    "\n",
    "for dataset_name, dataset_version in tqdm(DATASETS):\n",
    "    if not is_downloaded(dataset_name):\n",
    "        download_dataset(dataset_name, version=dataset_version, use_cloud_cache=USE_CLOUD_CACHE)\n",
    "\n",
    "benchmark_root = Path(BENCHMARKS_FOLDER)"
   ]
  },
  {
   "cell_type": "markdown",
   "metadata": {},
   "source": [
    "## Function to extract dataframe metrics row from training logs"
   ]
  },
  {
   "cell_type": "code",
   "execution_count": 6,
   "metadata": {},
   "outputs": [],
   "source": [
    "def get_log_from_history(history, dataset_name):\n",
    "    eval_dicts = [x for x in history if 'eval_loss' in x]\n",
    "    test_dicts = [x for x in history if 'test_loss' in x]\n",
    "    test_log = test_dicts[0]\n",
    "    test_acc = test_log['test_accuracy']\n",
    "    test_f1 = test_log['test_f1']\n",
    "    test_loss = test_log['test_loss']\n",
    "    test_precision = test_log['test_precision']\n",
    "    test_recall = test_log['test_recall']\n",
    "    test_auroc_macro = test_log['test_rocauc_0_roc_auc']\n",
    "    test_auroc_weighted = test_log['test_rocauc_1_roc_auc']\n",
    "    test_pr_auc = test_log['test_pr_auc']\n",
    "    \n",
    "    \n",
    "    min_loss_dict = min(eval_dicts, key=lambda x: x['eval_loss'])\n",
    "    min_loss_epoch = min_loss_dict['epoch']\n",
    "    # max_f1_dict = max(eval_dicts, key=lambda x: x['eval_f1'])\n",
    "    # max_acc_dict = max(eval_dicts, key=lambda x: x['eval_accuracy'])\n",
    "    row = {\n",
    "        'dataset':dataset_name,\n",
    "        'test_acc':test_acc,\n",
    "        'test_f1':test_f1,\n",
    "        'test_loss':test_loss,\n",
    "        'test_precision':test_precision,\n",
    "        'test_recall':test_recall,\n",
    "        'test_auroc_macro':test_auroc_macro,\n",
    "        'test_auroc_weighted':test_auroc_weighted,\n",
    "        'test_pr_auc':test_pr_auc,\n",
    "        \n",
    "        'min_valid_loss_epoch':min_loss_epoch,\n",
    "        'min_valid_loss_log':min_loss_dict,\n",
    "        # 'max_valid_f1_log':max_f1_dict,\n",
    "        # 'max_valid_acc_log':max_acc_dict,\n",
    "    }\n",
    "    return row"
   ]
  },
  {
   "cell_type": "markdown",
   "metadata": {
    "id": "7cYuLrCnUz-K"
   },
   "source": [
    "## Looping through datasets, fine-tuning the model for each of them, logging metrics"
   ]
  },
  {
   "cell_type": "code",
   "execution_count": 7,
   "metadata": {},
   "outputs": [],
   "source": [
    "import evaluate\n",
    "binary_metrics = evaluate.combine([\n",
    "    'accuracy',\n",
    "    'f1',\n",
    "    'recall',\n",
    "    'precision',\n",
    "    #Order of roc_auc matters for logging -> macro first, then weighted\n",
    "    evaluate.load('roc_auc', average='macro'),\n",
    "    evaluate.load('roc_auc', average='weighted'),\n",
    "    evaluate.load(\"Vlasta/pr_auc\"),\n",
    "])\n",
    "# binary_metrics.compute(references=[0,1,1,1], predictions=[0,0,1,1], prediction_scores=[0.4,0.3,0.6,0.9])\n"
   ]
  },
  {
   "cell_type": "code",
   "execution_count": 8,
   "metadata": {
    "id": "_C7mdPSn-0Pl"
   },
   "outputs": [
    {
     "data": {
      "application/vnd.jupyter.widget-view+json": {
       "model_id": "869b83c7c4ce4a31af005be47d46e8c9",
       "version_major": 2,
       "version_minor": 0
      },
      "text/plain": [
       "  0%|          | 0/1 [00:00<?, ?it/s]"
      ]
     },
     "metadata": {},
     "output_type": "display_data"
    },
    {
     "data": {
      "application/vnd.jupyter.widget-view+json": {
       "model_id": "cd8b32b959ef436ebe60c89cb4ca8ded",
       "version_major": 2,
       "version_minor": 0
      },
      "text/plain": [
       "  0%|          | 0/100000 [00:00<?, ?ex/s]"
      ]
     },
     "metadata": {},
     "output_type": "display_data"
    },
    {
     "data": {
      "application/vnd.jupyter.widget-view+json": {
       "model_id": "2bd9c86470af43eabbaee9fa9889a640",
       "version_major": 2,
       "version_minor": 0
      },
      "text/plain": [
       "  0%|          | 0/100 [00:00<?, ?ba/s]"
      ]
     },
     "metadata": {},
     "output_type": "display_data"
    },
    {
     "data": {
      "application/vnd.jupyter.widget-view+json": {
       "model_id": "b7ad2a86809d40d5b938bd16ff06770c",
       "version_major": 2,
       "version_minor": 0
      },
      "text/plain": [
       "  0%|          | 0/100 [00:00<?, ?ba/s]"
      ]
     },
     "metadata": {},
     "output_type": "display_data"
    },
    {
     "name": "stderr",
     "output_type": "stream",
     "text": [
      "Some weights of the model checkpoint at armheb/DNA_bert_6 were not used when initializing BertForSequenceClassification: ['cls.predictions.transform.LayerNorm.bias', 'cls.predictions.decoder.weight', 'cls.predictions.decoder.bias', 'cls.predictions.transform.LayerNorm.weight', 'cls.predictions.bias', 'cls.predictions.transform.dense.bias', 'cls.predictions.transform.dense.weight']\n",
      "- This IS expected if you are initializing BertForSequenceClassification from the checkpoint of a model trained on another task or with another architecture (e.g. initializing a BertForSequenceClassification model from a BertForPreTraining model).\n",
      "- This IS NOT expected if you are initializing BertForSequenceClassification from the checkpoint of a model that you expect to be exactly identical (initializing a BertForSequenceClassification model from a BertForSequenceClassification model).\n",
      "Some weights of BertForSequenceClassification were not initialized from the model checkpoint at armheb/DNA_bert_6 and are newly initialized: ['classifier.weight', 'classifier.bias']\n",
      "You should probably TRAIN this model on a down-stream task to be able to use it for predictions and inference.\n",
      "Using amp half precision backend\n",
      "/home/jovyan/my-conda-envs/myCudaCondaEnv/lib/python3.8/site-packages/transformers/optimization.py:306: FutureWarning: This implementation of AdamW is deprecated and will be removed in a future version. Use the PyTorch implementation torch.optim.AdamW instead, or set `no_deprecation_warning=True` to disable this warning\n",
      "  warnings.warn(\n",
      "***** Running training *****\n",
      "  Num examples = 60000\n",
      "  Num Epochs = 100\n",
      "  Instantaneous batch size per device = 32\n",
      "  Total train batch size (w. parallel, distributed & accumulation) = 64\n",
      "  Gradient Accumulation steps = 2\n",
      "  Total optimization steps = 93700\n"
     ]
    },
    {
     "data": {
      "text/html": [
       "\n",
       "    <div>\n",
       "      \n",
       "      <progress value='10307' max='93700' style='width:300px; height:20px; vertical-align: middle;'></progress>\n",
       "      [10307/93700 49:23 < 6:39:40, 3.48 it/s, Epoch 10/100]\n",
       "    </div>\n",
       "    <table border=\"1\" class=\"dataframe\">\n",
       "  <thead>\n",
       " <tr style=\"text-align: left;\">\n",
       "      <th>Epoch</th>\n",
       "      <th>Training Loss</th>\n",
       "      <th>Validation Loss</th>\n",
       "      <th>Accuracy</th>\n",
       "      <th>F1</th>\n",
       "      <th>Recall</th>\n",
       "      <th>Precision</th>\n",
       "      <th>Rocauc 0 Roc Auc</th>\n",
       "      <th>Rocauc 1 Roc Auc</th>\n",
       "      <th>Pr Auc</th>\n",
       "    </tr>\n",
       "  </thead>\n",
       "  <tbody>\n",
       "    <tr>\n",
       "      <td>0</td>\n",
       "      <td>0.675700</td>\n",
       "      <td>0.176430</td>\n",
       "      <td>0.933400</td>\n",
       "      <td>0.931860</td>\n",
       "      <td>0.910921</td>\n",
       "      <td>0.953784</td>\n",
       "      <td>0.981736</td>\n",
       "      <td>0.981736</td>\n",
       "      <td>0.983650</td>\n",
       "    </tr>\n",
       "    <tr>\n",
       "      <td>1</td>\n",
       "      <td>0.136100</td>\n",
       "      <td>0.105717</td>\n",
       "      <td>0.958600</td>\n",
       "      <td>0.958179</td>\n",
       "      <td>0.948660</td>\n",
       "      <td>0.967891</td>\n",
       "      <td>0.993402</td>\n",
       "      <td>0.993402</td>\n",
       "      <td>0.993632</td>\n",
       "    </tr>\n",
       "    <tr>\n",
       "      <td>2</td>\n",
       "      <td>0.098400</td>\n",
       "      <td>0.101413</td>\n",
       "      <td>0.962333</td>\n",
       "      <td>0.961713</td>\n",
       "      <td>0.946260</td>\n",
       "      <td>0.977680</td>\n",
       "      <td>0.994633</td>\n",
       "      <td>0.994633</td>\n",
       "      <td>0.994853</td>\n",
       "    </tr>\n",
       "    <tr>\n",
       "      <td>3</td>\n",
       "      <td>0.083200</td>\n",
       "      <td>0.098976</td>\n",
       "      <td>0.962667</td>\n",
       "      <td>0.962177</td>\n",
       "      <td>0.949860</td>\n",
       "      <td>0.974819</td>\n",
       "      <td>0.994949</td>\n",
       "      <td>0.994949</td>\n",
       "      <td>0.995124</td>\n",
       "    </tr>\n",
       "    <tr>\n",
       "      <td>4</td>\n",
       "      <td>0.074200</td>\n",
       "      <td>0.120617</td>\n",
       "      <td>0.959133</td>\n",
       "      <td>0.958217</td>\n",
       "      <td>0.937325</td>\n",
       "      <td>0.980061</td>\n",
       "      <td>0.994142</td>\n",
       "      <td>0.994142</td>\n",
       "      <td>0.994449</td>\n",
       "    </tr>\n",
       "    <tr>\n",
       "      <td>5</td>\n",
       "      <td>0.067200</td>\n",
       "      <td>0.095545</td>\n",
       "      <td>0.967533</td>\n",
       "      <td>0.967247</td>\n",
       "      <td>0.958928</td>\n",
       "      <td>0.975712</td>\n",
       "      <td>0.995573</td>\n",
       "      <td>0.995573</td>\n",
       "      <td>0.995667</td>\n",
       "    </tr>\n",
       "    <tr>\n",
       "      <td>6</td>\n",
       "      <td>0.054900</td>\n",
       "      <td>0.112635</td>\n",
       "      <td>0.964800</td>\n",
       "      <td>0.964257</td>\n",
       "      <td>0.949727</td>\n",
       "      <td>0.979238</td>\n",
       "      <td>0.995426</td>\n",
       "      <td>0.995426</td>\n",
       "      <td>0.995586</td>\n",
       "    </tr>\n",
       "    <tr>\n",
       "      <td>7</td>\n",
       "      <td>0.047200</td>\n",
       "      <td>0.150488</td>\n",
       "      <td>0.957400</td>\n",
       "      <td>0.956146</td>\n",
       "      <td>0.928924</td>\n",
       "      <td>0.985011</td>\n",
       "      <td>0.994702</td>\n",
       "      <td>0.994702</td>\n",
       "      <td>0.994942</td>\n",
       "    </tr>\n",
       "    <tr>\n",
       "      <td>8</td>\n",
       "      <td>0.038500</td>\n",
       "      <td>0.168779</td>\n",
       "      <td>0.960400</td>\n",
       "      <td>0.959537</td>\n",
       "      <td>0.939192</td>\n",
       "      <td>0.980783</td>\n",
       "      <td>0.993060</td>\n",
       "      <td>0.993060</td>\n",
       "      <td>0.993647</td>\n",
       "    </tr>\n",
       "    <tr>\n",
       "      <td>9</td>\n",
       "      <td>0.032500</td>\n",
       "      <td>0.199880</td>\n",
       "      <td>0.955867</td>\n",
       "      <td>0.954539</td>\n",
       "      <td>0.926790</td>\n",
       "      <td>0.984001</td>\n",
       "      <td>0.992807</td>\n",
       "      <td>0.992807</td>\n",
       "      <td>0.993483</td>\n",
       "    </tr>\n",
       "    <tr>\n",
       "      <td>10</td>\n",
       "      <td>0.024200</td>\n",
       "      <td>0.278808</td>\n",
       "      <td>0.951467</td>\n",
       "      <td>0.949550</td>\n",
       "      <td>0.913588</td>\n",
       "      <td>0.988458</td>\n",
       "      <td>0.989483</td>\n",
       "      <td>0.989483</td>\n",
       "      <td>0.991064</td>\n",
       "    </tr>\n",
       "  </tbody>\n",
       "</table><p>"
      ],
      "text/plain": [
       "<IPython.core.display.HTML object>"
      ]
     },
     "metadata": {},
     "output_type": "display_data"
    },
    {
     "name": "stderr",
     "output_type": "stream",
     "text": [
      "***** Running Evaluation *****\n",
      "  Num examples = 15000\n",
      "  Batch size = 32\n",
      "Saving model checkpoint to outputs/checkpoint-937\n",
      "Configuration saved in outputs/checkpoint-937/config.json\n",
      "Model weights saved in outputs/checkpoint-937/pytorch_model.bin\n",
      "tokenizer config file saved in outputs/checkpoint-937/tokenizer_config.json\n",
      "Special tokens file saved in outputs/checkpoint-937/special_tokens_map.json\n",
      "***** Running Evaluation *****\n",
      "  Num examples = 15000\n",
      "  Batch size = 32\n",
      "Saving model checkpoint to outputs/checkpoint-1874\n",
      "Configuration saved in outputs/checkpoint-1874/config.json\n",
      "Model weights saved in outputs/checkpoint-1874/pytorch_model.bin\n",
      "tokenizer config file saved in outputs/checkpoint-1874/tokenizer_config.json\n",
      "Special tokens file saved in outputs/checkpoint-1874/special_tokens_map.json\n",
      "***** Running Evaluation *****\n",
      "  Num examples = 15000\n",
      "  Batch size = 32\n",
      "Saving model checkpoint to outputs/checkpoint-2811\n",
      "Configuration saved in outputs/checkpoint-2811/config.json\n",
      "Model weights saved in outputs/checkpoint-2811/pytorch_model.bin\n",
      "tokenizer config file saved in outputs/checkpoint-2811/tokenizer_config.json\n",
      "Special tokens file saved in outputs/checkpoint-2811/special_tokens_map.json\n",
      "***** Running Evaluation *****\n",
      "  Num examples = 15000\n",
      "  Batch size = 32\n",
      "Saving model checkpoint to outputs/checkpoint-3748\n",
      "Configuration saved in outputs/checkpoint-3748/config.json\n",
      "Model weights saved in outputs/checkpoint-3748/pytorch_model.bin\n",
      "tokenizer config file saved in outputs/checkpoint-3748/tokenizer_config.json\n",
      "Special tokens file saved in outputs/checkpoint-3748/special_tokens_map.json\n",
      "***** Running Evaluation *****\n",
      "  Num examples = 15000\n",
      "  Batch size = 32\n",
      "Saving model checkpoint to outputs/checkpoint-4685\n",
      "Configuration saved in outputs/checkpoint-4685/config.json\n",
      "Model weights saved in outputs/checkpoint-4685/pytorch_model.bin\n",
      "tokenizer config file saved in outputs/checkpoint-4685/tokenizer_config.json\n",
      "Special tokens file saved in outputs/checkpoint-4685/special_tokens_map.json\n",
      "***** Running Evaluation *****\n",
      "  Num examples = 15000\n",
      "  Batch size = 32\n",
      "Saving model checkpoint to outputs/checkpoint-5622\n",
      "Configuration saved in outputs/checkpoint-5622/config.json\n",
      "Model weights saved in outputs/checkpoint-5622/pytorch_model.bin\n",
      "tokenizer config file saved in outputs/checkpoint-5622/tokenizer_config.json\n",
      "Special tokens file saved in outputs/checkpoint-5622/special_tokens_map.json\n",
      "***** Running Evaluation *****\n",
      "  Num examples = 15000\n",
      "  Batch size = 32\n",
      "Saving model checkpoint to outputs/checkpoint-6559\n",
      "Configuration saved in outputs/checkpoint-6559/config.json\n",
      "Model weights saved in outputs/checkpoint-6559/pytorch_model.bin\n",
      "tokenizer config file saved in outputs/checkpoint-6559/tokenizer_config.json\n",
      "Special tokens file saved in outputs/checkpoint-6559/special_tokens_map.json\n",
      "***** Running Evaluation *****\n",
      "  Num examples = 15000\n",
      "  Batch size = 32\n",
      "Saving model checkpoint to outputs/checkpoint-7496\n",
      "Configuration saved in outputs/checkpoint-7496/config.json\n",
      "Model weights saved in outputs/checkpoint-7496/pytorch_model.bin\n",
      "tokenizer config file saved in outputs/checkpoint-7496/tokenizer_config.json\n",
      "Special tokens file saved in outputs/checkpoint-7496/special_tokens_map.json\n",
      "***** Running Evaluation *****\n",
      "  Num examples = 15000\n",
      "  Batch size = 32\n",
      "Saving model checkpoint to outputs/checkpoint-8433\n",
      "Configuration saved in outputs/checkpoint-8433/config.json\n",
      "Model weights saved in outputs/checkpoint-8433/pytorch_model.bin\n",
      "tokenizer config file saved in outputs/checkpoint-8433/tokenizer_config.json\n",
      "Special tokens file saved in outputs/checkpoint-8433/special_tokens_map.json\n",
      "***** Running Evaluation *****\n",
      "  Num examples = 15000\n",
      "  Batch size = 32\n",
      "Saving model checkpoint to outputs/checkpoint-9370\n",
      "Configuration saved in outputs/checkpoint-9370/config.json\n",
      "Model weights saved in outputs/checkpoint-9370/pytorch_model.bin\n",
      "tokenizer config file saved in outputs/checkpoint-9370/tokenizer_config.json\n",
      "Special tokens file saved in outputs/checkpoint-9370/special_tokens_map.json\n",
      "***** Running Evaluation *****\n",
      "  Num examples = 15000\n",
      "  Batch size = 32\n",
      "Saving model checkpoint to outputs/checkpoint-10307\n",
      "Configuration saved in outputs/checkpoint-10307/config.json\n",
      "Model weights saved in outputs/checkpoint-10307/pytorch_model.bin\n",
      "tokenizer config file saved in outputs/checkpoint-10307/tokenizer_config.json\n",
      "Special tokens file saved in outputs/checkpoint-10307/special_tokens_map.json\n",
      "\n",
      "\n",
      "Training completed. Do not forget to share your model on huggingface.co/models =)\n",
      "\n",
      "\n",
      "Loading best model from outputs/checkpoint-5622 (score: 0.09554525464773178).\n",
      "***** Running Evaluation *****\n",
      "  Num examples = 25000\n",
      "  Batch size = 32\n"
     ]
    },
    {
     "data": {
      "text/html": [
       "\n",
       "    <div>\n",
       "      \n",
       "      <progress value='782' max='782' style='width:300px; height:20px; vertical-align: middle;'></progress>\n",
       "      [782/782 00:36]\n",
       "    </div>\n",
       "    "
      ],
      "text/plain": [
       "<IPython.core.display.HTML object>"
      ]
     },
     "metadata": {},
     "output_type": "display_data"
    },
    {
     "name": "stderr",
     "output_type": "stream",
     "text": [
      "early stopping required metric_for_best_model, but did not find eval_loss so early stopping is disabled\n"
     ]
    }
   ],
   "source": [
    "import pandas as pd\n",
    "import numpy as np\n",
    "from random import random, randrange\n",
    "from transformers import AutoModelForSequenceClassification\n",
    "from transformers import TrainingArguments, Trainer\n",
    "from datasets import Dataset, DatasetDict, load_metric\n",
    "import torch\n",
    "\n",
    "def compute_metrics_binary(eval_preds):\n",
    "    logits, labels = eval_preds\n",
    "    prediction_scores = torch.nn.functional.softmax(\n",
    "        torch.from_numpy(logits).double(), dim=-1).numpy() \n",
    "    # predictions = np.argmax(logits, axis=-1) #equivalent\n",
    "    predictions = np.argmax(prediction_scores, axis=-1)\n",
    "    return binary_metrics.compute(\n",
    "        predictions=predictions, \n",
    "        references=labels, \n",
    "        prediction_scores=prediction_scores[:,1] #taking only prediction percentage for the label 1\n",
    "    )\n",
    "    \n",
    "#TODO human_ensembl_regulatory dataset multilabel metrics\n",
    "def compute_metrics_multi(eval_preds):\n",
    "    metric = load_metric(\"accuracy\")\n",
    "    logits, labels = eval_preds\n",
    "    predictions = np.argmax(logits, axis=-1)\n",
    "    return metric.compute(predictions=predictions, references=labels)\n",
    "\n",
    "outputs = []\n",
    "\n",
    "for dataset_name, dataset_version in tqdm(DATASETS):\n",
    "    labels = sorted([x.stem for x in (benchmark_root / dataset_name / 'train').iterdir()])\n",
    "\n",
    "    tmp_dict = {}\n",
    "\n",
    "    for split in ['train', 'test']:\n",
    "        for nlabel, label in enumerate(labels):\n",
    "            for f in (benchmark_root / dataset_name / split / label).glob('*.txt'):\n",
    "                txt = f.read_text()\n",
    "                if not DATASET_THINING or DATASET_THINING==1:\n",
    "                    tmp_dict[f\"{label} {f.stem}\"] = (split, nlabel, txt)\n",
    "                elif random() < DATASET_THINING:\n",
    "                    tmp_dict[f\"{label} {f.stem}\"] = (split, nlabel, txt)\n",
    "\n",
    "    df = pd.DataFrame.from_dict(tmp_dict).T.rename(columns = {0: \"dset\", 1: \"cat\", 2: \"seq\"})\n",
    "\n",
    "    ds = Dataset.from_pandas(df)\n",
    "\n",
    "    tok_ds = ds.map(tok_func, batched=False, remove_columns=['__index_level_0__', 'seq'])\n",
    "    tok_ds = tok_ds.rename_columns({'cat':'labels'})\n",
    "\n",
    "    dds = DatasetDict({\n",
    "        'train': tok_ds.filter(lambda x: x[\"dset\"] == \"train\").remove_columns('dset'),\n",
    "        'test':  tok_ds.filter(lambda x: x[\"dset\"] == \"test\").remove_columns('dset')\n",
    "    })\n",
    "    train_valid_split = dds['train'].train_test_split(test_size=0.2, shuffle=True, seed=42)\n",
    "    dds['train']=train_valid_split['train']\n",
    "    dds['valid']=train_valid_split['test']\n",
    "\n",
    "    compute_metrics = compute_metrics_binary if len(labels) == 2 else compute_metrics_multi\n",
    "\n",
    "    for _ in range(RUNS):\n",
    "        model_cls = AutoModelForSequenceClassification.from_pretrained(MODEL_NAME, num_labels=len(labels))\n",
    "        if(RANDOMIZE_WEIGHTS):\n",
    "            # model_cls.init_weights() #Alternative\n",
    "            model_cls = AutoModelForSequenceClassification.from_config(model_cls.config)            \n",
    "            \n",
    "        args = get_trainargs()\n",
    "        \n",
    "        trainer = Trainer(model_cls, args, train_dataset=dds['train'], eval_dataset=dds['valid'],\n",
    "                          tokenizer=tokenizer, compute_metrics=compute_metrics, \n",
    "                          callbacks=callbacks)\n",
    "        trainer.train()\n",
    "        trainer.evaluate(dds['test'], metric_key_prefix='test')\n",
    "        training_log = get_log_from_history(trainer.state.log_history, dataset_name=dataset_name)\n",
    "        outputs.append(training_log)\n",
    "  "
   ]
  },
  {
   "cell_type": "markdown",
   "metadata": {
    "id": "fckdKKcoYbFR"
   },
   "source": [
    "## Outputs"
   ]
  },
  {
   "cell_type": "code",
   "execution_count": 9,
   "metadata": {
    "id": "Q-d5WgMLTR-E"
   },
   "outputs": [
    {
     "data": {
      "text/html": [
       "<div>\n",
       "<style scoped>\n",
       "    .dataframe tbody tr th:only-of-type {\n",
       "        vertical-align: middle;\n",
       "    }\n",
       "\n",
       "    .dataframe tbody tr th {\n",
       "        vertical-align: top;\n",
       "    }\n",
       "\n",
       "    .dataframe thead th {\n",
       "        text-align: right;\n",
       "    }\n",
       "</style>\n",
       "<table border=\"1\" class=\"dataframe\">\n",
       "  <thead>\n",
       "    <tr style=\"text-align: right;\">\n",
       "      <th></th>\n",
       "      <th>dataset</th>\n",
       "      <th>test_acc</th>\n",
       "      <th>test_f1</th>\n",
       "      <th>test_loss</th>\n",
       "      <th>test_precision</th>\n",
       "      <th>test_recall</th>\n",
       "      <th>test_auroc_macro</th>\n",
       "      <th>test_auroc_weighted</th>\n",
       "      <th>test_pr_auc</th>\n",
       "      <th>min_valid_loss_epoch</th>\n",
       "      <th>min_valid_loss_log</th>\n",
       "    </tr>\n",
       "  </thead>\n",
       "  <tbody>\n",
       "    <tr>\n",
       "      <th>0</th>\n",
       "      <td>demo_human_or_worm</td>\n",
       "      <td>0.9684</td>\n",
       "      <td>0.968078</td>\n",
       "      <td>0.091451</td>\n",
       "      <td>0.978037</td>\n",
       "      <td>0.95832</td>\n",
       "      <td>0.995801</td>\n",
       "      <td>0.995801</td>\n",
       "      <td>0.995875</td>\n",
       "      <td>6.0</td>\n",
       "      <td>{'eval_loss': 0.09554525464773178, 'eval_accur...</td>\n",
       "    </tr>\n",
       "  </tbody>\n",
       "</table>\n",
       "</div>"
      ],
      "text/plain": [
       "              dataset  test_acc   test_f1  test_loss  test_precision  \\\n",
       "0  demo_human_or_worm    0.9684  0.968078   0.091451        0.978037   \n",
       "\n",
       "   test_recall  test_auroc_macro  test_auroc_weighted  test_pr_auc  \\\n",
       "0      0.95832          0.995801             0.995801     0.995875   \n",
       "\n",
       "   min_valid_loss_epoch                                 min_valid_loss_log  \n",
       "0                   6.0  {'eval_loss': 0.09554525464773178, 'eval_accur...  "
      ]
     },
     "execution_count": 9,
     "metadata": {},
     "output_type": "execute_result"
    }
   ],
   "source": [
    "outputs_df = pd.DataFrame(outputs)\n",
    "outputs_df"
   ]
  },
  {
   "cell_type": "code",
   "execution_count": 10,
   "metadata": {
    "id": "QXq1XNgFVKSn"
   },
   "outputs": [],
   "source": [
    "# outputs_df.groupby('dataset').agg({'accuracy' : ['mean', 'sem'], 'f1' : ['mean','sem'], 'train_runtime': ['mean', 'sem']})"
   ]
  },
  {
   "cell_type": "code",
   "execution_count": 11,
   "metadata": {
    "id": "bP6TQPmYYlrb"
   },
   "outputs": [],
   "source": [
    "# saving outputs to csv file\n",
    "outputs_df.to_csv(OUTPUT_PATH, index=False)"
   ]
  }
 ],
 "metadata": {
  "accelerator": "GPU",
  "colab": {
   "collapsed_sections": [],
   "name": "Metrics_on_genomic_benchmarks_short_inputs_colab.ipynb",
   "provenance": []
  },
  "gpuClass": "standard",
  "kernelspec": {
   "display_name": "Python [conda env:myCudaCondaEnv]",
   "language": "python",
   "name": "conda-env-myCudaCondaEnv-py"
  },
  "language_info": {
   "codemirror_mode": {
    "name": "ipython",
    "version": 3
   },
   "file_extension": ".py",
   "mimetype": "text/x-python",
   "name": "python",
   "nbconvert_exporter": "python",
   "pygments_lexer": "ipython3",
   "version": "3.8.13"
  },
  "widgets": {
   "application/vnd.jupyter.widget-state+json": {
    "01d30f8e4fde43fc8a3e4593d3932d47": {
     "model_module": "@jupyter-widgets/base",
     "model_module_version": "1.2.0",
     "model_name": "LayoutModel",
     "state": {
      "_model_module": "@jupyter-widgets/base",
      "_model_module_version": "1.2.0",
      "_model_name": "LayoutModel",
      "_view_count": null,
      "_view_module": "@jupyter-widgets/base",
      "_view_module_version": "1.2.0",
      "_view_name": "LayoutView",
      "align_content": null,
      "align_items": null,
      "align_self": null,
      "border": null,
      "bottom": null,
      "display": null,
      "flex": null,
      "flex_flow": null,
      "grid_area": null,
      "grid_auto_columns": null,
      "grid_auto_flow": null,
      "grid_auto_rows": null,
      "grid_column": null,
      "grid_gap": null,
      "grid_row": null,
      "grid_template_areas": null,
      "grid_template_columns": null,
      "grid_template_rows": null,
      "height": null,
      "justify_content": null,
      "justify_items": null,
      "left": null,
      "margin": null,
      "max_height": null,
      "max_width": null,
      "min_height": null,
      "min_width": null,
      "object_fit": null,
      "object_position": null,
      "order": null,
      "overflow": null,
      "overflow_x": null,
      "overflow_y": null,
      "padding": null,
      "right": null,
      "top": null,
      "visibility": null,
      "width": null
     }
    },
    "240183ed0048432e8f953293ea24bdce": {
     "model_module": "@jupyter-widgets/controls",
     "model_module_version": "1.5.0",
     "model_name": "ProgressStyleModel",
     "state": {
      "_model_module": "@jupyter-widgets/controls",
      "_model_module_version": "1.5.0",
      "_model_name": "ProgressStyleModel",
      "_view_count": null,
      "_view_module": "@jupyter-widgets/base",
      "_view_module_version": "1.2.0",
      "_view_name": "StyleView",
      "bar_color": null,
      "description_width": ""
     }
    },
    "628aa13a3c8140be876e937c87d111be": {
     "model_module": "@jupyter-widgets/base",
     "model_module_version": "1.2.0",
     "model_name": "LayoutModel",
     "state": {
      "_model_module": "@jupyter-widgets/base",
      "_model_module_version": "1.2.0",
      "_model_name": "LayoutModel",
      "_view_count": null,
      "_view_module": "@jupyter-widgets/base",
      "_view_module_version": "1.2.0",
      "_view_name": "LayoutView",
      "align_content": null,
      "align_items": null,
      "align_self": null,
      "border": null,
      "bottom": null,
      "display": null,
      "flex": null,
      "flex_flow": null,
      "grid_area": null,
      "grid_auto_columns": null,
      "grid_auto_flow": null,
      "grid_auto_rows": null,
      "grid_column": null,
      "grid_gap": null,
      "grid_row": null,
      "grid_template_areas": null,
      "grid_template_columns": null,
      "grid_template_rows": null,
      "height": null,
      "justify_content": null,
      "justify_items": null,
      "left": null,
      "margin": null,
      "max_height": null,
      "max_width": null,
      "min_height": null,
      "min_width": null,
      "object_fit": null,
      "object_position": null,
      "order": null,
      "overflow": null,
      "overflow_x": null,
      "overflow_y": null,
      "padding": null,
      "right": null,
      "top": null,
      "visibility": null,
      "width": null
     }
    },
    "b1389c9d504e41b3bdc51a8805cfee5e": {
     "model_module": "@jupyter-widgets/controls",
     "model_module_version": "1.5.0",
     "model_name": "HBoxModel",
     "state": {
      "_dom_classes": [],
      "_model_module": "@jupyter-widgets/controls",
      "_model_module_version": "1.5.0",
      "_model_name": "HBoxModel",
      "_view_count": null,
      "_view_module": "@jupyter-widgets/controls",
      "_view_module_version": "1.5.0",
      "_view_name": "HBoxView",
      "box_style": "",
      "children": [
       "IPY_MODEL_cb813c47be474313bb9bdbec8327ddaf",
       "IPY_MODEL_d33afcc4a33442d090d29ff1284e49ec",
       "IPY_MODEL_dd67380f41b548cc8882b31219ab36de"
      ],
      "layout": "IPY_MODEL_628aa13a3c8140be876e937c87d111be"
     }
    },
    "b59de534cb5b4d4486c6033c8f7bb4c2": {
     "model_module": "@jupyter-widgets/base",
     "model_module_version": "1.2.0",
     "model_name": "LayoutModel",
     "state": {
      "_model_module": "@jupyter-widgets/base",
      "_model_module_version": "1.2.0",
      "_model_name": "LayoutModel",
      "_view_count": null,
      "_view_module": "@jupyter-widgets/base",
      "_view_module_version": "1.2.0",
      "_view_name": "LayoutView",
      "align_content": null,
      "align_items": null,
      "align_self": null,
      "border": null,
      "bottom": null,
      "display": null,
      "flex": null,
      "flex_flow": null,
      "grid_area": null,
      "grid_auto_columns": null,
      "grid_auto_flow": null,
      "grid_auto_rows": null,
      "grid_column": null,
      "grid_gap": null,
      "grid_row": null,
      "grid_template_areas": null,
      "grid_template_columns": null,
      "grid_template_rows": null,
      "height": null,
      "justify_content": null,
      "justify_items": null,
      "left": null,
      "margin": null,
      "max_height": null,
      "max_width": null,
      "min_height": null,
      "min_width": null,
      "object_fit": null,
      "object_position": null,
      "order": null,
      "overflow": null,
      "overflow_x": null,
      "overflow_y": null,
      "padding": null,
      "right": null,
      "top": null,
      "visibility": null,
      "width": null
     }
    },
    "c04acfbcab1549e891f2320534af0400": {
     "model_module": "@jupyter-widgets/controls",
     "model_module_version": "1.5.0",
     "model_name": "DescriptionStyleModel",
     "state": {
      "_model_module": "@jupyter-widgets/controls",
      "_model_module_version": "1.5.0",
      "_model_name": "DescriptionStyleModel",
      "_view_count": null,
      "_view_module": "@jupyter-widgets/base",
      "_view_module_version": "1.2.0",
      "_view_name": "StyleView",
      "description_width": ""
     }
    },
    "cb813c47be474313bb9bdbec8327ddaf": {
     "model_module": "@jupyter-widgets/controls",
     "model_module_version": "1.5.0",
     "model_name": "HTMLModel",
     "state": {
      "_dom_classes": [],
      "_model_module": "@jupyter-widgets/controls",
      "_model_module_version": "1.5.0",
      "_model_name": "HTMLModel",
      "_view_count": null,
      "_view_module": "@jupyter-widgets/controls",
      "_view_module_version": "1.5.0",
      "_view_name": "HTMLView",
      "description": "",
      "description_tooltip": null,
      "layout": "IPY_MODEL_b59de534cb5b4d4486c6033c8f7bb4c2",
      "placeholder": "​",
      "style": "IPY_MODEL_e3f54f15415a4a27bb77a7c06410db57",
      "value": "100%"
     }
    },
    "d33afcc4a33442d090d29ff1284e49ec": {
     "model_module": "@jupyter-widgets/controls",
     "model_module_version": "1.5.0",
     "model_name": "FloatProgressModel",
     "state": {
      "_dom_classes": [],
      "_model_module": "@jupyter-widgets/controls",
      "_model_module_version": "1.5.0",
      "_model_name": "FloatProgressModel",
      "_view_count": null,
      "_view_module": "@jupyter-widgets/controls",
      "_view_module_version": "1.5.0",
      "_view_name": "ProgressView",
      "bar_style": "success",
      "description": "",
      "description_tooltip": null,
      "layout": "IPY_MODEL_01d30f8e4fde43fc8a3e4593d3932d47",
      "max": 1,
      "min": 0,
      "orientation": "horizontal",
      "style": "IPY_MODEL_240183ed0048432e8f953293ea24bdce",
      "value": 1
     }
    },
    "dd67380f41b548cc8882b31219ab36de": {
     "model_module": "@jupyter-widgets/controls",
     "model_module_version": "1.5.0",
     "model_name": "HTMLModel",
     "state": {
      "_dom_classes": [],
      "_model_module": "@jupyter-widgets/controls",
      "_model_module_version": "1.5.0",
      "_model_name": "HTMLModel",
      "_view_count": null,
      "_view_module": "@jupyter-widgets/controls",
      "_view_module_version": "1.5.0",
      "_view_name": "HTMLView",
      "description": "",
      "description_tooltip": null,
      "layout": "IPY_MODEL_e9ca594da9214565bf101c528d74fc3d",
      "placeholder": "​",
      "style": "IPY_MODEL_c04acfbcab1549e891f2320534af0400",
      "value": " 1/1 [00:00&lt;00:00, 28.86it/s]"
     }
    },
    "e3f54f15415a4a27bb77a7c06410db57": {
     "model_module": "@jupyter-widgets/controls",
     "model_module_version": "1.5.0",
     "model_name": "DescriptionStyleModel",
     "state": {
      "_model_module": "@jupyter-widgets/controls",
      "_model_module_version": "1.5.0",
      "_model_name": "DescriptionStyleModel",
      "_view_count": null,
      "_view_module": "@jupyter-widgets/base",
      "_view_module_version": "1.2.0",
      "_view_name": "StyleView",
      "description_width": ""
     }
    },
    "e9ca594da9214565bf101c528d74fc3d": {
     "model_module": "@jupyter-widgets/base",
     "model_module_version": "1.2.0",
     "model_name": "LayoutModel",
     "state": {
      "_model_module": "@jupyter-widgets/base",
      "_model_module_version": "1.2.0",
      "_model_name": "LayoutModel",
      "_view_count": null,
      "_view_module": "@jupyter-widgets/base",
      "_view_module_version": "1.2.0",
      "_view_name": "LayoutView",
      "align_content": null,
      "align_items": null,
      "align_self": null,
      "border": null,
      "bottom": null,
      "display": null,
      "flex": null,
      "flex_flow": null,
      "grid_area": null,
      "grid_auto_columns": null,
      "grid_auto_flow": null,
      "grid_auto_rows": null,
      "grid_column": null,
      "grid_gap": null,
      "grid_row": null,
      "grid_template_areas": null,
      "grid_template_columns": null,
      "grid_template_rows": null,
      "height": null,
      "justify_content": null,
      "justify_items": null,
      "left": null,
      "margin": null,
      "max_height": null,
      "max_width": null,
      "min_height": null,
      "min_width": null,
      "object_fit": null,
      "object_position": null,
      "order": null,
      "overflow": null,
      "overflow_x": null,
      "overflow_y": null,
      "padding": null,
      "right": null,
      "top": null,
      "visibility": null,
      "width": null
     }
    }
   }
  }
 },
 "nbformat": 4,
 "nbformat_minor": 4
}
