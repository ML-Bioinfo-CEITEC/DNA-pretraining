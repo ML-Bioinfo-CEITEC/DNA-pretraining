{
 "cells": [
  {
   "cell_type": "markdown",
   "id": "399287c2-5aa9-4444-b89e-5c6cc03e6dc9",
   "metadata": {
    "tags": []
   },
   "source": [
    "# SETUP"
   ]
  },
  {
   "cell_type": "code",
   "execution_count": 1,
   "id": "18140f58-5a04-4886-ad18-6b77c26ee1e4",
   "metadata": {},
   "outputs": [
    {
     "data": {
      "text/plain": [
       "'LX2YP'"
      ]
     },
     "execution_count": 1,
     "metadata": {},
     "output_type": "execute_result"
    }
   ],
   "source": [
    "import random\n",
    "import string\n",
    "run_id = ''.join(random.choice(string.ascii_uppercase + string.digits) for _ in range(5))\n",
    "run_id\n",
    "\n",
    "#TODO log MLM_PERCENTAGE to comet\n"
   ]
  },
  {
   "cell_type": "code",
   "execution_count": 2,
   "id": "208f0a3c-2ac7-41f8-96a4-7c61080cb15a",
   "metadata": {},
   "outputs": [
    {
     "name": "stderr",
     "output_type": "stream",
     "text": [
      "COMET ERROR: Invalid Comet API key for https://www.comet-ml.com/clientlib/\n",
      "You will not be able to create online Experiments\n",
      "Please see https://www.comet.ml/docs/command-line/#comet-check for more information.\n",
      "Use: comet_ml.init() to try again\n"
     ]
    }
   ],
   "source": [
    "import comet_ml\n",
    "api_key = \"TEVQbgxxvilM1WdTyqZLJ57ac\"\n",
    "# !export COMET_API_KEY=\"\"\n",
    "project_name=\"CDNA_BERT\"\n",
    "comet_ml.init(project_name=project_name, api_key=api_key)"
   ]
  },
  {
   "cell_type": "code",
   "execution_count": 3,
   "id": "5c09f04b-f931-4958-85d5-22cbf958bed8",
   "metadata": {},
   "outputs": [],
   "source": [
    "from datasets import load_dataset\n",
    "from transformers import AutoTokenizer, AutoModelForMaskedLM, AutoModelForSequenceClassification, DataCollatorForLanguageModeling, TextDataset\n",
    "from transformers import DistilBertConfig, DistilBertForMaskedLM\n",
    "from transformers import TrainingArguments, Trainer\n",
    "from transformers import DebertaConfig, DebertaForMaskedLM\n",
    "\n",
    "\n",
    "tokenizer = AutoTokenizer.from_pretrained(\"armheb/DNA_bert_6\")\n"
   ]
  },
  {
   "cell_type": "markdown",
   "id": "d2c367b6-6591-4e02-aad4-848cf335bf10",
   "metadata": {},
   "source": [
    "# OPTUNA HYPERPARAM TUNING"
   ]
  },
  {
   "cell_type": "code",
   "execution_count": 3,
   "id": "c4782c29-311b-4294-9c8d-3c4035eb4ad6",
   "metadata": {},
   "outputs": [],
   "source": [
    "#Install in terminal and confirm \n",
    "# !conda install -n YOUR_CONDA_ENV optuna\n",
    "# !conda install -n YOUR_CONDA_ENV -c plotly plotly=5.8.2\n",
    "# !conda install -n YOUR_CONDA_ENV \"jupyterlab>=3\" \"ipywidgets>=7.6\"\n",
    "# !conda install -n YOUR_CONDA_ENV scikit-learn -c conda-forge\n"
   ]
  },
  {
   "cell_type": "code",
   "execution_count": 4,
   "id": "9a4b60cf-2467-4285-84f8-45427393f01c",
   "metadata": {},
   "outputs": [],
   "source": [
    "from transformers import TrainerCallback\n",
    "#Optional part for pruning of experiments\n",
    "\n",
    "class PruningLogCallback(TrainerCallback):\n",
    "    def __init__(self, trial):\n",
    "        self.step = 0\n",
    "        self.trial = trial\n",
    "    \n",
    "    def on_evaluate(self, args, state, control, metrics, **kwargs):\n",
    "        eval_loss = metrics['eval_loss']\n",
    "        current_step = self.step\n",
    "        self.step = self.step+1\n",
    "        self.trial.report(eval_loss, current_step)\n",
    "        \n",
    "        if(self.trial.should_prune()):\n",
    "            raise optuna.TrialPruned()\n"
   ]
  },
  {
   "cell_type": "code",
   "execution_count": 9,
   "id": "ca0f4d4b-b4bf-4dc9-b341-8bcc82d2fdb4",
   "metadata": {},
   "outputs": [],
   "source": [
    "from typing import Any, Callable, Dict, List, NewType, Optional, Tuple, Union\n",
    "from transformers import DataCollatorForLanguageModeling\n",
    "import torch\n",
    "\n",
    "import numpy as np\n",
    "\n",
    "class WideCollator(DataCollatorForLanguageModeling):\n",
    "    def __init__(self, area, mask_fully=False ,**kwargs):\n",
    "        super().__init__(**kwargs)\n",
    "        self.mask_fully=mask_fully\n",
    "        self.area = area\n",
    "    \n",
    "    def torch_mask_tokens(self, inputs: Any, special_tokens_mask: Optional[Any] = None) -> Tuple[Any, Any]:\n",
    "        \"\"\"\n",
    "        Prepare masked tokens inputs/labels for masked language modeling: 80% MASK, 10% random, 10% original.\n",
    "        \"\"\"\n",
    "        import torch\n",
    "\n",
    "        labels = inputs.clone()\n",
    "        # We sample consecutive tokens\n",
    "        probability_matrix = self.get_probability_matrix_wide(labels.shape, self.mlm_probability)\n",
    "        if special_tokens_mask is None:\n",
    "            special_tokens_mask = [\n",
    "                self.tokenizer.get_special_tokens_mask(val, already_has_special_tokens=True) for val in labels.tolist()\n",
    "            ]\n",
    "            special_tokens_mask = torch.tensor(special_tokens_mask, dtype=torch.bool)\n",
    "        else:\n",
    "            special_tokens_mask = special_tokens_mask.bool()\n",
    "\n",
    "        probability_matrix.masked_fill_(special_tokens_mask, value=0.0)\n",
    "        masked_indices = torch.bernoulli(probability_matrix).bool()\n",
    "        labels[~masked_indices] = -100  # We only compute loss on masked tokens\n",
    "\n",
    "        # 100% masking \n",
    "        if(self.mask_fully):\n",
    "            indices_replaced = torch.bernoulli(torch.full(labels.shape, 1.0)).bool() & masked_indices\n",
    "            inputs[indices_replaced] = self.tokenizer.convert_tokens_to_ids(self.tokenizer.mask_token)\n",
    "            return inputs, labels\n",
    "            \n",
    "        # 80% of the time, we replace masked input tokens with tokenizer.mask_token ([MASK])\n",
    "        indices_replaced = torch.bernoulli(torch.full(labels.shape, 0.8)).bool() & masked_indices\n",
    "        inputs[indices_replaced] = self.tokenizer.convert_tokens_to_ids(self.tokenizer.mask_token)\n",
    "\n",
    "        # 10% of the time, we replace masked input tokens with random word\n",
    "        indices_random = torch.bernoulli(torch.full(labels.shape, 0.5)).bool() & masked_indices & ~indices_replaced\n",
    "        random_words = torch.randint(len(self.tokenizer), labels.shape, dtype=torch.long)\n",
    "        inputs[indices_random] = random_words[indices_random]\n",
    "\n",
    "        # The rest of the time (10% of the time) we keep the masked input tokens unchanged\n",
    "        return inputs, labels\n",
    "    \n",
    "    def get_probability_matrix_wide(self, labels_shape, mlm_probability):\n",
    "        batch_size, seq_len = labels_shape\n",
    "        masksize = int(seq_len*mlm_probability)\n",
    "        masked_k = self.area\n",
    "        \n",
    "        #maskpercentage = overall tokens VS single tokens + dont count neighbours\n",
    "        num_of_areas = masksize//masked_k\n",
    "        # num_of_areas = masksize\n",
    "        # print(num_of_areas, 'noa')\n",
    "        result = torch.zeros((batch_size, seq_len))\n",
    "        #TODO returns deterministic values!!! Fix seed?\n",
    "        # print(torch.randperm(seq_len-masked_k+1)[:num_of_areas])\n",
    "        #TODO indicies are not exclusively masked (may overlap = randperm from seq_len/kmer_size and then upscale?\n",
    "        ind = torch.stack([torch.randperm(seq_len-masked_k+1)[:num_of_areas] for _ in range(batch_size)] )\n",
    "        ind = torch.cat([ind+k for k in range(0, masked_k)],1)\n",
    "        ind_wide = torch.unique(ind, dim=1)\n",
    "        result.scatter_(-1, ind_wide, 1)\n",
    "        # print(torch.count_nonzero(result[0]))\n",
    "        # print(torch.count_nonzero(result[1]))\n",
    "        # print(result[0])\n",
    "        # print(result[1])\n",
    "        \n",
    "        return result\n"
   ]
  },
  {
   "cell_type": "code",
   "execution_count": 10,
   "id": "1185eb83-1846-41e9-89d3-1169276fe9d1",
   "metadata": {},
   "outputs": [],
   "source": [
    "# How to define search spaces\n",
    "# https://optuna.readthedocs.io/en/stable/tutorial/10_key_features/002_configurations.html\n",
    "# https://optuna.readthedocs.io/en/stable/reference/generated/optuna.trial.Trial.html#optuna.trial.Trial.suggest_float\n",
    "\n",
    "log_once_every_x_sequences = 64000\n",
    "crashes = []\n",
    "#getting only X% of datasets for faster hyperopt demonstration\n",
    "train_dset = load_dataset(\"simecek/Human_DNA_v0_DNABert6tokenized_stride1\", split='train[:10%]')\n",
    "test_dset = load_dataset(\"simecek/Human_DNA_v0_DNABert6tokenized_stride1\", split='test[:10%]')\n",
    "mask_area = 6\n",
    "def objective(trial):\n",
    "    num_train_epochs = 1\n",
    "    hidden_layers = trial.suggest_int('num_hidden_layers', low=1, high=12, step=1)\n",
    "    learning_rate = trial.suggest_float('learning_rate', low=1e-5, high=1e-1, log=True)\n",
    "    weight_decay = trial.suggest_float('weight_decay', low=0, high=0.3)\n",
    "    mlm_probability = trial.suggest_float('mlm_probability', low=0.05, high=0.5, step=0.05)\n",
    "    batch_size = trial.suggest_categorical('batch_size', [8,16,32,64,128,256,512])\n",
    "    \n",
    "    logging_steps = int(log_once_every_x_sequences/batch_size)\n",
    "    if(batch_size <=64):\n",
    "        accumulation_steps = 1 \n",
    "    else:\n",
    "        accumulation_steps = batch_size/64\n",
    "        batch_size = 64\n",
    "    \n",
    "    model_config = DebertaConfig(vocab_size=len(tokenizer.vocab), max_position_embeddings=512, num_hidden_layers=hidden_layers)\n",
    "    model = DebertaForMaskedLM(config=model_config)\n",
    "    model.init_weights()\n",
    "    \n",
    "    training_args = TrainingArguments(\n",
    "            output_dir='./model',\n",
    "            overwrite_output_dir=True,\n",
    "            evaluation_strategy = \"steps\",\n",
    "            save_strategy = \"steps\",\n",
    "            learning_rate=learning_rate,\n",
    "            weight_decay=weight_decay, \n",
    "            push_to_hub=False,\n",
    "            per_device_train_batch_size=batch_size,\n",
    "            per_device_eval_batch_size=8,\n",
    "            gradient_accumulation_steps=accumulation_steps,\n",
    "            num_train_epochs=num_train_epochs,\n",
    "            save_total_limit=1,\n",
    "            # load_best_model_at_end=True,\n",
    "            logging_steps=logging_steps,       \n",
    "            # save_steps=5000,\n",
    "            fp16=True,\n",
    "            # warmup_steps=1000,\n",
    "    )\n",
    "\n",
    "\n",
    "    \n",
    "    # train_dset = load_dataset(\"simecek/Human_DNA_v0_DNABert6tokenized_stride1\", split='train')\n",
    "    # test_dset = load_dataset(\"simecek/Human_DNA_v0_DNABert6tokenized_stride1\", split='test')\n",
    "    \n",
    "\n",
    "    data_collator = WideCollator(\n",
    "        area=mask_area, tokenizer=tokenizer, mlm=True, mlm_probability=mlm_probability, mask_fully=True\n",
    "    )\n",
    "    trainer = Trainer(\n",
    "            model=model,\n",
    "            args=training_args,\n",
    "            data_collator=data_collator,\n",
    "            train_dataset=train_dset,\n",
    "            eval_dataset=test_dset,\n",
    "            callbacks=[PruningLogCallback(trial)],\n",
    "    )\n",
    "    \n",
    "    try:\n",
    "        train_loss = trainer.train().training_loss\n",
    "        eval_loss = trainer.evaluate()['eval_loss']\n",
    "    except Exception as e:\n",
    "        crashes.append({'exception':e, 'trial':trial.number})\n",
    "        raise optuna.TrialPruned()\n",
    "    \n",
    "    #Optimizing for validation loss\n",
    "    return eval_loss\n",
    "\n"
   ]
  },
  {
   "cell_type": "code",
   "execution_count": null,
   "id": "cacd1754-2c2d-4613-a120-519359e77d5a",
   "metadata": {},
   "outputs": [],
   "source": [
    "import optuna\n",
    "import logging\n",
    "import sys\n",
    "# pruner doc https://optuna.readthedocs.io/en/stable/reference/generated/optuna.pruners.MedianPruner.html#optuna.pruners.MedianPruner\n",
    "optuna.logging.get_logger(\"optuna\").addHandler(logging.StreamHandler(sys.stdout))\n",
    "\n",
    "study=optuna.create_study(\n",
    "    study_name=f\"{run_id}_hyperparameter_search\", \n",
    "    direction='minimize', \n",
    "    pruner=optuna.pruners.MedianPruner(n_startup_trials=3, n_warmup_steps=0) #n_startup_trials=5 as a default\n",
    ")\n",
    "# n_trials dictates the total number of runs (one hyperparam combination = one run)\n",
    "study.optimize(func=objective, n_trials=30) #n_trials=10\n",
    "print(study.best_value)\n",
    "print(study.best_params)\n",
    "print(study.best_trial)\n"
   ]
  },
  {
   "cell_type": "code",
   "execution_count": null,
   "id": "8ef722d3-d252-43e5-8f91-fc97acd46c4d",
   "metadata": {},
   "outputs": [],
   "source": [
    "print(study.best_params)\n"
   ]
  },
  {
   "cell_type": "code",
   "execution_count": null,
   "id": "15d0f0db-10b7-47be-b29f-376f67e1474d",
   "metadata": {},
   "outputs": [],
   "source": [
    "print(crashes)"
   ]
  },
  {
   "cell_type": "code",
   "execution_count": 3,
   "id": "f63121ea-bb18-4f96-9bbf-d8667cf869ad",
   "metadata": {},
   "outputs": [],
   "source": [
    "import pickle\n",
    "import optuna\n",
    "file = open(\"../../L3UOT_HYPEROPT_study.pkl\",'rb')\n",
    "study = pickle.load(file)\n",
    "file.close()"
   ]
  },
  {
   "cell_type": "code",
   "execution_count": 4,
   "id": "d46e1e46-28db-4c62-9f42-44a0b5ca4244",
   "metadata": {},
   "outputs": [],
   "source": [
    "import plotly.io as pio\n",
    "pio.renderers.default = \"iframe\""
   ]
  },
  {
   "cell_type": "code",
   "execution_count": 5,
   "id": "320c4187-460c-475c-a6e1-8f557f1c6100",
   "metadata": {},
   "outputs": [
    {
     "name": "stdout",
     "output_type": "stream",
     "text": [
      "{'num_hidden_layers': 3, 'learning_rate': 7.033175701341661e-05, 'weight_decay': 0.07901034391982897, 'mlm_probability': 0.15000000000000002, 'batch_size': 8}\n"
     ]
    }
   ],
   "source": [
    "print(study.best_params)"
   ]
  },
  {
   "cell_type": "code",
   "execution_count": 8,
   "id": "dd319dda-56f1-4e48-8414-af85f70faf5e",
   "metadata": {},
   "outputs": [
    {
     "data": {
      "text/html": [
       "<iframe\n",
       "    scrolling=\"no\"\n",
       "    width=\"100%\"\n",
       "    height=\"545px\"\n",
       "    src=\"iframe_figures/figure_8.html\"\n",
       "    frameborder=\"0\"\n",
       "    allowfullscreen\n",
       "></iframe>\n"
      ]
     },
     "metadata": {},
     "output_type": "display_data"
    }
   ],
   "source": [
    "hyperparameters = ['num_hidden_layers', 'learning_rate','weight_decay', 'mlm_probability', 'batch_size']\n",
    "fig = optuna.visualization.plot_parallel_coordinate(study, params=hyperparameters)\n",
    "fig.show()\n",
    "fig.write_image('L3UOT_parallel_coordinate.png')"
   ]
  },
  {
   "cell_type": "code",
   "execution_count": 9,
   "id": "20891048-3f11-4fb6-a9bd-c0f266d9b836",
   "metadata": {},
   "outputs": [
    {
     "data": {
      "text/html": [
       "<iframe\n",
       "    scrolling=\"no\"\n",
       "    width=\"100%\"\n",
       "    height=\"545px\"\n",
       "    src=\"iframe_figures/figure_9.html\"\n",
       "    frameborder=\"0\"\n",
       "    allowfullscreen\n",
       "></iframe>\n"
      ]
     },
     "metadata": {},
     "output_type": "display_data"
    }
   ],
   "source": [
    "fig = optuna.visualization.plot_param_importances(study)\n",
    "fig.show()\n",
    "fig.write_image('L3UOT_param_importances.png')"
   ]
  },
  {
   "cell_type": "code",
   "execution_count": 17,
   "id": "0addfda3-ae59-4d58-9304-675e4d5e091c",
   "metadata": {},
   "outputs": [],
   "source": [
    "def save_object(obj, filename):\n",
    "    with open(filename, 'wb') as outp:\n",
    "        pickle.dump(obj, outp, pickle.HIGHEST_PROTOCOL)\n",
    "\n",
    "\n",
    "save_object(study, f'{run_id}_HYPEROPT_study.pkl')"
   ]
  }
 ],
 "metadata": {
  "kernelspec": {
   "display_name": "Python [conda env:myCudaCondaEnv]",
   "language": "python",
   "name": "conda-env-myCudaCondaEnv-py"
  },
  "language_info": {
   "codemirror_mode": {
    "name": "ipython",
    "version": 3
   },
   "file_extension": ".py",
   "mimetype": "text/x-python",
   "name": "python",
   "nbconvert_exporter": "python",
   "pygments_lexer": "ipython3",
   "version": "3.8.13"
  }
 },
 "nbformat": 4,
 "nbformat_minor": 5
}
