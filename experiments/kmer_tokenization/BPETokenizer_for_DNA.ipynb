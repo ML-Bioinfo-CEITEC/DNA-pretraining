{
  "nbformat": 4,
  "nbformat_minor": 0,
  "metadata": {
    "colab": {
      "name": "BPETokenizer_for_DNA.ipynb",
      "provenance": [],
      "collapsed_sections": [],
      "authorship_tag": "ABX9TyOMmuf9pS99d4YCnmWtFWOh",
      "include_colab_link": true
    },
    "kernelspec": {
      "name": "python3",
      "display_name": "Python 3"
    },
    "language_info": {
      "name": "python"
    },
    "widgets": {
      "application/vnd.jupyter.widget-state+json": {
        "ad1a835608c34f258cc5ce04fbd99d63": {
          "model_module": "@jupyter-widgets/controls",
          "model_name": "VBoxModel",
          "model_module_version": "1.5.0",
          "state": {
            "_dom_classes": [],
            "_model_module": "@jupyter-widgets/controls",
            "_model_module_version": "1.5.0",
            "_model_name": "VBoxModel",
            "_view_count": null,
            "_view_module": "@jupyter-widgets/controls",
            "_view_module_version": "1.5.0",
            "_view_name": "VBoxView",
            "box_style": "",
            "children": [
              "IPY_MODEL_6cef9940701c486f91bc5f77e8bb1ce8",
              "IPY_MODEL_b7377c065dea492489b6d4a90779a63e",
              "IPY_MODEL_77979085d31a427f8d792d43b7b60133",
              "IPY_MODEL_c2465e2e1b2143fcac08786d14d12b6f"
            ],
            "layout": "IPY_MODEL_5ff363787c8945308c21be3637aa348c"
          }
        },
        "6cef9940701c486f91bc5f77e8bb1ce8": {
          "model_module": "@jupyter-widgets/controls",
          "model_name": "HTMLModel",
          "model_module_version": "1.5.0",
          "state": {
            "_dom_classes": [],
            "_model_module": "@jupyter-widgets/controls",
            "_model_module_version": "1.5.0",
            "_model_name": "HTMLModel",
            "_view_count": null,
            "_view_module": "@jupyter-widgets/controls",
            "_view_module_version": "1.5.0",
            "_view_name": "HTMLView",
            "description": "",
            "description_tooltip": null,
            "layout": "IPY_MODEL_8dd1c0df12004ddab75533c42f35e526",
            "placeholder": "​",
            "style": "IPY_MODEL_e6d05743e79c40ac87346191c27881c8",
            "value": "<center> <img\nsrc=https://huggingface.co/front/assets/huggingface_logo-noborder.svg\nalt='Hugging Face'> <br> Copy a token from <a\nhref=\"https://huggingface.co/settings/tokens\" target=\"_blank\">your Hugging Face\ntokens page</a> and paste it below. <br> Immediately click login after copying\nyour token or it might be stored in plain text in this notebook file. </center>"
          }
        },
        "b7377c065dea492489b6d4a90779a63e": {
          "model_module": "@jupyter-widgets/controls",
          "model_name": "PasswordModel",
          "model_module_version": "1.5.0",
          "state": {
            "_dom_classes": [],
            "_model_module": "@jupyter-widgets/controls",
            "_model_module_version": "1.5.0",
            "_model_name": "PasswordModel",
            "_view_count": null,
            "_view_module": "@jupyter-widgets/controls",
            "_view_module_version": "1.5.0",
            "_view_name": "PasswordView",
            "continuous_update": true,
            "description": "Token:",
            "description_tooltip": null,
            "disabled": false,
            "layout": "IPY_MODEL_d4e0dd57792e4d01ae6c230b1ed38d25",
            "placeholder": "​",
            "style": "IPY_MODEL_cbaf6fe2567e49d1997519581b72dbe8",
            "value": ""
          }
        },
        "77979085d31a427f8d792d43b7b60133": {
          "model_module": "@jupyter-widgets/controls",
          "model_name": "ButtonModel",
          "model_module_version": "1.5.0",
          "state": {
            "_dom_classes": [],
            "_model_module": "@jupyter-widgets/controls",
            "_model_module_version": "1.5.0",
            "_model_name": "ButtonModel",
            "_view_count": null,
            "_view_module": "@jupyter-widgets/controls",
            "_view_module_version": "1.5.0",
            "_view_name": "ButtonView",
            "button_style": "",
            "description": "Login",
            "disabled": false,
            "icon": "",
            "layout": "IPY_MODEL_d0d0e321eb464f2ebad65c160ec9b66a",
            "style": "IPY_MODEL_2368b994350d4c39ad17e8fb9098370f",
            "tooltip": ""
          }
        },
        "c2465e2e1b2143fcac08786d14d12b6f": {
          "model_module": "@jupyter-widgets/controls",
          "model_name": "HTMLModel",
          "model_module_version": "1.5.0",
          "state": {
            "_dom_classes": [],
            "_model_module": "@jupyter-widgets/controls",
            "_model_module_version": "1.5.0",
            "_model_name": "HTMLModel",
            "_view_count": null,
            "_view_module": "@jupyter-widgets/controls",
            "_view_module_version": "1.5.0",
            "_view_name": "HTMLView",
            "description": "",
            "description_tooltip": null,
            "layout": "IPY_MODEL_df9f88d3a89b45fca6c364ae4e550669",
            "placeholder": "​",
            "style": "IPY_MODEL_3bfc22de6a0044ad952ed95cb668fff1",
            "value": "\n<b>Pro Tip:</b> If you don't already have one, you can create a dedicated\n'notebooks' token with 'write' access, that you can then easily reuse for all\nnotebooks. </center>"
          }
        },
        "5ff363787c8945308c21be3637aa348c": {
          "model_module": "@jupyter-widgets/base",
          "model_name": "LayoutModel",
          "model_module_version": "1.2.0",
          "state": {
            "_model_module": "@jupyter-widgets/base",
            "_model_module_version": "1.2.0",
            "_model_name": "LayoutModel",
            "_view_count": null,
            "_view_module": "@jupyter-widgets/base",
            "_view_module_version": "1.2.0",
            "_view_name": "LayoutView",
            "align_content": null,
            "align_items": "center",
            "align_self": null,
            "border": null,
            "bottom": null,
            "display": "flex",
            "flex": null,
            "flex_flow": "column",
            "grid_area": null,
            "grid_auto_columns": null,
            "grid_auto_flow": null,
            "grid_auto_rows": null,
            "grid_column": null,
            "grid_gap": null,
            "grid_row": null,
            "grid_template_areas": null,
            "grid_template_columns": null,
            "grid_template_rows": null,
            "height": null,
            "justify_content": null,
            "justify_items": null,
            "left": null,
            "margin": null,
            "max_height": null,
            "max_width": null,
            "min_height": null,
            "min_width": null,
            "object_fit": null,
            "object_position": null,
            "order": null,
            "overflow": null,
            "overflow_x": null,
            "overflow_y": null,
            "padding": null,
            "right": null,
            "top": null,
            "visibility": null,
            "width": "50%"
          }
        },
        "8dd1c0df12004ddab75533c42f35e526": {
          "model_module": "@jupyter-widgets/base",
          "model_name": "LayoutModel",
          "model_module_version": "1.2.0",
          "state": {
            "_model_module": "@jupyter-widgets/base",
            "_model_module_version": "1.2.0",
            "_model_name": "LayoutModel",
            "_view_count": null,
            "_view_module": "@jupyter-widgets/base",
            "_view_module_version": "1.2.0",
            "_view_name": "LayoutView",
            "align_content": null,
            "align_items": null,
            "align_self": null,
            "border": null,
            "bottom": null,
            "display": null,
            "flex": null,
            "flex_flow": null,
            "grid_area": null,
            "grid_auto_columns": null,
            "grid_auto_flow": null,
            "grid_auto_rows": null,
            "grid_column": null,
            "grid_gap": null,
            "grid_row": null,
            "grid_template_areas": null,
            "grid_template_columns": null,
            "grid_template_rows": null,
            "height": null,
            "justify_content": null,
            "justify_items": null,
            "left": null,
            "margin": null,
            "max_height": null,
            "max_width": null,
            "min_height": null,
            "min_width": null,
            "object_fit": null,
            "object_position": null,
            "order": null,
            "overflow": null,
            "overflow_x": null,
            "overflow_y": null,
            "padding": null,
            "right": null,
            "top": null,
            "visibility": null,
            "width": null
          }
        },
        "e6d05743e79c40ac87346191c27881c8": {
          "model_module": "@jupyter-widgets/controls",
          "model_name": "DescriptionStyleModel",
          "model_module_version": "1.5.0",
          "state": {
            "_model_module": "@jupyter-widgets/controls",
            "_model_module_version": "1.5.0",
            "_model_name": "DescriptionStyleModel",
            "_view_count": null,
            "_view_module": "@jupyter-widgets/base",
            "_view_module_version": "1.2.0",
            "_view_name": "StyleView",
            "description_width": ""
          }
        },
        "d4e0dd57792e4d01ae6c230b1ed38d25": {
          "model_module": "@jupyter-widgets/base",
          "model_name": "LayoutModel",
          "model_module_version": "1.2.0",
          "state": {
            "_model_module": "@jupyter-widgets/base",
            "_model_module_version": "1.2.0",
            "_model_name": "LayoutModel",
            "_view_count": null,
            "_view_module": "@jupyter-widgets/base",
            "_view_module_version": "1.2.0",
            "_view_name": "LayoutView",
            "align_content": null,
            "align_items": null,
            "align_self": null,
            "border": null,
            "bottom": null,
            "display": null,
            "flex": null,
            "flex_flow": null,
            "grid_area": null,
            "grid_auto_columns": null,
            "grid_auto_flow": null,
            "grid_auto_rows": null,
            "grid_column": null,
            "grid_gap": null,
            "grid_row": null,
            "grid_template_areas": null,
            "grid_template_columns": null,
            "grid_template_rows": null,
            "height": null,
            "justify_content": null,
            "justify_items": null,
            "left": null,
            "margin": null,
            "max_height": null,
            "max_width": null,
            "min_height": null,
            "min_width": null,
            "object_fit": null,
            "object_position": null,
            "order": null,
            "overflow": null,
            "overflow_x": null,
            "overflow_y": null,
            "padding": null,
            "right": null,
            "top": null,
            "visibility": null,
            "width": null
          }
        },
        "cbaf6fe2567e49d1997519581b72dbe8": {
          "model_module": "@jupyter-widgets/controls",
          "model_name": "DescriptionStyleModel",
          "model_module_version": "1.5.0",
          "state": {
            "_model_module": "@jupyter-widgets/controls",
            "_model_module_version": "1.5.0",
            "_model_name": "DescriptionStyleModel",
            "_view_count": null,
            "_view_module": "@jupyter-widgets/base",
            "_view_module_version": "1.2.0",
            "_view_name": "StyleView",
            "description_width": ""
          }
        },
        "d0d0e321eb464f2ebad65c160ec9b66a": {
          "model_module": "@jupyter-widgets/base",
          "model_name": "LayoutModel",
          "model_module_version": "1.2.0",
          "state": {
            "_model_module": "@jupyter-widgets/base",
            "_model_module_version": "1.2.0",
            "_model_name": "LayoutModel",
            "_view_count": null,
            "_view_module": "@jupyter-widgets/base",
            "_view_module_version": "1.2.0",
            "_view_name": "LayoutView",
            "align_content": null,
            "align_items": null,
            "align_self": null,
            "border": null,
            "bottom": null,
            "display": null,
            "flex": null,
            "flex_flow": null,
            "grid_area": null,
            "grid_auto_columns": null,
            "grid_auto_flow": null,
            "grid_auto_rows": null,
            "grid_column": null,
            "grid_gap": null,
            "grid_row": null,
            "grid_template_areas": null,
            "grid_template_columns": null,
            "grid_template_rows": null,
            "height": null,
            "justify_content": null,
            "justify_items": null,
            "left": null,
            "margin": null,
            "max_height": null,
            "max_width": null,
            "min_height": null,
            "min_width": null,
            "object_fit": null,
            "object_position": null,
            "order": null,
            "overflow": null,
            "overflow_x": null,
            "overflow_y": null,
            "padding": null,
            "right": null,
            "top": null,
            "visibility": null,
            "width": null
          }
        },
        "2368b994350d4c39ad17e8fb9098370f": {
          "model_module": "@jupyter-widgets/controls",
          "model_name": "ButtonStyleModel",
          "model_module_version": "1.5.0",
          "state": {
            "_model_module": "@jupyter-widgets/controls",
            "_model_module_version": "1.5.0",
            "_model_name": "ButtonStyleModel",
            "_view_count": null,
            "_view_module": "@jupyter-widgets/base",
            "_view_module_version": "1.2.0",
            "_view_name": "StyleView",
            "button_color": null,
            "font_weight": ""
          }
        },
        "df9f88d3a89b45fca6c364ae4e550669": {
          "model_module": "@jupyter-widgets/base",
          "model_name": "LayoutModel",
          "model_module_version": "1.2.0",
          "state": {
            "_model_module": "@jupyter-widgets/base",
            "_model_module_version": "1.2.0",
            "_model_name": "LayoutModel",
            "_view_count": null,
            "_view_module": "@jupyter-widgets/base",
            "_view_module_version": "1.2.0",
            "_view_name": "LayoutView",
            "align_content": null,
            "align_items": null,
            "align_self": null,
            "border": null,
            "bottom": null,
            "display": null,
            "flex": null,
            "flex_flow": null,
            "grid_area": null,
            "grid_auto_columns": null,
            "grid_auto_flow": null,
            "grid_auto_rows": null,
            "grid_column": null,
            "grid_gap": null,
            "grid_row": null,
            "grid_template_areas": null,
            "grid_template_columns": null,
            "grid_template_rows": null,
            "height": null,
            "justify_content": null,
            "justify_items": null,
            "left": null,
            "margin": null,
            "max_height": null,
            "max_width": null,
            "min_height": null,
            "min_width": null,
            "object_fit": null,
            "object_position": null,
            "order": null,
            "overflow": null,
            "overflow_x": null,
            "overflow_y": null,
            "padding": null,
            "right": null,
            "top": null,
            "visibility": null,
            "width": null
          }
        },
        "3bfc22de6a0044ad952ed95cb668fff1": {
          "model_module": "@jupyter-widgets/controls",
          "model_name": "DescriptionStyleModel",
          "model_module_version": "1.5.0",
          "state": {
            "_model_module": "@jupyter-widgets/controls",
            "_model_module_version": "1.5.0",
            "_model_name": "DescriptionStyleModel",
            "_view_count": null,
            "_view_module": "@jupyter-widgets/base",
            "_view_module_version": "1.2.0",
            "_view_name": "StyleView",
            "description_width": ""
          }
        },
        "1652808c8f144502b74c9d8a33f476e5": {
          "model_module": "@jupyter-widgets/controls",
          "model_name": "HBoxModel",
          "model_module_version": "1.5.0",
          "state": {
            "_dom_classes": [],
            "_model_module": "@jupyter-widgets/controls",
            "_model_module_version": "1.5.0",
            "_model_name": "HBoxModel",
            "_view_count": null,
            "_view_module": "@jupyter-widgets/controls",
            "_view_module_version": "1.5.0",
            "_view_name": "HBoxView",
            "box_style": "",
            "children": [
              "IPY_MODEL_d536706088ac4d2da05bfca642a17ac4",
              "IPY_MODEL_d91181b651e44be391ca1ced5e81e58e",
              "IPY_MODEL_1186c9fd373c4ccfb4cd89172fed0ded"
            ],
            "layout": "IPY_MODEL_7c00391c669148359c0ba2d972af5d2c"
          }
        },
        "d536706088ac4d2da05bfca642a17ac4": {
          "model_module": "@jupyter-widgets/controls",
          "model_name": "HTMLModel",
          "model_module_version": "1.5.0",
          "state": {
            "_dom_classes": [],
            "_model_module": "@jupyter-widgets/controls",
            "_model_module_version": "1.5.0",
            "_model_name": "HTMLModel",
            "_view_count": null,
            "_view_module": "@jupyter-widgets/controls",
            "_view_module_version": "1.5.0",
            "_view_name": "HTMLView",
            "description": "",
            "description_tooltip": null,
            "layout": "IPY_MODEL_8412688c00c64f34af13c543bf51cb03",
            "placeholder": "​",
            "style": "IPY_MODEL_a8b1c125966a4e778dacfc92ac82557e",
            "value": "100%"
          }
        },
        "d91181b651e44be391ca1ced5e81e58e": {
          "model_module": "@jupyter-widgets/controls",
          "model_name": "FloatProgressModel",
          "model_module_version": "1.5.0",
          "state": {
            "_dom_classes": [],
            "_model_module": "@jupyter-widgets/controls",
            "_model_module_version": "1.5.0",
            "_model_name": "FloatProgressModel",
            "_view_count": null,
            "_view_module": "@jupyter-widgets/controls",
            "_view_module_version": "1.5.0",
            "_view_name": "ProgressView",
            "bar_style": "success",
            "description": "",
            "description_tooltip": null,
            "layout": "IPY_MODEL_73b81cb41c4d45e6865563a8b119a233",
            "max": 2,
            "min": 0,
            "orientation": "horizontal",
            "style": "IPY_MODEL_ae381d1d14cf4c64a965edd1cc27f139",
            "value": 2
          }
        },
        "1186c9fd373c4ccfb4cd89172fed0ded": {
          "model_module": "@jupyter-widgets/controls",
          "model_name": "HTMLModel",
          "model_module_version": "1.5.0",
          "state": {
            "_dom_classes": [],
            "_model_module": "@jupyter-widgets/controls",
            "_model_module_version": "1.5.0",
            "_model_name": "HTMLModel",
            "_view_count": null,
            "_view_module": "@jupyter-widgets/controls",
            "_view_module_version": "1.5.0",
            "_view_name": "HTMLView",
            "description": "",
            "description_tooltip": null,
            "layout": "IPY_MODEL_d558866ff7e84d928067fd7e71d6b28e",
            "placeholder": "​",
            "style": "IPY_MODEL_b18fc588e86b4dc0a0aa928f662f3d71",
            "value": " 2/2 [00:00&lt;00:00,  5.49it/s]"
          }
        },
        "7c00391c669148359c0ba2d972af5d2c": {
          "model_module": "@jupyter-widgets/base",
          "model_name": "LayoutModel",
          "model_module_version": "1.2.0",
          "state": {
            "_model_module": "@jupyter-widgets/base",
            "_model_module_version": "1.2.0",
            "_model_name": "LayoutModel",
            "_view_count": null,
            "_view_module": "@jupyter-widgets/base",
            "_view_module_version": "1.2.0",
            "_view_name": "LayoutView",
            "align_content": null,
            "align_items": null,
            "align_self": null,
            "border": null,
            "bottom": null,
            "display": null,
            "flex": null,
            "flex_flow": null,
            "grid_area": null,
            "grid_auto_columns": null,
            "grid_auto_flow": null,
            "grid_auto_rows": null,
            "grid_column": null,
            "grid_gap": null,
            "grid_row": null,
            "grid_template_areas": null,
            "grid_template_columns": null,
            "grid_template_rows": null,
            "height": null,
            "justify_content": null,
            "justify_items": null,
            "left": null,
            "margin": null,
            "max_height": null,
            "max_width": null,
            "min_height": null,
            "min_width": null,
            "object_fit": null,
            "object_position": null,
            "order": null,
            "overflow": null,
            "overflow_x": null,
            "overflow_y": null,
            "padding": null,
            "right": null,
            "top": null,
            "visibility": null,
            "width": null
          }
        },
        "8412688c00c64f34af13c543bf51cb03": {
          "model_module": "@jupyter-widgets/base",
          "model_name": "LayoutModel",
          "model_module_version": "1.2.0",
          "state": {
            "_model_module": "@jupyter-widgets/base",
            "_model_module_version": "1.2.0",
            "_model_name": "LayoutModel",
            "_view_count": null,
            "_view_module": "@jupyter-widgets/base",
            "_view_module_version": "1.2.0",
            "_view_name": "LayoutView",
            "align_content": null,
            "align_items": null,
            "align_self": null,
            "border": null,
            "bottom": null,
            "display": null,
            "flex": null,
            "flex_flow": null,
            "grid_area": null,
            "grid_auto_columns": null,
            "grid_auto_flow": null,
            "grid_auto_rows": null,
            "grid_column": null,
            "grid_gap": null,
            "grid_row": null,
            "grid_template_areas": null,
            "grid_template_columns": null,
            "grid_template_rows": null,
            "height": null,
            "justify_content": null,
            "justify_items": null,
            "left": null,
            "margin": null,
            "max_height": null,
            "max_width": null,
            "min_height": null,
            "min_width": null,
            "object_fit": null,
            "object_position": null,
            "order": null,
            "overflow": null,
            "overflow_x": null,
            "overflow_y": null,
            "padding": null,
            "right": null,
            "top": null,
            "visibility": null,
            "width": null
          }
        },
        "a8b1c125966a4e778dacfc92ac82557e": {
          "model_module": "@jupyter-widgets/controls",
          "model_name": "DescriptionStyleModel",
          "model_module_version": "1.5.0",
          "state": {
            "_model_module": "@jupyter-widgets/controls",
            "_model_module_version": "1.5.0",
            "_model_name": "DescriptionStyleModel",
            "_view_count": null,
            "_view_module": "@jupyter-widgets/base",
            "_view_module_version": "1.2.0",
            "_view_name": "StyleView",
            "description_width": ""
          }
        },
        "73b81cb41c4d45e6865563a8b119a233": {
          "model_module": "@jupyter-widgets/base",
          "model_name": "LayoutModel",
          "model_module_version": "1.2.0",
          "state": {
            "_model_module": "@jupyter-widgets/base",
            "_model_module_version": "1.2.0",
            "_model_name": "LayoutModel",
            "_view_count": null,
            "_view_module": "@jupyter-widgets/base",
            "_view_module_version": "1.2.0",
            "_view_name": "LayoutView",
            "align_content": null,
            "align_items": null,
            "align_self": null,
            "border": null,
            "bottom": null,
            "display": null,
            "flex": null,
            "flex_flow": null,
            "grid_area": null,
            "grid_auto_columns": null,
            "grid_auto_flow": null,
            "grid_auto_rows": null,
            "grid_column": null,
            "grid_gap": null,
            "grid_row": null,
            "grid_template_areas": null,
            "grid_template_columns": null,
            "grid_template_rows": null,
            "height": null,
            "justify_content": null,
            "justify_items": null,
            "left": null,
            "margin": null,
            "max_height": null,
            "max_width": null,
            "min_height": null,
            "min_width": null,
            "object_fit": null,
            "object_position": null,
            "order": null,
            "overflow": null,
            "overflow_x": null,
            "overflow_y": null,
            "padding": null,
            "right": null,
            "top": null,
            "visibility": null,
            "width": null
          }
        },
        "ae381d1d14cf4c64a965edd1cc27f139": {
          "model_module": "@jupyter-widgets/controls",
          "model_name": "ProgressStyleModel",
          "model_module_version": "1.5.0",
          "state": {
            "_model_module": "@jupyter-widgets/controls",
            "_model_module_version": "1.5.0",
            "_model_name": "ProgressStyleModel",
            "_view_count": null,
            "_view_module": "@jupyter-widgets/base",
            "_view_module_version": "1.2.0",
            "_view_name": "StyleView",
            "bar_color": null,
            "description_width": ""
          }
        },
        "d558866ff7e84d928067fd7e71d6b28e": {
          "model_module": "@jupyter-widgets/base",
          "model_name": "LayoutModel",
          "model_module_version": "1.2.0",
          "state": {
            "_model_module": "@jupyter-widgets/base",
            "_model_module_version": "1.2.0",
            "_model_name": "LayoutModel",
            "_view_count": null,
            "_view_module": "@jupyter-widgets/base",
            "_view_module_version": "1.2.0",
            "_view_name": "LayoutView",
            "align_content": null,
            "align_items": null,
            "align_self": null,
            "border": null,
            "bottom": null,
            "display": null,
            "flex": null,
            "flex_flow": null,
            "grid_area": null,
            "grid_auto_columns": null,
            "grid_auto_flow": null,
            "grid_auto_rows": null,
            "grid_column": null,
            "grid_gap": null,
            "grid_row": null,
            "grid_template_areas": null,
            "grid_template_columns": null,
            "grid_template_rows": null,
            "height": null,
            "justify_content": null,
            "justify_items": null,
            "left": null,
            "margin": null,
            "max_height": null,
            "max_width": null,
            "min_height": null,
            "min_width": null,
            "object_fit": null,
            "object_position": null,
            "order": null,
            "overflow": null,
            "overflow_x": null,
            "overflow_y": null,
            "padding": null,
            "right": null,
            "top": null,
            "visibility": null,
            "width": null
          }
        },
        "b18fc588e86b4dc0a0aa928f662f3d71": {
          "model_module": "@jupyter-widgets/controls",
          "model_name": "DescriptionStyleModel",
          "model_module_version": "1.5.0",
          "state": {
            "_model_module": "@jupyter-widgets/controls",
            "_model_module_version": "1.5.0",
            "_model_name": "DescriptionStyleModel",
            "_view_count": null,
            "_view_module": "@jupyter-widgets/base",
            "_view_module_version": "1.2.0",
            "_view_name": "StyleView",
            "description_width": ""
          }
        }
      }
    }
  },
  "cells": [
    {
      "cell_type": "markdown",
      "metadata": {
        "id": "view-in-github",
        "colab_type": "text"
      },
      "source": [
        "<a href=\"https://colab.research.google.com/github/ML-Bioinfo-CEITEC/cDNA-pretraining/blob/main/experiments/kmer_tokenization/BPETokenizer_for_DNA.ipynb\" target=\"_parent\"><img src=\"https://colab.research.google.com/assets/colab-badge.svg\" alt=\"Open In Colab\"/></a>"
      ]
    },
    {
      "cell_type": "code",
      "execution_count": 1,
      "metadata": {
        "id": "I6HqVyTw2Ns6"
      },
      "outputs": [],
      "source": [
        "!pip install -qq transformers datasets --quiet"
      ]
    },
    {
      "cell_type": "code",
      "source": [
        "#CONFIG\n",
        "k = 10 \n",
        "limit = 263659 #263659 is full dataset\n",
        "vocab_size_limit = 30000 #30000\n",
        "hf_name = 'Vlasta'"
      ],
      "metadata": {
        "id": "j5fdzDq_Qo4e"
      },
      "execution_count": null,
      "outputs": []
    },
    {
      "cell_type": "code",
      "source": [
        "from huggingface_hub import notebook_login\n",
        "\n",
        "notebook_login()"
      ],
      "metadata": {
        "colab": {
          "base_uri": "https://localhost:8080/",
          "height": 382,
          "referenced_widgets": [
            "ad1a835608c34f258cc5ce04fbd99d63",
            "6cef9940701c486f91bc5f77e8bb1ce8",
            "b7377c065dea492489b6d4a90779a63e",
            "77979085d31a427f8d792d43b7b60133",
            "c2465e2e1b2143fcac08786d14d12b6f",
            "5ff363787c8945308c21be3637aa348c",
            "8dd1c0df12004ddab75533c42f35e526",
            "e6d05743e79c40ac87346191c27881c8",
            "d4e0dd57792e4d01ae6c230b1ed38d25",
            "cbaf6fe2567e49d1997519581b72dbe8",
            "d0d0e321eb464f2ebad65c160ec9b66a",
            "2368b994350d4c39ad17e8fb9098370f",
            "df9f88d3a89b45fca6c364ae4e550669",
            "3bfc22de6a0044ad952ed95cb668fff1"
          ]
        },
        "id": "IlMvzO33XXCR",
        "outputId": "25b65a72-bef3-40af-81e9-185941a3388e"
      },
      "execution_count": 2,
      "outputs": [
        {
          "output_type": "stream",
          "name": "stdout",
          "text": [
            "Login successful\n",
            "Your token has been saved to /root/.huggingface/token\n",
            "\u001b[1m\u001b[31mAuthenticated through git-credential store but this isn't the helper defined on your machine.\n",
            "You might have to re-authenticate when pushing to the Hugging Face Hub. Run the following command in your terminal in case you want to set this credential helper as the default\n",
            "\n",
            "git config --global credential.helper store\u001b[0m\n"
          ]
        }
      ]
    },
    {
      "cell_type": "code",
      "source": [
        "from datasets import load_dataset\n",
        "from tokenizers import Tokenizer\n",
        "from tokenizers.models import BPE\n",
        "from tokenizers.trainers import BpeTrainer\n",
        "from tokenizers.pre_tokenizers import Split\n",
        "from tokenizers.processors import BertProcessing\n",
        "from tokenizers import Regex"
      ],
      "metadata": {
        "id": "Y3OPoHWI3Hus"
      },
      "execution_count": 3,
      "outputs": []
    },
    {
      "cell_type": "code",
      "source": [
        "ds = load_dataset(\"simecek/Human_DNA_v0\")\n",
        "train_portion = ds['train']['Seq']"
      ],
      "metadata": {
        "colab": {
          "base_uri": "https://localhost:8080/",
          "height": 104,
          "referenced_widgets": [
            "1652808c8f144502b74c9d8a33f476e5",
            "d536706088ac4d2da05bfca642a17ac4",
            "d91181b651e44be391ca1ced5e81e58e",
            "1186c9fd373c4ccfb4cd89172fed0ded",
            "7c00391c669148359c0ba2d972af5d2c",
            "8412688c00c64f34af13c543bf51cb03",
            "a8b1c125966a4e778dacfc92ac82557e",
            "73b81cb41c4d45e6865563a8b119a233",
            "ae381d1d14cf4c64a965edd1cc27f139",
            "d558866ff7e84d928067fd7e71d6b28e",
            "b18fc588e86b4dc0a0aa928f662f3d71"
          ]
        },
        "id": "65ANNdedDXZB",
        "outputId": "58aec7ec-cae7-4bab-de1a-9540c224e22a"
      },
      "execution_count": 4,
      "outputs": [
        {
          "output_type": "stream",
          "name": "stderr",
          "text": [
            "Using custom data configuration simecek--Human_DNA_v0-d7be3fc44fadbb72\n",
            "Reusing dataset parquet (/root/.cache/huggingface/datasets/simecek___parquet/simecek--Human_DNA_v0-d7be3fc44fadbb72/0.0.0/7328ef7ee03eaf3f86ae40594d46a1cec86161704e02dd19f232d81eee72ade8)\n"
          ]
        },
        {
          "output_type": "display_data",
          "data": {
            "text/plain": [
              "  0%|          | 0/2 [00:00<?, ?it/s]"
            ],
            "application/vnd.jupyter.widget-view+json": {
              "version_major": 2,
              "version_minor": 0,
              "model_id": "1652808c8f144502b74c9d8a33f476e5"
            }
          },
          "metadata": {}
        }
      ]
    },
    {
      "cell_type": "code",
      "source": [
        "#split-to-kmers-pretokenizer\n",
        "num = 3\n",
        "pre_tokenizer = Split(Regex(f\"[a-zA-Z]{{{num}}}\"), behavior='isolated')\n",
        "pre_tokenizer.pre_tokenize_str('ACCTTTTTTAGGAGGTNNCGACT')\n"
      ],
      "metadata": {
        "colab": {
          "base_uri": "https://localhost:8080/"
        },
        "id": "gNLzC4FN9pB_",
        "outputId": "e0660b2e-5446-4d78-a155-526f528c442f"
      },
      "execution_count": 5,
      "outputs": [
        {
          "output_type": "execute_result",
          "data": {
            "text/plain": [
              "[('ACC', (0, 3)),\n",
              " ('TTT', (3, 6)),\n",
              " ('TTT', (6, 9)),\n",
              " ('AGG', (9, 12)),\n",
              " ('AGG', (12, 15)),\n",
              " ('TNN', (15, 18)),\n",
              " ('CGA', (18, 21)),\n",
              " ('CT', (21, 23))]"
            ]
          },
          "metadata": {},
          "execution_count": 5
        }
      ]
    },
    {
      "cell_type": "code",
      "source": [
        "def compute_limit_tokens(k):\n",
        "  \"\"\"\n",
        "  Computes the upper limit on tokens if dset would be split to \n",
        "  chunks of size K and the tokenizer would enumerate all possible tokens\n",
        "  \"\"\"\n",
        "  res = 0\n",
        "  for i in range(1,k+1):\n",
        "    res+=4**i #NOT including the letter N\n",
        "  return res + 5 #special tokens\n",
        "\n",
        "compute_limit_tokens(8)"
      ],
      "metadata": {
        "colab": {
          "base_uri": "https://localhost:8080/"
        },
        "id": "Ff84V3LlKDNH",
        "outputId": "dfdeab29-2da4-4362-fc87-36bb2ac506b2"
      },
      "execution_count": 6,
      "outputs": [
        {
          "output_type": "execute_result",
          "data": {
            "text/plain": [
              "87385"
            ]
          },
          "metadata": {},
          "execution_count": 6
        }
      ]
    },
    {
      "cell_type": "code",
      "source": [
        "len(train_portion)"
      ],
      "metadata": {
        "colab": {
          "base_uri": "https://localhost:8080/"
        },
        "id": "VxJB3voeOZle",
        "outputId": "768350c0-435f-45be-8747-bd07b94c284d"
      },
      "execution_count": 7,
      "outputs": [
        {
          "output_type": "execute_result",
          "data": {
            "text/plain": [
              "263659"
            ]
          },
          "metadata": {},
          "execution_count": 7
        }
      ]
    },
    {
      "cell_type": "code",
      "source": [
        "def batch_iterator(dataset, batch_size):\n",
        "    for i in range(0, len(dataset), batch_size):\n",
        "        yield dataset[i : i + batch_size]"
      ],
      "metadata": {
        "id": "88cQG-l3Zf1G"
      },
      "execution_count": 8,
      "outputs": []
    },
    {
      "cell_type": "code",
      "source": [
        "%%time\n",
        "\n",
        "tokenizer_name = f\"DNA_BPE_max_vocab_{vocab_size_limit}_maxk_{k}\"\n",
        "\n",
        "unk_token = \"[UNK]\"  \n",
        "spl_tokens = [\"[PAD]\", \"[UNK]\", \"[CLS]\", \"[SEP]\", \"[MASK]\"] \n",
        "\n",
        "tokenizer = Tokenizer(BPE(unk_token = unk_token))\n",
        "\n",
        "pre_tokenizer = Split(Regex(f\"[a-zA-Z]{{{k}}}\"), behavior='isolated')\n",
        "tokenizer.pre_tokenizer = pre_tokenizer\n",
        "tokenizer.post_processor = BertProcessing(sep=('[SEP]', spl_tokens.index('[SEP]')), cls=('[CLS]', spl_tokens.index('[CLS]')))\n",
        "# tokenizer.enable_padding(length=30)\n",
        "# tokenizer.enable_padding()\n",
        "# print(tokenizer.padding)\n",
        "\n",
        "TRA = train_portion[:limit]\n",
        "\n",
        "#Default vocab_size_limit is 30000\n",
        "trainer = BpeTrainer(special_tokens = spl_tokens, vocab_size=vocab_size_limit)\n",
        "tokenizer.train_from_iterator(TRA, trainer) \n",
        "# tokenizer.train_from_iterator(batch_iterator(TRA, batch_size=1000), trainer) \n",
        "\n",
        "\n",
        "#If these are equal, BPE only enumerated all possible combinations\n",
        "print(f\"BPE tokenizer vocab size: {tokenizer.get_vocab_size()}\")\n",
        "print(f\"Theoretical max vocab size: {compute_limit_tokens(k)}\")\n",
        "\n"
      ],
      "metadata": {
        "id": "nghg-nyyBL58"
      },
      "execution_count": null,
      "outputs": []
    },
    {
      "cell_type": "code",
      "source": [
        "tokens = sorted(tokenizer.get_vocab().keys(), key=len)\n",
        "print('SHORTEST TOKENS\\n', *tokens[:10])\n",
        "print(f'\\nLONGEST TOKENS (max {len(tokens[-1])})', *tokens[-10:], sep='\\n')\n",
        "tokenizer_name = tokenizer_name+f'_max_tokenlen_{len(tokens[-1])}'"
      ],
      "metadata": {
        "id": "owyKt-9Fw8Q9"
      },
      "execution_count": null,
      "outputs": []
    },
    {
      "cell_type": "code",
      "source": [
        "encoding = tokenizer.encode('NNACTGACACGAAAAAAAGGGC[MASK]GCGCAACTCCAG')\n",
        "print(encoding.ids)\n",
        "print(encoding.tokens)\n",
        "print(tokenizer.decode(encoding.ids))"
      ],
      "metadata": {
        "id": "CNT3WLt0G8VG"
      },
      "execution_count": null,
      "outputs": []
    },
    {
      "cell_type": "code",
      "source": [
        "from transformers import PreTrainedTokenizerFast\n",
        "\n",
        "fast_tokenizer = PreTrainedTokenizerFast(\n",
        "    tokenizer_object=tokenizer,\n",
        "    model_max_length = 512,\n",
        "    padding_side='right',\n",
        "    truncation_side='right',\n",
        "    pad_token='[PAD]',\n",
        "    mask_token='[MASK]',\n",
        "    sep_token='[SEP]',\n",
        "    cls_token='[CLS]',\n",
        "    unk_token='[UNK]',\n",
        "  )\n",
        "\n",
        "fast_tokenizer.push_to_hub(tokenizer_name)"
      ],
      "metadata": {
        "id": "R_et3nk6Ux8b"
      },
      "execution_count": null,
      "outputs": []
    },
    {
      "cell_type": "code",
      "source": [
        "from transformers import AutoTokenizer\n",
        "myDownloadedTokenizer = AutoTokenizer.from_pretrained(f\"{hf_name}/{tokenizer_name}\")\n",
        "dnabert_tokenizer = AutoTokenizer.from_pretrained(\"armheb/DNA_bert_6\")\n",
        "\n",
        "long_sequence = '[MASK]' + 'AAAAAA '*1000 \n",
        "short_sequence = 'NNACTGACACGAAAAAAAGGGC[MASK]GCGCAACTCCAG'\n",
        "long_encoded_dnabert = dnabert_tokenizer(long_sequence)\n",
        "long_encoded_ours = myDownloadedTokenizer(long_sequence)\n",
        "#Padding doesnt show up for\n",
        "short_encoded_dnabert = dnabert_tokenizer(short_sequence, padding=True)\n",
        "short_encoded_ours = myDownloadedTokenizer(short_sequence, padding=True)\n",
        "print(\"\\nDNABERT BEHAVIOR\")\n",
        "print(long_encoded_dnabert)\n",
        "print(dnabert_tokenizer.decode(long_encoded_dnabert['input_ids']))\n",
        "print(short_encoded_dnabert)\n",
        "print(dnabert_tokenizer.decode(short_encoded_dnabert['input_ids']))\n",
        "print(dnabert_tokenizer.special_tokens_map)\n",
        "print(dnabert_tokenizer.padding_side)\n",
        "print('\\nOURS BEHAVIOR')\n",
        "print(long_encoded_ours)\n",
        "print(myDownloadedTokenizer.decode(long_encoded_ours['input_ids']))\n",
        "print(short_encoded_ours)\n",
        "print(myDownloadedTokenizer.decode(short_encoded_ours['input_ids']))\n",
        "print(myDownloadedTokenizer.special_tokens_map)\n",
        "print(myDownloadedTokenizer.padding_side)\n",
        "\n",
        "\n",
        "\n"
      ],
      "metadata": {
        "id": "aYrPpIo36CeM"
      },
      "execution_count": null,
      "outputs": []
    }
  ]
}