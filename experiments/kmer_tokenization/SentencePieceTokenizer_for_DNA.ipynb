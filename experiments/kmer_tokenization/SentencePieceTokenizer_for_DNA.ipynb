{
  "nbformat": 4,
  "nbformat_minor": 0,
  "metadata": {
    "colab": {
      "name": "SentencePieceTokenizer_for_DNA.ipynb",
      "provenance": [],
      "collapsed_sections": [],
      "authorship_tag": "ABX9TyPlE/M+fBUcIz4p364EOIa6",
      "include_colab_link": true
    },
    "kernelspec": {
      "name": "python3",
      "display_name": "Python 3"
    },
    "language_info": {
      "name": "python"
    },
    "widgets": {
      "application/vnd.jupyter.widget-state+json": {
        "d651731c48c0491f936a17a3d4503d08": {
          "model_module": "@jupyter-widgets/controls",
          "model_name": "HBoxModel",
          "model_module_version": "1.5.0",
          "state": {
            "_dom_classes": [],
            "_model_module": "@jupyter-widgets/controls",
            "_model_module_version": "1.5.0",
            "_model_name": "HBoxModel",
            "_view_count": null,
            "_view_module": "@jupyter-widgets/controls",
            "_view_module_version": "1.5.0",
            "_view_name": "HBoxView",
            "box_style": "",
            "children": [
              "IPY_MODEL_83c9e12b905c4b11825b6c8c338a27eb",
              "IPY_MODEL_0d5ab6856f4f45eea6a89f57fe1432f5",
              "IPY_MODEL_2829287334c5407ca3e765df8a45dd2c"
            ],
            "layout": "IPY_MODEL_b62f0b57bd4b4017bbc9c71ea7c3ee70"
          }
        },
        "83c9e12b905c4b11825b6c8c338a27eb": {
          "model_module": "@jupyter-widgets/controls",
          "model_name": "HTMLModel",
          "model_module_version": "1.5.0",
          "state": {
            "_dom_classes": [],
            "_model_module": "@jupyter-widgets/controls",
            "_model_module_version": "1.5.0",
            "_model_name": "HTMLModel",
            "_view_count": null,
            "_view_module": "@jupyter-widgets/controls",
            "_view_module_version": "1.5.0",
            "_view_name": "HTMLView",
            "description": "",
            "description_tooltip": null,
            "layout": "IPY_MODEL_a1f5245864404cc3b32954d21da44f0c",
            "placeholder": "​",
            "style": "IPY_MODEL_202bee14d08a40f5b64f71bc1d31176d",
            "value": "100%"
          }
        },
        "0d5ab6856f4f45eea6a89f57fe1432f5": {
          "model_module": "@jupyter-widgets/controls",
          "model_name": "FloatProgressModel",
          "model_module_version": "1.5.0",
          "state": {
            "_dom_classes": [],
            "_model_module": "@jupyter-widgets/controls",
            "_model_module_version": "1.5.0",
            "_model_name": "FloatProgressModel",
            "_view_count": null,
            "_view_module": "@jupyter-widgets/controls",
            "_view_module_version": "1.5.0",
            "_view_name": "ProgressView",
            "bar_style": "success",
            "description": "",
            "description_tooltip": null,
            "layout": "IPY_MODEL_f053e90b664f468786888bae643f06ff",
            "max": 2,
            "min": 0,
            "orientation": "horizontal",
            "style": "IPY_MODEL_7e7a2c4f6ee04a77b60071bf64f83ef6",
            "value": 2
          }
        },
        "2829287334c5407ca3e765df8a45dd2c": {
          "model_module": "@jupyter-widgets/controls",
          "model_name": "HTMLModel",
          "model_module_version": "1.5.0",
          "state": {
            "_dom_classes": [],
            "_model_module": "@jupyter-widgets/controls",
            "_model_module_version": "1.5.0",
            "_model_name": "HTMLModel",
            "_view_count": null,
            "_view_module": "@jupyter-widgets/controls",
            "_view_module_version": "1.5.0",
            "_view_name": "HTMLView",
            "description": "",
            "description_tooltip": null,
            "layout": "IPY_MODEL_8fc02b7b55a14dd7983d70d4e74d07f7",
            "placeholder": "​",
            "style": "IPY_MODEL_6c22185b96aa4524babef8bfbf4dd761",
            "value": " 2/2 [00:00&lt;00:00,  3.59it/s]"
          }
        },
        "b62f0b57bd4b4017bbc9c71ea7c3ee70": {
          "model_module": "@jupyter-widgets/base",
          "model_name": "LayoutModel",
          "model_module_version": "1.2.0",
          "state": {
            "_model_module": "@jupyter-widgets/base",
            "_model_module_version": "1.2.0",
            "_model_name": "LayoutModel",
            "_view_count": null,
            "_view_module": "@jupyter-widgets/base",
            "_view_module_version": "1.2.0",
            "_view_name": "LayoutView",
            "align_content": null,
            "align_items": null,
            "align_self": null,
            "border": null,
            "bottom": null,
            "display": null,
            "flex": null,
            "flex_flow": null,
            "grid_area": null,
            "grid_auto_columns": null,
            "grid_auto_flow": null,
            "grid_auto_rows": null,
            "grid_column": null,
            "grid_gap": null,
            "grid_row": null,
            "grid_template_areas": null,
            "grid_template_columns": null,
            "grid_template_rows": null,
            "height": null,
            "justify_content": null,
            "justify_items": null,
            "left": null,
            "margin": null,
            "max_height": null,
            "max_width": null,
            "min_height": null,
            "min_width": null,
            "object_fit": null,
            "object_position": null,
            "order": null,
            "overflow": null,
            "overflow_x": null,
            "overflow_y": null,
            "padding": null,
            "right": null,
            "top": null,
            "visibility": null,
            "width": null
          }
        },
        "a1f5245864404cc3b32954d21da44f0c": {
          "model_module": "@jupyter-widgets/base",
          "model_name": "LayoutModel",
          "model_module_version": "1.2.0",
          "state": {
            "_model_module": "@jupyter-widgets/base",
            "_model_module_version": "1.2.0",
            "_model_name": "LayoutModel",
            "_view_count": null,
            "_view_module": "@jupyter-widgets/base",
            "_view_module_version": "1.2.0",
            "_view_name": "LayoutView",
            "align_content": null,
            "align_items": null,
            "align_self": null,
            "border": null,
            "bottom": null,
            "display": null,
            "flex": null,
            "flex_flow": null,
            "grid_area": null,
            "grid_auto_columns": null,
            "grid_auto_flow": null,
            "grid_auto_rows": null,
            "grid_column": null,
            "grid_gap": null,
            "grid_row": null,
            "grid_template_areas": null,
            "grid_template_columns": null,
            "grid_template_rows": null,
            "height": null,
            "justify_content": null,
            "justify_items": null,
            "left": null,
            "margin": null,
            "max_height": null,
            "max_width": null,
            "min_height": null,
            "min_width": null,
            "object_fit": null,
            "object_position": null,
            "order": null,
            "overflow": null,
            "overflow_x": null,
            "overflow_y": null,
            "padding": null,
            "right": null,
            "top": null,
            "visibility": null,
            "width": null
          }
        },
        "202bee14d08a40f5b64f71bc1d31176d": {
          "model_module": "@jupyter-widgets/controls",
          "model_name": "DescriptionStyleModel",
          "model_module_version": "1.5.0",
          "state": {
            "_model_module": "@jupyter-widgets/controls",
            "_model_module_version": "1.5.0",
            "_model_name": "DescriptionStyleModel",
            "_view_count": null,
            "_view_module": "@jupyter-widgets/base",
            "_view_module_version": "1.2.0",
            "_view_name": "StyleView",
            "description_width": ""
          }
        },
        "f053e90b664f468786888bae643f06ff": {
          "model_module": "@jupyter-widgets/base",
          "model_name": "LayoutModel",
          "model_module_version": "1.2.0",
          "state": {
            "_model_module": "@jupyter-widgets/base",
            "_model_module_version": "1.2.0",
            "_model_name": "LayoutModel",
            "_view_count": null,
            "_view_module": "@jupyter-widgets/base",
            "_view_module_version": "1.2.0",
            "_view_name": "LayoutView",
            "align_content": null,
            "align_items": null,
            "align_self": null,
            "border": null,
            "bottom": null,
            "display": null,
            "flex": null,
            "flex_flow": null,
            "grid_area": null,
            "grid_auto_columns": null,
            "grid_auto_flow": null,
            "grid_auto_rows": null,
            "grid_column": null,
            "grid_gap": null,
            "grid_row": null,
            "grid_template_areas": null,
            "grid_template_columns": null,
            "grid_template_rows": null,
            "height": null,
            "justify_content": null,
            "justify_items": null,
            "left": null,
            "margin": null,
            "max_height": null,
            "max_width": null,
            "min_height": null,
            "min_width": null,
            "object_fit": null,
            "object_position": null,
            "order": null,
            "overflow": null,
            "overflow_x": null,
            "overflow_y": null,
            "padding": null,
            "right": null,
            "top": null,
            "visibility": null,
            "width": null
          }
        },
        "7e7a2c4f6ee04a77b60071bf64f83ef6": {
          "model_module": "@jupyter-widgets/controls",
          "model_name": "ProgressStyleModel",
          "model_module_version": "1.5.0",
          "state": {
            "_model_module": "@jupyter-widgets/controls",
            "_model_module_version": "1.5.0",
            "_model_name": "ProgressStyleModel",
            "_view_count": null,
            "_view_module": "@jupyter-widgets/base",
            "_view_module_version": "1.2.0",
            "_view_name": "StyleView",
            "bar_color": null,
            "description_width": ""
          }
        },
        "8fc02b7b55a14dd7983d70d4e74d07f7": {
          "model_module": "@jupyter-widgets/base",
          "model_name": "LayoutModel",
          "model_module_version": "1.2.0",
          "state": {
            "_model_module": "@jupyter-widgets/base",
            "_model_module_version": "1.2.0",
            "_model_name": "LayoutModel",
            "_view_count": null,
            "_view_module": "@jupyter-widgets/base",
            "_view_module_version": "1.2.0",
            "_view_name": "LayoutView",
            "align_content": null,
            "align_items": null,
            "align_self": null,
            "border": null,
            "bottom": null,
            "display": null,
            "flex": null,
            "flex_flow": null,
            "grid_area": null,
            "grid_auto_columns": null,
            "grid_auto_flow": null,
            "grid_auto_rows": null,
            "grid_column": null,
            "grid_gap": null,
            "grid_row": null,
            "grid_template_areas": null,
            "grid_template_columns": null,
            "grid_template_rows": null,
            "height": null,
            "justify_content": null,
            "justify_items": null,
            "left": null,
            "margin": null,
            "max_height": null,
            "max_width": null,
            "min_height": null,
            "min_width": null,
            "object_fit": null,
            "object_position": null,
            "order": null,
            "overflow": null,
            "overflow_x": null,
            "overflow_y": null,
            "padding": null,
            "right": null,
            "top": null,
            "visibility": null,
            "width": null
          }
        },
        "6c22185b96aa4524babef8bfbf4dd761": {
          "model_module": "@jupyter-widgets/controls",
          "model_name": "DescriptionStyleModel",
          "model_module_version": "1.5.0",
          "state": {
            "_model_module": "@jupyter-widgets/controls",
            "_model_module_version": "1.5.0",
            "_model_name": "DescriptionStyleModel",
            "_view_count": null,
            "_view_module": "@jupyter-widgets/base",
            "_view_module_version": "1.2.0",
            "_view_name": "StyleView",
            "description_width": ""
          }
        }
      }
    }
  },
  "cells": [
    {
      "cell_type": "markdown",
      "metadata": {
        "id": "view-in-github",
        "colab_type": "text"
      },
      "source": [
        "<a href=\"https://colab.research.google.com/github/ML-Bioinfo-CEITEC/cDNA-pretraining/blob/main/experiments/kmer_tokenization/SentencePieceTokenizer_for_DNA.ipynb\" target=\"_parent\"><img src=\"https://colab.research.google.com/assets/colab-badge.svg\" alt=\"Open In Colab\"/></a>"
      ]
    },
    {
      "cell_type": "code",
      "execution_count": 1,
      "metadata": {
        "id": "I6HqVyTw2Ns6"
      },
      "outputs": [],
      "source": [
        "!pip install -qq transformers datasets --quiet"
      ]
    },
    {
      "cell_type": "code",
      "source": [
        "# #CONFIG\n",
        "limit = 263659 #263659 is full dataset\n",
        "vocab_size_limit = 30000 #30000\n",
        "hf_name = 'Vlasta'"
      ],
      "metadata": {
        "id": "j5fdzDq_Qo4e"
      },
      "execution_count": 2,
      "outputs": []
    },
    {
      "cell_type": "code",
      "source": [
        "# from huggingface_hub import notebook_login\n",
        "\n",
        "# notebook_login()"
      ],
      "metadata": {
        "id": "IlMvzO33XXCR"
      },
      "execution_count": 3,
      "outputs": []
    },
    {
      "cell_type": "code",
      "source": [
        "from datasets import load_dataset\n",
        "from tokenizers import Tokenizer\n",
        "from tokenizers.models import BPE\n",
        "from tokenizers.trainers import BpeTrainer\n",
        "from tokenizers.pre_tokenizers import Split\n",
        "from tokenizers.processors import BertProcessing\n",
        "from tokenizers import Regex\n",
        "from tokenizers import SentencePieceBPETokenizer, SentencePieceUnigramTokenizer"
      ],
      "metadata": {
        "id": "Y3OPoHWI3Hus"
      },
      "execution_count": 4,
      "outputs": []
    },
    {
      "cell_type": "code",
      "source": [
        "ds = load_dataset(\"simecek/Human_DNA_v0\")\n",
        "train_portion = ds['train']['Seq']"
      ],
      "metadata": {
        "colab": {
          "base_uri": "https://localhost:8080/",
          "height": 104,
          "referenced_widgets": [
            "d651731c48c0491f936a17a3d4503d08",
            "83c9e12b905c4b11825b6c8c338a27eb",
            "0d5ab6856f4f45eea6a89f57fe1432f5",
            "2829287334c5407ca3e765df8a45dd2c",
            "b62f0b57bd4b4017bbc9c71ea7c3ee70",
            "a1f5245864404cc3b32954d21da44f0c",
            "202bee14d08a40f5b64f71bc1d31176d",
            "f053e90b664f468786888bae643f06ff",
            "7e7a2c4f6ee04a77b60071bf64f83ef6",
            "8fc02b7b55a14dd7983d70d4e74d07f7",
            "6c22185b96aa4524babef8bfbf4dd761"
          ]
        },
        "id": "65ANNdedDXZB",
        "outputId": "32b07e61-5bf2-4865-e362-ae5ccccc35fc"
      },
      "execution_count": 5,
      "outputs": [
        {
          "output_type": "stream",
          "name": "stderr",
          "text": [
            "Using custom data configuration simecek--Human_DNA_v0-d7be3fc44fadbb72\n",
            "Reusing dataset parquet (/root/.cache/huggingface/datasets/simecek___parquet/simecek--Human_DNA_v0-d7be3fc44fadbb72/0.0.0/7328ef7ee03eaf3f86ae40594d46a1cec86161704e02dd19f232d81eee72ade8)\n"
          ]
        },
        {
          "output_type": "display_data",
          "data": {
            "text/plain": [
              "  0%|          | 0/2 [00:00<?, ?it/s]"
            ],
            "application/vnd.jupyter.widget-view+json": {
              "version_major": 2,
              "version_minor": 0,
              "model_id": "d651731c48c0491f936a17a3d4503d08"
            }
          },
          "metadata": {}
        }
      ]
    },
    {
      "cell_type": "code",
      "source": [
        "len(train_portion)"
      ],
      "metadata": {
        "colab": {
          "base_uri": "https://localhost:8080/"
        },
        "id": "VxJB3voeOZle",
        "outputId": "25f6b8ce-7e14-4492-8800-bd3c40fb29d0"
      },
      "execution_count": 6,
      "outputs": [
        {
          "output_type": "execute_result",
          "data": {
            "text/plain": [
              "263659"
            ]
          },
          "metadata": {},
          "execution_count": 6
        }
      ]
    },
    {
      "cell_type": "code",
      "source": [
        "def batch_iterator(dataset, batch_size):\n",
        "    for i in range(0, len(dataset), batch_size):\n",
        "        yield dataset[i : i + batch_size]"
      ],
      "metadata": {
        "id": "88cQG-l3Zf1G"
      },
      "execution_count": 7,
      "outputs": []
    },
    {
      "cell_type": "code",
      "source": [
        "%%time\n",
        "#TODO try to split dataset sequence lengths\n",
        "tokenizer_name = f\"DNA_SentencepieceBPE_max_vocab_{vocab_size_limit}\"\n",
        "\n",
        "unk_token = \"[UNK]\"  \n",
        "spl_tokens = [\"[PAD]\", \"[UNK]\", \"[CLS]\", \"[SEP]\", \"[MASK]\"] \n",
        "\n",
        "tokenizer = SentencePieceBPETokenizer(unk_token=unk_token)\n",
        "\n",
        "tokenizer.post_processor = BertProcessing(sep=('[SEP]', spl_tokens.index('[SEP]')), cls=('[CLS]', spl_tokens.index('[CLS]')))\n",
        "TRA = train_portion[:limit]\n",
        "\n",
        "#Default vocab_size_limit is 30000\n",
        "tokenizer.train_from_iterator(    \n",
        "    TRA,\n",
        "    vocab_size=vocab_size_limit,\n",
        "    special_tokens=spl_tokens,\n",
        ") \n",
        "\n",
        "# tokenizer.train_from_iterator(\n",
        "#     batch_iterator(TRA, batch_size=1000),\n",
        "#     vocab_size=vocab_size_limit,\n",
        "#     special_tokens=spl_tokens\n",
        "# ) \n",
        "\n",
        "print(f\"BPE tokenizer vocab size: {tokenizer.get_vocab_size()}\")\n",
        "\n"
      ],
      "metadata": {
        "colab": {
          "base_uri": "https://localhost:8080/"
        },
        "id": "nghg-nyyBL58",
        "outputId": "673e6cf1-2daa-4b24-fa6d-0239ed0df375"
      },
      "execution_count": null,
      "outputs": [
        {
          "output_type": "stream",
          "name": "stdout",
          "text": [
            "<tokenizers.pre_tokenizers.Metaspace object at 0x7f51d8ce14f0>\n"
          ]
        }
      ]
    },
    {
      "cell_type": "code",
      "source": [
        "tokens = sorted(tokenizer.get_vocab().keys(), key=len)\n",
        "print('SHORTEST TOKENS\\n', *tokens[:10])\n",
        "print(f'\\nLONGEST TOKENS (max {len(tokens[-1])})', *tokens[-10:], sep='\\n')\n",
        "tokenizer_name = tokenizer_name+f'_max_tokenlen_{len(tokens[-1])}'"
      ],
      "metadata": {
        "id": "owyKt-9Fw8Q9"
      },
      "execution_count": null,
      "outputs": []
    },
    {
      "cell_type": "code",
      "source": [
        "encoding = tokenizer.encode('NNACTGACACGAAAAAAAGGGC[MASK]GCGCAACTCCAG')\n",
        "print(encoding.ids)\n",
        "print(encoding.tokens)\n",
        "print(tokenizer.decode(encoding.ids))"
      ],
      "metadata": {
        "id": "CNT3WLt0G8VG"
      },
      "execution_count": null,
      "outputs": []
    },
    {
      "cell_type": "code",
      "source": [
        "from transformers import PreTrainedTokenizerFast\n",
        "\n",
        "fast_tokenizer = PreTrainedTokenizerFast(\n",
        "    tokenizer_object=tokenizer,\n",
        "    model_max_length = 512,\n",
        "    padding_side='right',\n",
        "    truncation_side='right',\n",
        "    pad_token='[PAD]',\n",
        "    mask_token='[MASK]',\n",
        "    sep_token='[SEP]',\n",
        "    cls_token='[CLS]',\n",
        "    unk_token='[UNK]',\n",
        "  )\n",
        "\n",
        "fast_tokenizer.push_to_hub(tokenizer_name)"
      ],
      "metadata": {
        "id": "R_et3nk6Ux8b"
      },
      "execution_count": null,
      "outputs": []
    },
    {
      "cell_type": "code",
      "source": [
        "from transformers import AutoTokenizer\n",
        "myDownloadedTokenizer = AutoTokenizer.from_pretrained(f\"{hf_name}/{tokenizer_name}\")\n",
        "# myDownloadedTokenizer = fast_tokenizer\n",
        "dnabert_tokenizer = AutoTokenizer.from_pretrained(\"armheb/DNA_bert_6\")\n",
        "\n",
        "long_sequence = '[MASK]' + 'AAAAAA '*1000 \n",
        "short_sequence = 'NNACTGACACGAAAAAAAGGGC[MASK]GCGCAACTCCAG'\n",
        "long_encoded_dnabert = dnabert_tokenizer(long_sequence)\n",
        "long_encoded_ours = myDownloadedTokenizer(long_sequence)\n",
        "#Padding doesnt show up for\n",
        "short_encoded_dnabert = dnabert_tokenizer(short_sequence, padding=True)\n",
        "short_encoded_ours = myDownloadedTokenizer(short_sequence, padding=True)\n",
        "print(\"\\nDNABERT BEHAVIOR\")\n",
        "print(long_encoded_dnabert)\n",
        "print(dnabert_tokenizer.decode(long_encoded_dnabert['input_ids']))\n",
        "print(short_encoded_dnabert)\n",
        "print(dnabert_tokenizer.decode(short_encoded_dnabert['input_ids']))\n",
        "print(dnabert_tokenizer.special_tokens_map)\n",
        "print(dnabert_tokenizer.padding_side)\n",
        "print('\\nOURS BEHAVIOR')\n",
        "print(long_encoded_ours)\n",
        "print(myDownloadedTokenizer.decode(long_encoded_ours['input_ids']))\n",
        "print(short_encoded_ours)\n",
        "print(myDownloadedTokenizer.decode(short_encoded_ours['input_ids']))\n",
        "print(myDownloadedTokenizer.special_tokens_map)\n",
        "print(myDownloadedTokenizer.padding_side)\n",
        "\n",
        "\n",
        "\n"
      ],
      "metadata": {
        "id": "aYrPpIo36CeM"
      },
      "execution_count": null,
      "outputs": []
    }
  ]
}