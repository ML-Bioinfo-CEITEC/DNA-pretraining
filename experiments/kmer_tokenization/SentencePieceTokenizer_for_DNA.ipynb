{
  "nbformat": 4,
  "nbformat_minor": 0,
  "metadata": {
    "colab": {
      "name": "SentencePieceTokenizer_for_DNA.ipynb",
      "provenance": [],
      "collapsed_sections": [
        "MFXexzJXnP_G",
        "J4CvFQmvHBXh"
      ],
      "authorship_tag": "ABX9TyNZUv3e6S16YDuQmsgyXllG",
      "include_colab_link": true
    },
    "kernelspec": {
      "name": "python3",
      "display_name": "Python 3"
    },
    "language_info": {
      "name": "python"
    },
    "widgets": {
      "application/vnd.jupyter.widget-state+json": {
        "923966831b3b4b7da9c7cb05991106c5": {
          "model_module": "@jupyter-widgets/controls",
          "model_name": "VBoxModel",
          "model_module_version": "1.5.0",
          "state": {
            "_dom_classes": [],
            "_model_module": "@jupyter-widgets/controls",
            "_model_module_version": "1.5.0",
            "_model_name": "VBoxModel",
            "_view_count": null,
            "_view_module": "@jupyter-widgets/controls",
            "_view_module_version": "1.5.0",
            "_view_name": "VBoxView",
            "box_style": "",
            "children": [
              "IPY_MODEL_81bab9ec722741899e52198c5ffaaec6",
              "IPY_MODEL_a8c3b0c144ec4653a6801e62c5d0cef4",
              "IPY_MODEL_6fb889aa3b8d4a239be392a763d1eebc",
              "IPY_MODEL_1487ad25d25a4b9b8c8cbe8e26e5ff5c"
            ],
            "layout": "IPY_MODEL_ea01777a8c044c8bb4c6ee128721edc1"
          }
        },
        "81bab9ec722741899e52198c5ffaaec6": {
          "model_module": "@jupyter-widgets/controls",
          "model_name": "HTMLModel",
          "model_module_version": "1.5.0",
          "state": {
            "_dom_classes": [],
            "_model_module": "@jupyter-widgets/controls",
            "_model_module_version": "1.5.0",
            "_model_name": "HTMLModel",
            "_view_count": null,
            "_view_module": "@jupyter-widgets/controls",
            "_view_module_version": "1.5.0",
            "_view_name": "HTMLView",
            "description": "",
            "description_tooltip": null,
            "layout": "IPY_MODEL_f11f4d04d750458984cb5ffc612dcdb4",
            "placeholder": "​",
            "style": "IPY_MODEL_f6df7462b86b4b1e96551c5a94bba09d",
            "value": "<center> <img\nsrc=https://huggingface.co/front/assets/huggingface_logo-noborder.svg\nalt='Hugging Face'> <br> Copy a token from <a\nhref=\"https://huggingface.co/settings/tokens\" target=\"_blank\">your Hugging Face\ntokens page</a> and paste it below. <br> Immediately click login after copying\nyour token or it might be stored in plain text in this notebook file. </center>"
          }
        },
        "a8c3b0c144ec4653a6801e62c5d0cef4": {
          "model_module": "@jupyter-widgets/controls",
          "model_name": "PasswordModel",
          "model_module_version": "1.5.0",
          "state": {
            "_dom_classes": [],
            "_model_module": "@jupyter-widgets/controls",
            "_model_module_version": "1.5.0",
            "_model_name": "PasswordModel",
            "_view_count": null,
            "_view_module": "@jupyter-widgets/controls",
            "_view_module_version": "1.5.0",
            "_view_name": "PasswordView",
            "continuous_update": true,
            "description": "Token:",
            "description_tooltip": null,
            "disabled": false,
            "layout": "IPY_MODEL_b10d74a33f924ce8b5d89f6d2ae23936",
            "placeholder": "​",
            "style": "IPY_MODEL_c15ffc53be5c4ec19d55e104f7128691",
            "value": ""
          }
        },
        "6fb889aa3b8d4a239be392a763d1eebc": {
          "model_module": "@jupyter-widgets/controls",
          "model_name": "ButtonModel",
          "model_module_version": "1.5.0",
          "state": {
            "_dom_classes": [],
            "_model_module": "@jupyter-widgets/controls",
            "_model_module_version": "1.5.0",
            "_model_name": "ButtonModel",
            "_view_count": null,
            "_view_module": "@jupyter-widgets/controls",
            "_view_module_version": "1.5.0",
            "_view_name": "ButtonView",
            "button_style": "",
            "description": "Login",
            "disabled": false,
            "icon": "",
            "layout": "IPY_MODEL_c9a97fc66af54f25a8e47f067e8a3617",
            "style": "IPY_MODEL_d51f7d4e73e24dbda7ac4a15722e8adb",
            "tooltip": ""
          }
        },
        "1487ad25d25a4b9b8c8cbe8e26e5ff5c": {
          "model_module": "@jupyter-widgets/controls",
          "model_name": "HTMLModel",
          "model_module_version": "1.5.0",
          "state": {
            "_dom_classes": [],
            "_model_module": "@jupyter-widgets/controls",
            "_model_module_version": "1.5.0",
            "_model_name": "HTMLModel",
            "_view_count": null,
            "_view_module": "@jupyter-widgets/controls",
            "_view_module_version": "1.5.0",
            "_view_name": "HTMLView",
            "description": "",
            "description_tooltip": null,
            "layout": "IPY_MODEL_b735ca9155b8461f8b8f4b6543fb1853",
            "placeholder": "​",
            "style": "IPY_MODEL_4802aca5879d4c6eab51c453a7e8aaea",
            "value": "\n<b>Pro Tip:</b> If you don't already have one, you can create a dedicated\n'notebooks' token with 'write' access, that you can then easily reuse for all\nnotebooks. </center>"
          }
        },
        "ea01777a8c044c8bb4c6ee128721edc1": {
          "model_module": "@jupyter-widgets/base",
          "model_name": "LayoutModel",
          "model_module_version": "1.2.0",
          "state": {
            "_model_module": "@jupyter-widgets/base",
            "_model_module_version": "1.2.0",
            "_model_name": "LayoutModel",
            "_view_count": null,
            "_view_module": "@jupyter-widgets/base",
            "_view_module_version": "1.2.0",
            "_view_name": "LayoutView",
            "align_content": null,
            "align_items": "center",
            "align_self": null,
            "border": null,
            "bottom": null,
            "display": "flex",
            "flex": null,
            "flex_flow": "column",
            "grid_area": null,
            "grid_auto_columns": null,
            "grid_auto_flow": null,
            "grid_auto_rows": null,
            "grid_column": null,
            "grid_gap": null,
            "grid_row": null,
            "grid_template_areas": null,
            "grid_template_columns": null,
            "grid_template_rows": null,
            "height": null,
            "justify_content": null,
            "justify_items": null,
            "left": null,
            "margin": null,
            "max_height": null,
            "max_width": null,
            "min_height": null,
            "min_width": null,
            "object_fit": null,
            "object_position": null,
            "order": null,
            "overflow": null,
            "overflow_x": null,
            "overflow_y": null,
            "padding": null,
            "right": null,
            "top": null,
            "visibility": null,
            "width": "50%"
          }
        },
        "f11f4d04d750458984cb5ffc612dcdb4": {
          "model_module": "@jupyter-widgets/base",
          "model_name": "LayoutModel",
          "model_module_version": "1.2.0",
          "state": {
            "_model_module": "@jupyter-widgets/base",
            "_model_module_version": "1.2.0",
            "_model_name": "LayoutModel",
            "_view_count": null,
            "_view_module": "@jupyter-widgets/base",
            "_view_module_version": "1.2.0",
            "_view_name": "LayoutView",
            "align_content": null,
            "align_items": null,
            "align_self": null,
            "border": null,
            "bottom": null,
            "display": null,
            "flex": null,
            "flex_flow": null,
            "grid_area": null,
            "grid_auto_columns": null,
            "grid_auto_flow": null,
            "grid_auto_rows": null,
            "grid_column": null,
            "grid_gap": null,
            "grid_row": null,
            "grid_template_areas": null,
            "grid_template_columns": null,
            "grid_template_rows": null,
            "height": null,
            "justify_content": null,
            "justify_items": null,
            "left": null,
            "margin": null,
            "max_height": null,
            "max_width": null,
            "min_height": null,
            "min_width": null,
            "object_fit": null,
            "object_position": null,
            "order": null,
            "overflow": null,
            "overflow_x": null,
            "overflow_y": null,
            "padding": null,
            "right": null,
            "top": null,
            "visibility": null,
            "width": null
          }
        },
        "f6df7462b86b4b1e96551c5a94bba09d": {
          "model_module": "@jupyter-widgets/controls",
          "model_name": "DescriptionStyleModel",
          "model_module_version": "1.5.0",
          "state": {
            "_model_module": "@jupyter-widgets/controls",
            "_model_module_version": "1.5.0",
            "_model_name": "DescriptionStyleModel",
            "_view_count": null,
            "_view_module": "@jupyter-widgets/base",
            "_view_module_version": "1.2.0",
            "_view_name": "StyleView",
            "description_width": ""
          }
        },
        "b10d74a33f924ce8b5d89f6d2ae23936": {
          "model_module": "@jupyter-widgets/base",
          "model_name": "LayoutModel",
          "model_module_version": "1.2.0",
          "state": {
            "_model_module": "@jupyter-widgets/base",
            "_model_module_version": "1.2.0",
            "_model_name": "LayoutModel",
            "_view_count": null,
            "_view_module": "@jupyter-widgets/base",
            "_view_module_version": "1.2.0",
            "_view_name": "LayoutView",
            "align_content": null,
            "align_items": null,
            "align_self": null,
            "border": null,
            "bottom": null,
            "display": null,
            "flex": null,
            "flex_flow": null,
            "grid_area": null,
            "grid_auto_columns": null,
            "grid_auto_flow": null,
            "grid_auto_rows": null,
            "grid_column": null,
            "grid_gap": null,
            "grid_row": null,
            "grid_template_areas": null,
            "grid_template_columns": null,
            "grid_template_rows": null,
            "height": null,
            "justify_content": null,
            "justify_items": null,
            "left": null,
            "margin": null,
            "max_height": null,
            "max_width": null,
            "min_height": null,
            "min_width": null,
            "object_fit": null,
            "object_position": null,
            "order": null,
            "overflow": null,
            "overflow_x": null,
            "overflow_y": null,
            "padding": null,
            "right": null,
            "top": null,
            "visibility": null,
            "width": null
          }
        },
        "c15ffc53be5c4ec19d55e104f7128691": {
          "model_module": "@jupyter-widgets/controls",
          "model_name": "DescriptionStyleModel",
          "model_module_version": "1.5.0",
          "state": {
            "_model_module": "@jupyter-widgets/controls",
            "_model_module_version": "1.5.0",
            "_model_name": "DescriptionStyleModel",
            "_view_count": null,
            "_view_module": "@jupyter-widgets/base",
            "_view_module_version": "1.2.0",
            "_view_name": "StyleView",
            "description_width": ""
          }
        },
        "c9a97fc66af54f25a8e47f067e8a3617": {
          "model_module": "@jupyter-widgets/base",
          "model_name": "LayoutModel",
          "model_module_version": "1.2.0",
          "state": {
            "_model_module": "@jupyter-widgets/base",
            "_model_module_version": "1.2.0",
            "_model_name": "LayoutModel",
            "_view_count": null,
            "_view_module": "@jupyter-widgets/base",
            "_view_module_version": "1.2.0",
            "_view_name": "LayoutView",
            "align_content": null,
            "align_items": null,
            "align_self": null,
            "border": null,
            "bottom": null,
            "display": null,
            "flex": null,
            "flex_flow": null,
            "grid_area": null,
            "grid_auto_columns": null,
            "grid_auto_flow": null,
            "grid_auto_rows": null,
            "grid_column": null,
            "grid_gap": null,
            "grid_row": null,
            "grid_template_areas": null,
            "grid_template_columns": null,
            "grid_template_rows": null,
            "height": null,
            "justify_content": null,
            "justify_items": null,
            "left": null,
            "margin": null,
            "max_height": null,
            "max_width": null,
            "min_height": null,
            "min_width": null,
            "object_fit": null,
            "object_position": null,
            "order": null,
            "overflow": null,
            "overflow_x": null,
            "overflow_y": null,
            "padding": null,
            "right": null,
            "top": null,
            "visibility": null,
            "width": null
          }
        },
        "d51f7d4e73e24dbda7ac4a15722e8adb": {
          "model_module": "@jupyter-widgets/controls",
          "model_name": "ButtonStyleModel",
          "model_module_version": "1.5.0",
          "state": {
            "_model_module": "@jupyter-widgets/controls",
            "_model_module_version": "1.5.0",
            "_model_name": "ButtonStyleModel",
            "_view_count": null,
            "_view_module": "@jupyter-widgets/base",
            "_view_module_version": "1.2.0",
            "_view_name": "StyleView",
            "button_color": null,
            "font_weight": ""
          }
        },
        "b735ca9155b8461f8b8f4b6543fb1853": {
          "model_module": "@jupyter-widgets/base",
          "model_name": "LayoutModel",
          "model_module_version": "1.2.0",
          "state": {
            "_model_module": "@jupyter-widgets/base",
            "_model_module_version": "1.2.0",
            "_model_name": "LayoutModel",
            "_view_count": null,
            "_view_module": "@jupyter-widgets/base",
            "_view_module_version": "1.2.0",
            "_view_name": "LayoutView",
            "align_content": null,
            "align_items": null,
            "align_self": null,
            "border": null,
            "bottom": null,
            "display": null,
            "flex": null,
            "flex_flow": null,
            "grid_area": null,
            "grid_auto_columns": null,
            "grid_auto_flow": null,
            "grid_auto_rows": null,
            "grid_column": null,
            "grid_gap": null,
            "grid_row": null,
            "grid_template_areas": null,
            "grid_template_columns": null,
            "grid_template_rows": null,
            "height": null,
            "justify_content": null,
            "justify_items": null,
            "left": null,
            "margin": null,
            "max_height": null,
            "max_width": null,
            "min_height": null,
            "min_width": null,
            "object_fit": null,
            "object_position": null,
            "order": null,
            "overflow": null,
            "overflow_x": null,
            "overflow_y": null,
            "padding": null,
            "right": null,
            "top": null,
            "visibility": null,
            "width": null
          }
        },
        "4802aca5879d4c6eab51c453a7e8aaea": {
          "model_module": "@jupyter-widgets/controls",
          "model_name": "DescriptionStyleModel",
          "model_module_version": "1.5.0",
          "state": {
            "_model_module": "@jupyter-widgets/controls",
            "_model_module_version": "1.5.0",
            "_model_name": "DescriptionStyleModel",
            "_view_count": null,
            "_view_module": "@jupyter-widgets/base",
            "_view_module_version": "1.2.0",
            "_view_name": "StyleView",
            "description_width": ""
          }
        },
        "8c935a4460e543deb525f6eb2b3fbaaf": {
          "model_module": "@jupyter-widgets/controls",
          "model_name": "HBoxModel",
          "model_module_version": "1.5.0",
          "state": {
            "_dom_classes": [],
            "_model_module": "@jupyter-widgets/controls",
            "_model_module_version": "1.5.0",
            "_model_name": "HBoxModel",
            "_view_count": null,
            "_view_module": "@jupyter-widgets/controls",
            "_view_module_version": "1.5.0",
            "_view_name": "HBoxView",
            "box_style": "",
            "children": [
              "IPY_MODEL_6998a4b886534254baf0739744fbc1b4",
              "IPY_MODEL_54b993517fac4421981ff299ddfded6c",
              "IPY_MODEL_60815276d81e47d1b04d95f00fbc5e19"
            ],
            "layout": "IPY_MODEL_32dee3dadf7f4762967611fe57e057d5"
          }
        },
        "6998a4b886534254baf0739744fbc1b4": {
          "model_module": "@jupyter-widgets/controls",
          "model_name": "HTMLModel",
          "model_module_version": "1.5.0",
          "state": {
            "_dom_classes": [],
            "_model_module": "@jupyter-widgets/controls",
            "_model_module_version": "1.5.0",
            "_model_name": "HTMLModel",
            "_view_count": null,
            "_view_module": "@jupyter-widgets/controls",
            "_view_module_version": "1.5.0",
            "_view_name": "HTMLView",
            "description": "",
            "description_tooltip": null,
            "layout": "IPY_MODEL_9b92c992885b41cda966d52f9744d6ab",
            "placeholder": "​",
            "style": "IPY_MODEL_26d9e8bd9c2340f683539609dfca9274",
            "value": "100%"
          }
        },
        "54b993517fac4421981ff299ddfded6c": {
          "model_module": "@jupyter-widgets/controls",
          "model_name": "FloatProgressModel",
          "model_module_version": "1.5.0",
          "state": {
            "_dom_classes": [],
            "_model_module": "@jupyter-widgets/controls",
            "_model_module_version": "1.5.0",
            "_model_name": "FloatProgressModel",
            "_view_count": null,
            "_view_module": "@jupyter-widgets/controls",
            "_view_module_version": "1.5.0",
            "_view_name": "ProgressView",
            "bar_style": "success",
            "description": "",
            "description_tooltip": null,
            "layout": "IPY_MODEL_b9c59306c29d46c3b4eff834a07aa011",
            "max": 2,
            "min": 0,
            "orientation": "horizontal",
            "style": "IPY_MODEL_542d4f369b6a427ca734fb9e32ee8352",
            "value": 2
          }
        },
        "60815276d81e47d1b04d95f00fbc5e19": {
          "model_module": "@jupyter-widgets/controls",
          "model_name": "HTMLModel",
          "model_module_version": "1.5.0",
          "state": {
            "_dom_classes": [],
            "_model_module": "@jupyter-widgets/controls",
            "_model_module_version": "1.5.0",
            "_model_name": "HTMLModel",
            "_view_count": null,
            "_view_module": "@jupyter-widgets/controls",
            "_view_module_version": "1.5.0",
            "_view_name": "HTMLView",
            "description": "",
            "description_tooltip": null,
            "layout": "IPY_MODEL_cb04addb2c89419c83e084ba22f1187e",
            "placeholder": "​",
            "style": "IPY_MODEL_7451ae230051414d8b89b7e97934e8f6",
            "value": " 2/2 [00:00&lt;00:00,  5.82it/s]"
          }
        },
        "32dee3dadf7f4762967611fe57e057d5": {
          "model_module": "@jupyter-widgets/base",
          "model_name": "LayoutModel",
          "model_module_version": "1.2.0",
          "state": {
            "_model_module": "@jupyter-widgets/base",
            "_model_module_version": "1.2.0",
            "_model_name": "LayoutModel",
            "_view_count": null,
            "_view_module": "@jupyter-widgets/base",
            "_view_module_version": "1.2.0",
            "_view_name": "LayoutView",
            "align_content": null,
            "align_items": null,
            "align_self": null,
            "border": null,
            "bottom": null,
            "display": null,
            "flex": null,
            "flex_flow": null,
            "grid_area": null,
            "grid_auto_columns": null,
            "grid_auto_flow": null,
            "grid_auto_rows": null,
            "grid_column": null,
            "grid_gap": null,
            "grid_row": null,
            "grid_template_areas": null,
            "grid_template_columns": null,
            "grid_template_rows": null,
            "height": null,
            "justify_content": null,
            "justify_items": null,
            "left": null,
            "margin": null,
            "max_height": null,
            "max_width": null,
            "min_height": null,
            "min_width": null,
            "object_fit": null,
            "object_position": null,
            "order": null,
            "overflow": null,
            "overflow_x": null,
            "overflow_y": null,
            "padding": null,
            "right": null,
            "top": null,
            "visibility": null,
            "width": null
          }
        },
        "9b92c992885b41cda966d52f9744d6ab": {
          "model_module": "@jupyter-widgets/base",
          "model_name": "LayoutModel",
          "model_module_version": "1.2.0",
          "state": {
            "_model_module": "@jupyter-widgets/base",
            "_model_module_version": "1.2.0",
            "_model_name": "LayoutModel",
            "_view_count": null,
            "_view_module": "@jupyter-widgets/base",
            "_view_module_version": "1.2.0",
            "_view_name": "LayoutView",
            "align_content": null,
            "align_items": null,
            "align_self": null,
            "border": null,
            "bottom": null,
            "display": null,
            "flex": null,
            "flex_flow": null,
            "grid_area": null,
            "grid_auto_columns": null,
            "grid_auto_flow": null,
            "grid_auto_rows": null,
            "grid_column": null,
            "grid_gap": null,
            "grid_row": null,
            "grid_template_areas": null,
            "grid_template_columns": null,
            "grid_template_rows": null,
            "height": null,
            "justify_content": null,
            "justify_items": null,
            "left": null,
            "margin": null,
            "max_height": null,
            "max_width": null,
            "min_height": null,
            "min_width": null,
            "object_fit": null,
            "object_position": null,
            "order": null,
            "overflow": null,
            "overflow_x": null,
            "overflow_y": null,
            "padding": null,
            "right": null,
            "top": null,
            "visibility": null,
            "width": null
          }
        },
        "26d9e8bd9c2340f683539609dfca9274": {
          "model_module": "@jupyter-widgets/controls",
          "model_name": "DescriptionStyleModel",
          "model_module_version": "1.5.0",
          "state": {
            "_model_module": "@jupyter-widgets/controls",
            "_model_module_version": "1.5.0",
            "_model_name": "DescriptionStyleModel",
            "_view_count": null,
            "_view_module": "@jupyter-widgets/base",
            "_view_module_version": "1.2.0",
            "_view_name": "StyleView",
            "description_width": ""
          }
        },
        "b9c59306c29d46c3b4eff834a07aa011": {
          "model_module": "@jupyter-widgets/base",
          "model_name": "LayoutModel",
          "model_module_version": "1.2.0",
          "state": {
            "_model_module": "@jupyter-widgets/base",
            "_model_module_version": "1.2.0",
            "_model_name": "LayoutModel",
            "_view_count": null,
            "_view_module": "@jupyter-widgets/base",
            "_view_module_version": "1.2.0",
            "_view_name": "LayoutView",
            "align_content": null,
            "align_items": null,
            "align_self": null,
            "border": null,
            "bottom": null,
            "display": null,
            "flex": null,
            "flex_flow": null,
            "grid_area": null,
            "grid_auto_columns": null,
            "grid_auto_flow": null,
            "grid_auto_rows": null,
            "grid_column": null,
            "grid_gap": null,
            "grid_row": null,
            "grid_template_areas": null,
            "grid_template_columns": null,
            "grid_template_rows": null,
            "height": null,
            "justify_content": null,
            "justify_items": null,
            "left": null,
            "margin": null,
            "max_height": null,
            "max_width": null,
            "min_height": null,
            "min_width": null,
            "object_fit": null,
            "object_position": null,
            "order": null,
            "overflow": null,
            "overflow_x": null,
            "overflow_y": null,
            "padding": null,
            "right": null,
            "top": null,
            "visibility": null,
            "width": null
          }
        },
        "542d4f369b6a427ca734fb9e32ee8352": {
          "model_module": "@jupyter-widgets/controls",
          "model_name": "ProgressStyleModel",
          "model_module_version": "1.5.0",
          "state": {
            "_model_module": "@jupyter-widgets/controls",
            "_model_module_version": "1.5.0",
            "_model_name": "ProgressStyleModel",
            "_view_count": null,
            "_view_module": "@jupyter-widgets/base",
            "_view_module_version": "1.2.0",
            "_view_name": "StyleView",
            "bar_color": null,
            "description_width": ""
          }
        },
        "cb04addb2c89419c83e084ba22f1187e": {
          "model_module": "@jupyter-widgets/base",
          "model_name": "LayoutModel",
          "model_module_version": "1.2.0",
          "state": {
            "_model_module": "@jupyter-widgets/base",
            "_model_module_version": "1.2.0",
            "_model_name": "LayoutModel",
            "_view_count": null,
            "_view_module": "@jupyter-widgets/base",
            "_view_module_version": "1.2.0",
            "_view_name": "LayoutView",
            "align_content": null,
            "align_items": null,
            "align_self": null,
            "border": null,
            "bottom": null,
            "display": null,
            "flex": null,
            "flex_flow": null,
            "grid_area": null,
            "grid_auto_columns": null,
            "grid_auto_flow": null,
            "grid_auto_rows": null,
            "grid_column": null,
            "grid_gap": null,
            "grid_row": null,
            "grid_template_areas": null,
            "grid_template_columns": null,
            "grid_template_rows": null,
            "height": null,
            "justify_content": null,
            "justify_items": null,
            "left": null,
            "margin": null,
            "max_height": null,
            "max_width": null,
            "min_height": null,
            "min_width": null,
            "object_fit": null,
            "object_position": null,
            "order": null,
            "overflow": null,
            "overflow_x": null,
            "overflow_y": null,
            "padding": null,
            "right": null,
            "top": null,
            "visibility": null,
            "width": null
          }
        },
        "7451ae230051414d8b89b7e97934e8f6": {
          "model_module": "@jupyter-widgets/controls",
          "model_name": "DescriptionStyleModel",
          "model_module_version": "1.5.0",
          "state": {
            "_model_module": "@jupyter-widgets/controls",
            "_model_module_version": "1.5.0",
            "_model_name": "DescriptionStyleModel",
            "_view_count": null,
            "_view_module": "@jupyter-widgets/base",
            "_view_module_version": "1.2.0",
            "_view_name": "StyleView",
            "description_width": ""
          }
        },
        "d371e84a737242ad8e5b2dab16d6f177": {
          "model_module": "@jupyter-widgets/controls",
          "model_name": "HBoxModel",
          "model_module_version": "1.5.0",
          "state": {
            "_dom_classes": [],
            "_model_module": "@jupyter-widgets/controls",
            "_model_module_version": "1.5.0",
            "_model_name": "HBoxModel",
            "_view_count": null,
            "_view_module": "@jupyter-widgets/controls",
            "_view_module_version": "1.5.0",
            "_view_name": "HBoxView",
            "box_style": "",
            "children": [
              "IPY_MODEL_d1d95fac9c7b4ec4ac4db32af22223d5",
              "IPY_MODEL_d48c60ce9e8b40acb4cc6cb4a163e0a5",
              "IPY_MODEL_da88b4d15ded40d0a3e52003c45a12aa"
            ],
            "layout": "IPY_MODEL_1b47ce561f914aa888c77a8edf1df00e"
          }
        },
        "d1d95fac9c7b4ec4ac4db32af22223d5": {
          "model_module": "@jupyter-widgets/controls",
          "model_name": "HTMLModel",
          "model_module_version": "1.5.0",
          "state": {
            "_dom_classes": [],
            "_model_module": "@jupyter-widgets/controls",
            "_model_module_version": "1.5.0",
            "_model_name": "HTMLModel",
            "_view_count": null,
            "_view_module": "@jupyter-widgets/controls",
            "_view_module_version": "1.5.0",
            "_view_name": "HTMLView",
            "description": "",
            "description_tooltip": null,
            "layout": "IPY_MODEL_359e5890c72649aa86f265072013fd51",
            "placeholder": "​",
            "style": "IPY_MODEL_aa6dd3169c484029806c68641e649d65",
            "value": "Downloading: 100%"
          }
        },
        "d48c60ce9e8b40acb4cc6cb4a163e0a5": {
          "model_module": "@jupyter-widgets/controls",
          "model_name": "FloatProgressModel",
          "model_module_version": "1.5.0",
          "state": {
            "_dom_classes": [],
            "_model_module": "@jupyter-widgets/controls",
            "_model_module_version": "1.5.0",
            "_model_name": "FloatProgressModel",
            "_view_count": null,
            "_view_module": "@jupyter-widgets/controls",
            "_view_module_version": "1.5.0",
            "_view_name": "ProgressView",
            "bar_style": "success",
            "description": "",
            "description_tooltip": null,
            "layout": "IPY_MODEL_910b7b602cb441638be370b9d38ced23",
            "max": 257,
            "min": 0,
            "orientation": "horizontal",
            "style": "IPY_MODEL_76de25d67ea148249695e1a7ea1d1048",
            "value": 257
          }
        },
        "da88b4d15ded40d0a3e52003c45a12aa": {
          "model_module": "@jupyter-widgets/controls",
          "model_name": "HTMLModel",
          "model_module_version": "1.5.0",
          "state": {
            "_dom_classes": [],
            "_model_module": "@jupyter-widgets/controls",
            "_model_module_version": "1.5.0",
            "_model_name": "HTMLModel",
            "_view_count": null,
            "_view_module": "@jupyter-widgets/controls",
            "_view_module_version": "1.5.0",
            "_view_name": "HTMLView",
            "description": "",
            "description_tooltip": null,
            "layout": "IPY_MODEL_a5eccd5ecbc64c56bfee73ac70f811fc",
            "placeholder": "​",
            "style": "IPY_MODEL_d4b9be2409d247a6b9322622f3fd52f1",
            "value": " 257/257 [00:00&lt;00:00, 5.07kB/s]"
          }
        },
        "1b47ce561f914aa888c77a8edf1df00e": {
          "model_module": "@jupyter-widgets/base",
          "model_name": "LayoutModel",
          "model_module_version": "1.2.0",
          "state": {
            "_model_module": "@jupyter-widgets/base",
            "_model_module_version": "1.2.0",
            "_model_name": "LayoutModel",
            "_view_count": null,
            "_view_module": "@jupyter-widgets/base",
            "_view_module_version": "1.2.0",
            "_view_name": "LayoutView",
            "align_content": null,
            "align_items": null,
            "align_self": null,
            "border": null,
            "bottom": null,
            "display": null,
            "flex": null,
            "flex_flow": null,
            "grid_area": null,
            "grid_auto_columns": null,
            "grid_auto_flow": null,
            "grid_auto_rows": null,
            "grid_column": null,
            "grid_gap": null,
            "grid_row": null,
            "grid_template_areas": null,
            "grid_template_columns": null,
            "grid_template_rows": null,
            "height": null,
            "justify_content": null,
            "justify_items": null,
            "left": null,
            "margin": null,
            "max_height": null,
            "max_width": null,
            "min_height": null,
            "min_width": null,
            "object_fit": null,
            "object_position": null,
            "order": null,
            "overflow": null,
            "overflow_x": null,
            "overflow_y": null,
            "padding": null,
            "right": null,
            "top": null,
            "visibility": null,
            "width": null
          }
        },
        "359e5890c72649aa86f265072013fd51": {
          "model_module": "@jupyter-widgets/base",
          "model_name": "LayoutModel",
          "model_module_version": "1.2.0",
          "state": {
            "_model_module": "@jupyter-widgets/base",
            "_model_module_version": "1.2.0",
            "_model_name": "LayoutModel",
            "_view_count": null,
            "_view_module": "@jupyter-widgets/base",
            "_view_module_version": "1.2.0",
            "_view_name": "LayoutView",
            "align_content": null,
            "align_items": null,
            "align_self": null,
            "border": null,
            "bottom": null,
            "display": null,
            "flex": null,
            "flex_flow": null,
            "grid_area": null,
            "grid_auto_columns": null,
            "grid_auto_flow": null,
            "grid_auto_rows": null,
            "grid_column": null,
            "grid_gap": null,
            "grid_row": null,
            "grid_template_areas": null,
            "grid_template_columns": null,
            "grid_template_rows": null,
            "height": null,
            "justify_content": null,
            "justify_items": null,
            "left": null,
            "margin": null,
            "max_height": null,
            "max_width": null,
            "min_height": null,
            "min_width": null,
            "object_fit": null,
            "object_position": null,
            "order": null,
            "overflow": null,
            "overflow_x": null,
            "overflow_y": null,
            "padding": null,
            "right": null,
            "top": null,
            "visibility": null,
            "width": null
          }
        },
        "aa6dd3169c484029806c68641e649d65": {
          "model_module": "@jupyter-widgets/controls",
          "model_name": "DescriptionStyleModel",
          "model_module_version": "1.5.0",
          "state": {
            "_model_module": "@jupyter-widgets/controls",
            "_model_module_version": "1.5.0",
            "_model_name": "DescriptionStyleModel",
            "_view_count": null,
            "_view_module": "@jupyter-widgets/base",
            "_view_module_version": "1.2.0",
            "_view_name": "StyleView",
            "description_width": ""
          }
        },
        "910b7b602cb441638be370b9d38ced23": {
          "model_module": "@jupyter-widgets/base",
          "model_name": "LayoutModel",
          "model_module_version": "1.2.0",
          "state": {
            "_model_module": "@jupyter-widgets/base",
            "_model_module_version": "1.2.0",
            "_model_name": "LayoutModel",
            "_view_count": null,
            "_view_module": "@jupyter-widgets/base",
            "_view_module_version": "1.2.0",
            "_view_name": "LayoutView",
            "align_content": null,
            "align_items": null,
            "align_self": null,
            "border": null,
            "bottom": null,
            "display": null,
            "flex": null,
            "flex_flow": null,
            "grid_area": null,
            "grid_auto_columns": null,
            "grid_auto_flow": null,
            "grid_auto_rows": null,
            "grid_column": null,
            "grid_gap": null,
            "grid_row": null,
            "grid_template_areas": null,
            "grid_template_columns": null,
            "grid_template_rows": null,
            "height": null,
            "justify_content": null,
            "justify_items": null,
            "left": null,
            "margin": null,
            "max_height": null,
            "max_width": null,
            "min_height": null,
            "min_width": null,
            "object_fit": null,
            "object_position": null,
            "order": null,
            "overflow": null,
            "overflow_x": null,
            "overflow_y": null,
            "padding": null,
            "right": null,
            "top": null,
            "visibility": null,
            "width": null
          }
        },
        "76de25d67ea148249695e1a7ea1d1048": {
          "model_module": "@jupyter-widgets/controls",
          "model_name": "ProgressStyleModel",
          "model_module_version": "1.5.0",
          "state": {
            "_model_module": "@jupyter-widgets/controls",
            "_model_module_version": "1.5.0",
            "_model_name": "ProgressStyleModel",
            "_view_count": null,
            "_view_module": "@jupyter-widgets/base",
            "_view_module_version": "1.2.0",
            "_view_name": "StyleView",
            "bar_color": null,
            "description_width": ""
          }
        },
        "a5eccd5ecbc64c56bfee73ac70f811fc": {
          "model_module": "@jupyter-widgets/base",
          "model_name": "LayoutModel",
          "model_module_version": "1.2.0",
          "state": {
            "_model_module": "@jupyter-widgets/base",
            "_model_module_version": "1.2.0",
            "_model_name": "LayoutModel",
            "_view_count": null,
            "_view_module": "@jupyter-widgets/base",
            "_view_module_version": "1.2.0",
            "_view_name": "LayoutView",
            "align_content": null,
            "align_items": null,
            "align_self": null,
            "border": null,
            "bottom": null,
            "display": null,
            "flex": null,
            "flex_flow": null,
            "grid_area": null,
            "grid_auto_columns": null,
            "grid_auto_flow": null,
            "grid_auto_rows": null,
            "grid_column": null,
            "grid_gap": null,
            "grid_row": null,
            "grid_template_areas": null,
            "grid_template_columns": null,
            "grid_template_rows": null,
            "height": null,
            "justify_content": null,
            "justify_items": null,
            "left": null,
            "margin": null,
            "max_height": null,
            "max_width": null,
            "min_height": null,
            "min_width": null,
            "object_fit": null,
            "object_position": null,
            "order": null,
            "overflow": null,
            "overflow_x": null,
            "overflow_y": null,
            "padding": null,
            "right": null,
            "top": null,
            "visibility": null,
            "width": null
          }
        },
        "d4b9be2409d247a6b9322622f3fd52f1": {
          "model_module": "@jupyter-widgets/controls",
          "model_name": "DescriptionStyleModel",
          "model_module_version": "1.5.0",
          "state": {
            "_model_module": "@jupyter-widgets/controls",
            "_model_module_version": "1.5.0",
            "_model_name": "DescriptionStyleModel",
            "_view_count": null,
            "_view_module": "@jupyter-widgets/base",
            "_view_module_version": "1.2.0",
            "_view_name": "StyleView",
            "description_width": ""
          }
        },
        "3a8f35a784f642e8b545e45391dc19a8": {
          "model_module": "@jupyter-widgets/controls",
          "model_name": "HBoxModel",
          "model_module_version": "1.5.0",
          "state": {
            "_dom_classes": [],
            "_model_module": "@jupyter-widgets/controls",
            "_model_module_version": "1.5.0",
            "_model_name": "HBoxModel",
            "_view_count": null,
            "_view_module": "@jupyter-widgets/controls",
            "_view_module_version": "1.5.0",
            "_view_name": "HBoxView",
            "box_style": "",
            "children": [
              "IPY_MODEL_9092bb671bab48cbb889d81a58c8d3e6",
              "IPY_MODEL_de510872959f4c508540d737b8d21090",
              "IPY_MODEL_ba6640b9343d49eaba55ae796de1b9ff"
            ],
            "layout": "IPY_MODEL_b965efb493a4413e82ce5c94005d5180"
          }
        },
        "9092bb671bab48cbb889d81a58c8d3e6": {
          "model_module": "@jupyter-widgets/controls",
          "model_name": "HTMLModel",
          "model_module_version": "1.5.0",
          "state": {
            "_dom_classes": [],
            "_model_module": "@jupyter-widgets/controls",
            "_model_module_version": "1.5.0",
            "_model_name": "HTMLModel",
            "_view_count": null,
            "_view_module": "@jupyter-widgets/controls",
            "_view_module_version": "1.5.0",
            "_view_name": "HTMLView",
            "description": "",
            "description_tooltip": null,
            "layout": "IPY_MODEL_a2c80b4052d54b14b9999d68b409e77c",
            "placeholder": "​",
            "style": "IPY_MODEL_a0b5866084c94d1599869271150a1095",
            "value": "Downloading: 100%"
          }
        },
        "de510872959f4c508540d737b8d21090": {
          "model_module": "@jupyter-widgets/controls",
          "model_name": "FloatProgressModel",
          "model_module_version": "1.5.0",
          "state": {
            "_dom_classes": [],
            "_model_module": "@jupyter-widgets/controls",
            "_model_module_version": "1.5.0",
            "_model_name": "FloatProgressModel",
            "_view_count": null,
            "_view_module": "@jupyter-widgets/controls",
            "_view_module_version": "1.5.0",
            "_view_name": "ProgressView",
            "bar_style": "success",
            "description": "",
            "description_tooltip": null,
            "layout": "IPY_MODEL_e01a2ec3a7744d21bd3cccd069942310",
            "max": 2910286,
            "min": 0,
            "orientation": "horizontal",
            "style": "IPY_MODEL_7101dfe5559a48c084b5889a9387b753",
            "value": 2910286
          }
        },
        "ba6640b9343d49eaba55ae796de1b9ff": {
          "model_module": "@jupyter-widgets/controls",
          "model_name": "HTMLModel",
          "model_module_version": "1.5.0",
          "state": {
            "_dom_classes": [],
            "_model_module": "@jupyter-widgets/controls",
            "_model_module_version": "1.5.0",
            "_model_name": "HTMLModel",
            "_view_count": null,
            "_view_module": "@jupyter-widgets/controls",
            "_view_module_version": "1.5.0",
            "_view_name": "HTMLView",
            "description": "",
            "description_tooltip": null,
            "layout": "IPY_MODEL_dc668abf15494a98b7b6317325bde4a3",
            "placeholder": "​",
            "style": "IPY_MODEL_e1d8e0fdb64c4f5e840941103769872b",
            "value": " 2.78M/2.78M [00:00&lt;00:00, 5.85MB/s]"
          }
        },
        "b965efb493a4413e82ce5c94005d5180": {
          "model_module": "@jupyter-widgets/base",
          "model_name": "LayoutModel",
          "model_module_version": "1.2.0",
          "state": {
            "_model_module": "@jupyter-widgets/base",
            "_model_module_version": "1.2.0",
            "_model_name": "LayoutModel",
            "_view_count": null,
            "_view_module": "@jupyter-widgets/base",
            "_view_module_version": "1.2.0",
            "_view_name": "LayoutView",
            "align_content": null,
            "align_items": null,
            "align_self": null,
            "border": null,
            "bottom": null,
            "display": null,
            "flex": null,
            "flex_flow": null,
            "grid_area": null,
            "grid_auto_columns": null,
            "grid_auto_flow": null,
            "grid_auto_rows": null,
            "grid_column": null,
            "grid_gap": null,
            "grid_row": null,
            "grid_template_areas": null,
            "grid_template_columns": null,
            "grid_template_rows": null,
            "height": null,
            "justify_content": null,
            "justify_items": null,
            "left": null,
            "margin": null,
            "max_height": null,
            "max_width": null,
            "min_height": null,
            "min_width": null,
            "object_fit": null,
            "object_position": null,
            "order": null,
            "overflow": null,
            "overflow_x": null,
            "overflow_y": null,
            "padding": null,
            "right": null,
            "top": null,
            "visibility": null,
            "width": null
          }
        },
        "a2c80b4052d54b14b9999d68b409e77c": {
          "model_module": "@jupyter-widgets/base",
          "model_name": "LayoutModel",
          "model_module_version": "1.2.0",
          "state": {
            "_model_module": "@jupyter-widgets/base",
            "_model_module_version": "1.2.0",
            "_model_name": "LayoutModel",
            "_view_count": null,
            "_view_module": "@jupyter-widgets/base",
            "_view_module_version": "1.2.0",
            "_view_name": "LayoutView",
            "align_content": null,
            "align_items": null,
            "align_self": null,
            "border": null,
            "bottom": null,
            "display": null,
            "flex": null,
            "flex_flow": null,
            "grid_area": null,
            "grid_auto_columns": null,
            "grid_auto_flow": null,
            "grid_auto_rows": null,
            "grid_column": null,
            "grid_gap": null,
            "grid_row": null,
            "grid_template_areas": null,
            "grid_template_columns": null,
            "grid_template_rows": null,
            "height": null,
            "justify_content": null,
            "justify_items": null,
            "left": null,
            "margin": null,
            "max_height": null,
            "max_width": null,
            "min_height": null,
            "min_width": null,
            "object_fit": null,
            "object_position": null,
            "order": null,
            "overflow": null,
            "overflow_x": null,
            "overflow_y": null,
            "padding": null,
            "right": null,
            "top": null,
            "visibility": null,
            "width": null
          }
        },
        "a0b5866084c94d1599869271150a1095": {
          "model_module": "@jupyter-widgets/controls",
          "model_name": "DescriptionStyleModel",
          "model_module_version": "1.5.0",
          "state": {
            "_model_module": "@jupyter-widgets/controls",
            "_model_module_version": "1.5.0",
            "_model_name": "DescriptionStyleModel",
            "_view_count": null,
            "_view_module": "@jupyter-widgets/base",
            "_view_module_version": "1.2.0",
            "_view_name": "StyleView",
            "description_width": ""
          }
        },
        "e01a2ec3a7744d21bd3cccd069942310": {
          "model_module": "@jupyter-widgets/base",
          "model_name": "LayoutModel",
          "model_module_version": "1.2.0",
          "state": {
            "_model_module": "@jupyter-widgets/base",
            "_model_module_version": "1.2.0",
            "_model_name": "LayoutModel",
            "_view_count": null,
            "_view_module": "@jupyter-widgets/base",
            "_view_module_version": "1.2.0",
            "_view_name": "LayoutView",
            "align_content": null,
            "align_items": null,
            "align_self": null,
            "border": null,
            "bottom": null,
            "display": null,
            "flex": null,
            "flex_flow": null,
            "grid_area": null,
            "grid_auto_columns": null,
            "grid_auto_flow": null,
            "grid_auto_rows": null,
            "grid_column": null,
            "grid_gap": null,
            "grid_row": null,
            "grid_template_areas": null,
            "grid_template_columns": null,
            "grid_template_rows": null,
            "height": null,
            "justify_content": null,
            "justify_items": null,
            "left": null,
            "margin": null,
            "max_height": null,
            "max_width": null,
            "min_height": null,
            "min_width": null,
            "object_fit": null,
            "object_position": null,
            "order": null,
            "overflow": null,
            "overflow_x": null,
            "overflow_y": null,
            "padding": null,
            "right": null,
            "top": null,
            "visibility": null,
            "width": null
          }
        },
        "7101dfe5559a48c084b5889a9387b753": {
          "model_module": "@jupyter-widgets/controls",
          "model_name": "ProgressStyleModel",
          "model_module_version": "1.5.0",
          "state": {
            "_model_module": "@jupyter-widgets/controls",
            "_model_module_version": "1.5.0",
            "_model_name": "ProgressStyleModel",
            "_view_count": null,
            "_view_module": "@jupyter-widgets/base",
            "_view_module_version": "1.2.0",
            "_view_name": "StyleView",
            "bar_color": null,
            "description_width": ""
          }
        },
        "dc668abf15494a98b7b6317325bde4a3": {
          "model_module": "@jupyter-widgets/base",
          "model_name": "LayoutModel",
          "model_module_version": "1.2.0",
          "state": {
            "_model_module": "@jupyter-widgets/base",
            "_model_module_version": "1.2.0",
            "_model_name": "LayoutModel",
            "_view_count": null,
            "_view_module": "@jupyter-widgets/base",
            "_view_module_version": "1.2.0",
            "_view_name": "LayoutView",
            "align_content": null,
            "align_items": null,
            "align_self": null,
            "border": null,
            "bottom": null,
            "display": null,
            "flex": null,
            "flex_flow": null,
            "grid_area": null,
            "grid_auto_columns": null,
            "grid_auto_flow": null,
            "grid_auto_rows": null,
            "grid_column": null,
            "grid_gap": null,
            "grid_row": null,
            "grid_template_areas": null,
            "grid_template_columns": null,
            "grid_template_rows": null,
            "height": null,
            "justify_content": null,
            "justify_items": null,
            "left": null,
            "margin": null,
            "max_height": null,
            "max_width": null,
            "min_height": null,
            "min_width": null,
            "object_fit": null,
            "object_position": null,
            "order": null,
            "overflow": null,
            "overflow_x": null,
            "overflow_y": null,
            "padding": null,
            "right": null,
            "top": null,
            "visibility": null,
            "width": null
          }
        },
        "e1d8e0fdb64c4f5e840941103769872b": {
          "model_module": "@jupyter-widgets/controls",
          "model_name": "DescriptionStyleModel",
          "model_module_version": "1.5.0",
          "state": {
            "_model_module": "@jupyter-widgets/controls",
            "_model_module_version": "1.5.0",
            "_model_name": "DescriptionStyleModel",
            "_view_count": null,
            "_view_module": "@jupyter-widgets/base",
            "_view_module_version": "1.2.0",
            "_view_name": "StyleView",
            "description_width": ""
          }
        },
        "f02e3bbe904544cc845502b90b127ef2": {
          "model_module": "@jupyter-widgets/controls",
          "model_name": "HBoxModel",
          "model_module_version": "1.5.0",
          "state": {
            "_dom_classes": [],
            "_model_module": "@jupyter-widgets/controls",
            "_model_module_version": "1.5.0",
            "_model_name": "HBoxModel",
            "_view_count": null,
            "_view_module": "@jupyter-widgets/controls",
            "_view_module_version": "1.5.0",
            "_view_name": "HBoxView",
            "box_style": "",
            "children": [
              "IPY_MODEL_56cf8f0c15c6468e8763b0e4e0847576",
              "IPY_MODEL_e1b628ec0710493485b59eac810726da",
              "IPY_MODEL_84f89adcba3547c4bbe12d4e4949fc65"
            ],
            "layout": "IPY_MODEL_e1ea7df8866d4d30820ed482f0091ea4"
          }
        },
        "56cf8f0c15c6468e8763b0e4e0847576": {
          "model_module": "@jupyter-widgets/controls",
          "model_name": "HTMLModel",
          "model_module_version": "1.5.0",
          "state": {
            "_dom_classes": [],
            "_model_module": "@jupyter-widgets/controls",
            "_model_module_version": "1.5.0",
            "_model_name": "HTMLModel",
            "_view_count": null,
            "_view_module": "@jupyter-widgets/controls",
            "_view_module_version": "1.5.0",
            "_view_name": "HTMLView",
            "description": "",
            "description_tooltip": null,
            "layout": "IPY_MODEL_500789e5095d454086ee93891316dad3",
            "placeholder": "​",
            "style": "IPY_MODEL_ad7b8a9ca58540a1b633d89be617495a",
            "value": "Downloading: 100%"
          }
        },
        "e1b628ec0710493485b59eac810726da": {
          "model_module": "@jupyter-widgets/controls",
          "model_name": "FloatProgressModel",
          "model_module_version": "1.5.0",
          "state": {
            "_dom_classes": [],
            "_model_module": "@jupyter-widgets/controls",
            "_model_module_version": "1.5.0",
            "_model_name": "FloatProgressModel",
            "_view_count": null,
            "_view_module": "@jupyter-widgets/controls",
            "_view_module_version": "1.5.0",
            "_view_name": "ProgressView",
            "bar_style": "success",
            "description": "",
            "description_tooltip": null,
            "layout": "IPY_MODEL_7e1bdab1d7fd4db199de22081d5b19ca",
            "max": 125,
            "min": 0,
            "orientation": "horizontal",
            "style": "IPY_MODEL_daffd963d6f547e2a466e4a33441b474",
            "value": 125
          }
        },
        "84f89adcba3547c4bbe12d4e4949fc65": {
          "model_module": "@jupyter-widgets/controls",
          "model_name": "HTMLModel",
          "model_module_version": "1.5.0",
          "state": {
            "_dom_classes": [],
            "_model_module": "@jupyter-widgets/controls",
            "_model_module_version": "1.5.0",
            "_model_name": "HTMLModel",
            "_view_count": null,
            "_view_module": "@jupyter-widgets/controls",
            "_view_module_version": "1.5.0",
            "_view_name": "HTMLView",
            "description": "",
            "description_tooltip": null,
            "layout": "IPY_MODEL_6f07f1a20b354a179c11bb09c832a81d",
            "placeholder": "​",
            "style": "IPY_MODEL_937fd25842cc47abb10f5b8403256b8d",
            "value": " 125/125 [00:00&lt;00:00, 2.07kB/s]"
          }
        },
        "e1ea7df8866d4d30820ed482f0091ea4": {
          "model_module": "@jupyter-widgets/base",
          "model_name": "LayoutModel",
          "model_module_version": "1.2.0",
          "state": {
            "_model_module": "@jupyter-widgets/base",
            "_model_module_version": "1.2.0",
            "_model_name": "LayoutModel",
            "_view_count": null,
            "_view_module": "@jupyter-widgets/base",
            "_view_module_version": "1.2.0",
            "_view_name": "LayoutView",
            "align_content": null,
            "align_items": null,
            "align_self": null,
            "border": null,
            "bottom": null,
            "display": null,
            "flex": null,
            "flex_flow": null,
            "grid_area": null,
            "grid_auto_columns": null,
            "grid_auto_flow": null,
            "grid_auto_rows": null,
            "grid_column": null,
            "grid_gap": null,
            "grid_row": null,
            "grid_template_areas": null,
            "grid_template_columns": null,
            "grid_template_rows": null,
            "height": null,
            "justify_content": null,
            "justify_items": null,
            "left": null,
            "margin": null,
            "max_height": null,
            "max_width": null,
            "min_height": null,
            "min_width": null,
            "object_fit": null,
            "object_position": null,
            "order": null,
            "overflow": null,
            "overflow_x": null,
            "overflow_y": null,
            "padding": null,
            "right": null,
            "top": null,
            "visibility": null,
            "width": null
          }
        },
        "500789e5095d454086ee93891316dad3": {
          "model_module": "@jupyter-widgets/base",
          "model_name": "LayoutModel",
          "model_module_version": "1.2.0",
          "state": {
            "_model_module": "@jupyter-widgets/base",
            "_model_module_version": "1.2.0",
            "_model_name": "LayoutModel",
            "_view_count": null,
            "_view_module": "@jupyter-widgets/base",
            "_view_module_version": "1.2.0",
            "_view_name": "LayoutView",
            "align_content": null,
            "align_items": null,
            "align_self": null,
            "border": null,
            "bottom": null,
            "display": null,
            "flex": null,
            "flex_flow": null,
            "grid_area": null,
            "grid_auto_columns": null,
            "grid_auto_flow": null,
            "grid_auto_rows": null,
            "grid_column": null,
            "grid_gap": null,
            "grid_row": null,
            "grid_template_areas": null,
            "grid_template_columns": null,
            "grid_template_rows": null,
            "height": null,
            "justify_content": null,
            "justify_items": null,
            "left": null,
            "margin": null,
            "max_height": null,
            "max_width": null,
            "min_height": null,
            "min_width": null,
            "object_fit": null,
            "object_position": null,
            "order": null,
            "overflow": null,
            "overflow_x": null,
            "overflow_y": null,
            "padding": null,
            "right": null,
            "top": null,
            "visibility": null,
            "width": null
          }
        },
        "ad7b8a9ca58540a1b633d89be617495a": {
          "model_module": "@jupyter-widgets/controls",
          "model_name": "DescriptionStyleModel",
          "model_module_version": "1.5.0",
          "state": {
            "_model_module": "@jupyter-widgets/controls",
            "_model_module_version": "1.5.0",
            "_model_name": "DescriptionStyleModel",
            "_view_count": null,
            "_view_module": "@jupyter-widgets/base",
            "_view_module_version": "1.2.0",
            "_view_name": "StyleView",
            "description_width": ""
          }
        },
        "7e1bdab1d7fd4db199de22081d5b19ca": {
          "model_module": "@jupyter-widgets/base",
          "model_name": "LayoutModel",
          "model_module_version": "1.2.0",
          "state": {
            "_model_module": "@jupyter-widgets/base",
            "_model_module_version": "1.2.0",
            "_model_name": "LayoutModel",
            "_view_count": null,
            "_view_module": "@jupyter-widgets/base",
            "_view_module_version": "1.2.0",
            "_view_name": "LayoutView",
            "align_content": null,
            "align_items": null,
            "align_self": null,
            "border": null,
            "bottom": null,
            "display": null,
            "flex": null,
            "flex_flow": null,
            "grid_area": null,
            "grid_auto_columns": null,
            "grid_auto_flow": null,
            "grid_auto_rows": null,
            "grid_column": null,
            "grid_gap": null,
            "grid_row": null,
            "grid_template_areas": null,
            "grid_template_columns": null,
            "grid_template_rows": null,
            "height": null,
            "justify_content": null,
            "justify_items": null,
            "left": null,
            "margin": null,
            "max_height": null,
            "max_width": null,
            "min_height": null,
            "min_width": null,
            "object_fit": null,
            "object_position": null,
            "order": null,
            "overflow": null,
            "overflow_x": null,
            "overflow_y": null,
            "padding": null,
            "right": null,
            "top": null,
            "visibility": null,
            "width": null
          }
        },
        "daffd963d6f547e2a466e4a33441b474": {
          "model_module": "@jupyter-widgets/controls",
          "model_name": "ProgressStyleModel",
          "model_module_version": "1.5.0",
          "state": {
            "_model_module": "@jupyter-widgets/controls",
            "_model_module_version": "1.5.0",
            "_model_name": "ProgressStyleModel",
            "_view_count": null,
            "_view_module": "@jupyter-widgets/base",
            "_view_module_version": "1.2.0",
            "_view_name": "StyleView",
            "bar_color": null,
            "description_width": ""
          }
        },
        "6f07f1a20b354a179c11bb09c832a81d": {
          "model_module": "@jupyter-widgets/base",
          "model_name": "LayoutModel",
          "model_module_version": "1.2.0",
          "state": {
            "_model_module": "@jupyter-widgets/base",
            "_model_module_version": "1.2.0",
            "_model_name": "LayoutModel",
            "_view_count": null,
            "_view_module": "@jupyter-widgets/base",
            "_view_module_version": "1.2.0",
            "_view_name": "LayoutView",
            "align_content": null,
            "align_items": null,
            "align_self": null,
            "border": null,
            "bottom": null,
            "display": null,
            "flex": null,
            "flex_flow": null,
            "grid_area": null,
            "grid_auto_columns": null,
            "grid_auto_flow": null,
            "grid_auto_rows": null,
            "grid_column": null,
            "grid_gap": null,
            "grid_row": null,
            "grid_template_areas": null,
            "grid_template_columns": null,
            "grid_template_rows": null,
            "height": null,
            "justify_content": null,
            "justify_items": null,
            "left": null,
            "margin": null,
            "max_height": null,
            "max_width": null,
            "min_height": null,
            "min_width": null,
            "object_fit": null,
            "object_position": null,
            "order": null,
            "overflow": null,
            "overflow_x": null,
            "overflow_y": null,
            "padding": null,
            "right": null,
            "top": null,
            "visibility": null,
            "width": null
          }
        },
        "937fd25842cc47abb10f5b8403256b8d": {
          "model_module": "@jupyter-widgets/controls",
          "model_name": "DescriptionStyleModel",
          "model_module_version": "1.5.0",
          "state": {
            "_model_module": "@jupyter-widgets/controls",
            "_model_module_version": "1.5.0",
            "_model_name": "DescriptionStyleModel",
            "_view_count": null,
            "_view_module": "@jupyter-widgets/base",
            "_view_module_version": "1.2.0",
            "_view_name": "StyleView",
            "description_width": ""
          }
        }
      }
    }
  },
  "cells": [
    {
      "cell_type": "markdown",
      "metadata": {
        "id": "view-in-github",
        "colab_type": "text"
      },
      "source": [
        "<a href=\"https://colab.research.google.com/github/ML-Bioinfo-CEITEC/cDNA-pretraining/blob/main/experiments/kmer_tokenization/SentencePieceTokenizer_for_DNA.ipynb\" target=\"_parent\"><img src=\"https://colab.research.google.com/assets/colab-badge.svg\" alt=\"Open In Colab\"/></a>"
      ]
    },
    {
      "cell_type": "markdown",
      "source": [
        "# Setup"
      ],
      "metadata": {
        "id": "9oqVi9YZHMwD"
      }
    },
    {
      "cell_type": "code",
      "execution_count": 2,
      "metadata": {
        "id": "I6HqVyTw2Ns6"
      },
      "outputs": [],
      "source": [
        "!pip install -qq transformers datasets --quiet"
      ]
    },
    {
      "cell_type": "code",
      "source": [
        "# #CONFIG\n",
        "hf_name = 'Vlasta'\n",
        "vocab_limit = 30000"
      ],
      "metadata": {
        "id": "j5fdzDq_Qo4e"
      },
      "execution_count": 5,
      "outputs": []
    },
    {
      "cell_type": "code",
      "source": [
        "from huggingface_hub import notebook_login\n",
        "\n",
        "notebook_login()"
      ],
      "metadata": {
        "id": "IlMvzO33XXCR",
        "colab": {
          "base_uri": "https://localhost:8080/",
          "height": 382,
          "referenced_widgets": [
            "923966831b3b4b7da9c7cb05991106c5",
            "81bab9ec722741899e52198c5ffaaec6",
            "a8c3b0c144ec4653a6801e62c5d0cef4",
            "6fb889aa3b8d4a239be392a763d1eebc",
            "1487ad25d25a4b9b8c8cbe8e26e5ff5c",
            "ea01777a8c044c8bb4c6ee128721edc1",
            "f11f4d04d750458984cb5ffc612dcdb4",
            "f6df7462b86b4b1e96551c5a94bba09d",
            "b10d74a33f924ce8b5d89f6d2ae23936",
            "c15ffc53be5c4ec19d55e104f7128691",
            "c9a97fc66af54f25a8e47f067e8a3617",
            "d51f7d4e73e24dbda7ac4a15722e8adb",
            "b735ca9155b8461f8b8f4b6543fb1853",
            "4802aca5879d4c6eab51c453a7e8aaea"
          ]
        },
        "outputId": "bed5eb3e-9fd7-40c2-a7e6-9ed6d2aaf353"
      },
      "execution_count": 6,
      "outputs": [
        {
          "output_type": "stream",
          "name": "stdout",
          "text": [
            "Login successful\n",
            "Your token has been saved to /root/.huggingface/token\n",
            "\u001b[1m\u001b[31mAuthenticated through git-credential store but this isn't the helper defined on your machine.\n",
            "You might have to re-authenticate when pushing to the Hugging Face Hub. Run the following command in your terminal in case you want to set this credential helper as the default\n",
            "\n",
            "git config --global credential.helper store\u001b[0m\n"
          ]
        }
      ]
    },
    {
      "cell_type": "code",
      "source": [
        "from datasets import load_dataset\n",
        "from tokenizers import Tokenizer\n",
        "from tokenizers.models import BPE\n",
        "from tokenizers.trainers import BpeTrainer\n",
        "from tokenizers.pre_tokenizers import Split\n",
        "from tokenizers.processors import BertProcessing\n",
        "from tokenizers import Regex\n",
        "from tokenizers import SentencePieceBPETokenizer, SentencePieceUnigramTokenizer"
      ],
      "metadata": {
        "id": "Y3OPoHWI3Hus"
      },
      "execution_count": 7,
      "outputs": []
    },
    {
      "cell_type": "code",
      "source": [
        "ds = load_dataset(\"simecek/Human_DNA_v0\")\n",
        "train_portion = ds['train']['Seq']"
      ],
      "metadata": {
        "colab": {
          "base_uri": "https://localhost:8080/",
          "height": 104,
          "referenced_widgets": [
            "8c935a4460e543deb525f6eb2b3fbaaf",
            "6998a4b886534254baf0739744fbc1b4",
            "54b993517fac4421981ff299ddfded6c",
            "60815276d81e47d1b04d95f00fbc5e19",
            "32dee3dadf7f4762967611fe57e057d5",
            "9b92c992885b41cda966d52f9744d6ab",
            "26d9e8bd9c2340f683539609dfca9274",
            "b9c59306c29d46c3b4eff834a07aa011",
            "542d4f369b6a427ca734fb9e32ee8352",
            "cb04addb2c89419c83e084ba22f1187e",
            "7451ae230051414d8b89b7e97934e8f6"
          ]
        },
        "id": "65ANNdedDXZB",
        "outputId": "f08a2b30-3a39-4b5b-92ee-422232c6adaf"
      },
      "execution_count": 25,
      "outputs": [
        {
          "output_type": "stream",
          "name": "stderr",
          "text": [
            "WARNING:datasets.builder:Using custom data configuration simecek--Human_DNA_v0-d7be3fc44fadbb72\n",
            "WARNING:datasets.builder:Reusing dataset parquet (/root/.cache/huggingface/datasets/simecek___parquet/simecek--Human_DNA_v0-d7be3fc44fadbb72/0.0.0/7328ef7ee03eaf3f86ae40594d46a1cec86161704e02dd19f232d81eee72ade8)\n"
          ]
        },
        {
          "output_type": "display_data",
          "data": {
            "text/plain": [
              "  0%|          | 0/2 [00:00<?, ?it/s]"
            ],
            "application/vnd.jupyter.widget-view+json": {
              "version_major": 2,
              "version_minor": 0,
              "model_id": "8c935a4460e543deb525f6eb2b3fbaaf"
            }
          },
          "metadata": {}
        }
      ]
    },
    {
      "cell_type": "code",
      "source": [
        "len(train_portion)"
      ],
      "metadata": {
        "colab": {
          "base_uri": "https://localhost:8080/"
        },
        "id": "VxJB3voeOZle",
        "outputId": "6bc6ef1f-adee-47e4-c3c0-e2a48a356204"
      },
      "execution_count": 5,
      "outputs": [
        {
          "output_type": "execute_result",
          "data": {
            "text/plain": [
              "263659"
            ]
          },
          "metadata": {},
          "execution_count": 5
        }
      ]
    },
    {
      "cell_type": "markdown",
      "source": [
        "# Google implementation training"
      ],
      "metadata": {
        "id": "kH8SfBFBGKvf"
      }
    },
    {
      "cell_type": "markdown",
      "source": [
        "## Creating corpus"
      ],
      "metadata": {
        "id": "MFXexzJXnP_G"
      }
    },
    {
      "cell_type": "code",
      "source": [
        "!mkdir train_texts\n",
        "!mkdir big_train_text"
      ],
      "metadata": {
        "colab": {
          "base_uri": "https://localhost:8080/"
        },
        "id": "nNlHL7sxiVWL",
        "outputId": "a799f617-24dd-467e-87c5-577fcea58f35"
      },
      "execution_count": 9,
      "outputs": [
        {
          "output_type": "stream",
          "name": "stdout",
          "text": [
            "mkdir: cannot create directory ‘train_texts’: File exists\n",
            "mkdir: cannot create directory ‘big_train_text’: File exists\n"
          ]
        }
      ]
    },
    {
      "cell_type": "code",
      "source": [
        "file_path='big_train_text/corpus.txt'\n"
      ],
      "metadata": {
        "id": "nm3GGTBS5GGP"
      },
      "execution_count": 8,
      "outputs": []
    },
    {
      "cell_type": "code",
      "source": [
        "import math\n",
        "tf = open(file_path, 'w')\n",
        "# chunk_size = 1000\n",
        "for i,el in enumerate(train_portion): #Limit dataset option\n",
        "  # for j in range(math.ceil(len(el)/chunk_size)):\n",
        "    # tf.write(el[j*chunk_size: (j+1)*chunk_size]+'\\n')\n",
        "\n",
        "  tf.write(el+'\\n')\n",
        "\n",
        "tf.close()"
      ],
      "metadata": {
        "id": "Bdoiqek7oOxL"
      },
      "execution_count": 26,
      "outputs": []
    },
    {
      "cell_type": "markdown",
      "source": [
        "## Training"
      ],
      "metadata": {
        "id": "rGYpgydBnUAR"
      }
    },
    {
      "cell_type": "code",
      "source": [
        "!pip install sentencepiece"
      ],
      "metadata": {
        "colab": {
          "base_uri": "https://localhost:8080/"
        },
        "id": "Pa4o7S8NlyrC",
        "outputId": "ec33221e-24ad-4a5a-d164-3cb034cddc00"
      },
      "execution_count": 6,
      "outputs": [
        {
          "output_type": "stream",
          "name": "stdout",
          "text": [
            "Looking in indexes: https://pypi.org/simple, https://us-python.pkg.dev/colab-wheels/public/simple/\n",
            "Requirement already satisfied: sentencepiece in /usr/local/lib/python3.7/dist-packages (0.1.96)\n"
          ]
        }
      ]
    },
    {
      "cell_type": "code",
      "source": [
        "import sentencepiece as spm\n",
        "max_sen_len = 10001 #dataset max is 10000+1 #default 4192\n",
        "max_token_len = 100 #Default 16\n",
        "#https://github.com/google/sentencepiece/blob/master/doc/options.md\n",
        "hard_vocab_limit = True #default=True\n",
        "\n",
        "input_sentence_size=15000 #Limits num of senteces sampled\n",
        "\n",
        "vocab_limit-=1 #MASK token is added later\n",
        "spm.SentencePieceTrainer.train(\n",
        "  f\"--input={file_path} \"\\\n",
        "  f\"--max_sentence_length={max_sen_len} \"\\\n",
        "  f\"--max_sentencepiece_length={max_token_len} \"\\\n",
        "  f\"--model_prefix=myBPE \"\\\n",
        "  f\"--vocab_size={vocab_limit} \"\\\n",
        "  f\"--hard_vocab_limit={hard_vocab_limit} \"\\\n",
        "  f\"--input_sentence_size={input_sentence_size} \"\n",
        "  \"--add_dummy_prefix=false \" #Add dummy whitespace at the beginning of sentence, default true\n",
        "  \"--character_coverage=1.0 \"\\\n",
        "  # \"--model_type=unigram \"\\\n",
        "  \"--model_type=bpe \"\\\n",
        "  \"--normalization_rule_name=identity \"\\\n",
        "  \"pad_id=0 \"\\\n",
        "  \"unk_id=1 \"\\\n",
        "  \"bos_id=2 \"\\\n",
        "  \"eos_id=3 \"\\\n",
        "  \"pad_piece=[PAD] \"\\\n",
        "  \"unk_piece=[UNK] \"\\\n",
        "  \"bos_piece=[CLS] \"\\\n",
        "  \"eos_piece=[SEP] \"\\\n",
        ")\n",
        "\n"
      ],
      "metadata": {
        "id": "NkigxafWm2mN"
      },
      "execution_count": 22,
      "outputs": []
    },
    {
      "cell_type": "code",
      "source": [
        "sp = spm.SentencePieceProcessor(model_file='myBPE.model')\n",
        "enc = sp.Encode('ACTTGGTTAAACCTTTTCAAAAAAAAAAAAAAAAAAA')\n",
        "print([sp.IdToPiece(id) for id in enc])"
      ],
      "metadata": {
        "colab": {
          "base_uri": "https://localhost:8080/"
        },
        "id": "qtiKTYGGILP3",
        "outputId": "f7347306-f0fa-478d-bafc-acc4b122b940"
      },
      "execution_count": 23,
      "outputs": [
        {
          "output_type": "stream",
          "name": "stdout",
          "text": [
            "\n",
            "['ACTTGGTT', 'AAACCTTTT', 'CAA', 'AAAAAAAAAAAAAAAA', 'A']\n"
          ]
        }
      ]
    },
    {
      "cell_type": "code",
      "source": [
        "vocabs = [sp.id_to_piece(id) for id in range(sp.get_piece_size())]\n",
        "print(vocabs[:10])"
      ],
      "metadata": {
        "colab": {
          "base_uri": "https://localhost:8080/"
        },
        "id": "RlrUxR4oTAIq",
        "outputId": "aef49c19-5979-4cb2-a5fc-675bc14af1cd"
      },
      "execution_count": 24,
      "outputs": [
        {
          "output_type": "stream",
          "name": "stdout",
          "text": [
            "['[PAD]', '[UNK]', '[CLS]', '[SEP]', 'AT', 'AG', 'CT', 'AA', 'TG', 'AC']\n"
          ]
        }
      ]
    },
    {
      "cell_type": "code",
      "source": [
        "sorted_vocab = sorted(vocabs,key=len)\n",
        "print(sorted_vocab[:10])\n",
        "print(sorted_vocab[-10:])\n",
        "print(len(sorted_vocab[-1]))"
      ],
      "metadata": {
        "colab": {
          "base_uri": "https://localhost:8080/"
        },
        "id": "ydNBkgy6QyJe",
        "outputId": "83ce155b-3158-44bc-8178-2056cd140439"
      },
      "execution_count": 25,
      "outputs": [
        {
          "output_type": "stream",
          "name": "stdout",
          "text": [
            "['T', 'A', 'G', 'C', 'N', 'AT', 'AG', 'CT', 'AA', 'TG']\n",
            "['AGGTTGCCTGTTCACTCTGATGGTAGTTTCTTTTGCTGTGCAGAAGCTCTTTAGTTTAATTAGATCCCATTTGTCAATTT', 'AAAAAGTCAGGAAACAACAGGTGCTGGAGAGGATGTGGAGAAATAGGAACACTTTTACACTGTTGGTGGGACTGTAAACTAGTT', 'CCCTTTAGACAGAGCAGATTTGAAACACTCTTTTTGCGGAATTTGCAAGTGGAGATTTCTAGCCATTTGATGCCAACAGTAGAAAGGG', 'AAGAAGAGTTCTCAGTAACTTTTTTGTGTTGTGTGTATTCAACTCACAGAGTTGAACCTTGCTTTAGAGAGAGCAGATTTGAAACACT', 'CGATTGGAGATTTGGACTGCTTTGAGGCCTACTGTAGTAAAGGAAATAACTTCATCTAAAAACCAAACGGAAGCATTCACAGACAATTCTT', 'CTAGTTTTGAGGATTTCGTTGGAAGCGGGAATTCATACAAATTGCAGACTGCAGCGTTCTGAGAAACATCTTTGTGATGTTTGTATTCAGG', 'ACGACATAGAAGCATTCTCAGAAACTGCTCTGTGATGATTGCATTCAACTCCCAGAGTTGAACATTCCTTTTGATAGAGCAGTTTGCAAACACT', 'CCCACCAACAGTGTAAAAGTGTTCCTATTTCTCCACATCCTCTCCAGCACCTGTTGTTTCCTGACTTTTTAATGATTGCCATTCTAACTGGTGTGAG', 'CTTTTCTTAGAGCAGTTTAGAAACACTCTGCTTGTTATGTCTGCAAGTGGATATTTGGACCTCTTTGAGGCCTTCGTTGCAAACGGGGTTTCTTCCTTT', 'CCTTCCTTCGAAACGGGTATATCTTCACATCAAACCTAGACAGAAGCATTCTCAGAATGTTTCCTGTGATGACTGCATTCAACTCACAGAGGTGAACAAT']\n",
            "100\n"
          ]
        }
      ]
    },
    {
      "cell_type": "code",
      "source": [
        "!wget https://raw.githubusercontent.com/huggingface/tokenizers/main/bindings/python/scripts/sentencepiece_extractor.py"
      ],
      "metadata": {
        "colab": {
          "base_uri": "https://localhost:8080/"
        },
        "id": "bpnHU5o4Zua1",
        "outputId": "528fa818-e531-4265-a4c0-69d8747e907f"
      },
      "execution_count": 26,
      "outputs": [
        {
          "output_type": "stream",
          "name": "stdout",
          "text": [
            "--2022-07-22 22:34:54--  https://raw.githubusercontent.com/huggingface/tokenizers/main/bindings/python/scripts/sentencepiece_extractor.py\n",
            "Resolving raw.githubusercontent.com (raw.githubusercontent.com)... 185.199.108.133, 185.199.109.133, 185.199.110.133, ...\n",
            "Connecting to raw.githubusercontent.com (raw.githubusercontent.com)|185.199.108.133|:443... connected.\n",
            "HTTP request sent, awaiting response... 200 OK\n",
            "Length: 4891 (4.8K) [text/plain]\n",
            "Saving to: ‘sentencepiece_extractor.py.2’\n",
            "\n",
            "sentencepiece_extra 100%[===================>]   4.78K  --.-KB/s    in 0s      \n",
            "\n",
            "2022-07-22 22:34:54 (30.3 MB/s) - ‘sentencepiece_extractor.py.2’ saved [4891/4891]\n",
            "\n"
          ]
        }
      ]
    },
    {
      "cell_type": "code",
      "source": [
        "from sentencepiece_extractor import SentencePieceExtractor\n",
        "\n",
        "extractor = SentencePieceExtractor('myBPE.model')\n",
        "vocab, merges = extractor.extract()"
      ],
      "metadata": {
        "colab": {
          "base_uri": "https://localhost:8080/"
        },
        "id": "CEY3E7u9Zxij",
        "outputId": "47ea0b24-48e4-4bb7-ea93-7a9e3ffa3898"
      },
      "execution_count": 27,
      "outputs": [
        {
          "output_type": "stream",
          "name": "stderr",
          "text": [
            "100%|██████████| 29999/29999 [00:00<00:00, 327991.94it/s]\n",
            "100%|██████████| 29999/29999 [04:12<00:00, 118.93it/s]\n"
          ]
        }
      ]
    },
    {
      "cell_type": "code",
      "source": [
        "tokenizer = SentencePieceBPETokenizer(vocab=vocab, merges=merges, add_prefix_space=False, fuse_unk=False, unk_token='[UNK]')\n",
        "tokenizer.add_special_tokens([\"[MASK]\"])\n",
        "tokenizer_name = f'DNA_Sentencepiece_vocab_{tokenizer.get_vocab_size()}'\n",
        "print('size', tokenizer.get_vocab_size())\n",
        "print('[MASK]', tokenizer.token_to_id('[MASK]'))\n",
        "print('[PAD]', tokenizer.token_to_id('[PAD]'))\n",
        "print('[BOS]', tokenizer.token_to_id('[BOS]'))\n",
        "print('[EOS]', tokenizer.token_to_id('[EOS]'))\n",
        "print('[UNK]', tokenizer.token_to_id('[UNK]'))\n",
        "print('[SEP]', tokenizer.token_to_id('[SEP]'))\n",
        "print('[CLS]', tokenizer.token_to_id('[CLS]'))\n",
        "\n",
        "tokenizer.post_processor = BertProcessing(sep=('[SEP]', tokenizer.token_to_id('[SEP]')), cls=('[CLS]', tokenizer.token_to_id('[CLS]')))\n",
        "\n",
        "\n"
      ],
      "metadata": {
        "colab": {
          "base_uri": "https://localhost:8080/"
        },
        "id": "vd5NI5NPbXtA",
        "outputId": "ddce8bde-4464-46fa-e4cd-89da645280bd"
      },
      "execution_count": 28,
      "outputs": [
        {
          "output_type": "stream",
          "name": "stdout",
          "text": [
            "size 30000\n",
            "[MASK] 29999\n",
            "[PAD] 0\n",
            "[BOS] None\n",
            "[EOS] None\n",
            "[UNK] 1\n",
            "[SEP] 3\n",
            "[CLS] 2\n"
          ]
        }
      ]
    },
    {
      "cell_type": "markdown",
      "source": [
        "# Validation"
      ],
      "metadata": {
        "id": "RFSAY7OcecPB"
      }
    },
    {
      "cell_type": "code",
      "source": [
        "tokens = sorted(tokenizer.get_vocab().keys(), key=len)\n",
        "print('SHORTEST TOKENS\\n', *tokens[:10])\n",
        "print(f'\\nLONGEST TOKENS (max {len(tokens[-1])})', *tokens[-10:], sep='\\n')\n",
        "tokenizer_name = tokenizer_name+f'_max_tokenlen_{len(tokens[-1])}'"
      ],
      "metadata": {
        "colab": {
          "base_uri": "https://localhost:8080/"
        },
        "id": "owyKt-9Fw8Q9",
        "outputId": "77efb529-7768-4be3-b8a5-ff1b47ed0da2"
      },
      "execution_count": 29,
      "outputs": [
        {
          "output_type": "stream",
          "name": "stdout",
          "text": [
            "SHORTEST TOKENS\n",
            " C N A G T AC GG TG GT AT\n",
            "\n",
            "LONGEST TOKENS (max 100)\n",
            "AGGTTGCCTGTTCACTCTGATGGTAGTTTCTTTTGCTGTGCAGAAGCTCTTTAGTTTAATTAGATCCCATTTGTCAATTT\n",
            "AAAAAGTCAGGAAACAACAGGTGCTGGAGAGGATGTGGAGAAATAGGAACACTTTTACACTGTTGGTGGGACTGTAAACTAGTT\n",
            "AAGAAGAGTTCTCAGTAACTTTTTTGTGTTGTGTGTATTCAACTCACAGAGTTGAACCTTGCTTTAGAGAGAGCAGATTTGAAACACT\n",
            "CCCTTTAGACAGAGCAGATTTGAAACACTCTTTTTGCGGAATTTGCAAGTGGAGATTTCTAGCCATTTGATGCCAACAGTAGAAAGGG\n",
            "CGATTGGAGATTTGGACTGCTTTGAGGCCTACTGTAGTAAAGGAAATAACTTCATCTAAAAACCAAACGGAAGCATTCACAGACAATTCTT\n",
            "CTAGTTTTGAGGATTTCGTTGGAAGCGGGAATTCATACAAATTGCAGACTGCAGCGTTCTGAGAAACATCTTTGTGATGTTTGTATTCAGG\n",
            "ACGACATAGAAGCATTCTCAGAAACTGCTCTGTGATGATTGCATTCAACTCCCAGAGTTGAACATTCCTTTTGATAGAGCAGTTTGCAAACACT\n",
            "CCCACCAACAGTGTAAAAGTGTTCCTATTTCTCCACATCCTCTCCAGCACCTGTTGTTTCCTGACTTTTTAATGATTGCCATTCTAACTGGTGTGAG\n",
            "CTTTTCTTAGAGCAGTTTAGAAACACTCTGCTTGTTATGTCTGCAAGTGGATATTTGGACCTCTTTGAGGCCTTCGTTGCAAACGGGGTTTCTTCCTTT\n",
            "CCTTCCTTCGAAACGGGTATATCTTCACATCAAACCTAGACAGAAGCATTCTCAGAATGTTTCCTGTGATGACTGCATTCAACTCACAGAGGTGAACAAT\n"
          ]
        }
      ]
    },
    {
      "cell_type": "code",
      "source": [
        "encoding = tokenizer.encode('NNACTGACACGAAAAAAAGGGC[MASK]GCGCAACTCCAG[MASK]')\n",
        "print(encoding.ids)\n",
        "print(encoding.tokens)\n",
        "print(tokenizer.decode(encoding.ids))"
      ],
      "metadata": {
        "id": "CNT3WLt0G8VG",
        "colab": {
          "base_uri": "https://localhost:8080/"
        },
        "outputId": "a9f1fd2a-b30c-41ac-ba6b-605648d42ca2"
      },
      "execution_count": 30,
      "outputs": [
        {
          "output_type": "stream",
          "name": "stdout",
          "text": [
            "[2, 29998, 29998, 40, 639, 32, 442, 29997, 29999, 29996, 9685, 461, 29999, 3]\n",
            "['[CLS]', 'N', 'N', 'ACTG', 'ACACG', 'AAAA', 'AAAGGG', 'C', '[MASK]', 'G', 'CGCAA', 'CTCCAG', '[MASK]', '[SEP]']\n",
            "[CLS]NNACTGACACGAAAAAAAGGGCGCGCAACTCCAG[SEP]\n"
          ]
        }
      ]
    },
    {
      "cell_type": "code",
      "source": [
        "from transformers import PreTrainedTokenizerFast\n",
        "\n",
        "fast_tokenizer = PreTrainedTokenizerFast(\n",
        "    tokenizer_object=tokenizer,\n",
        "    model_max_length = 512,\n",
        "    padding_side='right',\n",
        "    truncation_side='right',\n",
        "    pad_token='[PAD]',\n",
        "    mask_token='[MASK]',\n",
        "    sep_token='[SEP]',\n",
        "    cls_token='[CLS]',\n",
        "    unk_token='[UNK]',\n",
        "  )\n",
        "\n",
        "fast_tokenizer.push_to_hub(tokenizer_name)"
      ],
      "metadata": {
        "id": "R_et3nk6Ux8b",
        "colab": {
          "base_uri": "https://localhost:8080/",
          "height": 281
        },
        "outputId": "3579e407-d152-4aef-d165-0e4c937c39c1"
      },
      "execution_count": 31,
      "outputs": [
        {
          "output_type": "stream",
          "name": "stderr",
          "text": [
            "/usr/local/lib/python3.7/dist-packages/huggingface_hub/utils/_deprecation.py:43: FutureWarning: Pass token='DNA_Sentencepiece_vocab_30000_max_tokenlen_100' as keyword args. From version 0.8 passing these as positional arguments will result in an error\n",
            "  FutureWarning,\n",
            "/usr/local/lib/python3.7/dist-packages/huggingface_hub/hf_api.py:644: FutureWarning: `create_repo` now takes `token` as an optional positional argument. Be sure to adapt your code!\n",
            "  FutureWarning,\n",
            "Cloning https://huggingface.co/Vlasta/DNA_Sentencepiece_vocab_30000_max_tokenlen_100 into local empty directory.\n",
            "WARNING:huggingface_hub.repository:Cloning https://huggingface.co/Vlasta/DNA_Sentencepiece_vocab_30000_max_tokenlen_100 into local empty directory.\n",
            "To https://huggingface.co/Vlasta/DNA_Sentencepiece_vocab_30000_max_tokenlen_100\n",
            "   c06ff80..2259c27  main -> main\n",
            "\n",
            "WARNING:huggingface_hub.repository:To https://huggingface.co/Vlasta/DNA_Sentencepiece_vocab_30000_max_tokenlen_100\n",
            "   c06ff80..2259c27  main -> main\n",
            "\n"
          ]
        },
        {
          "output_type": "execute_result",
          "data": {
            "text/plain": [
              "'https://huggingface.co/Vlasta/DNA_Sentencepiece_vocab_30000_max_tokenlen_100/commit/2259c278b1a8231f079fac547480bcbfcafe4694'"
            ],
            "application/vnd.google.colaboratory.intrinsic+json": {
              "type": "string"
            }
          },
          "metadata": {},
          "execution_count": 31
        }
      ]
    },
    {
      "cell_type": "code",
      "source": [
        "e = fast_tokenizer('NNACTGACACGAAAAAAAGGGC[MASK]GCGCAACTCCAG')\n",
        "d = fast_tokenizer.decode(e['input_ids'])\n",
        "print(e)\n",
        "print(d)"
      ],
      "metadata": {
        "colab": {
          "base_uri": "https://localhost:8080/"
        },
        "id": "0NjmVR9Hs-F6",
        "outputId": "63fb2277-df75-4eea-8835-941b417c6cbb"
      },
      "execution_count": 32,
      "outputs": [
        {
          "output_type": "stream",
          "name": "stdout",
          "text": [
            "{'input_ids': [2, 29998, 29998, 40, 639, 32, 442, 29997, 29999, 29996, 9685, 461, 3], 'token_type_ids': [0, 0, 0, 0, 0, 0, 0, 0, 0, 0, 0, 0, 0], 'attention_mask': [1, 1, 1, 1, 1, 1, 1, 1, 1, 1, 1, 1, 1]}\n",
            "[CLS]NNACTGACACGAAAAAAAGGGC[MASK]GCGCAACTCCAG[SEP]\n"
          ]
        }
      ]
    },
    {
      "cell_type": "code",
      "source": [
        "from transformers import AutoTokenizer\n",
        "myDownloadedTokenizer = AutoTokenizer.from_pretrained(f\"{hf_name}/{tokenizer_name}\")\n",
        "# myDownloadedTokenizer = fast_tokenizer\n",
        "dnabert_tokenizer = AutoTokenizer.from_pretrained(\"armheb/DNA_bert_6\")\n",
        "\n",
        "long_sequence = '[MASK]' + 'AAAAAA '*1000 \n",
        "short_sequence = 'NNACTGACACGAAAAAAAGGGC[MASK]GCGCAACTCCAG'\n",
        "long_encoded_dnabert = dnabert_tokenizer(long_sequence)\n",
        "long_encoded_ours = myDownloadedTokenizer(long_sequence)\n",
        "#Padding doesnt show up for\n",
        "short_encoded_dnabert = dnabert_tokenizer(short_sequence, padding=True)\n",
        "short_encoded_ours = myDownloadedTokenizer(short_sequence, padding=True)\n",
        "print(\"\\nDNABERT BEHAVIOR\")\n",
        "print(long_encoded_dnabert)\n",
        "print(dnabert_tokenizer.decode(long_encoded_dnabert['input_ids']))\n",
        "print(short_encoded_dnabert)\n",
        "print(dnabert_tokenizer.decode(short_encoded_dnabert['input_ids']))\n",
        "print(dnabert_tokenizer.special_tokens_map)\n",
        "print(dnabert_tokenizer.padding_side)\n",
        "print('\\nOURS BEHAVIOR')\n",
        "print(long_encoded_ours)\n",
        "print(myDownloadedTokenizer.decode(long_encoded_ours['input_ids']))\n",
        "print(short_encoded_ours)\n",
        "print(myDownloadedTokenizer.decode(short_encoded_ours['input_ids']))\n",
        "print(myDownloadedTokenizer.special_tokens_map)\n",
        "print(myDownloadedTokenizer.padding_side)\n",
        "\n",
        "\n",
        "\n"
      ],
      "metadata": {
        "id": "aYrPpIo36CeM",
        "colab": {
          "base_uri": "https://localhost:8080/",
          "height": 445,
          "referenced_widgets": [
            "d371e84a737242ad8e5b2dab16d6f177",
            "d1d95fac9c7b4ec4ac4db32af22223d5",
            "d48c60ce9e8b40acb4cc6cb4a163e0a5",
            "da88b4d15ded40d0a3e52003c45a12aa",
            "1b47ce561f914aa888c77a8edf1df00e",
            "359e5890c72649aa86f265072013fd51",
            "aa6dd3169c484029806c68641e649d65",
            "910b7b602cb441638be370b9d38ced23",
            "76de25d67ea148249695e1a7ea1d1048",
            "a5eccd5ecbc64c56bfee73ac70f811fc",
            "d4b9be2409d247a6b9322622f3fd52f1",
            "3a8f35a784f642e8b545e45391dc19a8",
            "9092bb671bab48cbb889d81a58c8d3e6",
            "de510872959f4c508540d737b8d21090",
            "ba6640b9343d49eaba55ae796de1b9ff",
            "b965efb493a4413e82ce5c94005d5180",
            "a2c80b4052d54b14b9999d68b409e77c",
            "a0b5866084c94d1599869271150a1095",
            "e01a2ec3a7744d21bd3cccd069942310",
            "7101dfe5559a48c084b5889a9387b753",
            "dc668abf15494a98b7b6317325bde4a3",
            "e1d8e0fdb64c4f5e840941103769872b",
            "f02e3bbe904544cc845502b90b127ef2",
            "56cf8f0c15c6468e8763b0e4e0847576",
            "e1b628ec0710493485b59eac810726da",
            "84f89adcba3547c4bbe12d4e4949fc65",
            "e1ea7df8866d4d30820ed482f0091ea4",
            "500789e5095d454086ee93891316dad3",
            "ad7b8a9ca58540a1b633d89be617495a",
            "7e1bdab1d7fd4db199de22081d5b19ca",
            "daffd963d6f547e2a466e4a33441b474",
            "6f07f1a20b354a179c11bb09c832a81d",
            "937fd25842cc47abb10f5b8403256b8d"
          ]
        },
        "outputId": "b97ff191-c51a-482a-a3ee-856995a7679e"
      },
      "execution_count": 34,
      "outputs": [
        {
          "output_type": "display_data",
          "data": {
            "text/plain": [
              "Downloading:   0%|          | 0.00/257 [00:00<?, ?B/s]"
            ],
            "application/vnd.jupyter.widget-view+json": {
              "version_major": 2,
              "version_minor": 0,
              "model_id": "d371e84a737242ad8e5b2dab16d6f177"
            }
          },
          "metadata": {}
        },
        {
          "output_type": "display_data",
          "data": {
            "text/plain": [
              "Downloading:   0%|          | 0.00/2.78M [00:00<?, ?B/s]"
            ],
            "application/vnd.jupyter.widget-view+json": {
              "version_major": 2,
              "version_minor": 0,
              "model_id": "3a8f35a784f642e8b545e45391dc19a8"
            }
          },
          "metadata": {}
        },
        {
          "output_type": "display_data",
          "data": {
            "text/plain": [
              "Downloading:   0%|          | 0.00/125 [00:00<?, ?B/s]"
            ],
            "application/vnd.jupyter.widget-view+json": {
              "version_major": 2,
              "version_minor": 0,
              "model_id": "f02e3bbe904544cc845502b90b127ef2"
            }
          },
          "metadata": {}
        },
        {
          "output_type": "stream",
          "name": "stderr",
          "text": [
            "Token indices sequence length is longer than the specified maximum sequence length for this model (1003 > 512). Running this sequence through the model will result in indexing errors\n",
            "Token indices sequence length is longer than the specified maximum sequence length for this model (3003 > 512). Running this sequence through the model will result in indexing errors\n"
          ]
        },
        {
          "output_type": "stream",
          "name": "stdout",
          "text": [
            "\n",
            "DNABERT BEHAVIOR\n",
            "{'input_ids': [2, 4, 5, 5, 5, 5, 5, 5, 5, 5, 5, 5, 5, 5, 5, 5, 5, 5, 5, 5, 5, 5, 5, 5, 5, 5, 5, 5, 5, 5, 5, 5, 5, 5, 5, 5, 5, 5, 5, 5, 5, 5, 5, 5, 5, 5, 5, 5, 5, 5, 5, 5, 5, 5, 5, 5, 5, 5, 5, 5, 5, 5, 5, 5, 5, 5, 5, 5, 5, 5, 5, 5, 5, 5, 5, 5, 5, 5, 5, 5, 5, 5, 5, 5, 5, 5, 5, 5, 5, 5, 5, 5, 5, 5, 5, 5, 5, 5, 5, 5, 5, 5, 5, 5, 5, 5, 5, 5, 5, 5, 5, 5, 5, 5, 5, 5, 5, 5, 5, 5, 5, 5, 5, 5, 5, 5, 5, 5, 5, 5, 5, 5, 5, 5, 5, 5, 5, 5, 5, 5, 5, 5, 5, 5, 5, 5, 5, 5, 5, 5, 5, 5, 5, 5, 5, 5, 5, 5, 5, 5, 5, 5, 5, 5, 5, 5, 5, 5, 5, 5, 5, 5, 5, 5, 5, 5, 5, 5, 5, 5, 5, 5, 5, 5, 5, 5, 5, 5, 5, 5, 5, 5, 5, 5, 5, 5, 5, 5, 5, 5, 5, 5, 5, 5, 5, 5, 5, 5, 5, 5, 5, 5, 5, 5, 5, 5, 5, 5, 5, 5, 5, 5, 5, 5, 5, 5, 5, 5, 5, 5, 5, 5, 5, 5, 5, 5, 5, 5, 5, 5, 5, 5, 5, 5, 5, 5, 5, 5, 5, 5, 5, 5, 5, 5, 5, 5, 5, 5, 5, 5, 5, 5, 5, 5, 5, 5, 5, 5, 5, 5, 5, 5, 5, 5, 5, 5, 5, 5, 5, 5, 5, 5, 5, 5, 5, 5, 5, 5, 5, 5, 5, 5, 5, 5, 5, 5, 5, 5, 5, 5, 5, 5, 5, 5, 5, 5, 5, 5, 5, 5, 5, 5, 5, 5, 5, 5, 5, 5, 5, 5, 5, 5, 5, 5, 5, 5, 5, 5, 5, 5, 5, 5, 5, 5, 5, 5, 5, 5, 5, 5, 5, 5, 5, 5, 5, 5, 5, 5, 5, 5, 5, 5, 5, 5, 5, 5, 5, 5, 5, 5, 5, 5, 5, 5, 5, 5, 5, 5, 5, 5, 5, 5, 5, 5, 5, 5, 5, 5, 5, 5, 5, 5, 5, 5, 5, 5, 5, 5, 5, 5, 5, 5, 5, 5, 5, 5, 5, 5, 5, 5, 5, 5, 5, 5, 5, 5, 5, 5, 5, 5, 5, 5, 5, 5, 5, 5, 5, 5, 5, 5, 5, 5, 5, 5, 5, 5, 5, 5, 5, 5, 5, 5, 5, 5, 5, 5, 5, 5, 5, 5, 5, 5, 5, 5, 5, 5, 5, 5, 5, 5, 5, 5, 5, 5, 5, 5, 5, 5, 5, 5, 5, 5, 5, 5, 5, 5, 5, 5, 5, 5, 5, 5, 5, 5, 5, 5, 5, 5, 5, 5, 5, 5, 5, 5, 5, 5, 5, 5, 5, 5, 5, 5, 5, 5, 5, 5, 5, 5, 5, 5, 5, 5, 5, 5, 5, 5, 5, 5, 5, 5, 5, 5, 5, 5, 5, 5, 5, 5, 5, 5, 5, 5, 5, 5, 5, 5, 5, 5, 5, 5, 5, 5, 5, 5, 5, 5, 5, 5, 5, 5, 5, 5, 5, 5, 5, 5, 5, 5, 5, 5, 5, 5, 5, 5, 5, 5, 5, 5, 5, 5, 5, 5, 5, 5, 5, 5, 5, 5, 5, 5, 5, 5, 5, 5, 5, 5, 5, 5, 5, 5, 5, 5, 5, 5, 5, 5, 5, 5, 5, 5, 5, 5, 5, 5, 5, 5, 5, 5, 5, 5, 5, 5, 5, 5, 5, 5, 5, 5, 5, 5, 5, 5, 5, 5, 5, 5, 5, 5, 5, 5, 5, 5, 5, 5, 5, 5, 5, 5, 5, 5, 5, 5, 5, 5, 5, 5, 5, 5, 5, 5, 5, 5, 5, 5, 5, 5, 5, 5, 5, 5, 5, 5, 5, 5, 5, 5, 5, 5, 5, 5, 5, 5, 5, 5, 5, 5, 5, 5, 5, 5, 5, 5, 5, 5, 5, 5, 5, 5, 5, 5, 5, 5, 5, 5, 5, 5, 5, 5, 5, 5, 5, 5, 5, 5, 5, 5, 5, 5, 5, 5, 5, 5, 5, 5, 5, 5, 5, 5, 5, 5, 5, 5, 5, 5, 5, 5, 5, 5, 5, 5, 5, 5, 5, 5, 5, 5, 5, 5, 5, 5, 5, 5, 5, 5, 5, 5, 5, 5, 5, 5, 5, 5, 5, 5, 5, 5, 5, 5, 5, 5, 5, 5, 5, 5, 5, 5, 5, 5, 5, 5, 5, 5, 5, 5, 5, 5, 5, 5, 5, 5, 5, 5, 5, 5, 5, 5, 5, 5, 5, 5, 5, 5, 5, 5, 5, 5, 5, 5, 5, 5, 5, 5, 5, 5, 5, 5, 5, 5, 5, 5, 5, 5, 5, 5, 5, 5, 5, 5, 5, 5, 5, 5, 5, 5, 5, 5, 5, 5, 5, 5, 5, 5, 5, 5, 5, 5, 5, 5, 5, 5, 5, 5, 5, 5, 5, 5, 5, 5, 5, 5, 5, 5, 5, 5, 5, 5, 5, 5, 5, 5, 5, 5, 5, 5, 5, 5, 5, 5, 5, 5, 5, 5, 5, 5, 5, 5, 5, 5, 5, 5, 5, 5, 5, 5, 5, 5, 5, 5, 5, 5, 5, 5, 5, 5, 5, 5, 5, 5, 5, 5, 5, 5, 5, 5, 5, 5, 5, 5, 5, 5, 5, 5, 5, 5, 5, 5, 5, 5, 5, 5, 5, 5, 5, 5, 5, 5, 5, 5, 5, 5, 5, 5, 5, 5, 5, 5, 5, 5, 5, 5, 5, 5, 5, 5, 5, 5, 5, 5, 5, 5, 5, 5, 5, 5, 5, 5, 5, 5, 5, 5, 5, 5, 5, 5, 5, 5, 5, 5, 5, 5, 5, 5, 5, 5, 5, 5, 5, 5, 5, 5, 5, 5, 5, 5, 5, 5, 5, 5, 5, 5, 5, 5, 5, 5, 5, 5, 5, 5, 5, 5, 5, 5, 5, 5, 5, 5, 5, 5, 5, 5, 5, 5, 3], 'token_type_ids': [0, 0, 0, 0, 0, 0, 0, 0, 0, 0, 0, 0, 0, 0, 0, 0, 0, 0, 0, 0, 0, 0, 0, 0, 0, 0, 0, 0, 0, 0, 0, 0, 0, 0, 0, 0, 0, 0, 0, 0, 0, 0, 0, 0, 0, 0, 0, 0, 0, 0, 0, 0, 0, 0, 0, 0, 0, 0, 0, 0, 0, 0, 0, 0, 0, 0, 0, 0, 0, 0, 0, 0, 0, 0, 0, 0, 0, 0, 0, 0, 0, 0, 0, 0, 0, 0, 0, 0, 0, 0, 0, 0, 0, 0, 0, 0, 0, 0, 0, 0, 0, 0, 0, 0, 0, 0, 0, 0, 0, 0, 0, 0, 0, 0, 0, 0, 0, 0, 0, 0, 0, 0, 0, 0, 0, 0, 0, 0, 0, 0, 0, 0, 0, 0, 0, 0, 0, 0, 0, 0, 0, 0, 0, 0, 0, 0, 0, 0, 0, 0, 0, 0, 0, 0, 0, 0, 0, 0, 0, 0, 0, 0, 0, 0, 0, 0, 0, 0, 0, 0, 0, 0, 0, 0, 0, 0, 0, 0, 0, 0, 0, 0, 0, 0, 0, 0, 0, 0, 0, 0, 0, 0, 0, 0, 0, 0, 0, 0, 0, 0, 0, 0, 0, 0, 0, 0, 0, 0, 0, 0, 0, 0, 0, 0, 0, 0, 0, 0, 0, 0, 0, 0, 0, 0, 0, 0, 0, 0, 0, 0, 0, 0, 0, 0, 0, 0, 0, 0, 0, 0, 0, 0, 0, 0, 0, 0, 0, 0, 0, 0, 0, 0, 0, 0, 0, 0, 0, 0, 0, 0, 0, 0, 0, 0, 0, 0, 0, 0, 0, 0, 0, 0, 0, 0, 0, 0, 0, 0, 0, 0, 0, 0, 0, 0, 0, 0, 0, 0, 0, 0, 0, 0, 0, 0, 0, 0, 0, 0, 0, 0, 0, 0, 0, 0, 0, 0, 0, 0, 0, 0, 0, 0, 0, 0, 0, 0, 0, 0, 0, 0, 0, 0, 0, 0, 0, 0, 0, 0, 0, 0, 0, 0, 0, 0, 0, 0, 0, 0, 0, 0, 0, 0, 0, 0, 0, 0, 0, 0, 0, 0, 0, 0, 0, 0, 0, 0, 0, 0, 0, 0, 0, 0, 0, 0, 0, 0, 0, 0, 0, 0, 0, 0, 0, 0, 0, 0, 0, 0, 0, 0, 0, 0, 0, 0, 0, 0, 0, 0, 0, 0, 0, 0, 0, 0, 0, 0, 0, 0, 0, 0, 0, 0, 0, 0, 0, 0, 0, 0, 0, 0, 0, 0, 0, 0, 0, 0, 0, 0, 0, 0, 0, 0, 0, 0, 0, 0, 0, 0, 0, 0, 0, 0, 0, 0, 0, 0, 0, 0, 0, 0, 0, 0, 0, 0, 0, 0, 0, 0, 0, 0, 0, 0, 0, 0, 0, 0, 0, 0, 0, 0, 0, 0, 0, 0, 0, 0, 0, 0, 0, 0, 0, 0, 0, 0, 0, 0, 0, 0, 0, 0, 0, 0, 0, 0, 0, 0, 0, 0, 0, 0, 0, 0, 0, 0, 0, 0, 0, 0, 0, 0, 0, 0, 0, 0, 0, 0, 0, 0, 0, 0, 0, 0, 0, 0, 0, 0, 0, 0, 0, 0, 0, 0, 0, 0, 0, 0, 0, 0, 0, 0, 0, 0, 0, 0, 0, 0, 0, 0, 0, 0, 0, 0, 0, 0, 0, 0, 0, 0, 0, 0, 0, 0, 0, 0, 0, 0, 0, 0, 0, 0, 0, 0, 0, 0, 0, 0, 0, 0, 0, 0, 0, 0, 0, 0, 0, 0, 0, 0, 0, 0, 0, 0, 0, 0, 0, 0, 0, 0, 0, 0, 0, 0, 0, 0, 0, 0, 0, 0, 0, 0, 0, 0, 0, 0, 0, 0, 0, 0, 0, 0, 0, 0, 0, 0, 0, 0, 0, 0, 0, 0, 0, 0, 0, 0, 0, 0, 0, 0, 0, 0, 0, 0, 0, 0, 0, 0, 0, 0, 0, 0, 0, 0, 0, 0, 0, 0, 0, 0, 0, 0, 0, 0, 0, 0, 0, 0, 0, 0, 0, 0, 0, 0, 0, 0, 0, 0, 0, 0, 0, 0, 0, 0, 0, 0, 0, 0, 0, 0, 0, 0, 0, 0, 0, 0, 0, 0, 0, 0, 0, 0, 0, 0, 0, 0, 0, 0, 0, 0, 0, 0, 0, 0, 0, 0, 0, 0, 0, 0, 0, 0, 0, 0, 0, 0, 0, 0, 0, 0, 0, 0, 0, 0, 0, 0, 0, 0, 0, 0, 0, 0, 0, 0, 0, 0, 0, 0, 0, 0, 0, 0, 0, 0, 0, 0, 0, 0, 0, 0, 0, 0, 0, 0, 0, 0, 0, 0, 0, 0, 0, 0, 0, 0, 0, 0, 0, 0, 0, 0, 0, 0, 0, 0, 0, 0, 0, 0, 0, 0, 0, 0, 0, 0, 0, 0, 0, 0, 0, 0, 0, 0, 0, 0, 0, 0, 0, 0, 0, 0, 0, 0, 0, 0, 0, 0, 0, 0, 0, 0, 0, 0, 0, 0, 0, 0, 0, 0, 0, 0, 0, 0, 0, 0, 0, 0, 0, 0, 0, 0, 0, 0, 0, 0, 0, 0, 0, 0, 0, 0, 0, 0, 0, 0, 0, 0, 0, 0, 0, 0, 0, 0, 0, 0, 0, 0, 0, 0, 0, 0, 0, 0, 0, 0, 0, 0, 0, 0, 0, 0, 0, 0, 0, 0, 0, 0, 0, 0, 0, 0, 0, 0, 0, 0, 0, 0, 0, 0, 0, 0, 0, 0, 0, 0, 0, 0, 0, 0, 0, 0, 0, 0, 0, 0, 0, 0, 0, 0, 0, 0, 0, 0, 0, 0, 0, 0, 0, 0, 0, 0, 0, 0, 0, 0, 0, 0, 0, 0, 0, 0, 0, 0, 0, 0, 0, 0, 0, 0, 0, 0, 0, 0, 0, 0, 0, 0, 0, 0, 0, 0, 0, 0, 0, 0, 0, 0, 0, 0, 0, 0, 0, 0, 0, 0, 0, 0, 0, 0, 0, 0, 0, 0, 0, 0, 0, 0, 0, 0, 0, 0, 0, 0, 0, 0, 0, 0, 0, 0, 0, 0, 0, 0, 0, 0, 0, 0, 0, 0, 0, 0, 0, 0, 0, 0, 0], 'attention_mask': [1, 1, 1, 1, 1, 1, 1, 1, 1, 1, 1, 1, 1, 1, 1, 1, 1, 1, 1, 1, 1, 1, 1, 1, 1, 1, 1, 1, 1, 1, 1, 1, 1, 1, 1, 1, 1, 1, 1, 1, 1, 1, 1, 1, 1, 1, 1, 1, 1, 1, 1, 1, 1, 1, 1, 1, 1, 1, 1, 1, 1, 1, 1, 1, 1, 1, 1, 1, 1, 1, 1, 1, 1, 1, 1, 1, 1, 1, 1, 1, 1, 1, 1, 1, 1, 1, 1, 1, 1, 1, 1, 1, 1, 1, 1, 1, 1, 1, 1, 1, 1, 1, 1, 1, 1, 1, 1, 1, 1, 1, 1, 1, 1, 1, 1, 1, 1, 1, 1, 1, 1, 1, 1, 1, 1, 1, 1, 1, 1, 1, 1, 1, 1, 1, 1, 1, 1, 1, 1, 1, 1, 1, 1, 1, 1, 1, 1, 1, 1, 1, 1, 1, 1, 1, 1, 1, 1, 1, 1, 1, 1, 1, 1, 1, 1, 1, 1, 1, 1, 1, 1, 1, 1, 1, 1, 1, 1, 1, 1, 1, 1, 1, 1, 1, 1, 1, 1, 1, 1, 1, 1, 1, 1, 1, 1, 1, 1, 1, 1, 1, 1, 1, 1, 1, 1, 1, 1, 1, 1, 1, 1, 1, 1, 1, 1, 1, 1, 1, 1, 1, 1, 1, 1, 1, 1, 1, 1, 1, 1, 1, 1, 1, 1, 1, 1, 1, 1, 1, 1, 1, 1, 1, 1, 1, 1, 1, 1, 1, 1, 1, 1, 1, 1, 1, 1, 1, 1, 1, 1, 1, 1, 1, 1, 1, 1, 1, 1, 1, 1, 1, 1, 1, 1, 1, 1, 1, 1, 1, 1, 1, 1, 1, 1, 1, 1, 1, 1, 1, 1, 1, 1, 1, 1, 1, 1, 1, 1, 1, 1, 1, 1, 1, 1, 1, 1, 1, 1, 1, 1, 1, 1, 1, 1, 1, 1, 1, 1, 1, 1, 1, 1, 1, 1, 1, 1, 1, 1, 1, 1, 1, 1, 1, 1, 1, 1, 1, 1, 1, 1, 1, 1, 1, 1, 1, 1, 1, 1, 1, 1, 1, 1, 1, 1, 1, 1, 1, 1, 1, 1, 1, 1, 1, 1, 1, 1, 1, 1, 1, 1, 1, 1, 1, 1, 1, 1, 1, 1, 1, 1, 1, 1, 1, 1, 1, 1, 1, 1, 1, 1, 1, 1, 1, 1, 1, 1, 1, 1, 1, 1, 1, 1, 1, 1, 1, 1, 1, 1, 1, 1, 1, 1, 1, 1, 1, 1, 1, 1, 1, 1, 1, 1, 1, 1, 1, 1, 1, 1, 1, 1, 1, 1, 1, 1, 1, 1, 1, 1, 1, 1, 1, 1, 1, 1, 1, 1, 1, 1, 1, 1, 1, 1, 1, 1, 1, 1, 1, 1, 1, 1, 1, 1, 1, 1, 1, 1, 1, 1, 1, 1, 1, 1, 1, 1, 1, 1, 1, 1, 1, 1, 1, 1, 1, 1, 1, 1, 1, 1, 1, 1, 1, 1, 1, 1, 1, 1, 1, 1, 1, 1, 1, 1, 1, 1, 1, 1, 1, 1, 1, 1, 1, 1, 1, 1, 1, 1, 1, 1, 1, 1, 1, 1, 1, 1, 1, 1, 1, 1, 1, 1, 1, 1, 1, 1, 1, 1, 1, 1, 1, 1, 1, 1, 1, 1, 1, 1, 1, 1, 1, 1, 1, 1, 1, 1, 1, 1, 1, 1, 1, 1, 1, 1, 1, 1, 1, 1, 1, 1, 1, 1, 1, 1, 1, 1, 1, 1, 1, 1, 1, 1, 1, 1, 1, 1, 1, 1, 1, 1, 1, 1, 1, 1, 1, 1, 1, 1, 1, 1, 1, 1, 1, 1, 1, 1, 1, 1, 1, 1, 1, 1, 1, 1, 1, 1, 1, 1, 1, 1, 1, 1, 1, 1, 1, 1, 1, 1, 1, 1, 1, 1, 1, 1, 1, 1, 1, 1, 1, 1, 1, 1, 1, 1, 1, 1, 1, 1, 1, 1, 1, 1, 1, 1, 1, 1, 1, 1, 1, 1, 1, 1, 1, 1, 1, 1, 1, 1, 1, 1, 1, 1, 1, 1, 1, 1, 1, 1, 1, 1, 1, 1, 1, 1, 1, 1, 1, 1, 1, 1, 1, 1, 1, 1, 1, 1, 1, 1, 1, 1, 1, 1, 1, 1, 1, 1, 1, 1, 1, 1, 1, 1, 1, 1, 1, 1, 1, 1, 1, 1, 1, 1, 1, 1, 1, 1, 1, 1, 1, 1, 1, 1, 1, 1, 1, 1, 1, 1, 1, 1, 1, 1, 1, 1, 1, 1, 1, 1, 1, 1, 1, 1, 1, 1, 1, 1, 1, 1, 1, 1, 1, 1, 1, 1, 1, 1, 1, 1, 1, 1, 1, 1, 1, 1, 1, 1, 1, 1, 1, 1, 1, 1, 1, 1, 1, 1, 1, 1, 1, 1, 1, 1, 1, 1, 1, 1, 1, 1, 1, 1, 1, 1, 1, 1, 1, 1, 1, 1, 1, 1, 1, 1, 1, 1, 1, 1, 1, 1, 1, 1, 1, 1, 1, 1, 1, 1, 1, 1, 1, 1, 1, 1, 1, 1, 1, 1, 1, 1, 1, 1, 1, 1, 1, 1, 1, 1, 1, 1, 1, 1, 1, 1, 1, 1, 1, 1, 1, 1, 1, 1, 1, 1, 1, 1, 1, 1, 1, 1, 1, 1, 1, 1, 1, 1, 1, 1, 1, 1, 1, 1, 1, 1, 1, 1, 1, 1, 1, 1, 1, 1, 1, 1, 1, 1, 1, 1, 1, 1, 1, 1, 1, 1, 1, 1, 1, 1, 1, 1, 1, 1, 1, 1, 1, 1, 1, 1, 1, 1, 1, 1, 1, 1, 1, 1, 1, 1, 1, 1, 1, 1, 1, 1, 1, 1, 1, 1, 1, 1, 1, 1, 1, 1, 1, 1, 1, 1, 1, 1, 1, 1, 1, 1, 1, 1, 1, 1, 1, 1, 1, 1, 1, 1, 1, 1, 1, 1, 1, 1, 1, 1, 1, 1, 1, 1, 1, 1, 1, 1, 1, 1, 1, 1, 1, 1, 1, 1, 1, 1, 1, 1, 1, 1, 1, 1, 1, 1, 1, 1, 1, 1, 1, 1, 1, 1, 1, 1]}\n",
            "[CLS] [MASK] AAAAAA AAAAAA AAAAAA AAAAAA AAAAAA AAAAAA AAAAAA AAAAAA AAAAAA AAAAAA AAAAAA AAAAAA AAAAAA AAAAAA AAAAAA AAAAAA AAAAAA AAAAAA AAAAAA AAAAAA AAAAAA AAAAAA AAAAAA AAAAAA AAAAAA AAAAAA AAAAAA AAAAAA AAAAAA AAAAAA AAAAAA AAAAAA AAAAAA AAAAAA AAAAAA AAAAAA AAAAAA AAAAAA AAAAAA AAAAAA AAAAAA AAAAAA AAAAAA AAAAAA AAAAAA AAAAAA AAAAAA AAAAAA AAAAAA AAAAAA AAAAAA AAAAAA AAAAAA AAAAAA AAAAAA AAAAAA AAAAAA AAAAAA AAAAAA AAAAAA AAAAAA AAAAAA AAAAAA AAAAAA AAAAAA AAAAAA AAAAAA AAAAAA AAAAAA AAAAAA AAAAAA AAAAAA AAAAAA AAAAAA AAAAAA AAAAAA AAAAAA AAAAAA AAAAAA AAAAAA AAAAAA AAAAAA AAAAAA AAAAAA AAAAAA AAAAAA AAAAAA AAAAAA AAAAAA AAAAAA AAAAAA AAAAAA AAAAAA AAAAAA AAAAAA AAAAAA AAAAAA AAAAAA AAAAAA AAAAAA AAAAAA AAAAAA AAAAAA AAAAAA AAAAAA AAAAAA AAAAAA AAAAAA AAAAAA AAAAAA AAAAAA AAAAAA AAAAAA AAAAAA AAAAAA AAAAAA AAAAAA AAAAAA AAAAAA AAAAAA AAAAAA AAAAAA AAAAAA AAAAAA AAAAAA AAAAAA AAAAAA AAAAAA AAAAAA AAAAAA AAAAAA AAAAAA AAAAAA AAAAAA AAAAAA AAAAAA AAAAAA AAAAAA AAAAAA AAAAAA AAAAAA AAAAAA AAAAAA AAAAAA AAAAAA AAAAAA AAAAAA AAAAAA AAAAAA AAAAAA AAAAAA AAAAAA AAAAAA AAAAAA AAAAAA AAAAAA AAAAAA AAAAAA AAAAAA AAAAAA AAAAAA AAAAAA AAAAAA AAAAAA AAAAAA AAAAAA AAAAAA AAAAAA AAAAAA AAAAAA AAAAAA AAAAAA AAAAAA AAAAAA AAAAAA AAAAAA AAAAAA AAAAAA AAAAAA AAAAAA AAAAAA AAAAAA AAAAAA AAAAAA AAAAAA AAAAAA AAAAAA AAAAAA AAAAAA AAAAAA AAAAAA AAAAAA AAAAAA AAAAAA AAAAAA AAAAAA AAAAAA AAAAAA AAAAAA AAAAAA AAAAAA AAAAAA AAAAAA AAAAAA AAAAAA AAAAAA AAAAAA AAAAAA AAAAAA AAAAAA AAAAAA AAAAAA AAAAAA AAAAAA AAAAAA AAAAAA AAAAAA AAAAAA AAAAAA AAAAAA AAAAAA AAAAAA AAAAAA AAAAAA AAAAAA AAAAAA AAAAAA AAAAAA AAAAAA AAAAAA AAAAAA AAAAAA AAAAAA AAAAAA AAAAAA AAAAAA AAAAAA AAAAAA AAAAAA AAAAAA AAAAAA AAAAAA AAAAAA AAAAAA AAAAAA AAAAAA AAAAAA AAAAAA AAAAAA AAAAAA AAAAAA AAAAAA AAAAAA AAAAAA AAAAAA AAAAAA AAAAAA AAAAAA AAAAAA AAAAAA AAAAAA AAAAAA AAAAAA AAAAAA AAAAAA AAAAAA AAAAAA AAAAAA AAAAAA AAAAAA AAAAAA AAAAAA AAAAAA AAAAAA AAAAAA AAAAAA AAAAAA AAAAAA AAAAAA AAAAAA AAAAAA AAAAAA AAAAAA AAAAAA AAAAAA AAAAAA AAAAAA AAAAAA AAAAAA AAAAAA AAAAAA AAAAAA AAAAAA AAAAAA AAAAAA AAAAAA AAAAAA AAAAAA AAAAAA AAAAAA AAAAAA AAAAAA AAAAAA AAAAAA AAAAAA AAAAAA AAAAAA AAAAAA AAAAAA AAAAAA AAAAAA AAAAAA AAAAAA AAAAAA AAAAAA AAAAAA AAAAAA AAAAAA AAAAAA AAAAAA AAAAAA AAAAAA AAAAAA AAAAAA AAAAAA AAAAAA AAAAAA AAAAAA AAAAAA AAAAAA AAAAAA AAAAAA AAAAAA AAAAAA AAAAAA AAAAAA AAAAAA AAAAAA AAAAAA AAAAAA AAAAAA AAAAAA AAAAAA AAAAAA AAAAAA AAAAAA AAAAAA AAAAAA AAAAAA AAAAAA AAAAAA AAAAAA AAAAAA AAAAAA AAAAAA AAAAAA AAAAAA AAAAAA AAAAAA AAAAAA AAAAAA AAAAAA AAAAAA AAAAAA AAAAAA AAAAAA AAAAAA AAAAAA AAAAAA AAAAAA AAAAAA AAAAAA AAAAAA AAAAAA AAAAAA AAAAAA AAAAAA AAAAAA AAAAAA AAAAAA AAAAAA AAAAAA AAAAAA AAAAAA AAAAAA AAAAAA AAAAAA AAAAAA AAAAAA AAAAAA AAAAAA AAAAAA AAAAAA AAAAAA AAAAAA AAAAAA AAAAAA AAAAAA AAAAAA AAAAAA AAAAAA AAAAAA AAAAAA AAAAAA AAAAAA AAAAAA AAAAAA AAAAAA AAAAAA AAAAAA AAAAAA AAAAAA AAAAAA AAAAAA AAAAAA AAAAAA AAAAAA AAAAAA AAAAAA AAAAAA AAAAAA AAAAAA AAAAAA AAAAAA AAAAAA AAAAAA AAAAAA AAAAAA AAAAAA AAAAAA AAAAAA AAAAAA AAAAAA AAAAAA AAAAAA AAAAAA AAAAAA AAAAAA AAAAAA AAAAAA AAAAAA AAAAAA AAAAAA AAAAAA AAAAAA AAAAAA AAAAAA AAAAAA AAAAAA AAAAAA AAAAAA AAAAAA AAAAAA AAAAAA AAAAAA AAAAAA AAAAAA AAAAAA AAAAAA AAAAAA AAAAAA AAAAAA AAAAAA AAAAAA AAAAAA AAAAAA AAAAAA AAAAAA AAAAAA AAAAAA AAAAAA AAAAAA AAAAAA AAAAAA AAAAAA AAAAAA AAAAAA AAAAAA AAAAAA AAAAAA AAAAAA AAAAAA AAAAAA AAAAAA AAAAAA AAAAAA AAAAAA AAAAAA AAAAAA AAAAAA AAAAAA AAAAAA AAAAAA AAAAAA AAAAAA AAAAAA AAAAAA AAAAAA AAAAAA AAAAAA AAAAAA AAAAAA AAAAAA AAAAAA AAAAAA AAAAAA AAAAAA AAAAAA AAAAAA AAAAAA AAAAAA AAAAAA AAAAAA AAAAAA AAAAAA AAAAAA AAAAAA AAAAAA AAAAAA AAAAAA AAAAAA AAAAAA AAAAAA AAAAAA AAAAAA AAAAAA AAAAAA AAAAAA AAAAAA AAAAAA AAAAAA AAAAAA AAAAAA AAAAAA AAAAAA AAAAAA AAAAAA AAAAAA AAAAAA AAAAAA AAAAAA AAAAAA AAAAAA AAAAAA AAAAAA AAAAAA AAAAAA AAAAAA AAAAAA AAAAAA AAAAAA AAAAAA AAAAAA AAAAAA AAAAAA AAAAAA AAAAAA AAAAAA AAAAAA AAAAAA AAAAAA AAAAAA AAAAAA AAAAAA AAAAAA AAAAAA AAAAAA AAAAAA AAAAAA AAAAAA AAAAAA AAAAAA AAAAAA AAAAAA AAAAAA AAAAAA AAAAAA AAAAAA AAAAAA AAAAAA AAAAAA AAAAAA AAAAAA AAAAAA AAAAAA AAAAAA AAAAAA AAAAAA AAAAAA AAAAAA AAAAAA AAAAAA AAAAAA AAAAAA AAAAAA AAAAAA AAAAAA AAAAAA AAAAAA AAAAAA AAAAAA AAAAAA AAAAAA AAAAAA AAAAAA AAAAAA AAAAAA AAAAAA AAAAAA AAAAAA AAAAAA AAAAAA AAAAAA AAAAAA AAAAAA AAAAAA AAAAAA AAAAAA AAAAAA AAAAAA AAAAAA AAAAAA AAAAAA AAAAAA AAAAAA AAAAAA AAAAAA AAAAAA AAAAAA AAAAAA AAAAAA AAAAAA AAAAAA AAAAAA AAAAAA AAAAAA AAAAAA AAAAAA AAAAAA AAAAAA AAAAAA AAAAAA AAAAAA AAAAAA AAAAAA AAAAAA AAAAAA AAAAAA AAAAAA AAAAAA AAAAAA AAAAAA AAAAAA AAAAAA AAAAAA AAAAAA AAAAAA AAAAAA AAAAAA AAAAAA AAAAAA AAAAAA AAAAAA AAAAAA AAAAAA AAAAAA AAAAAA AAAAAA AAAAAA AAAAAA AAAAAA AAAAAA AAAAAA AAAAAA AAAAAA AAAAAA AAAAAA AAAAAA AAAAAA AAAAAA AAAAAA AAAAAA AAAAAA AAAAAA AAAAAA AAAAAA AAAAAA AAAAAA AAAAAA AAAAAA AAAAAA AAAAAA AAAAAA AAAAAA AAAAAA AAAAAA AAAAAA AAAAAA AAAAAA AAAAAA AAAAAA AAAAAA AAAAAA AAAAAA AAAAAA AAAAAA AAAAAA AAAAAA AAAAAA AAAAAA AAAAAA AAAAAA AAAAAA AAAAAA AAAAAA AAAAAA AAAAAA AAAAAA AAAAAA AAAAAA AAAAAA AAAAAA AAAAAA AAAAAA AAAAAA AAAAAA AAAAAA AAAAAA AAAAAA AAAAAA AAAAAA AAAAAA AAAAAA AAAAAA AAAAAA AAAAAA AAAAAA AAAAAA AAAAAA AAAAAA AAAAAA AAAAAA AAAAAA AAAAAA AAAAAA AAAAAA AAAAAA AAAAAA AAAAAA AAAAAA AAAAAA AAAAAA AAAAAA AAAAAA AAAAAA AAAAAA AAAAAA AAAAAA AAAAAA AAAAAA AAAAAA AAAAAA AAAAAA AAAAAA AAAAAA AAAAAA AAAAAA AAAAAA AAAAAA AAAAAA AAAAAA AAAAAA AAAAAA AAAAAA AAAAAA AAAAAA AAAAAA AAAAAA AAAAAA AAAAAA AAAAAA AAAAAA AAAAAA AAAAAA AAAAAA AAAAAA AAAAAA AAAAAA AAAAAA AAAAAA AAAAAA AAAAAA AAAAAA AAAAAA AAAAAA AAAAAA AAAAAA AAAAAA AAAAAA AAAAAA AAAAAA AAAAAA AAAAAA AAAAAA AAAAAA AAAAAA AAAAAA AAAAAA AAAAAA AAAAAA AAAAAA AAAAAA AAAAAA AAAAAA AAAAAA AAAAAA AAAAAA AAAAAA AAAAAA AAAAAA AAAAAA AAAAAA AAAAAA AAAAAA AAAAAA AAAAAA AAAAAA AAAAAA AAAAAA AAAAAA AAAAAA AAAAAA AAAAAA AAAAAA AAAAAA AAAAAA AAAAAA AAAAAA AAAAAA AAAAAA AAAAAA AAAAAA AAAAAA AAAAAA AAAAAA AAAAAA AAAAAA AAAAAA AAAAAA AAAAAA AAAAAA AAAAAA AAAAAA AAAAAA AAAAAA AAAAAA AAAAAA AAAAAA AAAAAA AAAAAA AAAAAA AAAAAA AAAAAA AAAAAA AAAAAA AAAAAA AAAAAA AAAAAA AAAAAA AAAAAA AAAAAA AAAAAA AAAAAA AAAAAA AAAAAA AAAAAA AAAAAA AAAAAA AAAAAA AAAAAA AAAAAA AAAAAA AAAAAA AAAAAA AAAAAA AAAAAA AAAAAA AAAAAA AAAAAA AAAAAA AAAAAA AAAAAA AAAAAA AAAAAA AAAAAA AAAAAA AAAAAA AAAAAA AAAAAA AAAAAA AAAAAA AAAAAA AAAAAA AAAAAA AAAAAA AAAAAA AAAAAA AAAAAA AAAAAA AAAAAA AAAAAA AAAAAA AAAAAA AAAAAA AAAAAA AAAAAA AAAAAA AAAAAA AAAAAA AAAAAA AAAAAA AAAAAA AAAAAA AAAAAA AAAAAA AAAAAA AAAAAA AAAAAA AAAAAA AAAAAA AAAAAA AAAAAA AAAAAA AAAAAA AAAAAA AAAAAA AAAAAA AAAAAA AAAAAA AAAAAA AAAAAA AAAAAA AAAAAA AAAAAA AAAAAA AAAAAA AAAAAA AAAAAA AAAAAA AAAAAA AAAAAA AAAAAA AAAAAA AAAAAA AAAAAA AAAAAA AAAAAA AAAAAA AAAAAA AAAAAA AAAAAA AAAAAA AAAAAA AAAAAA AAAAAA AAAAAA AAAAAA AAAAAA AAAAAA AAAAAA AAAAAA AAAAAA AAAAAA AAAAAA AAAAAA AAAAAA AAAAAA AAAAAA AAAAAA AAAAAA AAAAAA AAAAAA AAAAAA AAAAAA AAAAAA AAAAAA AAAAAA AAAAAA AAAAAA AAAAAA AAAAAA AAAAAA AAAAAA AAAAAA AAAAAA AAAAAA AAAAAA AAAAAA AAAAAA AAAAAA [SEP]\n",
            "{'input_ids': [2, 1, 4, 1, 3], 'token_type_ids': [0, 0, 0, 0, 0], 'attention_mask': [1, 1, 1, 1, 1]}\n",
            "[CLS] [UNK] [MASK] [UNK] [SEP]\n",
            "{'unk_token': '[UNK]', 'sep_token': '[SEP]', 'pad_token': '[PAD]', 'cls_token': '[CLS]', 'mask_token': '[MASK]'}\n",
            "right\n",
            "\n",
            "OURS BEHAVIOR\n",
            "{'input_ids': [2, 29999, 32, 7, 1, 32, 7, 1, 32, 7, 1, 32, 7, 1, 32, 7, 1, 32, 7, 1, 32, 7, 1, 32, 7, 1, 32, 7, 1, 32, 7, 1, 32, 7, 1, 32, 7, 1, 32, 7, 1, 32, 7, 1, 32, 7, 1, 32, 7, 1, 32, 7, 1, 32, 7, 1, 32, 7, 1, 32, 7, 1, 32, 7, 1, 32, 7, 1, 32, 7, 1, 32, 7, 1, 32, 7, 1, 32, 7, 1, 32, 7, 1, 32, 7, 1, 32, 7, 1, 32, 7, 1, 32, 7, 1, 32, 7, 1, 32, 7, 1, 32, 7, 1, 32, 7, 1, 32, 7, 1, 32, 7, 1, 32, 7, 1, 32, 7, 1, 32, 7, 1, 32, 7, 1, 32, 7, 1, 32, 7, 1, 32, 7, 1, 32, 7, 1, 32, 7, 1, 32, 7, 1, 32, 7, 1, 32, 7, 1, 32, 7, 1, 32, 7, 1, 32, 7, 1, 32, 7, 1, 32, 7, 1, 32, 7, 1, 32, 7, 1, 32, 7, 1, 32, 7, 1, 32, 7, 1, 32, 7, 1, 32, 7, 1, 32, 7, 1, 32, 7, 1, 32, 7, 1, 32, 7, 1, 32, 7, 1, 32, 7, 1, 32, 7, 1, 32, 7, 1, 32, 7, 1, 32, 7, 1, 32, 7, 1, 32, 7, 1, 32, 7, 1, 32, 7, 1, 32, 7, 1, 32, 7, 1, 32, 7, 1, 32, 7, 1, 32, 7, 1, 32, 7, 1, 32, 7, 1, 32, 7, 1, 32, 7, 1, 32, 7, 1, 32, 7, 1, 32, 7, 1, 32, 7, 1, 32, 7, 1, 32, 7, 1, 32, 7, 1, 32, 7, 1, 32, 7, 1, 32, 7, 1, 32, 7, 1, 32, 7, 1, 32, 7, 1, 32, 7, 1, 32, 7, 1, 32, 7, 1, 32, 7, 1, 32, 7, 1, 32, 7, 1, 32, 7, 1, 32, 7, 1, 32, 7, 1, 32, 7, 1, 32, 7, 1, 32, 7, 1, 32, 7, 1, 32, 7, 1, 32, 7, 1, 32, 7, 1, 32, 7, 1, 32, 7, 1, 32, 7, 1, 32, 7, 1, 32, 7, 1, 32, 7, 1, 32, 7, 1, 32, 7, 1, 32, 7, 1, 32, 7, 1, 32, 7, 1, 32, 7, 1, 32, 7, 1, 32, 7, 1, 32, 7, 1, 32, 7, 1, 32, 7, 1, 32, 7, 1, 32, 7, 1, 32, 7, 1, 32, 7, 1, 32, 7, 1, 32, 7, 1, 32, 7, 1, 32, 7, 1, 32, 7, 1, 32, 7, 1, 32, 7, 1, 32, 7, 1, 32, 7, 1, 32, 7, 1, 32, 7, 1, 32, 7, 1, 32, 7, 1, 32, 7, 1, 32, 7, 1, 32, 7, 1, 32, 7, 1, 32, 7, 1, 32, 7, 1, 32, 7, 1, 32, 7, 1, 32, 7, 1, 32, 7, 1, 32, 7, 1, 32, 7, 1, 32, 7, 1, 32, 7, 1, 32, 7, 1, 32, 7, 1, 32, 7, 1, 32, 7, 1, 32, 7, 1, 32, 7, 1, 32, 7, 1, 32, 7, 1, 32, 7, 1, 32, 7, 1, 32, 7, 1, 32, 7, 1, 32, 7, 1, 32, 7, 1, 32, 7, 1, 32, 7, 1, 32, 7, 1, 32, 7, 1, 32, 7, 1, 32, 7, 1, 32, 7, 1, 32, 7, 1, 32, 7, 1, 32, 7, 1, 32, 7, 1, 32, 7, 1, 32, 7, 1, 32, 7, 1, 32, 7, 1, 32, 7, 1, 32, 7, 1, 32, 7, 1, 32, 7, 1, 32, 7, 1, 32, 7, 1, 32, 7, 1, 32, 7, 1, 32, 7, 1, 32, 7, 1, 32, 7, 1, 32, 7, 1, 32, 7, 1, 32, 7, 1, 32, 7, 1, 32, 7, 1, 32, 7, 1, 32, 7, 1, 32, 7, 1, 32, 7, 1, 32, 7, 1, 32, 7, 1, 32, 7, 1, 32, 7, 1, 32, 7, 1, 32, 7, 1, 32, 7, 1, 32, 7, 1, 32, 7, 1, 32, 7, 1, 32, 7, 1, 32, 7, 1, 32, 7, 1, 32, 7, 1, 32, 7, 1, 32, 7, 1, 32, 7, 1, 32, 7, 1, 32, 7, 1, 32, 7, 1, 32, 7, 1, 32, 7, 1, 32, 7, 1, 32, 7, 1, 32, 7, 1, 32, 7, 1, 32, 7, 1, 32, 7, 1, 32, 7, 1, 32, 7, 1, 32, 7, 1, 32, 7, 1, 32, 7, 1, 32, 7, 1, 32, 7, 1, 32, 7, 1, 32, 7, 1, 32, 7, 1, 32, 7, 1, 32, 7, 1, 32, 7, 1, 32, 7, 1, 32, 7, 1, 32, 7, 1, 32, 7, 1, 32, 7, 1, 32, 7, 1, 32, 7, 1, 32, 7, 1, 32, 7, 1, 32, 7, 1, 32, 7, 1, 32, 7, 1, 32, 7, 1, 32, 7, 1, 32, 7, 1, 32, 7, 1, 32, 7, 1, 32, 7, 1, 32, 7, 1, 32, 7, 1, 32, 7, 1, 32, 7, 1, 32, 7, 1, 32, 7, 1, 32, 7, 1, 32, 7, 1, 32, 7, 1, 32, 7, 1, 32, 7, 1, 32, 7, 1, 32, 7, 1, 32, 7, 1, 32, 7, 1, 32, 7, 1, 32, 7, 1, 32, 7, 1, 32, 7, 1, 32, 7, 1, 32, 7, 1, 32, 7, 1, 32, 7, 1, 32, 7, 1, 32, 7, 1, 32, 7, 1, 32, 7, 1, 32, 7, 1, 32, 7, 1, 32, 7, 1, 32, 7, 1, 32, 7, 1, 32, 7, 1, 32, 7, 1, 32, 7, 1, 32, 7, 1, 32, 7, 1, 32, 7, 1, 32, 7, 1, 32, 7, 1, 32, 7, 1, 32, 7, 1, 32, 7, 1, 32, 7, 1, 32, 7, 1, 32, 7, 1, 32, 7, 1, 32, 7, 1, 32, 7, 1, 32, 7, 1, 32, 7, 1, 32, 7, 1, 32, 7, 1, 32, 7, 1, 32, 7, 1, 32, 7, 1, 32, 7, 1, 32, 7, 1, 32, 7, 1, 32, 7, 1, 32, 7, 1, 32, 7, 1, 32, 7, 1, 32, 7, 1, 32, 7, 1, 32, 7, 1, 32, 7, 1, 32, 7, 1, 32, 7, 1, 32, 7, 1, 32, 7, 1, 32, 7, 1, 32, 7, 1, 32, 7, 1, 32, 7, 1, 32, 7, 1, 32, 7, 1, 32, 7, 1, 32, 7, 1, 32, 7, 1, 32, 7, 1, 32, 7, 1, 32, 7, 1, 32, 7, 1, 32, 7, 1, 32, 7, 1, 32, 7, 1, 32, 7, 1, 32, 7, 1, 32, 7, 1, 32, 7, 1, 32, 7, 1, 32, 7, 1, 32, 7, 1, 32, 7, 1, 32, 7, 1, 32, 7, 1, 32, 7, 1, 32, 7, 1, 32, 7, 1, 32, 7, 1, 32, 7, 1, 32, 7, 1, 32, 7, 1, 32, 7, 1, 32, 7, 1, 32, 7, 1, 32, 7, 1, 32, 7, 1, 32, 7, 1, 32, 7, 1, 32, 7, 1, 32, 7, 1, 32, 7, 1, 32, 7, 1, 32, 7, 1, 32, 7, 1, 32, 7, 1, 32, 7, 1, 32, 7, 1, 32, 7, 1, 32, 7, 1, 32, 7, 1, 32, 7, 1, 32, 7, 1, 32, 7, 1, 32, 7, 1, 32, 7, 1, 32, 7, 1, 32, 7, 1, 32, 7, 1, 32, 7, 1, 32, 7, 1, 32, 7, 1, 32, 7, 1, 32, 7, 1, 32, 7, 1, 32, 7, 1, 32, 7, 1, 32, 7, 1, 32, 7, 1, 32, 7, 1, 32, 7, 1, 32, 7, 1, 32, 7, 1, 32, 7, 1, 32, 7, 1, 32, 7, 1, 32, 7, 1, 32, 7, 1, 32, 7, 1, 32, 7, 1, 32, 7, 1, 32, 7, 1, 32, 7, 1, 32, 7, 1, 32, 7, 1, 32, 7, 1, 32, 7, 1, 32, 7, 1, 32, 7, 1, 32, 7, 1, 32, 7, 1, 32, 7, 1, 32, 7, 1, 32, 7, 1, 32, 7, 1, 32, 7, 1, 32, 7, 1, 32, 7, 1, 32, 7, 1, 32, 7, 1, 32, 7, 1, 32, 7, 1, 32, 7, 1, 32, 7, 1, 32, 7, 1, 32, 7, 1, 32, 7, 1, 32, 7, 1, 32, 7, 1, 32, 7, 1, 32, 7, 1, 32, 7, 1, 32, 7, 1, 32, 7, 1, 32, 7, 1, 32, 7, 1, 32, 7, 1, 32, 7, 1, 32, 7, 1, 32, 7, 1, 32, 7, 1, 32, 7, 1, 32, 7, 1, 32, 7, 1, 32, 7, 1, 32, 7, 1, 32, 7, 1, 32, 7, 1, 32, 7, 1, 32, 7, 1, 32, 7, 1, 32, 7, 1, 32, 7, 1, 32, 7, 1, 32, 7, 1, 32, 7, 1, 32, 7, 1, 32, 7, 1, 32, 7, 1, 32, 7, 1, 32, 7, 1, 32, 7, 1, 32, 7, 1, 32, 7, 1, 32, 7, 1, 32, 7, 1, 32, 7, 1, 32, 7, 1, 32, 7, 1, 32, 7, 1, 32, 7, 1, 32, 7, 1, 32, 7, 1, 32, 7, 1, 32, 7, 1, 32, 7, 1, 32, 7, 1, 32, 7, 1, 32, 7, 1, 32, 7, 1, 32, 7, 1, 32, 7, 1, 32, 7, 1, 32, 7, 1, 32, 7, 1, 32, 7, 1, 32, 7, 1, 32, 7, 1, 32, 7, 1, 32, 7, 1, 32, 7, 1, 32, 7, 1, 32, 7, 1, 32, 7, 1, 32, 7, 1, 32, 7, 1, 32, 7, 1, 32, 7, 1, 32, 7, 1, 32, 7, 1, 32, 7, 1, 32, 7, 1, 32, 7, 1, 32, 7, 1, 32, 7, 1, 32, 7, 1, 32, 7, 1, 32, 7, 1, 32, 7, 1, 32, 7, 1, 32, 7, 1, 32, 7, 1, 32, 7, 1, 32, 7, 1, 32, 7, 1, 32, 7, 1, 32, 7, 1, 32, 7, 1, 32, 7, 1, 32, 7, 1, 32, 7, 1, 32, 7, 1, 32, 7, 1, 32, 7, 1, 32, 7, 1, 32, 7, 1, 32, 7, 1, 32, 7, 1, 32, 7, 1, 32, 7, 1, 32, 7, 1, 32, 7, 1, 32, 7, 1, 32, 7, 1, 32, 7, 1, 32, 7, 1, 32, 7, 1, 32, 7, 1, 32, 7, 1, 32, 7, 1, 32, 7, 1, 32, 7, 1, 32, 7, 1, 32, 7, 1, 32, 7, 1, 32, 7, 1, 32, 7, 1, 32, 7, 1, 32, 7, 1, 32, 7, 1, 32, 7, 1, 32, 7, 1, 32, 7, 1, 32, 7, 1, 32, 7, 1, 32, 7, 1, 32, 7, 1, 32, 7, 1, 32, 7, 1, 32, 7, 1, 32, 7, 1, 32, 7, 1, 32, 7, 1, 32, 7, 1, 32, 7, 1, 32, 7, 1, 32, 7, 1, 32, 7, 1, 32, 7, 1, 32, 7, 1, 32, 7, 1, 32, 7, 1, 32, 7, 1, 32, 7, 1, 32, 7, 1, 32, 7, 1, 32, 7, 1, 32, 7, 1, 32, 7, 1, 32, 7, 1, 32, 7, 1, 32, 7, 1, 32, 7, 1, 32, 7, 1, 32, 7, 1, 32, 7, 1, 32, 7, 1, 32, 7, 1, 32, 7, 1, 32, 7, 1, 32, 7, 1, 32, 7, 1, 32, 7, 1, 32, 7, 1, 32, 7, 1, 32, 7, 1, 32, 7, 1, 32, 7, 1, 32, 7, 1, 32, 7, 1, 32, 7, 1, 32, 7, 1, 32, 7, 1, 32, 7, 1, 32, 7, 1, 32, 7, 1, 32, 7, 1, 32, 7, 1, 32, 7, 1, 32, 7, 1, 32, 7, 1, 32, 7, 1, 32, 7, 1, 32, 7, 1, 32, 7, 1, 32, 7, 1, 32, 7, 1, 32, 7, 1, 32, 7, 1, 32, 7, 1, 32, 7, 1, 32, 7, 1, 32, 7, 1, 32, 7, 1, 32, 7, 1, 32, 7, 1, 32, 7, 1, 32, 7, 1, 32, 7, 1, 32, 7, 1, 32, 7, 1, 32, 7, 1, 32, 7, 1, 32, 7, 1, 32, 7, 1, 32, 7, 1, 32, 7, 1, 32, 7, 1, 32, 7, 1, 32, 7, 1, 32, 7, 1, 32, 7, 1, 32, 7, 1, 32, 7, 1, 32, 7, 1, 32, 7, 1, 32, 7, 1, 32, 7, 1, 32, 7, 1, 32, 7, 1, 32, 7, 1, 32, 7, 1, 32, 7, 1, 32, 7, 1, 32, 7, 1, 32, 7, 1, 32, 7, 1, 32, 7, 1, 32, 7, 1, 32, 7, 1, 32, 7, 1, 32, 7, 1, 32, 7, 1, 32, 7, 1, 32, 7, 1, 32, 7, 1, 32, 7, 1, 32, 7, 1, 32, 7, 1, 32, 7, 1, 32, 7, 1, 32, 7, 1, 32, 7, 1, 32, 7, 1, 32, 7, 1, 32, 7, 1, 32, 7, 1, 32, 7, 1, 32, 7, 1, 32, 7, 1, 32, 7, 1, 32, 7, 1, 32, 7, 1, 32, 7, 1, 32, 7, 1, 32, 7, 1, 32, 7, 1, 32, 7, 1, 32, 7, 1, 32, 7, 1, 32, 7, 1, 32, 7, 1, 32, 7, 1, 32, 7, 1, 32, 7, 1, 32, 7, 1, 32, 7, 1, 32, 7, 1, 32, 7, 1, 32, 7, 1, 32, 7, 1, 32, 7, 1, 32, 7, 1, 32, 7, 1, 32, 7, 1, 32, 7, 1, 32, 7, 1, 32, 7, 1, 32, 7, 1, 32, 7, 1, 32, 7, 1, 32, 7, 1, 32, 7, 1, 32, 7, 1, 32, 7, 1, 32, 7, 1, 32, 7, 1, 32, 7, 1, 32, 7, 1, 32, 7, 1, 32, 7, 1, 32, 7, 1, 32, 7, 1, 32, 7, 1, 32, 7, 1, 32, 7, 1, 32, 7, 1, 32, 7, 1, 32, 7, 1, 32, 7, 1, 32, 7, 1, 32, 7, 1, 32, 7, 1, 32, 7, 1, 32, 7, 1, 32, 7, 1, 32, 7, 1, 32, 7, 1, 32, 7, 1, 32, 7, 1, 32, 7, 1, 32, 7, 1, 32, 7, 1, 32, 7, 1, 32, 7, 1, 32, 7, 1, 32, 7, 1, 32, 7, 1, 32, 7, 1, 32, 7, 1, 32, 7, 1, 32, 7, 1, 32, 7, 1, 32, 7, 1, 32, 7, 1, 32, 7, 1, 32, 7, 1, 32, 7, 1, 32, 7, 1, 32, 7, 1, 32, 7, 1, 32, 7, 1, 32, 7, 1, 32, 7, 1, 32, 7, 1, 32, 7, 1, 32, 7, 1, 32, 7, 1, 32, 7, 1, 32, 7, 1, 32, 7, 1, 32, 7, 1, 32, 7, 1, 32, 7, 1, 32, 7, 1, 32, 7, 1, 32, 7, 1, 32, 7, 1, 32, 7, 1, 32, 7, 1, 32, 7, 1, 32, 7, 1, 32, 7, 1, 32, 7, 1, 32, 7, 1, 32, 7, 1, 32, 7, 1, 32, 7, 1, 32, 7, 1, 32, 7, 1, 32, 7, 1, 32, 7, 1, 32, 7, 1, 32, 7, 1, 32, 7, 1, 32, 7, 1, 32, 7, 1, 32, 7, 1, 32, 7, 1, 32, 7, 1, 32, 7, 1, 32, 7, 1, 32, 7, 1, 32, 7, 1, 32, 7, 1, 32, 7, 1, 32, 7, 1, 32, 7, 1, 32, 7, 1, 32, 7, 1, 32, 7, 1, 32, 7, 1, 32, 7, 1, 32, 7, 1, 32, 7, 1, 32, 7, 1, 32, 7, 1, 32, 7, 1, 32, 7, 1, 32, 7, 1, 32, 7, 1, 32, 7, 1, 32, 7, 1, 32, 7, 1, 32, 7, 1, 32, 7, 1, 32, 7, 1, 32, 7, 1, 32, 7, 1, 32, 7, 1, 32, 7, 1, 32, 7, 1, 32, 7, 1, 32, 7, 1, 32, 7, 1, 32, 7, 1, 32, 7, 1, 32, 7, 1, 32, 7, 1, 32, 7, 1, 32, 7, 1, 32, 7, 1, 32, 7, 1, 32, 7, 1, 32, 7, 1, 32, 7, 1, 32, 7, 1, 32, 7, 1, 32, 7, 1, 32, 7, 1, 32, 7, 1, 32, 7, 1, 32, 7, 1, 32, 7, 1, 32, 7, 1, 32, 7, 1, 32, 7, 1, 32, 7, 1, 32, 7, 1, 32, 7, 1, 32, 7, 1, 32, 7, 1, 32, 7, 1, 32, 7, 1, 32, 7, 1, 32, 7, 1, 32, 7, 1, 32, 7, 1, 32, 7, 1, 32, 7, 1, 32, 7, 1, 32, 7, 1, 32, 7, 1, 32, 7, 1, 32, 7, 1, 32, 7, 1, 32, 7, 1, 32, 7, 1, 32, 7, 1, 32, 7, 1, 32, 7, 1, 32, 7, 1, 32, 7, 1, 32, 7, 1, 32, 7, 1, 32, 7, 1, 32, 7, 1, 32, 7, 1, 32, 7, 1, 32, 7, 1, 32, 7, 1, 32, 7, 1, 32, 7, 1, 32, 7, 1, 32, 7, 1, 32, 7, 1, 32, 7, 1, 32, 7, 1, 32, 7, 1, 32, 7, 1, 32, 7, 1, 32, 7, 1, 32, 7, 1, 32, 7, 1, 32, 7, 1, 32, 7, 1, 32, 7, 1, 32, 7, 1, 32, 7, 1, 32, 7, 1, 32, 7, 1, 32, 7, 1, 32, 7, 1, 32, 7, 1, 32, 7, 1, 32, 7, 1, 32, 7, 1, 32, 7, 1, 32, 7, 1, 32, 7, 1, 32, 7, 1, 32, 7, 1, 32, 7, 1, 32, 7, 1, 32, 7, 1, 32, 7, 1, 32, 7, 1, 32, 7, 1, 32, 7, 1, 32, 7, 1, 32, 7, 1, 32, 7, 1, 32, 7, 1, 32, 7, 1, 32, 7, 1, 32, 7, 1, 32, 7, 1, 32, 7, 1, 32, 7, 1, 32, 7, 1, 32, 7, 1, 32, 7, 1, 32, 7, 1, 32, 7, 1, 32, 7, 1, 32, 7, 1, 32, 7, 1, 32, 7, 1, 32, 7, 1, 32, 7, 1, 32, 7, 1, 32, 7, 1, 32, 7, 1, 32, 7, 1, 32, 7, 1, 32, 7, 1, 32, 7, 1, 32, 7, 1, 32, 7, 1, 32, 7, 1, 32, 7, 1, 32, 7, 1, 32, 7, 1, 32, 7, 1, 32, 7, 1, 32, 7, 1, 32, 7, 1, 32, 7, 1, 32, 7, 1, 32, 7, 1, 32, 7, 1, 32, 7, 1, 32, 7, 1, 32, 7, 1, 32, 7, 1, 32, 7, 1, 32, 7, 1, 32, 7, 1, 32, 7, 1, 3], 'token_type_ids': [0, 0, 0, 0, 0, 0, 0, 0, 0, 0, 0, 0, 0, 0, 0, 0, 0, 0, 0, 0, 0, 0, 0, 0, 0, 0, 0, 0, 0, 0, 0, 0, 0, 0, 0, 0, 0, 0, 0, 0, 0, 0, 0, 0, 0, 0, 0, 0, 0, 0, 0, 0, 0, 0, 0, 0, 0, 0, 0, 0, 0, 0, 0, 0, 0, 0, 0, 0, 0, 0, 0, 0, 0, 0, 0, 0, 0, 0, 0, 0, 0, 0, 0, 0, 0, 0, 0, 0, 0, 0, 0, 0, 0, 0, 0, 0, 0, 0, 0, 0, 0, 0, 0, 0, 0, 0, 0, 0, 0, 0, 0, 0, 0, 0, 0, 0, 0, 0, 0, 0, 0, 0, 0, 0, 0, 0, 0, 0, 0, 0, 0, 0, 0, 0, 0, 0, 0, 0, 0, 0, 0, 0, 0, 0, 0, 0, 0, 0, 0, 0, 0, 0, 0, 0, 0, 0, 0, 0, 0, 0, 0, 0, 0, 0, 0, 0, 0, 0, 0, 0, 0, 0, 0, 0, 0, 0, 0, 0, 0, 0, 0, 0, 0, 0, 0, 0, 0, 0, 0, 0, 0, 0, 0, 0, 0, 0, 0, 0, 0, 0, 0, 0, 0, 0, 0, 0, 0, 0, 0, 0, 0, 0, 0, 0, 0, 0, 0, 0, 0, 0, 0, 0, 0, 0, 0, 0, 0, 0, 0, 0, 0, 0, 0, 0, 0, 0, 0, 0, 0, 0, 0, 0, 0, 0, 0, 0, 0, 0, 0, 0, 0, 0, 0, 0, 0, 0, 0, 0, 0, 0, 0, 0, 0, 0, 0, 0, 0, 0, 0, 0, 0, 0, 0, 0, 0, 0, 0, 0, 0, 0, 0, 0, 0, 0, 0, 0, 0, 0, 0, 0, 0, 0, 0, 0, 0, 0, 0, 0, 0, 0, 0, 0, 0, 0, 0, 0, 0, 0, 0, 0, 0, 0, 0, 0, 0, 0, 0, 0, 0, 0, 0, 0, 0, 0, 0, 0, 0, 0, 0, 0, 0, 0, 0, 0, 0, 0, 0, 0, 0, 0, 0, 0, 0, 0, 0, 0, 0, 0, 0, 0, 0, 0, 0, 0, 0, 0, 0, 0, 0, 0, 0, 0, 0, 0, 0, 0, 0, 0, 0, 0, 0, 0, 0, 0, 0, 0, 0, 0, 0, 0, 0, 0, 0, 0, 0, 0, 0, 0, 0, 0, 0, 0, 0, 0, 0, 0, 0, 0, 0, 0, 0, 0, 0, 0, 0, 0, 0, 0, 0, 0, 0, 0, 0, 0, 0, 0, 0, 0, 0, 0, 0, 0, 0, 0, 0, 0, 0, 0, 0, 0, 0, 0, 0, 0, 0, 0, 0, 0, 0, 0, 0, 0, 0, 0, 0, 0, 0, 0, 0, 0, 0, 0, 0, 0, 0, 0, 0, 0, 0, 0, 0, 0, 0, 0, 0, 0, 0, 0, 0, 0, 0, 0, 0, 0, 0, 0, 0, 0, 0, 0, 0, 0, 0, 0, 0, 0, 0, 0, 0, 0, 0, 0, 0, 0, 0, 0, 0, 0, 0, 0, 0, 0, 0, 0, 0, 0, 0, 0, 0, 0, 0, 0, 0, 0, 0, 0, 0, 0, 0, 0, 0, 0, 0, 0, 0, 0, 0, 0, 0, 0, 0, 0, 0, 0, 0, 0, 0, 0, 0, 0, 0, 0, 0, 0, 0, 0, 0, 0, 0, 0, 0, 0, 0, 0, 0, 0, 0, 0, 0, 0, 0, 0, 0, 0, 0, 0, 0, 0, 0, 0, 0, 0, 0, 0, 0, 0, 0, 0, 0, 0, 0, 0, 0, 0, 0, 0, 0, 0, 0, 0, 0, 0, 0, 0, 0, 0, 0, 0, 0, 0, 0, 0, 0, 0, 0, 0, 0, 0, 0, 0, 0, 0, 0, 0, 0, 0, 0, 0, 0, 0, 0, 0, 0, 0, 0, 0, 0, 0, 0, 0, 0, 0, 0, 0, 0, 0, 0, 0, 0, 0, 0, 0, 0, 0, 0, 0, 0, 0, 0, 0, 0, 0, 0, 0, 0, 0, 0, 0, 0, 0, 0, 0, 0, 0, 0, 0, 0, 0, 0, 0, 0, 0, 0, 0, 0, 0, 0, 0, 0, 0, 0, 0, 0, 0, 0, 0, 0, 0, 0, 0, 0, 0, 0, 0, 0, 0, 0, 0, 0, 0, 0, 0, 0, 0, 0, 0, 0, 0, 0, 0, 0, 0, 0, 0, 0, 0, 0, 0, 0, 0, 0, 0, 0, 0, 0, 0, 0, 0, 0, 0, 0, 0, 0, 0, 0, 0, 0, 0, 0, 0, 0, 0, 0, 0, 0, 0, 0, 0, 0, 0, 0, 0, 0, 0, 0, 0, 0, 0, 0, 0, 0, 0, 0, 0, 0, 0, 0, 0, 0, 0, 0, 0, 0, 0, 0, 0, 0, 0, 0, 0, 0, 0, 0, 0, 0, 0, 0, 0, 0, 0, 0, 0, 0, 0, 0, 0, 0, 0, 0, 0, 0, 0, 0, 0, 0, 0, 0, 0, 0, 0, 0, 0, 0, 0, 0, 0, 0, 0, 0, 0, 0, 0, 0, 0, 0, 0, 0, 0, 0, 0, 0, 0, 0, 0, 0, 0, 0, 0, 0, 0, 0, 0, 0, 0, 0, 0, 0, 0, 0, 0, 0, 0, 0, 0, 0, 0, 0, 0, 0, 0, 0, 0, 0, 0, 0, 0, 0, 0, 0, 0, 0, 0, 0, 0, 0, 0, 0, 0, 0, 0, 0, 0, 0, 0, 0, 0, 0, 0, 0, 0, 0, 0, 0, 0, 0, 0, 0, 0, 0, 0, 0, 0, 0, 0, 0, 0, 0, 0, 0, 0, 0, 0, 0, 0, 0, 0, 0, 0, 0, 0, 0, 0, 0, 0, 0, 0, 0, 0, 0, 0, 0, 0, 0, 0, 0, 0, 0, 0, 0, 0, 0, 0, 0, 0, 0, 0, 0, 0, 0, 0, 0, 0, 0, 0, 0, 0, 0, 0, 0, 0, 0, 0, 0, 0, 0, 0, 0, 0, 0, 0, 0, 0, 0, 0, 0, 0, 0, 0, 0, 0, 0, 0, 0, 0, 0, 0, 0, 0, 0, 0, 0, 0, 0, 0, 0, 0, 0, 0, 0, 0, 0, 0, 0, 0, 0, 0, 0, 0, 0, 0, 0, 0, 0, 0, 0, 0, 0, 0, 0, 0, 0, 0, 0, 0, 0, 0, 0, 0, 0, 0, 0, 0, 0, 0, 0, 0, 0, 0, 0, 0, 0, 0, 0, 0, 0, 0, 0, 0, 0, 0, 0, 0, 0, 0, 0, 0, 0, 0, 0, 0, 0, 0, 0, 0, 0, 0, 0, 0, 0, 0, 0, 0, 0, 0, 0, 0, 0, 0, 0, 0, 0, 0, 0, 0, 0, 0, 0, 0, 0, 0, 0, 0, 0, 0, 0, 0, 0, 0, 0, 0, 0, 0, 0, 0, 0, 0, 0, 0, 0, 0, 0, 0, 0, 0, 0, 0, 0, 0, 0, 0, 0, 0, 0, 0, 0, 0, 0, 0, 0, 0, 0, 0, 0, 0, 0, 0, 0, 0, 0, 0, 0, 0, 0, 0, 0, 0, 0, 0, 0, 0, 0, 0, 0, 0, 0, 0, 0, 0, 0, 0, 0, 0, 0, 0, 0, 0, 0, 0, 0, 0, 0, 0, 0, 0, 0, 0, 0, 0, 0, 0, 0, 0, 0, 0, 0, 0, 0, 0, 0, 0, 0, 0, 0, 0, 0, 0, 0, 0, 0, 0, 0, 0, 0, 0, 0, 0, 0, 0, 0, 0, 0, 0, 0, 0, 0, 0, 0, 0, 0, 0, 0, 0, 0, 0, 0, 0, 0, 0, 0, 0, 0, 0, 0, 0, 0, 0, 0, 0, 0, 0, 0, 0, 0, 0, 0, 0, 0, 0, 0, 0, 0, 0, 0, 0, 0, 0, 0, 0, 0, 0, 0, 0, 0, 0, 0, 0, 0, 0, 0, 0, 0, 0, 0, 0, 0, 0, 0, 0, 0, 0, 0, 0, 0, 0, 0, 0, 0, 0, 0, 0, 0, 0, 0, 0, 0, 0, 0, 0, 0, 0, 0, 0, 0, 0, 0, 0, 0, 0, 0, 0, 0, 0, 0, 0, 0, 0, 0, 0, 0, 0, 0, 0, 0, 0, 0, 0, 0, 0, 0, 0, 0, 0, 0, 0, 0, 0, 0, 0, 0, 0, 0, 0, 0, 0, 0, 0, 0, 0, 0, 0, 0, 0, 0, 0, 0, 0, 0, 0, 0, 0, 0, 0, 0, 0, 0, 0, 0, 0, 0, 0, 0, 0, 0, 0, 0, 0, 0, 0, 0, 0, 0, 0, 0, 0, 0, 0, 0, 0, 0, 0, 0, 0, 0, 0, 0, 0, 0, 0, 0, 0, 0, 0, 0, 0, 0, 0, 0, 0, 0, 0, 0, 0, 0, 0, 0, 0, 0, 0, 0, 0, 0, 0, 0, 0, 0, 0, 0, 0, 0, 0, 0, 0, 0, 0, 0, 0, 0, 0, 0, 0, 0, 0, 0, 0, 0, 0, 0, 0, 0, 0, 0, 0, 0, 0, 0, 0, 0, 0, 0, 0, 0, 0, 0, 0, 0, 0, 0, 0, 0, 0, 0, 0, 0, 0, 0, 0, 0, 0, 0, 0, 0, 0, 0, 0, 0, 0, 0, 0, 0, 0, 0, 0, 0, 0, 0, 0, 0, 0, 0, 0, 0, 0, 0, 0, 0, 0, 0, 0, 0, 0, 0, 0, 0, 0, 0, 0, 0, 0, 0, 0, 0, 0, 0, 0, 0, 0, 0, 0, 0, 0, 0, 0, 0, 0, 0, 0, 0, 0, 0, 0, 0, 0, 0, 0, 0, 0, 0, 0, 0, 0, 0, 0, 0, 0, 0, 0, 0, 0, 0, 0, 0, 0, 0, 0, 0, 0, 0, 0, 0, 0, 0, 0, 0, 0, 0, 0, 0, 0, 0, 0, 0, 0, 0, 0, 0, 0, 0, 0, 0, 0, 0, 0, 0, 0, 0, 0, 0, 0, 0, 0, 0, 0, 0, 0, 0, 0, 0, 0, 0, 0, 0, 0, 0, 0, 0, 0, 0, 0, 0, 0, 0, 0, 0, 0, 0, 0, 0, 0, 0, 0, 0, 0, 0, 0, 0, 0, 0, 0, 0, 0, 0, 0, 0, 0, 0, 0, 0, 0, 0, 0, 0, 0, 0, 0, 0, 0, 0, 0, 0, 0, 0, 0, 0, 0, 0, 0, 0, 0, 0, 0, 0, 0, 0, 0, 0, 0, 0, 0, 0, 0, 0, 0, 0, 0, 0, 0, 0, 0, 0, 0, 0, 0, 0, 0, 0, 0, 0, 0, 0, 0, 0, 0, 0, 0, 0, 0, 0, 0, 0, 0, 0, 0, 0, 0, 0, 0, 0, 0, 0, 0, 0, 0, 0, 0, 0, 0, 0, 0, 0, 0, 0, 0, 0, 0, 0, 0, 0, 0, 0, 0, 0, 0, 0, 0, 0, 0, 0, 0, 0, 0, 0, 0, 0, 0, 0, 0, 0, 0, 0, 0, 0, 0, 0, 0, 0, 0, 0, 0, 0, 0, 0, 0, 0, 0, 0, 0, 0, 0, 0, 0, 0, 0, 0, 0, 0, 0, 0, 0, 0, 0, 0, 0, 0, 0, 0, 0, 0, 0, 0, 0, 0, 0, 0, 0, 0, 0, 0, 0, 0, 0, 0, 0, 0, 0, 0, 0, 0, 0, 0, 0, 0, 0, 0, 0, 0, 0, 0, 0, 0, 0, 0, 0, 0, 0, 0, 0, 0, 0, 0, 0, 0, 0, 0, 0, 0, 0, 0, 0, 0, 0, 0, 0, 0, 0, 0, 0, 0, 0, 0, 0, 0, 0, 0, 0, 0, 0, 0, 0, 0, 0, 0, 0, 0, 0, 0, 0, 0, 0, 0, 0, 0, 0, 0, 0, 0, 0, 0, 0, 0, 0, 0, 0, 0, 0, 0, 0, 0, 0, 0, 0, 0, 0, 0, 0, 0, 0, 0, 0, 0, 0, 0, 0, 0, 0, 0, 0, 0, 0, 0, 0, 0, 0, 0, 0, 0, 0, 0, 0, 0, 0, 0, 0, 0, 0, 0, 0, 0, 0, 0, 0, 0, 0, 0, 0, 0, 0, 0, 0, 0, 0, 0, 0, 0, 0, 0, 0, 0, 0, 0, 0, 0, 0, 0, 0, 0, 0, 0, 0, 0, 0, 0, 0, 0, 0, 0, 0, 0, 0, 0, 0, 0, 0, 0, 0, 0, 0, 0, 0, 0, 0, 0, 0, 0, 0, 0, 0, 0, 0, 0, 0, 0, 0, 0, 0, 0, 0, 0, 0, 0, 0, 0, 0, 0, 0, 0, 0, 0, 0, 0, 0, 0, 0, 0, 0, 0, 0, 0, 0, 0, 0, 0, 0, 0, 0, 0, 0, 0, 0, 0, 0, 0, 0, 0, 0, 0, 0, 0, 0, 0, 0, 0, 0, 0, 0, 0, 0, 0, 0, 0, 0, 0, 0, 0, 0, 0, 0, 0, 0, 0, 0, 0, 0, 0, 0, 0, 0, 0, 0, 0, 0, 0, 0, 0, 0, 0, 0, 0, 0, 0, 0, 0, 0, 0, 0, 0, 0, 0, 0, 0, 0, 0, 0, 0, 0, 0, 0, 0, 0, 0, 0, 0, 0, 0, 0, 0, 0, 0, 0, 0, 0, 0, 0, 0, 0, 0, 0, 0, 0, 0, 0, 0, 0, 0, 0, 0, 0, 0, 0, 0, 0, 0, 0, 0, 0, 0, 0, 0, 0, 0, 0, 0, 0, 0, 0, 0, 0, 0, 0, 0, 0, 0, 0, 0, 0, 0, 0, 0, 0, 0, 0, 0, 0, 0, 0, 0, 0, 0, 0, 0, 0, 0, 0, 0, 0, 0, 0, 0, 0, 0, 0, 0, 0, 0, 0, 0, 0, 0, 0, 0, 0, 0, 0, 0, 0, 0, 0, 0, 0, 0, 0, 0, 0, 0, 0, 0, 0, 0, 0, 0, 0, 0, 0, 0, 0, 0, 0, 0, 0, 0, 0, 0, 0, 0, 0, 0, 0, 0, 0, 0, 0, 0, 0, 0, 0, 0, 0, 0, 0, 0, 0, 0, 0, 0, 0, 0, 0, 0, 0, 0, 0, 0, 0, 0, 0, 0, 0, 0, 0, 0, 0, 0, 0, 0, 0, 0, 0, 0, 0, 0, 0, 0, 0, 0, 0, 0, 0, 0, 0, 0, 0, 0, 0, 0, 0, 0, 0, 0, 0, 0, 0, 0, 0, 0, 0, 0, 0, 0, 0, 0, 0, 0, 0, 0, 0, 0, 0, 0, 0, 0, 0, 0, 0, 0, 0, 0, 0, 0, 0, 0, 0, 0, 0, 0, 0, 0, 0, 0, 0, 0, 0, 0, 0, 0, 0, 0, 0, 0, 0, 0, 0, 0, 0, 0, 0, 0, 0, 0, 0, 0, 0, 0, 0, 0, 0, 0, 0, 0, 0, 0, 0, 0, 0, 0, 0, 0, 0, 0, 0, 0, 0, 0, 0, 0, 0, 0, 0, 0, 0, 0, 0, 0, 0, 0, 0, 0, 0, 0, 0, 0, 0, 0, 0, 0, 0, 0, 0, 0, 0, 0, 0, 0, 0, 0, 0, 0, 0, 0, 0, 0, 0, 0, 0, 0, 0, 0, 0, 0, 0, 0, 0, 0, 0, 0, 0, 0, 0, 0, 0, 0, 0, 0, 0, 0, 0, 0, 0, 0, 0, 0, 0, 0, 0, 0, 0, 0, 0, 0, 0, 0, 0, 0, 0, 0, 0, 0, 0, 0, 0, 0, 0, 0, 0, 0, 0, 0, 0, 0, 0, 0, 0, 0, 0, 0, 0, 0, 0, 0, 0, 0, 0, 0, 0, 0, 0, 0, 0, 0, 0, 0, 0, 0, 0, 0, 0, 0, 0, 0, 0, 0, 0, 0, 0, 0, 0, 0, 0, 0, 0, 0, 0, 0, 0, 0, 0, 0, 0, 0, 0, 0, 0, 0, 0, 0, 0, 0, 0, 0, 0, 0, 0, 0, 0, 0, 0, 0, 0, 0, 0, 0, 0, 0, 0, 0, 0, 0, 0, 0, 0, 0, 0, 0, 0, 0, 0, 0, 0, 0, 0, 0, 0, 0, 0, 0, 0, 0, 0, 0, 0, 0, 0, 0, 0, 0, 0, 0, 0, 0, 0, 0, 0, 0, 0, 0, 0, 0, 0, 0, 0, 0, 0, 0, 0, 0, 0, 0, 0, 0, 0, 0, 0, 0, 0, 0, 0, 0, 0, 0, 0, 0, 0, 0, 0, 0, 0, 0, 0, 0, 0, 0, 0, 0, 0, 0, 0, 0, 0, 0, 0, 0, 0, 0, 0, 0, 0, 0, 0, 0, 0, 0, 0, 0, 0, 0, 0, 0, 0, 0, 0, 0, 0, 0, 0, 0, 0, 0, 0, 0, 0, 0, 0, 0, 0, 0, 0, 0, 0, 0, 0, 0, 0, 0, 0, 0, 0, 0, 0, 0, 0, 0, 0, 0, 0, 0, 0, 0, 0, 0, 0, 0, 0, 0, 0, 0, 0, 0, 0, 0, 0, 0, 0, 0, 0, 0, 0, 0, 0, 0, 0, 0, 0, 0, 0, 0, 0, 0, 0, 0, 0, 0, 0, 0, 0, 0, 0, 0, 0, 0, 0, 0, 0, 0, 0, 0, 0, 0, 0, 0, 0, 0, 0, 0, 0, 0, 0, 0, 0, 0, 0, 0, 0, 0, 0, 0, 0, 0, 0, 0, 0, 0, 0, 0, 0, 0, 0, 0, 0, 0, 0, 0, 0, 0, 0, 0, 0, 0, 0, 0, 0, 0, 0, 0, 0, 0, 0, 0, 0, 0, 0, 0, 0, 0, 0, 0, 0, 0, 0, 0, 0, 0, 0, 0, 0, 0, 0, 0, 0, 0, 0, 0, 0, 0, 0, 0, 0, 0, 0, 0, 0, 0, 0, 0, 0, 0, 0, 0, 0, 0, 0, 0, 0, 0, 0, 0, 0, 0, 0, 0, 0, 0, 0, 0, 0, 0, 0, 0, 0, 0, 0, 0, 0, 0, 0, 0, 0, 0, 0, 0, 0, 0, 0, 0, 0, 0, 0, 0, 0, 0, 0, 0, 0, 0, 0, 0, 0, 0, 0, 0, 0, 0, 0, 0, 0, 0, 0, 0, 0, 0, 0, 0, 0, 0, 0, 0, 0, 0, 0, 0, 0, 0, 0, 0, 0, 0, 0, 0, 0, 0, 0, 0, 0, 0, 0, 0, 0, 0, 0, 0, 0, 0, 0, 0, 0, 0, 0, 0, 0, 0, 0, 0, 0, 0, 0, 0, 0, 0, 0, 0, 0, 0, 0, 0, 0, 0, 0, 0, 0, 0, 0, 0, 0, 0, 0, 0, 0, 0, 0, 0, 0, 0, 0, 0, 0, 0, 0, 0, 0, 0, 0, 0, 0, 0, 0, 0, 0, 0, 0, 0, 0, 0, 0, 0, 0, 0, 0, 0, 0, 0, 0, 0, 0, 0, 0, 0], 'attention_mask': [1, 1, 1, 1, 1, 1, 1, 1, 1, 1, 1, 1, 1, 1, 1, 1, 1, 1, 1, 1, 1, 1, 1, 1, 1, 1, 1, 1, 1, 1, 1, 1, 1, 1, 1, 1, 1, 1, 1, 1, 1, 1, 1, 1, 1, 1, 1, 1, 1, 1, 1, 1, 1, 1, 1, 1, 1, 1, 1, 1, 1, 1, 1, 1, 1, 1, 1, 1, 1, 1, 1, 1, 1, 1, 1, 1, 1, 1, 1, 1, 1, 1, 1, 1, 1, 1, 1, 1, 1, 1, 1, 1, 1, 1, 1, 1, 1, 1, 1, 1, 1, 1, 1, 1, 1, 1, 1, 1, 1, 1, 1, 1, 1, 1, 1, 1, 1, 1, 1, 1, 1, 1, 1, 1, 1, 1, 1, 1, 1, 1, 1, 1, 1, 1, 1, 1, 1, 1, 1, 1, 1, 1, 1, 1, 1, 1, 1, 1, 1, 1, 1, 1, 1, 1, 1, 1, 1, 1, 1, 1, 1, 1, 1, 1, 1, 1, 1, 1, 1, 1, 1, 1, 1, 1, 1, 1, 1, 1, 1, 1, 1, 1, 1, 1, 1, 1, 1, 1, 1, 1, 1, 1, 1, 1, 1, 1, 1, 1, 1, 1, 1, 1, 1, 1, 1, 1, 1, 1, 1, 1, 1, 1, 1, 1, 1, 1, 1, 1, 1, 1, 1, 1, 1, 1, 1, 1, 1, 1, 1, 1, 1, 1, 1, 1, 1, 1, 1, 1, 1, 1, 1, 1, 1, 1, 1, 1, 1, 1, 1, 1, 1, 1, 1, 1, 1, 1, 1, 1, 1, 1, 1, 1, 1, 1, 1, 1, 1, 1, 1, 1, 1, 1, 1, 1, 1, 1, 1, 1, 1, 1, 1, 1, 1, 1, 1, 1, 1, 1, 1, 1, 1, 1, 1, 1, 1, 1, 1, 1, 1, 1, 1, 1, 1, 1, 1, 1, 1, 1, 1, 1, 1, 1, 1, 1, 1, 1, 1, 1, 1, 1, 1, 1, 1, 1, 1, 1, 1, 1, 1, 1, 1, 1, 1, 1, 1, 1, 1, 1, 1, 1, 1, 1, 1, 1, 1, 1, 1, 1, 1, 1, 1, 1, 1, 1, 1, 1, 1, 1, 1, 1, 1, 1, 1, 1, 1, 1, 1, 1, 1, 1, 1, 1, 1, 1, 1, 1, 1, 1, 1, 1, 1, 1, 1, 1, 1, 1, 1, 1, 1, 1, 1, 1, 1, 1, 1, 1, 1, 1, 1, 1, 1, 1, 1, 1, 1, 1, 1, 1, 1, 1, 1, 1, 1, 1, 1, 1, 1, 1, 1, 1, 1, 1, 1, 1, 1, 1, 1, 1, 1, 1, 1, 1, 1, 1, 1, 1, 1, 1, 1, 1, 1, 1, 1, 1, 1, 1, 1, 1, 1, 1, 1, 1, 1, 1, 1, 1, 1, 1, 1, 1, 1, 1, 1, 1, 1, 1, 1, 1, 1, 1, 1, 1, 1, 1, 1, 1, 1, 1, 1, 1, 1, 1, 1, 1, 1, 1, 1, 1, 1, 1, 1, 1, 1, 1, 1, 1, 1, 1, 1, 1, 1, 1, 1, 1, 1, 1, 1, 1, 1, 1, 1, 1, 1, 1, 1, 1, 1, 1, 1, 1, 1, 1, 1, 1, 1, 1, 1, 1, 1, 1, 1, 1, 1, 1, 1, 1, 1, 1, 1, 1, 1, 1, 1, 1, 1, 1, 1, 1, 1, 1, 1, 1, 1, 1, 1, 1, 1, 1, 1, 1, 1, 1, 1, 1, 1, 1, 1, 1, 1, 1, 1, 1, 1, 1, 1, 1, 1, 1, 1, 1, 1, 1, 1, 1, 1, 1, 1, 1, 1, 1, 1, 1, 1, 1, 1, 1, 1, 1, 1, 1, 1, 1, 1, 1, 1, 1, 1, 1, 1, 1, 1, 1, 1, 1, 1, 1, 1, 1, 1, 1, 1, 1, 1, 1, 1, 1, 1, 1, 1, 1, 1, 1, 1, 1, 1, 1, 1, 1, 1, 1, 1, 1, 1, 1, 1, 1, 1, 1, 1, 1, 1, 1, 1, 1, 1, 1, 1, 1, 1, 1, 1, 1, 1, 1, 1, 1, 1, 1, 1, 1, 1, 1, 1, 1, 1, 1, 1, 1, 1, 1, 1, 1, 1, 1, 1, 1, 1, 1, 1, 1, 1, 1, 1, 1, 1, 1, 1, 1, 1, 1, 1, 1, 1, 1, 1, 1, 1, 1, 1, 1, 1, 1, 1, 1, 1, 1, 1, 1, 1, 1, 1, 1, 1, 1, 1, 1, 1, 1, 1, 1, 1, 1, 1, 1, 1, 1, 1, 1, 1, 1, 1, 1, 1, 1, 1, 1, 1, 1, 1, 1, 1, 1, 1, 1, 1, 1, 1, 1, 1, 1, 1, 1, 1, 1, 1, 1, 1, 1, 1, 1, 1, 1, 1, 1, 1, 1, 1, 1, 1, 1, 1, 1, 1, 1, 1, 1, 1, 1, 1, 1, 1, 1, 1, 1, 1, 1, 1, 1, 1, 1, 1, 1, 1, 1, 1, 1, 1, 1, 1, 1, 1, 1, 1, 1, 1, 1, 1, 1, 1, 1, 1, 1, 1, 1, 1, 1, 1, 1, 1, 1, 1, 1, 1, 1, 1, 1, 1, 1, 1, 1, 1, 1, 1, 1, 1, 1, 1, 1, 1, 1, 1, 1, 1, 1, 1, 1, 1, 1, 1, 1, 1, 1, 1, 1, 1, 1, 1, 1, 1, 1, 1, 1, 1, 1, 1, 1, 1, 1, 1, 1, 1, 1, 1, 1, 1, 1, 1, 1, 1, 1, 1, 1, 1, 1, 1, 1, 1, 1, 1, 1, 1, 1, 1, 1, 1, 1, 1, 1, 1, 1, 1, 1, 1, 1, 1, 1, 1, 1, 1, 1, 1, 1, 1, 1, 1, 1, 1, 1, 1, 1, 1, 1, 1, 1, 1, 1, 1, 1, 1, 1, 1, 1, 1, 1, 1, 1, 1, 1, 1, 1, 1, 1, 1, 1, 1, 1, 1, 1, 1, 1, 1, 1, 1, 1, 1, 1, 1, 1, 1, 1, 1, 1, 1, 1, 1, 1, 1, 1, 1, 1, 1, 1, 1, 1, 1, 1, 1, 1, 1, 1, 1, 1, 1, 1, 1, 1, 1, 1, 1, 1, 1, 1, 1, 1, 1, 1, 1, 1, 1, 1, 1, 1, 1, 1, 1, 1, 1, 1, 1, 1, 1, 1, 1, 1, 1, 1, 1, 1, 1, 1, 1, 1, 1, 1, 1, 1, 1, 1, 1, 1, 1, 1, 1, 1, 1, 1, 1, 1, 1, 1, 1, 1, 1, 1, 1, 1, 1, 1, 1, 1, 1, 1, 1, 1, 1, 1, 1, 1, 1, 1, 1, 1, 1, 1, 1, 1, 1, 1, 1, 1, 1, 1, 1, 1, 1, 1, 1, 1, 1, 1, 1, 1, 1, 1, 1, 1, 1, 1, 1, 1, 1, 1, 1, 1, 1, 1, 1, 1, 1, 1, 1, 1, 1, 1, 1, 1, 1, 1, 1, 1, 1, 1, 1, 1, 1, 1, 1, 1, 1, 1, 1, 1, 1, 1, 1, 1, 1, 1, 1, 1, 1, 1, 1, 1, 1, 1, 1, 1, 1, 1, 1, 1, 1, 1, 1, 1, 1, 1, 1, 1, 1, 1, 1, 1, 1, 1, 1, 1, 1, 1, 1, 1, 1, 1, 1, 1, 1, 1, 1, 1, 1, 1, 1, 1, 1, 1, 1, 1, 1, 1, 1, 1, 1, 1, 1, 1, 1, 1, 1, 1, 1, 1, 1, 1, 1, 1, 1, 1, 1, 1, 1, 1, 1, 1, 1, 1, 1, 1, 1, 1, 1, 1, 1, 1, 1, 1, 1, 1, 1, 1, 1, 1, 1, 1, 1, 1, 1, 1, 1, 1, 1, 1, 1, 1, 1, 1, 1, 1, 1, 1, 1, 1, 1, 1, 1, 1, 1, 1, 1, 1, 1, 1, 1, 1, 1, 1, 1, 1, 1, 1, 1, 1, 1, 1, 1, 1, 1, 1, 1, 1, 1, 1, 1, 1, 1, 1, 1, 1, 1, 1, 1, 1, 1, 1, 1, 1, 1, 1, 1, 1, 1, 1, 1, 1, 1, 1, 1, 1, 1, 1, 1, 1, 1, 1, 1, 1, 1, 1, 1, 1, 1, 1, 1, 1, 1, 1, 1, 1, 1, 1, 1, 1, 1, 1, 1, 1, 1, 1, 1, 1, 1, 1, 1, 1, 1, 1, 1, 1, 1, 1, 1, 1, 1, 1, 1, 1, 1, 1, 1, 1, 1, 1, 1, 1, 1, 1, 1, 1, 1, 1, 1, 1, 1, 1, 1, 1, 1, 1, 1, 1, 1, 1, 1, 1, 1, 1, 1, 1, 1, 1, 1, 1, 1, 1, 1, 1, 1, 1, 1, 1, 1, 1, 1, 1, 1, 1, 1, 1, 1, 1, 1, 1, 1, 1, 1, 1, 1, 1, 1, 1, 1, 1, 1, 1, 1, 1, 1, 1, 1, 1, 1, 1, 1, 1, 1, 1, 1, 1, 1, 1, 1, 1, 1, 1, 1, 1, 1, 1, 1, 1, 1, 1, 1, 1, 1, 1, 1, 1, 1, 1, 1, 1, 1, 1, 1, 1, 1, 1, 1, 1, 1, 1, 1, 1, 1, 1, 1, 1, 1, 1, 1, 1, 1, 1, 1, 1, 1, 1, 1, 1, 1, 1, 1, 1, 1, 1, 1, 1, 1, 1, 1, 1, 1, 1, 1, 1, 1, 1, 1, 1, 1, 1, 1, 1, 1, 1, 1, 1, 1, 1, 1, 1, 1, 1, 1, 1, 1, 1, 1, 1, 1, 1, 1, 1, 1, 1, 1, 1, 1, 1, 1, 1, 1, 1, 1, 1, 1, 1, 1, 1, 1, 1, 1, 1, 1, 1, 1, 1, 1, 1, 1, 1, 1, 1, 1, 1, 1, 1, 1, 1, 1, 1, 1, 1, 1, 1, 1, 1, 1, 1, 1, 1, 1, 1, 1, 1, 1, 1, 1, 1, 1, 1, 1, 1, 1, 1, 1, 1, 1, 1, 1, 1, 1, 1, 1, 1, 1, 1, 1, 1, 1, 1, 1, 1, 1, 1, 1, 1, 1, 1, 1, 1, 1, 1, 1, 1, 1, 1, 1, 1, 1, 1, 1, 1, 1, 1, 1, 1, 1, 1, 1, 1, 1, 1, 1, 1, 1, 1, 1, 1, 1, 1, 1, 1, 1, 1, 1, 1, 1, 1, 1, 1, 1, 1, 1, 1, 1, 1, 1, 1, 1, 1, 1, 1, 1, 1, 1, 1, 1, 1, 1, 1, 1, 1, 1, 1, 1, 1, 1, 1, 1, 1, 1, 1, 1, 1, 1, 1, 1, 1, 1, 1, 1, 1, 1, 1, 1, 1, 1, 1, 1, 1, 1, 1, 1, 1, 1, 1, 1, 1, 1, 1, 1, 1, 1, 1, 1, 1, 1, 1, 1, 1, 1, 1, 1, 1, 1, 1, 1, 1, 1, 1, 1, 1, 1, 1, 1, 1, 1, 1, 1, 1, 1, 1, 1, 1, 1, 1, 1, 1, 1, 1, 1, 1, 1, 1, 1, 1, 1, 1, 1, 1, 1, 1, 1, 1, 1, 1, 1, 1, 1, 1, 1, 1, 1, 1, 1, 1, 1, 1, 1, 1, 1, 1, 1, 1, 1, 1, 1, 1, 1, 1, 1, 1, 1, 1, 1, 1, 1, 1, 1, 1, 1, 1, 1, 1, 1, 1, 1, 1, 1, 1, 1, 1, 1, 1, 1, 1, 1, 1, 1, 1, 1, 1, 1, 1, 1, 1, 1, 1, 1, 1, 1, 1, 1, 1, 1, 1, 1, 1, 1, 1, 1, 1, 1, 1, 1, 1, 1, 1, 1, 1, 1, 1, 1, 1, 1, 1, 1, 1, 1, 1, 1, 1, 1, 1, 1, 1, 1, 1, 1, 1, 1, 1, 1, 1, 1, 1, 1, 1, 1, 1, 1, 1, 1, 1, 1, 1, 1, 1, 1, 1, 1, 1, 1, 1, 1, 1, 1, 1, 1, 1, 1, 1, 1, 1, 1, 1, 1, 1, 1, 1, 1, 1, 1, 1, 1, 1, 1, 1, 1, 1, 1, 1, 1, 1, 1, 1, 1, 1, 1, 1, 1, 1, 1, 1, 1, 1, 1, 1, 1, 1, 1, 1, 1, 1, 1, 1, 1, 1, 1, 1, 1, 1, 1, 1, 1, 1, 1, 1, 1, 1, 1, 1, 1, 1, 1, 1, 1, 1, 1, 1, 1, 1, 1, 1, 1, 1, 1, 1, 1, 1, 1, 1, 1, 1, 1, 1, 1, 1, 1, 1, 1, 1, 1, 1, 1, 1, 1, 1, 1, 1, 1, 1, 1, 1, 1, 1, 1, 1, 1, 1, 1, 1, 1, 1, 1, 1, 1, 1, 1, 1, 1, 1, 1, 1, 1, 1, 1, 1, 1, 1, 1, 1, 1, 1, 1, 1, 1, 1, 1, 1, 1, 1, 1, 1, 1, 1, 1, 1, 1, 1, 1, 1, 1, 1, 1, 1, 1, 1, 1, 1, 1, 1, 1, 1, 1, 1, 1, 1, 1, 1, 1, 1, 1, 1, 1, 1, 1, 1, 1, 1, 1, 1, 1, 1, 1, 1, 1, 1, 1, 1, 1, 1, 1, 1, 1, 1, 1, 1, 1, 1, 1, 1, 1, 1, 1, 1, 1, 1, 1, 1, 1, 1, 1, 1, 1, 1, 1, 1, 1, 1, 1, 1, 1, 1, 1, 1, 1, 1, 1, 1, 1, 1, 1, 1, 1, 1, 1, 1, 1, 1, 1, 1, 1, 1, 1, 1, 1, 1, 1, 1, 1, 1, 1, 1, 1, 1, 1, 1, 1, 1, 1, 1, 1, 1, 1, 1, 1, 1, 1, 1, 1, 1, 1, 1, 1, 1, 1, 1, 1, 1, 1, 1, 1, 1, 1, 1, 1, 1, 1, 1, 1, 1, 1, 1, 1, 1, 1, 1, 1, 1, 1, 1, 1, 1, 1, 1, 1, 1, 1, 1, 1, 1, 1, 1, 1, 1, 1, 1, 1, 1, 1, 1, 1, 1, 1, 1, 1, 1, 1, 1, 1, 1, 1, 1, 1, 1, 1, 1, 1, 1, 1, 1, 1, 1, 1, 1, 1, 1, 1, 1, 1, 1, 1, 1, 1, 1, 1, 1, 1, 1, 1, 1, 1, 1, 1, 1, 1, 1, 1, 1, 1, 1, 1, 1, 1, 1, 1, 1, 1, 1, 1, 1, 1, 1, 1, 1, 1, 1, 1, 1, 1, 1, 1, 1, 1, 1, 1, 1, 1, 1, 1, 1, 1, 1, 1, 1, 1, 1, 1, 1, 1, 1, 1, 1, 1, 1, 1, 1, 1, 1, 1, 1, 1, 1, 1, 1, 1, 1, 1, 1, 1, 1, 1, 1, 1, 1, 1, 1, 1, 1, 1, 1, 1, 1, 1, 1, 1, 1, 1, 1, 1, 1, 1, 1, 1, 1, 1, 1, 1, 1, 1, 1, 1, 1, 1, 1, 1, 1, 1, 1, 1, 1, 1, 1, 1, 1, 1, 1, 1, 1, 1, 1, 1, 1, 1, 1, 1, 1, 1, 1, 1, 1, 1, 1, 1, 1, 1, 1, 1, 1, 1, 1, 1, 1, 1, 1, 1, 1, 1, 1, 1, 1, 1, 1, 1, 1, 1, 1, 1, 1, 1, 1, 1, 1, 1, 1, 1, 1, 1, 1, 1, 1, 1, 1, 1, 1, 1, 1, 1, 1, 1, 1, 1, 1, 1, 1, 1, 1, 1, 1, 1, 1, 1, 1, 1, 1, 1, 1, 1, 1, 1, 1, 1, 1, 1, 1, 1, 1, 1, 1, 1, 1, 1, 1, 1, 1, 1, 1, 1, 1, 1, 1, 1, 1, 1, 1, 1, 1, 1, 1, 1, 1, 1, 1, 1, 1, 1, 1, 1, 1, 1, 1, 1, 1, 1, 1, 1, 1, 1, 1, 1, 1, 1, 1, 1, 1, 1, 1, 1, 1, 1, 1, 1, 1, 1, 1, 1, 1, 1, 1, 1, 1, 1, 1, 1, 1, 1, 1, 1, 1, 1, 1, 1, 1, 1, 1, 1, 1, 1, 1, 1, 1, 1, 1, 1, 1, 1, 1, 1, 1, 1, 1, 1, 1, 1, 1, 1, 1, 1, 1, 1, 1, 1, 1, 1, 1, 1, 1, 1, 1, 1, 1, 1, 1, 1, 1, 1, 1, 1, 1, 1, 1, 1, 1, 1, 1, 1, 1, 1, 1, 1, 1, 1, 1, 1, 1, 1, 1, 1, 1, 1, 1, 1, 1, 1, 1, 1, 1, 1, 1, 1, 1, 1, 1, 1, 1, 1, 1, 1, 1, 1, 1, 1, 1, 1, 1, 1, 1, 1, 1, 1, 1, 1, 1, 1, 1, 1, 1, 1, 1, 1, 1, 1, 1, 1, 1, 1, 1, 1, 1, 1, 1, 1, 1, 1, 1, 1, 1, 1, 1, 1, 1, 1, 1, 1, 1, 1, 1, 1, 1, 1, 1, 1, 1, 1, 1, 1, 1, 1, 1, 1, 1, 1, 1, 1, 1, 1, 1, 1, 1, 1, 1, 1, 1, 1, 1, 1, 1, 1, 1, 1, 1, 1, 1, 1, 1, 1, 1, 1, 1, 1, 1, 1, 1, 1, 1, 1, 1, 1, 1, 1, 1, 1, 1, 1, 1, 1, 1, 1, 1, 1, 1, 1, 1, 1, 1, 1, 1, 1, 1, 1, 1, 1, 1, 1, 1, 1, 1, 1, 1, 1, 1, 1, 1, 1, 1, 1, 1, 1, 1, 1, 1, 1, 1, 1, 1, 1, 1, 1, 1, 1, 1, 1, 1, 1, 1, 1, 1, 1, 1, 1, 1, 1, 1, 1, 1, 1, 1, 1, 1, 1, 1, 1, 1, 1, 1, 1, 1, 1, 1, 1, 1, 1, 1, 1, 1, 1, 1, 1, 1, 1, 1, 1, 1, 1, 1, 1, 1, 1, 1, 1, 1, 1, 1, 1, 1, 1, 1, 1, 1, 1, 1, 1, 1, 1, 1, 1, 1, 1, 1, 1, 1, 1, 1, 1, 1, 1, 1, 1, 1, 1, 1, 1, 1, 1, 1, 1, 1, 1, 1, 1, 1, 1, 1, 1, 1, 1, 1, 1, 1, 1, 1, 1, 1, 1, 1, 1, 1, 1, 1, 1, 1, 1, 1, 1, 1, 1, 1, 1, 1, 1, 1, 1, 1, 1, 1, 1, 1, 1, 1, 1, 1, 1, 1, 1, 1, 1, 1, 1, 1, 1, 1, 1, 1, 1, 1, 1, 1, 1, 1, 1, 1, 1, 1, 1, 1, 1, 1, 1, 1, 1, 1, 1, 1, 1, 1, 1, 1, 1, 1, 1, 1, 1, 1, 1, 1, 1, 1, 1, 1, 1, 1, 1, 1, 1, 1, 1, 1, 1, 1, 1, 1, 1, 1, 1, 1, 1, 1, 1, 1, 1, 1, 1, 1, 1, 1, 1, 1, 1, 1, 1]}\n",
            "[CLS][MASK]AAAAAA[UNK]AAAAAA[UNK]AAAAAA[UNK]AAAAAA[UNK]AAAAAA[UNK]AAAAAA[UNK]AAAAAA[UNK]AAAAAA[UNK]AAAAAA[UNK]AAAAAA[UNK]AAAAAA[UNK]AAAAAA[UNK]AAAAAA[UNK]AAAAAA[UNK]AAAAAA[UNK]AAAAAA[UNK]AAAAAA[UNK]AAAAAA[UNK]AAAAAA[UNK]AAAAAA[UNK]AAAAAA[UNK]AAAAAA[UNK]AAAAAA[UNK]AAAAAA[UNK]AAAAAA[UNK]AAAAAA[UNK]AAAAAA[UNK]AAAAAA[UNK]AAAAAA[UNK]AAAAAA[UNK]AAAAAA[UNK]AAAAAA[UNK]AAAAAA[UNK]AAAAAA[UNK]AAAAAA[UNK]AAAAAA[UNK]AAAAAA[UNK]AAAAAA[UNK]AAAAAA[UNK]AAAAAA[UNK]AAAAAA[UNK]AAAAAA[UNK]AAAAAA[UNK]AAAAAA[UNK]AAAAAA[UNK]AAAAAA[UNK]AAAAAA[UNK]AAAAAA[UNK]AAAAAA[UNK]AAAAAA[UNK]AAAAAA[UNK]AAAAAA[UNK]AAAAAA[UNK]AAAAAA[UNK]AAAAAA[UNK]AAAAAA[UNK]AAAAAA[UNK]AAAAAA[UNK]AAAAAA[UNK]AAAAAA[UNK]AAAAAA[UNK]AAAAAA[UNK]AAAAAA[UNK]AAAAAA[UNK]AAAAAA[UNK]AAAAAA[UNK]AAAAAA[UNK]AAAAAA[UNK]AAAAAA[UNK]AAAAAA[UNK]AAAAAA[UNK]AAAAAA[UNK]AAAAAA[UNK]AAAAAA[UNK]AAAAAA[UNK]AAAAAA[UNK]AAAAAA[UNK]AAAAAA[UNK]AAAAAA[UNK]AAAAAA[UNK]AAAAAA[UNK]AAAAAA[UNK]AAAAAA[UNK]AAAAAA[UNK]AAAAAA[UNK]AAAAAA[UNK]AAAAAA[UNK]AAAAAA[UNK]AAAAAA[UNK]AAAAAA[UNK]AAAAAA[UNK]AAAAAA[UNK]AAAAAA[UNK]AAAAAA[UNK]AAAAAA[UNK]AAAAAA[UNK]AAAAAA[UNK]AAAAAA[UNK]AAAAAA[UNK]AAAAAA[UNK]AAAAAA[UNK]AAAAAA[UNK]AAAAAA[UNK]AAAAAA[UNK]AAAAAA[UNK]AAAAAA[UNK]AAAAAA[UNK]AAAAAA[UNK]AAAAAA[UNK]AAAAAA[UNK]AAAAAA[UNK]AAAAAA[UNK]AAAAAA[UNK]AAAAAA[UNK]AAAAAA[UNK]AAAAAA[UNK]AAAAAA[UNK]AAAAAA[UNK]AAAAAA[UNK]AAAAAA[UNK]AAAAAA[UNK]AAAAAA[UNK]AAAAAA[UNK]AAAAAA[UNK]AAAAAA[UNK]AAAAAA[UNK]AAAAAA[UNK]AAAAAA[UNK]AAAAAA[UNK]AAAAAA[UNK]AAAAAA[UNK]AAAAAA[UNK]AAAAAA[UNK]AAAAAA[UNK]AAAAAA[UNK]AAAAAA[UNK]AAAAAA[UNK]AAAAAA[UNK]AAAAAA[UNK]AAAAAA[UNK]AAAAAA[UNK]AAAAAA[UNK]AAAAAA[UNK]AAAAAA[UNK]AAAAAA[UNK]AAAAAA[UNK]AAAAAA[UNK]AAAAAA[UNK]AAAAAA[UNK]AAAAAA[UNK]AAAAAA[UNK]AAAAAA[UNK]AAAAAA[UNK]AAAAAA[UNK]AAAAAA[UNK]AAAAAA[UNK]AAAAAA[UNK]AAAAAA[UNK]AAAAAA[UNK]AAAAAA[UNK]AAAAAA[UNK]AAAAAA[UNK]AAAAAA[UNK]AAAAAA[UNK]AAAAAA[UNK]AAAAAA[UNK]AAAAAA[UNK]AAAAAA[UNK]AAAAAA[UNK]AAAAAA[UNK]AAAAAA[UNK]AAAAAA[UNK]AAAAAA[UNK]AAAAAA[UNK]AAAAAA[UNK]AAAAAA[UNK]AAAAAA[UNK]AAAAAA[UNK]AAAAAA[UNK]AAAAAA[UNK]AAAAAA[UNK]AAAAAA[UNK]AAAAAA[UNK]AAAAAA[UNK]AAAAAA[UNK]AAAAAA[UNK]AAAAAA[UNK]AAAAAA[UNK]AAAAAA[UNK]AAAAAA[UNK]AAAAAA[UNK]AAAAAA[UNK]AAAAAA[UNK]AAAAAA[UNK]AAAAAA[UNK]AAAAAA[UNK]AAAAAA[UNK]AAAAAA[UNK]AAAAAA[UNK]AAAAAA[UNK]AAAAAA[UNK]AAAAAA[UNK]AAAAAA[UNK]AAAAAA[UNK]AAAAAA[UNK]AAAAAA[UNK]AAAAAA[UNK]AAAAAA[UNK]AAAAAA[UNK]AAAAAA[UNK]AAAAAA[UNK]AAAAAA[UNK]AAAAAA[UNK]AAAAAA[UNK]AAAAAA[UNK]AAAAAA[UNK]AAAAAA[UNK]AAAAAA[UNK]AAAAAA[UNK]AAAAAA[UNK]AAAAAA[UNK]AAAAAA[UNK]AAAAAA[UNK]AAAAAA[UNK]AAAAAA[UNK]AAAAAA[UNK]AAAAAA[UNK]AAAAAA[UNK]AAAAAA[UNK]AAAAAA[UNK]AAAAAA[UNK]AAAAAA[UNK]AAAAAA[UNK]AAAAAA[UNK]AAAAAA[UNK]AAAAAA[UNK]AAAAAA[UNK]AAAAAA[UNK]AAAAAA[UNK]AAAAAA[UNK]AAAAAA[UNK]AAAAAA[UNK]AAAAAA[UNK]AAAAAA[UNK]AAAAAA[UNK]AAAAAA[UNK]AAAAAA[UNK]AAAAAA[UNK]AAAAAA[UNK]AAAAAA[UNK]AAAAAA[UNK]AAAAAA[UNK]AAAAAA[UNK]AAAAAA[UNK]AAAAAA[UNK]AAAAAA[UNK]AAAAAA[UNK]AAAAAA[UNK]AAAAAA[UNK]AAAAAA[UNK]AAAAAA[UNK]AAAAAA[UNK]AAAAAA[UNK]AAAAAA[UNK]AAAAAA[UNK]AAAAAA[UNK]AAAAAA[UNK]AAAAAA[UNK]AAAAAA[UNK]AAAAAA[UNK]AAAAAA[UNK]AAAAAA[UNK]AAAAAA[UNK]AAAAAA[UNK]AAAAAA[UNK]AAAAAA[UNK]AAAAAA[UNK]AAAAAA[UNK]AAAAAA[UNK]AAAAAA[UNK]AAAAAA[UNK]AAAAAA[UNK]AAAAAA[UNK]AAAAAA[UNK]AAAAAA[UNK]AAAAAA[UNK]AAAAAA[UNK]AAAAAA[UNK]AAAAAA[UNK]AAAAAA[UNK]AAAAAA[UNK]AAAAAA[UNK]AAAAAA[UNK]AAAAAA[UNK]AAAAAA[UNK]AAAAAA[UNK]AAAAAA[UNK]AAAAAA[UNK]AAAAAA[UNK]AAAAAA[UNK]AAAAAA[UNK]AAAAAA[UNK]AAAAAA[UNK]AAAAAA[UNK]AAAAAA[UNK]AAAAAA[UNK]AAAAAA[UNK]AAAAAA[UNK]AAAAAA[UNK]AAAAAA[UNK]AAAAAA[UNK]AAAAAA[UNK]AAAAAA[UNK]AAAAAA[UNK]AAAAAA[UNK]AAAAAA[UNK]AAAAAA[UNK]AAAAAA[UNK]AAAAAA[UNK]AAAAAA[UNK]AAAAAA[UNK]AAAAAA[UNK]AAAAAA[UNK]AAAAAA[UNK]AAAAAA[UNK]AAAAAA[UNK]AAAAAA[UNK]AAAAAA[UNK]AAAAAA[UNK]AAAAAA[UNK]AAAAAA[UNK]AAAAAA[UNK]AAAAAA[UNK]AAAAAA[UNK]AAAAAA[UNK]AAAAAA[UNK]AAAAAA[UNK]AAAAAA[UNK]AAAAAA[UNK]AAAAAA[UNK]AAAAAA[UNK]AAAAAA[UNK]AAAAAA[UNK]AAAAAA[UNK]AAAAAA[UNK]AAAAAA[UNK]AAAAAA[UNK]AAAAAA[UNK]AAAAAA[UNK]AAAAAA[UNK]AAAAAA[UNK]AAAAAA[UNK]AAAAAA[UNK]AAAAAA[UNK]AAAAAA[UNK]AAAAAA[UNK]AAAAAA[UNK]AAAAAA[UNK]AAAAAA[UNK]AAAAAA[UNK]AAAAAA[UNK]AAAAAA[UNK]AAAAAA[UNK]AAAAAA[UNK]AAAAAA[UNK]AAAAAA[UNK]AAAAAA[UNK]AAAAAA[UNK]AAAAAA[UNK]AAAAAA[UNK]AAAAAA[UNK]AAAAAA[UNK]AAAAAA[UNK]AAAAAA[UNK]AAAAAA[UNK]AAAAAA[UNK]AAAAAA[UNK]AAAAAA[UNK]AAAAAA[UNK]AAAAAA[UNK]AAAAAA[UNK]AAAAAA[UNK]AAAAAA[UNK]AAAAAA[UNK]AAAAAA[UNK]AAAAAA[UNK]AAAAAA[UNK]AAAAAA[UNK]AAAAAA[UNK]AAAAAA[UNK]AAAAAA[UNK]AAAAAA[UNK]AAAAAA[UNK]AAAAAA[UNK]AAAAAA[UNK]AAAAAA[UNK]AAAAAA[UNK]AAAAAA[UNK]AAAAAA[UNK]AAAAAA[UNK]AAAAAA[UNK]AAAAAA[UNK]AAAAAA[UNK]AAAAAA[UNK]AAAAAA[UNK]AAAAAA[UNK]AAAAAA[UNK]AAAAAA[UNK]AAAAAA[UNK]AAAAAA[UNK]AAAAAA[UNK]AAAAAA[UNK]AAAAAA[UNK]AAAAAA[UNK]AAAAAA[UNK]AAAAAA[UNK]AAAAAA[UNK]AAAAAA[UNK]AAAAAA[UNK]AAAAAA[UNK]AAAAAA[UNK]AAAAAA[UNK]AAAAAA[UNK]AAAAAA[UNK]AAAAAA[UNK]AAAAAA[UNK]AAAAAA[UNK]AAAAAA[UNK]AAAAAA[UNK]AAAAAA[UNK]AAAAAA[UNK]AAAAAA[UNK]AAAAAA[UNK]AAAAAA[UNK]AAAAAA[UNK]AAAAAA[UNK]AAAAAA[UNK]AAAAAA[UNK]AAAAAA[UNK]AAAAAA[UNK]AAAAAA[UNK]AAAAAA[UNK]AAAAAA[UNK]AAAAAA[UNK]AAAAAA[UNK]AAAAAA[UNK]AAAAAA[UNK]AAAAAA[UNK]AAAAAA[UNK]AAAAAA[UNK]AAAAAA[UNK]AAAAAA[UNK]AAAAAA[UNK]AAAAAA[UNK]AAAAAA[UNK]AAAAAA[UNK]AAAAAA[UNK]AAAAAA[UNK]AAAAAA[UNK]AAAAAA[UNK]AAAAAA[UNK]AAAAAA[UNK]AAAAAA[UNK]AAAAAA[UNK]AAAAAA[UNK]AAAAAA[UNK]AAAAAA[UNK]AAAAAA[UNK]AAAAAA[UNK]AAAAAA[UNK]AAAAAA[UNK]AAAAAA[UNK]AAAAAA[UNK]AAAAAA[UNK]AAAAAA[UNK]AAAAAA[UNK]AAAAAA[UNK]AAAAAA[UNK]AAAAAA[UNK]AAAAAA[UNK]AAAAAA[UNK]AAAAAA[UNK]AAAAAA[UNK]AAAAAA[UNK]AAAAAA[UNK]AAAAAA[UNK]AAAAAA[UNK]AAAAAA[UNK]AAAAAA[UNK]AAAAAA[UNK]AAAAAA[UNK]AAAAAA[UNK]AAAAAA[UNK]AAAAAA[UNK]AAAAAA[UNK]AAAAAA[UNK]AAAAAA[UNK]AAAAAA[UNK]AAAAAA[UNK]AAAAAA[UNK]AAAAAA[UNK]AAAAAA[UNK]AAAAAA[UNK]AAAAAA[UNK]AAAAAA[UNK]AAAAAA[UNK]AAAAAA[UNK]AAAAAA[UNK]AAAAAA[UNK]AAAAAA[UNK]AAAAAA[UNK]AAAAAA[UNK]AAAAAA[UNK]AAAAAA[UNK]AAAAAA[UNK]AAAAAA[UNK]AAAAAA[UNK]AAAAAA[UNK]AAAAAA[UNK]AAAAAA[UNK]AAAAAA[UNK]AAAAAA[UNK]AAAAAA[UNK]AAAAAA[UNK]AAAAAA[UNK]AAAAAA[UNK]AAAAAA[UNK]AAAAAA[UNK]AAAAAA[UNK]AAAAAA[UNK]AAAAAA[UNK]AAAAAA[UNK]AAAAAA[UNK]AAAAAA[UNK]AAAAAA[UNK]AAAAAA[UNK]AAAAAA[UNK]AAAAAA[UNK]AAAAAA[UNK]AAAAAA[UNK]AAAAAA[UNK]AAAAAA[UNK]AAAAAA[UNK]AAAAAA[UNK]AAAAAA[UNK]AAAAAA[UNK]AAAAAA[UNK]AAAAAA[UNK]AAAAAA[UNK]AAAAAA[UNK]AAAAAA[UNK]AAAAAA[UNK]AAAAAA[UNK]AAAAAA[UNK]AAAAAA[UNK]AAAAAA[UNK]AAAAAA[UNK]AAAAAA[UNK]AAAAAA[UNK]AAAAAA[UNK]AAAAAA[UNK]AAAAAA[UNK]AAAAAA[UNK]AAAAAA[UNK]AAAAAA[UNK]AAAAAA[UNK]AAAAAA[UNK]AAAAAA[UNK]AAAAAA[UNK]AAAAAA[UNK]AAAAAA[UNK]AAAAAA[UNK]AAAAAA[UNK]AAAAAA[UNK]AAAAAA[UNK]AAAAAA[UNK]AAAAAA[UNK]AAAAAA[UNK]AAAAAA[UNK]AAAAAA[UNK]AAAAAA[UNK]AAAAAA[UNK]AAAAAA[UNK]AAAAAA[UNK]AAAAAA[UNK]AAAAAA[UNK]AAAAAA[UNK]AAAAAA[UNK]AAAAAA[UNK]AAAAAA[UNK]AAAAAA[UNK]AAAAAA[UNK]AAAAAA[UNK]AAAAAA[UNK]AAAAAA[UNK]AAAAAA[UNK]AAAAAA[UNK]AAAAAA[UNK]AAAAAA[UNK]AAAAAA[UNK]AAAAAA[UNK]AAAAAA[UNK]AAAAAA[UNK]AAAAAA[UNK]AAAAAA[UNK]AAAAAA[UNK]AAAAAA[UNK]AAAAAA[UNK]AAAAAA[UNK]AAAAAA[UNK]AAAAAA[UNK]AAAAAA[UNK]AAAAAA[UNK]AAAAAA[UNK]AAAAAA[UNK]AAAAAA[UNK]AAAAAA[UNK]AAAAAA[UNK]AAAAAA[UNK]AAAAAA[UNK]AAAAAA[UNK]AAAAAA[UNK]AAAAAA[UNK]AAAAAA[UNK]AAAAAA[UNK]AAAAAA[UNK]AAAAAA[UNK]AAAAAA[UNK]AAAAAA[UNK]AAAAAA[UNK]AAAAAA[UNK]AAAAAA[UNK]AAAAAA[UNK]AAAAAA[UNK]AAAAAA[UNK]AAAAAA[UNK]AAAAAA[UNK]AAAAAA[UNK]AAAAAA[UNK]AAAAAA[UNK]AAAAAA[UNK]AAAAAA[UNK]AAAAAA[UNK]AAAAAA[UNK]AAAAAA[UNK]AAAAAA[UNK]AAAAAA[UNK]AAAAAA[UNK]AAAAAA[UNK]AAAAAA[UNK]AAAAAA[UNK]AAAAAA[UNK]AAAAAA[UNK]AAAAAA[UNK]AAAAAA[UNK]AAAAAA[UNK]AAAAAA[UNK]AAAAAA[UNK]AAAAAA[UNK]AAAAAA[UNK]AAAAAA[UNK]AAAAAA[UNK]AAAAAA[UNK]AAAAAA[UNK]AAAAAA[UNK]AAAAAA[UNK]AAAAAA[UNK]AAAAAA[UNK]AAAAAA[UNK]AAAAAA[UNK]AAAAAA[UNK]AAAAAA[UNK]AAAAAA[UNK]AAAAAA[UNK]AAAAAA[UNK]AAAAAA[UNK]AAAAAA[UNK]AAAAAA[UNK]AAAAAA[UNK]AAAAAA[UNK]AAAAAA[UNK]AAAAAA[UNK]AAAAAA[UNK]AAAAAA[UNK]AAAAAA[UNK]AAAAAA[UNK]AAAAAA[UNK]AAAAAA[UNK]AAAAAA[UNK]AAAAAA[UNK]AAAAAA[UNK]AAAAAA[UNK]AAAAAA[UNK]AAAAAA[UNK]AAAAAA[UNK]AAAAAA[UNK]AAAAAA[UNK]AAAAAA[UNK]AAAAAA[UNK]AAAAAA[UNK]AAAAAA[UNK]AAAAAA[UNK]AAAAAA[UNK]AAAAAA[UNK]AAAAAA[UNK]AAAAAA[UNK]AAAAAA[UNK]AAAAAA[UNK]AAAAAA[UNK]AAAAAA[UNK]AAAAAA[UNK]AAAAAA[UNK]AAAAAA[UNK]AAAAAA[UNK]AAAAAA[UNK]AAAAAA[UNK]AAAAAA[UNK]AAAAAA[UNK]AAAAAA[UNK]AAAAAA[UNK]AAAAAA[UNK]AAAAAA[UNK]AAAAAA[UNK]AAAAAA[UNK]AAAAAA[UNK]AAAAAA[UNK]AAAAAA[UNK]AAAAAA[UNK]AAAAAA[UNK]AAAAAA[UNK]AAAAAA[UNK]AAAAAA[UNK]AAAAAA[UNK]AAAAAA[UNK]AAAAAA[UNK]AAAAAA[UNK]AAAAAA[UNK]AAAAAA[UNK]AAAAAA[UNK]AAAAAA[UNK]AAAAAA[UNK]AAAAAA[UNK]AAAAAA[UNK]AAAAAA[UNK]AAAAAA[UNK]AAAAAA[UNK]AAAAAA[UNK]AAAAAA[UNK]AAAAAA[UNK]AAAAAA[UNK]AAAAAA[UNK]AAAAAA[UNK]AAAAAA[UNK]AAAAAA[UNK]AAAAAA[UNK]AAAAAA[UNK]AAAAAA[UNK]AAAAAA[UNK]AAAAAA[UNK]AAAAAA[UNK]AAAAAA[UNK]AAAAAA[UNK]AAAAAA[UNK]AAAAAA[UNK]AAAAAA[UNK]AAAAAA[UNK]AAAAAA[UNK]AAAAAA[UNK]AAAAAA[UNK]AAAAAA[UNK]AAAAAA[UNK]AAAAAA[UNK]AAAAAA[UNK]AAAAAA[UNK]AAAAAA[UNK]AAAAAA[UNK]AAAAAA[UNK]AAAAAA[UNK]AAAAAA[UNK]AAAAAA[UNK]AAAAAA[UNK]AAAAAA[UNK]AAAAAA[UNK]AAAAAA[UNK]AAAAAA[UNK]AAAAAA[UNK]AAAAAA[UNK]AAAAAA[UNK]AAAAAA[UNK]AAAAAA[UNK]AAAAAA[UNK]AAAAAA[UNK]AAAAAA[UNK]AAAAAA[UNK]AAAAAA[UNK]AAAAAA[UNK]AAAAAA[UNK]AAAAAA[UNK]AAAAAA[UNK]AAAAAA[UNK]AAAAAA[UNK]AAAAAA[UNK]AAAAAA[UNK]AAAAAA[UNK]AAAAAA[UNK]AAAAAA[UNK]AAAAAA[UNK]AAAAAA[UNK]AAAAAA[UNK]AAAAAA[UNK]AAAAAA[UNK]AAAAAA[UNK]AAAAAA[UNK]AAAAAA[UNK]AAAAAA[UNK]AAAAAA[UNK]AAAAAA[UNK]AAAAAA[UNK]AAAAAA[UNK]AAAAAA[UNK]AAAAAA[UNK]AAAAAA[UNK]AAAAAA[UNK]AAAAAA[UNK]AAAAAA[UNK]AAAAAA[UNK]AAAAAA[UNK]AAAAAA[UNK]AAAAAA[UNK]AAAAAA[UNK]AAAAAA[UNK]AAAAAA[UNK]AAAAAA[UNK]AAAAAA[UNK]AAAAAA[UNK]AAAAAA[UNK]AAAAAA[UNK]AAAAAA[UNK]AAAAAA[UNK]AAAAAA[UNK]AAAAAA[UNK]AAAAAA[UNK]AAAAAA[UNK]AAAAAA[UNK]AAAAAA[UNK]AAAAAA[UNK]AAAAAA[UNK]AAAAAA[UNK]AAAAAA[UNK]AAAAAA[UNK]AAAAAA[UNK]AAAAAA[UNK]AAAAAA[UNK]AAAAAA[UNK]AAAAAA[UNK]AAAAAA[UNK]AAAAAA[UNK]AAAAAA[UNK]AAAAAA[UNK]AAAAAA[UNK]AAAAAA[UNK]AAAAAA[UNK]AAAAAA[UNK]AAAAAA[UNK]AAAAAA[UNK]AAAAAA[UNK]AAAAAA[UNK]AAAAAA[UNK]AAAAAA[UNK]AAAAAA[UNK]AAAAAA[UNK]AAAAAA[UNK]AAAAAA[UNK]AAAAAA[UNK]AAAAAA[UNK]AAAAAA[UNK]AAAAAA[UNK]AAAAAA[UNK]AAAAAA[UNK]AAAAAA[UNK]AAAAAA[UNK]AAAAAA[UNK]AAAAAA[UNK]AAAAAA[UNK]AAAAAA[UNK]AAAAAA[UNK]AAAAAA[UNK]AAAAAA[UNK]AAAAAA[UNK]AAAAAA[UNK]AAAAAA[UNK]AAAAAA[UNK]AAAAAA[UNK]AAAAAA[UNK]AAAAAA[UNK]AAAAAA[UNK]AAAAAA[UNK]AAAAAA[UNK]AAAAAA[UNK]AAAAAA[UNK]AAAAAA[UNK]AAAAAA[UNK]AAAAAA[UNK]AAAAAA[UNK]AAAAAA[UNK]AAAAAA[UNK]AAAAAA[UNK]AAAAAA[UNK]AAAAAA[UNK]AAAAAA[UNK]AAAAAA[UNK]AAAAAA[UNK]AAAAAA[UNK]AAAAAA[UNK]AAAAAA[UNK]AAAAAA[UNK]AAAAAA[UNK]AAAAAA[UNK]AAAAAA[UNK]AAAAAA[UNK]AAAAAA[UNK]AAAAAA[UNK]AAAAAA[UNK]AAAAAA[UNK]AAAAAA[UNK]AAAAAA[UNK]AAAAAA[UNK]AAAAAA[UNK]AAAAAA[UNK]AAAAAA[UNK]AAAAAA[UNK]AAAAAA[UNK]AAAAAA[UNK]AAAAAA[UNK]AAAAAA[UNK]AAAAAA[UNK]AAAAAA[UNK]AAAAAA[UNK]AAAAAA[UNK]AAAAAA[UNK]AAAAAA[UNK]AAAAAA[UNK]AAAAAA[UNK]AAAAAA[UNK]AAAAAA[UNK]AAAAAA[UNK]AAAAAA[UNK]AAAAAA[UNK]AAAAAA[UNK]AAAAAA[UNK]AAAAAA[UNK]AAAAAA[UNK]AAAAAA[UNK]AAAAAA[UNK]AAAAAA[UNK]AAAAAA[UNK]AAAAAA[UNK]AAAAAA[UNK]AAAAAA[UNK]AAAAAA[UNK]AAAAAA[UNK]AAAAAA[UNK]AAAAAA[UNK]AAAAAA[UNK]AAAAAA[UNK]AAAAAA[UNK]AAAAAA[UNK]AAAAAA[UNK]AAAAAA[UNK]AAAAAA[UNK]AAAAAA[UNK]AAAAAA[UNK]AAAAAA[UNK]AAAAAA[UNK]AAAAAA[UNK]AAAAAA[UNK]AAAAAA[UNK]AAAAAA[UNK]AAAAAA[UNK]AAAAAA[UNK]AAAAAA[UNK]AAAAAA[UNK]AAAAAA[UNK]AAAAAA[UNK]AAAAAA[UNK]AAAAAA[UNK]AAAAAA[UNK]AAAAAA[UNK]AAAAAA[UNK]AAAAAA[UNK]AAAAAA[UNK]AAAAAA[UNK]AAAAAA[UNK]AAAAAA[UNK]AAAAAA[UNK]AAAAAA[UNK]AAAAAA[UNK]AAAAAA[UNK]AAAAAA[UNK]AAAAAA[UNK][SEP]\n",
            "{'input_ids': [2, 29998, 29998, 40, 639, 32, 442, 29997, 29999, 29996, 9685, 461, 3], 'token_type_ids': [0, 0, 0, 0, 0, 0, 0, 0, 0, 0, 0, 0, 0], 'attention_mask': [1, 1, 1, 1, 1, 1, 1, 1, 1, 1, 1, 1, 1]}\n",
            "[CLS]NNACTGACACGAAAAAAAGGGC[MASK]GCGCAACTCCAG[SEP]\n",
            "{'unk_token': '[UNK]', 'sep_token': '[SEP]', 'pad_token': '[PAD]', 'cls_token': '[CLS]', 'mask_token': '[MASK]'}\n",
            "right\n"
          ]
        }
      ]
    }
  ]
}