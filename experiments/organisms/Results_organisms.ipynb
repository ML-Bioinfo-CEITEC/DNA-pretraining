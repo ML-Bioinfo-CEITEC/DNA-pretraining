{
 "cells": [
  {
   "cell_type": "code",
   "execution_count": 1,
   "metadata": {
    "colab": {
     "base_uri": "https://localhost:8080/",
     "height": 0
    },
    "id": "AWZwy7NJe7PB",
    "outputId": "47c9bc2e-a763-4aba-fe4f-5e1cf2d7a38e"
   },
   "outputs": [],
   "source": [
    "#!pip install -qq transformers datasets"
   ]
  },
  {
   "cell_type": "code",
   "execution_count": 8,
   "metadata": {},
   "outputs": [
    {
     "data": {
      "text/plain": [
       "'DISABLED'"
      ]
     },
     "execution_count": 8,
     "metadata": {},
     "output_type": "execute_result"
    }
   ],
   "source": [
    "import os\n",
    "\n",
    "os.environ['COMET_MODE'] = \"DISABLED\"\n",
    "os.getenv(\"COMET_MODE\", \"\").upper()"
   ]
  },
  {
   "cell_type": "code",
   "execution_count": 36,
   "metadata": {
    "id": "gajW6eyF8svs"
   },
   "outputs": [],
   "source": [
    "MODELS = ['simecek/HumanRedoneDNADeberta', 'simecek/MouseDNADeberta', 'simecek/ZebrafishDNADeberta', 'simecek/FruitflyDNADeberta',\n",
    "          'simecek/WormDNADeberta', 'simecek/ArabidopsisDNADeberta', 'simecek/DNADebertaSmall']\n",
    "\n",
    "DATASETS = ['simecek/Human_DNA_v0_DNABert6tokenized', 'davidcechak/Mouse_DNA_v0_DNABert6tokenized', 'davidcechak/Zebrafish_DNA_v0_DNABert6tokenized',  \n",
    "            'davidcechak/Fruitfly_DNA_v0_DNABert6tokenized', 'davidcechak/Worm_DNA_v0_DNABert6tokenized', 'davidcechak/Arabidopsis_thaliana_DNA_v0_DNABert6tokenized']          "
   ]
  },
  {
   "cell_type": "code",
   "execution_count": 2,
   "metadata": {
    "id": "ORSUhLOXIKLA"
   },
   "outputs": [],
   "source": [
    "from transformers import DataCollatorForLanguageModeling\n",
    "from transformers import AutoTokenizer\n",
    "\n",
    "tokenizer = AutoTokenizer.from_pretrained(\"armheb/DNA_bert_6\")\n",
    "\n",
    "data_collator = DataCollatorForLanguageModeling(\n",
    "    tokenizer=tokenizer, mlm=True, mlm_probability=0.2\n",
    ")"
   ]
  },
  {
   "cell_type": "code",
   "execution_count": 3,
   "metadata": {
    "id": "oRT7oX0eSsUj"
   },
   "outputs": [],
   "source": [
    "from transformers import TrainingArguments, Trainer\n",
    "\n",
    "fake_training_args = TrainingArguments(\n",
    "    output_dir='./nocommet',\n",
    "    evaluation_strategy=\"steps\",    \n",
    "    overwrite_output_dir=True,   \n",
    "    per_device_eval_batch_size=128,   \n",
    "    max_steps=10,            \n",
    ")"
   ]
  },
  {
   "cell_type": "code",
   "execution_count": 4,
   "metadata": {
    "colab": {
     "base_uri": "https://localhost:8080/",
     "height": 104,
     "referenced_widgets": [
      "bddadc26e1624fa4be4001bb18af6dd8",
      "befc29ff05df42578dbe21ca754793ea",
      "c87218097f0345b0994b0cee494371bb",
      "9b1ec658660247868c12c2e360e0e668",
      "308724289ef1457283031dcb02cb2cb8",
      "eb54a600ea6941e9871a41e7cdfcbd71",
      "84a66579d3284d02afd280eecd6e107f",
      "f4c30a38bbc445b38976389c7321796f",
      "8b06826c433d45069db6594cf5d1e3a8",
      "4cbaee3e14984796a14c2eb25582d6a7",
      "fb7266c6463648d89033732f9e39e96b"
     ]
    },
    "id": "dD9uawqwRkS5",
    "outputId": "aa649a4f-63aa-4db4-db18-72314cf66d4e"
   },
   "outputs": [],
   "source": [
    "from transformers import AutoModelForMaskedLM\n",
    "\n",
    "models = {}\n",
    "\n",
    "for model_name in MODELS:\n",
    "    models[model_name] = AutoModelForMaskedLM.from_pretrained(model_name)"
   ]
  },
  {
   "cell_type": "code",
   "execution_count": 32,
   "metadata": {
    "colab": {
     "base_uri": "https://localhost:8080/",
     "height": 124
    },
    "id": "YXaD6pdwvGNq",
    "outputId": "e854ebde-8d22-4462-fe8d-8566a07d0f20"
   },
   "outputs": [
    {
     "data": {
      "application/vnd.jupyter.widget-view+json": {
       "model_id": "184f97991c1f436c844e21c1631f253d",
       "version_major": 2,
       "version_minor": 0
      },
      "text/plain": [
       "  0%|          | 0/6 [00:00<?, ?it/s]"
      ]
     },
     "metadata": {},
     "output_type": "display_data"
    },
    {
     "name": "stderr",
     "output_type": "stream",
     "text": [
      "Using custom data configuration simecek--Human_DNA_v0_DNABert6tokenized-9a684042f2db6cd1\n",
      "Reusing dataset parquet (/home/jovyan/.cache/huggingface/datasets/simecek___parquet/simecek--Human_DNA_v0_DNABert6tokenized-9a684042f2db6cd1/0.0.0/0b6d5799bb726b24ad7fc7be720c170d8e497f575d02d47537de9a5bac074901)\n"
     ]
    },
    {
     "data": {
      "application/vnd.jupyter.widget-view+json": {
       "model_id": "135c4b003c0e41578bafe6a6e33f3fea",
       "version_major": 2,
       "version_minor": 0
      },
      "text/plain": [
       "  0%|          | 0/2 [00:00<?, ?it/s]"
      ]
     },
     "metadata": {},
     "output_type": "display_data"
    },
    {
     "name": "stderr",
     "output_type": "stream",
     "text": [
      "max_steps is given, it will override any value given in num_train_epochs\n",
      "***** Running Evaluation *****\n",
      "  Num examples = 10000\n",
      "  Batch size = 128\n"
     ]
    },
    {
     "data": {
      "text/html": [
       "\n",
       "    <div>\n",
       "      \n",
       "      <progress value='79' max='79' style='width:300px; height:20px; vertical-align: middle;'></progress>\n",
       "      [79/79 00:35]\n",
       "    </div>\n",
       "    "
      ],
      "text/plain": [
       "<IPython.core.display.HTML object>"
      ]
     },
     "metadata": {},
     "output_type": "display_data"
    },
    {
     "name": "stderr",
     "output_type": "stream",
     "text": [
      "max_steps is given, it will override any value given in num_train_epochs\n",
      "***** Running Evaluation *****\n",
      "  Num examples = 10000\n",
      "  Batch size = 128\n"
     ]
    },
    {
     "name": "stdout",
     "output_type": "stream",
     "text": [
      "simecek/HumanRedoneDNADeberta:simecek/Human_DNA_v0_DNABert6tokenized 7.245747089385986\n"
     ]
    },
    {
     "data": {
      "text/html": [
       "\n",
       "    <div>\n",
       "      \n",
       "      <progress value='79' max='79' style='width:300px; height:20px; vertical-align: middle;'></progress>\n",
       "      [79/79 00:35]\n",
       "    </div>\n",
       "    "
      ],
      "text/plain": [
       "<IPython.core.display.HTML object>"
      ]
     },
     "metadata": {},
     "output_type": "display_data"
    },
    {
     "name": "stderr",
     "output_type": "stream",
     "text": [
      "max_steps is given, it will override any value given in num_train_epochs\n",
      "***** Running Evaluation *****\n",
      "  Num examples = 10000\n",
      "  Batch size = 128\n"
     ]
    },
    {
     "name": "stdout",
     "output_type": "stream",
     "text": [
      "simecek/ZebrafishDNADeberta:simecek/Human_DNA_v0_DNABert6tokenized 7.334394454956055\n"
     ]
    },
    {
     "data": {
      "text/html": [
       "\n",
       "    <div>\n",
       "      \n",
       "      <progress value='79' max='79' style='width:300px; height:20px; vertical-align: middle;'></progress>\n",
       "      [79/79 00:35]\n",
       "    </div>\n",
       "    "
      ],
      "text/plain": [
       "<IPython.core.display.HTML object>"
      ]
     },
     "metadata": {},
     "output_type": "display_data"
    },
    {
     "name": "stderr",
     "output_type": "stream",
     "text": [
      "max_steps is given, it will override any value given in num_train_epochs\n",
      "***** Running Evaluation *****\n",
      "  Num examples = 10000\n",
      "  Batch size = 128\n"
     ]
    },
    {
     "name": "stdout",
     "output_type": "stream",
     "text": [
      "simecek/ArabidopsisDNADeberta:simecek/Human_DNA_v0_DNABert6tokenized 7.345582008361816\n"
     ]
    },
    {
     "data": {
      "text/html": [
       "\n",
       "    <div>\n",
       "      \n",
       "      <progress value='79' max='79' style='width:300px; height:20px; vertical-align: middle;'></progress>\n",
       "      [79/79 00:35]\n",
       "    </div>\n",
       "    "
      ],
      "text/plain": [
       "<IPython.core.display.HTML object>"
      ]
     },
     "metadata": {},
     "output_type": "display_data"
    },
    {
     "name": "stderr",
     "output_type": "stream",
     "text": [
      "max_steps is given, it will override any value given in num_train_epochs\n",
      "***** Running Evaluation *****\n",
      "  Num examples = 10000\n",
      "  Batch size = 128\n"
     ]
    },
    {
     "name": "stdout",
     "output_type": "stream",
     "text": [
      "simecek/FruitflyDNADeberta:simecek/Human_DNA_v0_DNABert6tokenized 7.384777545928955\n"
     ]
    },
    {
     "data": {
      "text/html": [
       "\n",
       "    <div>\n",
       "      \n",
       "      <progress value='79' max='79' style='width:300px; height:20px; vertical-align: middle;'></progress>\n",
       "      [79/79 00:35]\n",
       "    </div>\n",
       "    "
      ],
      "text/plain": [
       "<IPython.core.display.HTML object>"
      ]
     },
     "metadata": {},
     "output_type": "display_data"
    },
    {
     "name": "stderr",
     "output_type": "stream",
     "text": [
      "max_steps is given, it will override any value given in num_train_epochs\n",
      "***** Running Evaluation *****\n",
      "  Num examples = 10000\n",
      "  Batch size = 128\n"
     ]
    },
    {
     "name": "stdout",
     "output_type": "stream",
     "text": [
      "simecek/MouseDNADeberta:simecek/Human_DNA_v0_DNABert6tokenized 7.302046298980713\n"
     ]
    },
    {
     "data": {
      "text/html": [
       "\n",
       "    <div>\n",
       "      \n",
       "      <progress value='79' max='79' style='width:300px; height:20px; vertical-align: middle;'></progress>\n",
       "      [79/79 00:35]\n",
       "    </div>\n",
       "    "
      ],
      "text/plain": [
       "<IPython.core.display.HTML object>"
      ]
     },
     "metadata": {},
     "output_type": "display_data"
    },
    {
     "name": "stderr",
     "output_type": "stream",
     "text": [
      "max_steps is given, it will override any value given in num_train_epochs\n",
      "***** Running Evaluation *****\n",
      "  Num examples = 10000\n",
      "  Batch size = 128\n"
     ]
    },
    {
     "name": "stdout",
     "output_type": "stream",
     "text": [
      "simecek/WormDNADeberta:simecek/Human_DNA_v0_DNABert6tokenized 7.438027381896973\n"
     ]
    },
    {
     "data": {
      "text/html": [
       "\n",
       "    <div>\n",
       "      \n",
       "      <progress value='79' max='79' style='width:300px; height:20px; vertical-align: middle;'></progress>\n",
       "      [79/79 00:35]\n",
       "    </div>\n",
       "    "
      ],
      "text/plain": [
       "<IPython.core.display.HTML object>"
      ]
     },
     "metadata": {},
     "output_type": "display_data"
    },
    {
     "name": "stdout",
     "output_type": "stream",
     "text": [
      "simecek/DNADebertaSmall:simecek/Human_DNA_v0_DNABert6tokenized 6.135972499847412\n"
     ]
    },
    {
     "name": "stderr",
     "output_type": "stream",
     "text": [
      "Using custom data configuration davidcechak--Zebrafish_DNA_v0_DNABert6tokenized-2bb7e7b03931a47a\n",
      "Reusing dataset parquet (/home/jovyan/.cache/huggingface/datasets/davidcechak___parquet/davidcechak--Zebrafish_DNA_v0_DNABert6tokenized-2bb7e7b03931a47a/0.0.0/0b6d5799bb726b24ad7fc7be720c170d8e497f575d02d47537de9a5bac074901)\n"
     ]
    },
    {
     "data": {
      "application/vnd.jupyter.widget-view+json": {
       "model_id": "d0b415f728b34d71b7a650768bd40107",
       "version_major": 2,
       "version_minor": 0
      },
      "text/plain": [
       "  0%|          | 0/2 [00:00<?, ?it/s]"
      ]
     },
     "metadata": {},
     "output_type": "display_data"
    },
    {
     "name": "stderr",
     "output_type": "stream",
     "text": [
      "max_steps is given, it will override any value given in num_train_epochs\n",
      "***** Running Evaluation *****\n",
      "  Num examples = 10000\n",
      "  Batch size = 128\n"
     ]
    },
    {
     "data": {
      "text/html": [
       "\n",
       "    <div>\n",
       "      \n",
       "      <progress value='79' max='79' style='width:300px; height:20px; vertical-align: middle;'></progress>\n",
       "      [79/79 00:35]\n",
       "    </div>\n",
       "    "
      ],
      "text/plain": [
       "<IPython.core.display.HTML object>"
      ]
     },
     "metadata": {},
     "output_type": "display_data"
    },
    {
     "name": "stderr",
     "output_type": "stream",
     "text": [
      "max_steps is given, it will override any value given in num_train_epochs\n",
      "***** Running Evaluation *****\n",
      "  Num examples = 10000\n",
      "  Batch size = 128\n"
     ]
    },
    {
     "name": "stdout",
     "output_type": "stream",
     "text": [
      "simecek/HumanRedoneDNADeberta:davidcechak/Zebrafish_DNA_v0_DNABert6tokenized 7.325279712677002\n"
     ]
    },
    {
     "data": {
      "text/html": [
       "\n",
       "    <div>\n",
       "      \n",
       "      <progress value='79' max='79' style='width:300px; height:20px; vertical-align: middle;'></progress>\n",
       "      [79/79 00:35]\n",
       "    </div>\n",
       "    "
      ],
      "text/plain": [
       "<IPython.core.display.HTML object>"
      ]
     },
     "metadata": {},
     "output_type": "display_data"
    },
    {
     "name": "stderr",
     "output_type": "stream",
     "text": [
      "max_steps is given, it will override any value given in num_train_epochs\n",
      "***** Running Evaluation *****\n",
      "  Num examples = 10000\n",
      "  Batch size = 128\n"
     ]
    },
    {
     "name": "stdout",
     "output_type": "stream",
     "text": [
      "simecek/ZebrafishDNADeberta:davidcechak/Zebrafish_DNA_v0_DNABert6tokenized 7.250858783721924\n"
     ]
    },
    {
     "data": {
      "text/html": [
       "\n",
       "    <div>\n",
       "      \n",
       "      <progress value='79' max='79' style='width:300px; height:20px; vertical-align: middle;'></progress>\n",
       "      [79/79 00:35]\n",
       "    </div>\n",
       "    "
      ],
      "text/plain": [
       "<IPython.core.display.HTML object>"
      ]
     },
     "metadata": {},
     "output_type": "display_data"
    },
    {
     "name": "stderr",
     "output_type": "stream",
     "text": [
      "max_steps is given, it will override any value given in num_train_epochs\n",
      "***** Running Evaluation *****\n",
      "  Num examples = 10000\n",
      "  Batch size = 128\n"
     ]
    },
    {
     "name": "stdout",
     "output_type": "stream",
     "text": [
      "simecek/ArabidopsisDNADeberta:davidcechak/Zebrafish_DNA_v0_DNABert6tokenized 7.284417152404785\n"
     ]
    },
    {
     "data": {
      "text/html": [
       "\n",
       "    <div>\n",
       "      \n",
       "      <progress value='79' max='79' style='width:300px; height:20px; vertical-align: middle;'></progress>\n",
       "      [79/79 00:35]\n",
       "    </div>\n",
       "    "
      ],
      "text/plain": [
       "<IPython.core.display.HTML object>"
      ]
     },
     "metadata": {},
     "output_type": "display_data"
    },
    {
     "name": "stderr",
     "output_type": "stream",
     "text": [
      "max_steps is given, it will override any value given in num_train_epochs\n",
      "***** Running Evaluation *****\n",
      "  Num examples = 10000\n",
      "  Batch size = 128\n"
     ]
    },
    {
     "name": "stdout",
     "output_type": "stream",
     "text": [
      "simecek/FruitflyDNADeberta:davidcechak/Zebrafish_DNA_v0_DNABert6tokenized 7.268256187438965\n"
     ]
    },
    {
     "data": {
      "text/html": [
       "\n",
       "    <div>\n",
       "      \n",
       "      <progress value='79' max='79' style='width:300px; height:20px; vertical-align: middle;'></progress>\n",
       "      [79/79 00:35]\n",
       "    </div>\n",
       "    "
      ],
      "text/plain": [
       "<IPython.core.display.HTML object>"
      ]
     },
     "metadata": {},
     "output_type": "display_data"
    },
    {
     "name": "stderr",
     "output_type": "stream",
     "text": [
      "max_steps is given, it will override any value given in num_train_epochs\n",
      "***** Running Evaluation *****\n",
      "  Num examples = 10000\n",
      "  Batch size = 128\n"
     ]
    },
    {
     "name": "stdout",
     "output_type": "stream",
     "text": [
      "simecek/MouseDNADeberta:davidcechak/Zebrafish_DNA_v0_DNABert6tokenized 7.3122076988220215\n"
     ]
    },
    {
     "data": {
      "text/html": [
       "\n",
       "    <div>\n",
       "      \n",
       "      <progress value='79' max='79' style='width:300px; height:20px; vertical-align: middle;'></progress>\n",
       "      [79/79 00:35]\n",
       "    </div>\n",
       "    "
      ],
      "text/plain": [
       "<IPython.core.display.HTML object>"
      ]
     },
     "metadata": {},
     "output_type": "display_data"
    },
    {
     "name": "stderr",
     "output_type": "stream",
     "text": [
      "max_steps is given, it will override any value given in num_train_epochs\n",
      "***** Running Evaluation *****\n",
      "  Num examples = 10000\n",
      "  Batch size = 128\n"
     ]
    },
    {
     "name": "stdout",
     "output_type": "stream",
     "text": [
      "simecek/WormDNADeberta:davidcechak/Zebrafish_DNA_v0_DNABert6tokenized 7.363481044769287\n"
     ]
    },
    {
     "data": {
      "text/html": [
       "\n",
       "    <div>\n",
       "      \n",
       "      <progress value='79' max='79' style='width:300px; height:20px; vertical-align: middle;'></progress>\n",
       "      [79/79 00:35]\n",
       "    </div>\n",
       "    "
      ],
      "text/plain": [
       "<IPython.core.display.HTML object>"
      ]
     },
     "metadata": {},
     "output_type": "display_data"
    },
    {
     "name": "stdout",
     "output_type": "stream",
     "text": [
      "simecek/DNADebertaSmall:davidcechak/Zebrafish_DNA_v0_DNABert6tokenized 7.106800556182861\n"
     ]
    },
    {
     "name": "stderr",
     "output_type": "stream",
     "text": [
      "Using custom data configuration davidcechak--Arabidopsis_thaliana_DNA_v0_DNABert6tokenized-5ee4cfd33a3fa24b\n",
      "Reusing dataset parquet (/home/jovyan/.cache/huggingface/datasets/davidcechak___parquet/davidcechak--Arabidopsis_thaliana_DNA_v0_DNABert6tokenized-5ee4cfd33a3fa24b/0.0.0/0b6d5799bb726b24ad7fc7be720c170d8e497f575d02d47537de9a5bac074901)\n"
     ]
    },
    {
     "data": {
      "application/vnd.jupyter.widget-view+json": {
       "model_id": "37a843a483614fc09de0993b1acb9ca3",
       "version_major": 2,
       "version_minor": 0
      },
      "text/plain": [
       "  0%|          | 0/2 [00:00<?, ?it/s]"
      ]
     },
     "metadata": {},
     "output_type": "display_data"
    },
    {
     "name": "stderr",
     "output_type": "stream",
     "text": [
      "max_steps is given, it will override any value given in num_train_epochs\n",
      "***** Running Evaluation *****\n",
      "  Num examples = 3879\n",
      "  Batch size = 128\n"
     ]
    },
    {
     "data": {
      "text/html": [
       "\n",
       "    <div>\n",
       "      \n",
       "      <progress value='31' max='31' style='width:300px; height:20px; vertical-align: middle;'></progress>\n",
       "      [31/31 00:13]\n",
       "    </div>\n",
       "    "
      ],
      "text/plain": [
       "<IPython.core.display.HTML object>"
      ]
     },
     "metadata": {},
     "output_type": "display_data"
    },
    {
     "name": "stderr",
     "output_type": "stream",
     "text": [
      "max_steps is given, it will override any value given in num_train_epochs\n",
      "***** Running Evaluation *****\n",
      "  Num examples = 3879\n",
      "  Batch size = 128\n"
     ]
    },
    {
     "name": "stdout",
     "output_type": "stream",
     "text": [
      "simecek/HumanRedoneDNADeberta:davidcechak/Arabidopsis_thaliana_DNA_v0_DNABert6tokenized 7.402441501617432\n"
     ]
    },
    {
     "data": {
      "text/html": [
       "\n",
       "    <div>\n",
       "      \n",
       "      <progress value='31' max='31' style='width:300px; height:20px; vertical-align: middle;'></progress>\n",
       "      [31/31 00:13]\n",
       "    </div>\n",
       "    "
      ],
      "text/plain": [
       "<IPython.core.display.HTML object>"
      ]
     },
     "metadata": {},
     "output_type": "display_data"
    },
    {
     "name": "stderr",
     "output_type": "stream",
     "text": [
      "max_steps is given, it will override any value given in num_train_epochs\n",
      "***** Running Evaluation *****\n",
      "  Num examples = 3879\n",
      "  Batch size = 128\n"
     ]
    },
    {
     "name": "stdout",
     "output_type": "stream",
     "text": [
      "simecek/ZebrafishDNADeberta:davidcechak/Arabidopsis_thaliana_DNA_v0_DNABert6tokenized 7.376944541931152\n"
     ]
    },
    {
     "data": {
      "text/html": [
       "\n",
       "    <div>\n",
       "      \n",
       "      <progress value='31' max='31' style='width:300px; height:20px; vertical-align: middle;'></progress>\n",
       "      [31/31 00:13]\n",
       "    </div>\n",
       "    "
      ],
      "text/plain": [
       "<IPython.core.display.HTML object>"
      ]
     },
     "metadata": {},
     "output_type": "display_data"
    },
    {
     "name": "stderr",
     "output_type": "stream",
     "text": [
      "max_steps is given, it will override any value given in num_train_epochs\n",
      "***** Running Evaluation *****\n",
      "  Num examples = 3879\n",
      "  Batch size = 128\n"
     ]
    },
    {
     "name": "stdout",
     "output_type": "stream",
     "text": [
      "simecek/ArabidopsisDNADeberta:davidcechak/Arabidopsis_thaliana_DNA_v0_DNABert6tokenized 7.2427191734313965\n"
     ]
    },
    {
     "data": {
      "text/html": [
       "\n",
       "    <div>\n",
       "      \n",
       "      <progress value='31' max='31' style='width:300px; height:20px; vertical-align: middle;'></progress>\n",
       "      [31/31 00:13]\n",
       "    </div>\n",
       "    "
      ],
      "text/plain": [
       "<IPython.core.display.HTML object>"
      ]
     },
     "metadata": {},
     "output_type": "display_data"
    },
    {
     "name": "stderr",
     "output_type": "stream",
     "text": [
      "max_steps is given, it will override any value given in num_train_epochs\n",
      "***** Running Evaluation *****\n",
      "  Num examples = 3879\n",
      "  Batch size = 128\n"
     ]
    },
    {
     "name": "stdout",
     "output_type": "stream",
     "text": [
      "simecek/FruitflyDNADeberta:davidcechak/Arabidopsis_thaliana_DNA_v0_DNABert6tokenized 7.319701194763184\n"
     ]
    },
    {
     "data": {
      "text/html": [
       "\n",
       "    <div>\n",
       "      \n",
       "      <progress value='31' max='31' style='width:300px; height:20px; vertical-align: middle;'></progress>\n",
       "      [31/31 00:13]\n",
       "    </div>\n",
       "    "
      ],
      "text/plain": [
       "<IPython.core.display.HTML object>"
      ]
     },
     "metadata": {},
     "output_type": "display_data"
    },
    {
     "name": "stderr",
     "output_type": "stream",
     "text": [
      "max_steps is given, it will override any value given in num_train_epochs\n",
      "***** Running Evaluation *****\n",
      "  Num examples = 3879\n",
      "  Batch size = 128\n"
     ]
    },
    {
     "name": "stdout",
     "output_type": "stream",
     "text": [
      "simecek/MouseDNADeberta:davidcechak/Arabidopsis_thaliana_DNA_v0_DNABert6tokenized 7.394493579864502\n"
     ]
    },
    {
     "data": {
      "text/html": [
       "\n",
       "    <div>\n",
       "      \n",
       "      <progress value='31' max='31' style='width:300px; height:20px; vertical-align: middle;'></progress>\n",
       "      [31/31 00:13]\n",
       "    </div>\n",
       "    "
      ],
      "text/plain": [
       "<IPython.core.display.HTML object>"
      ]
     },
     "metadata": {},
     "output_type": "display_data"
    },
    {
     "name": "stderr",
     "output_type": "stream",
     "text": [
      "max_steps is given, it will override any value given in num_train_epochs\n",
      "***** Running Evaluation *****\n",
      "  Num examples = 3879\n",
      "  Batch size = 128\n"
     ]
    },
    {
     "name": "stdout",
     "output_type": "stream",
     "text": [
      "simecek/WormDNADeberta:davidcechak/Arabidopsis_thaliana_DNA_v0_DNABert6tokenized 7.360411167144775\n"
     ]
    },
    {
     "data": {
      "text/html": [
       "\n",
       "    <div>\n",
       "      \n",
       "      <progress value='31' max='31' style='width:300px; height:20px; vertical-align: middle;'></progress>\n",
       "      [31/31 00:13]\n",
       "    </div>\n",
       "    "
      ],
      "text/plain": [
       "<IPython.core.display.HTML object>"
      ]
     },
     "metadata": {},
     "output_type": "display_data"
    },
    {
     "name": "stdout",
     "output_type": "stream",
     "text": [
      "simecek/DNADebertaSmall:davidcechak/Arabidopsis_thaliana_DNA_v0_DNABert6tokenized 7.3131208419799805\n"
     ]
    },
    {
     "name": "stderr",
     "output_type": "stream",
     "text": [
      "Using custom data configuration davidcechak--Mouse_DNA_v0_DNABert6tokenized-3b2b4a4e5d904503\n",
      "Reusing dataset parquet (/home/jovyan/.cache/huggingface/datasets/davidcechak___parquet/davidcechak--Mouse_DNA_v0_DNABert6tokenized-3b2b4a4e5d904503/0.0.0/0b6d5799bb726b24ad7fc7be720c170d8e497f575d02d47537de9a5bac074901)\n"
     ]
    },
    {
     "data": {
      "application/vnd.jupyter.widget-view+json": {
       "model_id": "109b6640a3524f76af0dd0972eb50f62",
       "version_major": 2,
       "version_minor": 0
      },
      "text/plain": [
       "  0%|          | 0/2 [00:00<?, ?it/s]"
      ]
     },
     "metadata": {},
     "output_type": "display_data"
    },
    {
     "name": "stderr",
     "output_type": "stream",
     "text": [
      "max_steps is given, it will override any value given in num_train_epochs\n",
      "***** Running Evaluation *****\n",
      "  Num examples = 10000\n",
      "  Batch size = 128\n"
     ]
    },
    {
     "data": {
      "text/html": [
       "\n",
       "    <div>\n",
       "      \n",
       "      <progress value='79' max='79' style='width:300px; height:20px; vertical-align: middle;'></progress>\n",
       "      [79/79 00:35]\n",
       "    </div>\n",
       "    "
      ],
      "text/plain": [
       "<IPython.core.display.HTML object>"
      ]
     },
     "metadata": {},
     "output_type": "display_data"
    },
    {
     "name": "stderr",
     "output_type": "stream",
     "text": [
      "max_steps is given, it will override any value given in num_train_epochs\n",
      "***** Running Evaluation *****\n",
      "  Num examples = 10000\n",
      "  Batch size = 128\n"
     ]
    },
    {
     "name": "stdout",
     "output_type": "stream",
     "text": [
      "simecek/HumanRedoneDNADeberta:davidcechak/Mouse_DNA_v0_DNABert6tokenized 7.309451580047607\n"
     ]
    },
    {
     "data": {
      "text/html": [
       "\n",
       "    <div>\n",
       "      \n",
       "      <progress value='79' max='79' style='width:300px; height:20px; vertical-align: middle;'></progress>\n",
       "      [79/79 00:35]\n",
       "    </div>\n",
       "    "
      ],
      "text/plain": [
       "<IPython.core.display.HTML object>"
      ]
     },
     "metadata": {},
     "output_type": "display_data"
    },
    {
     "name": "stderr",
     "output_type": "stream",
     "text": [
      "max_steps is given, it will override any value given in num_train_epochs\n",
      "***** Running Evaluation *****\n",
      "  Num examples = 10000\n",
      "  Batch size = 128\n"
     ]
    },
    {
     "name": "stdout",
     "output_type": "stream",
     "text": [
      "simecek/ZebrafishDNADeberta:davidcechak/Mouse_DNA_v0_DNABert6tokenized 7.339879512786865\n"
     ]
    },
    {
     "data": {
      "text/html": [
       "\n",
       "    <div>\n",
       "      \n",
       "      <progress value='79' max='79' style='width:300px; height:20px; vertical-align: middle;'></progress>\n",
       "      [79/79 00:35]\n",
       "    </div>\n",
       "    "
      ],
      "text/plain": [
       "<IPython.core.display.HTML object>"
      ]
     },
     "metadata": {},
     "output_type": "display_data"
    },
    {
     "name": "stderr",
     "output_type": "stream",
     "text": [
      "max_steps is given, it will override any value given in num_train_epochs\n",
      "***** Running Evaluation *****\n",
      "  Num examples = 10000\n",
      "  Batch size = 128\n"
     ]
    },
    {
     "name": "stdout",
     "output_type": "stream",
     "text": [
      "simecek/ArabidopsisDNADeberta:davidcechak/Mouse_DNA_v0_DNABert6tokenized 7.350376605987549\n"
     ]
    },
    {
     "data": {
      "text/html": [
       "\n",
       "    <div>\n",
       "      \n",
       "      <progress value='79' max='79' style='width:300px; height:20px; vertical-align: middle;'></progress>\n",
       "      [79/79 00:35]\n",
       "    </div>\n",
       "    "
      ],
      "text/plain": [
       "<IPython.core.display.HTML object>"
      ]
     },
     "metadata": {},
     "output_type": "display_data"
    },
    {
     "name": "stderr",
     "output_type": "stream",
     "text": [
      "max_steps is given, it will override any value given in num_train_epochs\n",
      "***** Running Evaluation *****\n",
      "  Num examples = 10000\n",
      "  Batch size = 128\n"
     ]
    },
    {
     "name": "stdout",
     "output_type": "stream",
     "text": [
      "simecek/FruitflyDNADeberta:davidcechak/Mouse_DNA_v0_DNABert6tokenized 7.398280620574951\n"
     ]
    },
    {
     "data": {
      "text/html": [
       "\n",
       "    <div>\n",
       "      \n",
       "      <progress value='79' max='79' style='width:300px; height:20px; vertical-align: middle;'></progress>\n",
       "      [79/79 00:35]\n",
       "    </div>\n",
       "    "
      ],
      "text/plain": [
       "<IPython.core.display.HTML object>"
      ]
     },
     "metadata": {},
     "output_type": "display_data"
    },
    {
     "name": "stderr",
     "output_type": "stream",
     "text": [
      "max_steps is given, it will override any value given in num_train_epochs\n",
      "***** Running Evaluation *****\n",
      "  Num examples = 10000\n",
      "  Batch size = 128\n"
     ]
    },
    {
     "name": "stdout",
     "output_type": "stream",
     "text": [
      "simecek/MouseDNADeberta:davidcechak/Mouse_DNA_v0_DNABert6tokenized 7.276564121246338\n"
     ]
    },
    {
     "data": {
      "text/html": [
       "\n",
       "    <div>\n",
       "      \n",
       "      <progress value='79' max='79' style='width:300px; height:20px; vertical-align: middle;'></progress>\n",
       "      [79/79 00:35]\n",
       "    </div>\n",
       "    "
      ],
      "text/plain": [
       "<IPython.core.display.HTML object>"
      ]
     },
     "metadata": {},
     "output_type": "display_data"
    },
    {
     "name": "stderr",
     "output_type": "stream",
     "text": [
      "max_steps is given, it will override any value given in num_train_epochs\n",
      "***** Running Evaluation *****\n",
      "  Num examples = 10000\n",
      "  Batch size = 128\n"
     ]
    },
    {
     "name": "stdout",
     "output_type": "stream",
     "text": [
      "simecek/WormDNADeberta:davidcechak/Mouse_DNA_v0_DNABert6tokenized 7.462935924530029\n"
     ]
    },
    {
     "data": {
      "text/html": [
       "\n",
       "    <div>\n",
       "      \n",
       "      <progress value='79' max='79' style='width:300px; height:20px; vertical-align: middle;'></progress>\n",
       "      [79/79 00:35]\n",
       "    </div>\n",
       "    "
      ],
      "text/plain": [
       "<IPython.core.display.HTML object>"
      ]
     },
     "metadata": {},
     "output_type": "display_data"
    },
    {
     "name": "stdout",
     "output_type": "stream",
     "text": [
      "simecek/DNADebertaSmall:davidcechak/Mouse_DNA_v0_DNABert6tokenized 6.9782795906066895\n"
     ]
    },
    {
     "name": "stderr",
     "output_type": "stream",
     "text": [
      "Using custom data configuration davidcechak--Worm_DNA_v0_DNABert6tokenized-e558388919872e43\n",
      "Reusing dataset parquet (/home/jovyan/.cache/huggingface/datasets/davidcechak___parquet/davidcechak--Worm_DNA_v0_DNABert6tokenized-e558388919872e43/0.0.0/0b6d5799bb726b24ad7fc7be720c170d8e497f575d02d47537de9a5bac074901)\n"
     ]
    },
    {
     "data": {
      "application/vnd.jupyter.widget-view+json": {
       "model_id": "daa613dba7d94e53b7c0b2460260b3f9",
       "version_major": 2,
       "version_minor": 0
      },
      "text/plain": [
       "  0%|          | 0/2 [00:00<?, ?it/s]"
      ]
     },
     "metadata": {},
     "output_type": "display_data"
    },
    {
     "name": "stderr",
     "output_type": "stream",
     "text": [
      "max_steps is given, it will override any value given in num_train_epochs\n",
      "***** Running Evaluation *****\n",
      "  Num examples = 3266\n",
      "  Batch size = 128\n"
     ]
    },
    {
     "data": {
      "text/html": [
       "\n",
       "    <div>\n",
       "      \n",
       "      <progress value='26' max='26' style='width:300px; height:20px; vertical-align: middle;'></progress>\n",
       "      [26/26 00:11]\n",
       "    </div>\n",
       "    "
      ],
      "text/plain": [
       "<IPython.core.display.HTML object>"
      ]
     },
     "metadata": {},
     "output_type": "display_data"
    },
    {
     "name": "stderr",
     "output_type": "stream",
     "text": [
      "max_steps is given, it will override any value given in num_train_epochs\n",
      "***** Running Evaluation *****\n",
      "  Num examples = 3266\n",
      "  Batch size = 128\n"
     ]
    },
    {
     "name": "stdout",
     "output_type": "stream",
     "text": [
      "simecek/HumanRedoneDNADeberta:davidcechak/Worm_DNA_v0_DNABert6tokenized 7.359205722808838\n"
     ]
    },
    {
     "data": {
      "text/html": [
       "\n",
       "    <div>\n",
       "      \n",
       "      <progress value='26' max='26' style='width:300px; height:20px; vertical-align: middle;'></progress>\n",
       "      [26/26 00:11]\n",
       "    </div>\n",
       "    "
      ],
      "text/plain": [
       "<IPython.core.display.HTML object>"
      ]
     },
     "metadata": {},
     "output_type": "display_data"
    },
    {
     "name": "stderr",
     "output_type": "stream",
     "text": [
      "max_steps is given, it will override any value given in num_train_epochs\n",
      "***** Running Evaluation *****\n",
      "  Num examples = 3266\n",
      "  Batch size = 128\n"
     ]
    },
    {
     "name": "stdout",
     "output_type": "stream",
     "text": [
      "simecek/ZebrafishDNADeberta:davidcechak/Worm_DNA_v0_DNABert6tokenized 7.320830345153809\n"
     ]
    },
    {
     "data": {
      "text/html": [
       "\n",
       "    <div>\n",
       "      \n",
       "      <progress value='26' max='26' style='width:300px; height:20px; vertical-align: middle;'></progress>\n",
       "      [26/26 00:11]\n",
       "    </div>\n",
       "    "
      ],
      "text/plain": [
       "<IPython.core.display.HTML object>"
      ]
     },
     "metadata": {},
     "output_type": "display_data"
    },
    {
     "name": "stderr",
     "output_type": "stream",
     "text": [
      "max_steps is given, it will override any value given in num_train_epochs\n",
      "***** Running Evaluation *****\n",
      "  Num examples = 3266\n",
      "  Batch size = 128\n"
     ]
    },
    {
     "name": "stdout",
     "output_type": "stream",
     "text": [
      "simecek/ArabidopsisDNADeberta:davidcechak/Worm_DNA_v0_DNABert6tokenized 7.270549774169922\n"
     ]
    },
    {
     "data": {
      "text/html": [
       "\n",
       "    <div>\n",
       "      \n",
       "      <progress value='26' max='26' style='width:300px; height:20px; vertical-align: middle;'></progress>\n",
       "      [26/26 00:11]\n",
       "    </div>\n",
       "    "
      ],
      "text/plain": [
       "<IPython.core.display.HTML object>"
      ]
     },
     "metadata": {},
     "output_type": "display_data"
    },
    {
     "name": "stderr",
     "output_type": "stream",
     "text": [
      "max_steps is given, it will override any value given in num_train_epochs\n",
      "***** Running Evaluation *****\n",
      "  Num examples = 3266\n",
      "  Batch size = 128\n"
     ]
    },
    {
     "name": "stdout",
     "output_type": "stream",
     "text": [
      "simecek/FruitflyDNADeberta:davidcechak/Worm_DNA_v0_DNABert6tokenized 7.240468978881836\n"
     ]
    },
    {
     "data": {
      "text/html": [
       "\n",
       "    <div>\n",
       "      \n",
       "      <progress value='26' max='26' style='width:300px; height:20px; vertical-align: middle;'></progress>\n",
       "      [26/26 00:11]\n",
       "    </div>\n",
       "    "
      ],
      "text/plain": [
       "<IPython.core.display.HTML object>"
      ]
     },
     "metadata": {},
     "output_type": "display_data"
    },
    {
     "name": "stderr",
     "output_type": "stream",
     "text": [
      "max_steps is given, it will override any value given in num_train_epochs\n",
      "***** Running Evaluation *****\n",
      "  Num examples = 3266\n",
      "  Batch size = 128\n"
     ]
    },
    {
     "name": "stdout",
     "output_type": "stream",
     "text": [
      "simecek/MouseDNADeberta:davidcechak/Worm_DNA_v0_DNABert6tokenized 7.353073596954346\n"
     ]
    },
    {
     "data": {
      "text/html": [
       "\n",
       "    <div>\n",
       "      \n",
       "      <progress value='26' max='26' style='width:300px; height:20px; vertical-align: middle;'></progress>\n",
       "      [26/26 00:11]\n",
       "    </div>\n",
       "    "
      ],
      "text/plain": [
       "<IPython.core.display.HTML object>"
      ]
     },
     "metadata": {},
     "output_type": "display_data"
    },
    {
     "name": "stderr",
     "output_type": "stream",
     "text": [
      "max_steps is given, it will override any value given in num_train_epochs\n",
      "***** Running Evaluation *****\n",
      "  Num examples = 3266\n",
      "  Batch size = 128\n"
     ]
    },
    {
     "name": "stdout",
     "output_type": "stream",
     "text": [
      "simecek/WormDNADeberta:davidcechak/Worm_DNA_v0_DNABert6tokenized 7.2142767906188965\n"
     ]
    },
    {
     "data": {
      "text/html": [
       "\n",
       "    <div>\n",
       "      \n",
       "      <progress value='26' max='26' style='width:300px; height:20px; vertical-align: middle;'></progress>\n",
       "      [26/26 00:11]\n",
       "    </div>\n",
       "    "
      ],
      "text/plain": [
       "<IPython.core.display.HTML object>"
      ]
     },
     "metadata": {},
     "output_type": "display_data"
    },
    {
     "name": "stdout",
     "output_type": "stream",
     "text": [
      "simecek/DNADebertaSmall:davidcechak/Worm_DNA_v0_DNABert6tokenized 7.292906761169434\n"
     ]
    },
    {
     "name": "stderr",
     "output_type": "stream",
     "text": [
      "Using custom data configuration davidcechak--Fruitfly_DNA_v0_DNABert6tokenized-edd94a8581cd97bd\n",
      "Reusing dataset parquet (/home/jovyan/.cache/huggingface/datasets/davidcechak___parquet/davidcechak--Fruitfly_DNA_v0_DNABert6tokenized-edd94a8581cd97bd/0.0.0/0b6d5799bb726b24ad7fc7be720c170d8e497f575d02d47537de9a5bac074901)\n"
     ]
    },
    {
     "data": {
      "application/vnd.jupyter.widget-view+json": {
       "model_id": "c1de73f1c93f446f8548dbe755a5b105",
       "version_major": 2,
       "version_minor": 0
      },
      "text/plain": [
       "  0%|          | 0/2 [00:00<?, ?it/s]"
      ]
     },
     "metadata": {},
     "output_type": "display_data"
    },
    {
     "name": "stderr",
     "output_type": "stream",
     "text": [
      "max_steps is given, it will override any value given in num_train_epochs\n",
      "***** Running Evaluation *****\n",
      "  Num examples = 4423\n",
      "  Batch size = 128\n"
     ]
    },
    {
     "data": {
      "text/html": [
       "\n",
       "    <div>\n",
       "      \n",
       "      <progress value='35' max='35' style='width:300px; height:20px; vertical-align: middle;'></progress>\n",
       "      [35/35 00:15]\n",
       "    </div>\n",
       "    "
      ],
      "text/plain": [
       "<IPython.core.display.HTML object>"
      ]
     },
     "metadata": {},
     "output_type": "display_data"
    },
    {
     "name": "stderr",
     "output_type": "stream",
     "text": [
      "max_steps is given, it will override any value given in num_train_epochs\n",
      "***** Running Evaluation *****\n",
      "  Num examples = 4423\n",
      "  Batch size = 128\n"
     ]
    },
    {
     "name": "stdout",
     "output_type": "stream",
     "text": [
      "simecek/HumanRedoneDNADeberta:davidcechak/Fruitfly_DNA_v0_DNABert6tokenized 7.542044162750244\n"
     ]
    },
    {
     "data": {
      "text/html": [
       "\n",
       "    <div>\n",
       "      \n",
       "      <progress value='35' max='35' style='width:300px; height:20px; vertical-align: middle;'></progress>\n",
       "      [35/35 00:15]\n",
       "    </div>\n",
       "    "
      ],
      "text/plain": [
       "<IPython.core.display.HTML object>"
      ]
     },
     "metadata": {},
     "output_type": "display_data"
    },
    {
     "name": "stderr",
     "output_type": "stream",
     "text": [
      "max_steps is given, it will override any value given in num_train_epochs\n",
      "***** Running Evaluation *****\n",
      "  Num examples = 4423\n",
      "  Batch size = 128\n"
     ]
    },
    {
     "name": "stdout",
     "output_type": "stream",
     "text": [
      "simecek/ZebrafishDNADeberta:davidcechak/Fruitfly_DNA_v0_DNABert6tokenized 7.4960832595825195\n"
     ]
    },
    {
     "data": {
      "text/html": [
       "\n",
       "    <div>\n",
       "      \n",
       "      <progress value='35' max='35' style='width:300px; height:20px; vertical-align: middle;'></progress>\n",
       "      [35/35 00:15]\n",
       "    </div>\n",
       "    "
      ],
      "text/plain": [
       "<IPython.core.display.HTML object>"
      ]
     },
     "metadata": {},
     "output_type": "display_data"
    },
    {
     "name": "stderr",
     "output_type": "stream",
     "text": [
      "max_steps is given, it will override any value given in num_train_epochs\n",
      "***** Running Evaluation *****\n",
      "  Num examples = 4423\n",
      "  Batch size = 128\n"
     ]
    },
    {
     "name": "stdout",
     "output_type": "stream",
     "text": [
      "simecek/ArabidopsisDNADeberta:davidcechak/Fruitfly_DNA_v0_DNABert6tokenized 7.467253684997559\n"
     ]
    },
    {
     "data": {
      "text/html": [
       "\n",
       "    <div>\n",
       "      \n",
       "      <progress value='35' max='35' style='width:300px; height:20px; vertical-align: middle;'></progress>\n",
       "      [35/35 00:15]\n",
       "    </div>\n",
       "    "
      ],
      "text/plain": [
       "<IPython.core.display.HTML object>"
      ]
     },
     "metadata": {},
     "output_type": "display_data"
    },
    {
     "name": "stderr",
     "output_type": "stream",
     "text": [
      "max_steps is given, it will override any value given in num_train_epochs\n",
      "***** Running Evaluation *****\n",
      "  Num examples = 4423\n",
      "  Batch size = 128\n"
     ]
    },
    {
     "name": "stdout",
     "output_type": "stream",
     "text": [
      "simecek/FruitflyDNADeberta:davidcechak/Fruitfly_DNA_v0_DNABert6tokenized 7.336008071899414\n"
     ]
    },
    {
     "data": {
      "text/html": [
       "\n",
       "    <div>\n",
       "      \n",
       "      <progress value='35' max='35' style='width:300px; height:20px; vertical-align: middle;'></progress>\n",
       "      [35/35 00:15]\n",
       "    </div>\n",
       "    "
      ],
      "text/plain": [
       "<IPython.core.display.HTML object>"
      ]
     },
     "metadata": {},
     "output_type": "display_data"
    },
    {
     "name": "stderr",
     "output_type": "stream",
     "text": [
      "max_steps is given, it will override any value given in num_train_epochs\n",
      "***** Running Evaluation *****\n",
      "  Num examples = 4423\n",
      "  Batch size = 128\n"
     ]
    },
    {
     "name": "stdout",
     "output_type": "stream",
     "text": [
      "simecek/MouseDNADeberta:davidcechak/Fruitfly_DNA_v0_DNABert6tokenized 7.533913612365723\n"
     ]
    },
    {
     "data": {
      "text/html": [
       "\n",
       "    <div>\n",
       "      \n",
       "      <progress value='35' max='35' style='width:300px; height:20px; vertical-align: middle;'></progress>\n",
       "      [35/35 00:15]\n",
       "    </div>\n",
       "    "
      ],
      "text/plain": [
       "<IPython.core.display.HTML object>"
      ]
     },
     "metadata": {},
     "output_type": "display_data"
    },
    {
     "name": "stderr",
     "output_type": "stream",
     "text": [
      "max_steps is given, it will override any value given in num_train_epochs\n",
      "***** Running Evaluation *****\n",
      "  Num examples = 4423\n",
      "  Batch size = 128\n"
     ]
    },
    {
     "name": "stdout",
     "output_type": "stream",
     "text": [
      "simecek/WormDNADeberta:davidcechak/Fruitfly_DNA_v0_DNABert6tokenized 7.504519939422607\n"
     ]
    },
    {
     "data": {
      "text/html": [
       "\n",
       "    <div>\n",
       "      \n",
       "      <progress value='35' max='35' style='width:300px; height:20px; vertical-align: middle;'></progress>\n",
       "      [35/35 00:15]\n",
       "    </div>\n",
       "    "
      ],
      "text/plain": [
       "<IPython.core.display.HTML object>"
      ]
     },
     "metadata": {},
     "output_type": "display_data"
    },
    {
     "name": "stdout",
     "output_type": "stream",
     "text": [
      "simecek/DNADebertaSmall:davidcechak/Fruitfly_DNA_v0_DNABert6tokenized 7.413302898406982\n"
     ]
    }
   ],
   "source": [
    "from datasets import load_dataset\n",
    "from tqdm.autonotebook import tqdm\n",
    "\n",
    "\n",
    "results = []\n",
    "\n",
    "for ds_name in tqdm(DATASETS):\n",
    "    \n",
    "    dataset = load_dataset(ds_name)\n",
    "    \n",
    "    for model_name in MODELS:\n",
    "\n",
    "        model = models[model_name]\n",
    "        #nparams = sum(p.numel() for p in model.parameters()) / 10**6\n",
    "        \n",
    "        trainer = Trainer(\n",
    "            model=model,\n",
    "            args=fake_training_args,\n",
    "            data_collator=data_collator,\n",
    "            #train_dataset=dataset['test'].select(range(100)),\n",
    "            #eval_dataset=dataset['test'].select(range(100)),\n",
    "            train_dataset=dataset['test'].select(range(min(10000, len(dataset['test'])))),\n",
    "            eval_dataset=dataset['test'].select(range(min(10000, len(dataset['test'])))),\n",
    "        )\n",
    "\n",
    "        eval = trainer.evaluate()\n",
    "        print(f\"{model_name}:{ds_name} {eval['eval_loss']}\")\n",
    "        \n",
    "        results.append((ds_name, model_name, eval['eval_loss']))\n",
    "  \n"
   ]
  },
  {
   "cell_type": "code",
   "execution_count": 33,
   "metadata": {
    "id": "zMu5hpI-I2-t"
   },
   "outputs": [
    {
     "data": {
      "text/html": [
       "<div>\n",
       "<style scoped>\n",
       "    .dataframe tbody tr th:only-of-type {\n",
       "        vertical-align: middle;\n",
       "    }\n",
       "\n",
       "    .dataframe tbody tr th {\n",
       "        vertical-align: top;\n",
       "    }\n",
       "\n",
       "    .dataframe thead th {\n",
       "        text-align: right;\n",
       "    }\n",
       "</style>\n",
       "<table border=\"1\" class=\"dataframe\">\n",
       "  <thead>\n",
       "    <tr style=\"text-align: right;\">\n",
       "      <th></th>\n",
       "      <th>dataset</th>\n",
       "      <th>model</th>\n",
       "      <th>loss</th>\n",
       "    </tr>\n",
       "  </thead>\n",
       "  <tbody>\n",
       "    <tr>\n",
       "      <th>0</th>\n",
       "      <td>simecek/Human_DNA_v0_DNABert6tokenized</td>\n",
       "      <td>simecek/HumanRedoneDNADeberta</td>\n",
       "      <td>7.245747</td>\n",
       "    </tr>\n",
       "    <tr>\n",
       "      <th>1</th>\n",
       "      <td>simecek/Human_DNA_v0_DNABert6tokenized</td>\n",
       "      <td>simecek/ZebrafishDNADeberta</td>\n",
       "      <td>7.334394</td>\n",
       "    </tr>\n",
       "    <tr>\n",
       "      <th>2</th>\n",
       "      <td>simecek/Human_DNA_v0_DNABert6tokenized</td>\n",
       "      <td>simecek/ArabidopsisDNADeberta</td>\n",
       "      <td>7.345582</td>\n",
       "    </tr>\n",
       "    <tr>\n",
       "      <th>3</th>\n",
       "      <td>simecek/Human_DNA_v0_DNABert6tokenized</td>\n",
       "      <td>simecek/FruitflyDNADeberta</td>\n",
       "      <td>7.384778</td>\n",
       "    </tr>\n",
       "    <tr>\n",
       "      <th>4</th>\n",
       "      <td>simecek/Human_DNA_v0_DNABert6tokenized</td>\n",
       "      <td>simecek/MouseDNADeberta</td>\n",
       "      <td>7.302046</td>\n",
       "    </tr>\n",
       "    <tr>\n",
       "      <th>5</th>\n",
       "      <td>simecek/Human_DNA_v0_DNABert6tokenized</td>\n",
       "      <td>simecek/WormDNADeberta</td>\n",
       "      <td>7.438027</td>\n",
       "    </tr>\n",
       "    <tr>\n",
       "      <th>6</th>\n",
       "      <td>simecek/Human_DNA_v0_DNABert6tokenized</td>\n",
       "      <td>simecek/DNADebertaSmall</td>\n",
       "      <td>6.135972</td>\n",
       "    </tr>\n",
       "    <tr>\n",
       "      <th>7</th>\n",
       "      <td>davidcechak/Zebrafish_DNA_v0_DNABert6tokenized</td>\n",
       "      <td>simecek/HumanRedoneDNADeberta</td>\n",
       "      <td>7.325280</td>\n",
       "    </tr>\n",
       "    <tr>\n",
       "      <th>8</th>\n",
       "      <td>davidcechak/Zebrafish_DNA_v0_DNABert6tokenized</td>\n",
       "      <td>simecek/ZebrafishDNADeberta</td>\n",
       "      <td>7.250859</td>\n",
       "    </tr>\n",
       "    <tr>\n",
       "      <th>9</th>\n",
       "      <td>davidcechak/Zebrafish_DNA_v0_DNABert6tokenized</td>\n",
       "      <td>simecek/ArabidopsisDNADeberta</td>\n",
       "      <td>7.284417</td>\n",
       "    </tr>\n",
       "    <tr>\n",
       "      <th>10</th>\n",
       "      <td>davidcechak/Zebrafish_DNA_v0_DNABert6tokenized</td>\n",
       "      <td>simecek/FruitflyDNADeberta</td>\n",
       "      <td>7.268256</td>\n",
       "    </tr>\n",
       "    <tr>\n",
       "      <th>11</th>\n",
       "      <td>davidcechak/Zebrafish_DNA_v0_DNABert6tokenized</td>\n",
       "      <td>simecek/MouseDNADeberta</td>\n",
       "      <td>7.312208</td>\n",
       "    </tr>\n",
       "    <tr>\n",
       "      <th>12</th>\n",
       "      <td>davidcechak/Zebrafish_DNA_v0_DNABert6tokenized</td>\n",
       "      <td>simecek/WormDNADeberta</td>\n",
       "      <td>7.363481</td>\n",
       "    </tr>\n",
       "    <tr>\n",
       "      <th>13</th>\n",
       "      <td>davidcechak/Zebrafish_DNA_v0_DNABert6tokenized</td>\n",
       "      <td>simecek/DNADebertaSmall</td>\n",
       "      <td>7.106801</td>\n",
       "    </tr>\n",
       "    <tr>\n",
       "      <th>14</th>\n",
       "      <td>davidcechak/Arabidopsis_thaliana_DNA_v0_DNABer...</td>\n",
       "      <td>simecek/HumanRedoneDNADeberta</td>\n",
       "      <td>7.402442</td>\n",
       "    </tr>\n",
       "    <tr>\n",
       "      <th>15</th>\n",
       "      <td>davidcechak/Arabidopsis_thaliana_DNA_v0_DNABer...</td>\n",
       "      <td>simecek/ZebrafishDNADeberta</td>\n",
       "      <td>7.376945</td>\n",
       "    </tr>\n",
       "    <tr>\n",
       "      <th>16</th>\n",
       "      <td>davidcechak/Arabidopsis_thaliana_DNA_v0_DNABer...</td>\n",
       "      <td>simecek/ArabidopsisDNADeberta</td>\n",
       "      <td>7.242719</td>\n",
       "    </tr>\n",
       "    <tr>\n",
       "      <th>17</th>\n",
       "      <td>davidcechak/Arabidopsis_thaliana_DNA_v0_DNABer...</td>\n",
       "      <td>simecek/FruitflyDNADeberta</td>\n",
       "      <td>7.319701</td>\n",
       "    </tr>\n",
       "    <tr>\n",
       "      <th>18</th>\n",
       "      <td>davidcechak/Arabidopsis_thaliana_DNA_v0_DNABer...</td>\n",
       "      <td>simecek/MouseDNADeberta</td>\n",
       "      <td>7.394494</td>\n",
       "    </tr>\n",
       "    <tr>\n",
       "      <th>19</th>\n",
       "      <td>davidcechak/Arabidopsis_thaliana_DNA_v0_DNABer...</td>\n",
       "      <td>simecek/WormDNADeberta</td>\n",
       "      <td>7.360411</td>\n",
       "    </tr>\n",
       "    <tr>\n",
       "      <th>20</th>\n",
       "      <td>davidcechak/Arabidopsis_thaliana_DNA_v0_DNABer...</td>\n",
       "      <td>simecek/DNADebertaSmall</td>\n",
       "      <td>7.313121</td>\n",
       "    </tr>\n",
       "    <tr>\n",
       "      <th>21</th>\n",
       "      <td>davidcechak/Mouse_DNA_v0_DNABert6tokenized</td>\n",
       "      <td>simecek/HumanRedoneDNADeberta</td>\n",
       "      <td>7.309452</td>\n",
       "    </tr>\n",
       "    <tr>\n",
       "      <th>22</th>\n",
       "      <td>davidcechak/Mouse_DNA_v0_DNABert6tokenized</td>\n",
       "      <td>simecek/ZebrafishDNADeberta</td>\n",
       "      <td>7.339880</td>\n",
       "    </tr>\n",
       "    <tr>\n",
       "      <th>23</th>\n",
       "      <td>davidcechak/Mouse_DNA_v0_DNABert6tokenized</td>\n",
       "      <td>simecek/ArabidopsisDNADeberta</td>\n",
       "      <td>7.350377</td>\n",
       "    </tr>\n",
       "    <tr>\n",
       "      <th>24</th>\n",
       "      <td>davidcechak/Mouse_DNA_v0_DNABert6tokenized</td>\n",
       "      <td>simecek/FruitflyDNADeberta</td>\n",
       "      <td>7.398281</td>\n",
       "    </tr>\n",
       "    <tr>\n",
       "      <th>25</th>\n",
       "      <td>davidcechak/Mouse_DNA_v0_DNABert6tokenized</td>\n",
       "      <td>simecek/MouseDNADeberta</td>\n",
       "      <td>7.276564</td>\n",
       "    </tr>\n",
       "    <tr>\n",
       "      <th>26</th>\n",
       "      <td>davidcechak/Mouse_DNA_v0_DNABert6tokenized</td>\n",
       "      <td>simecek/WormDNADeberta</td>\n",
       "      <td>7.462936</td>\n",
       "    </tr>\n",
       "    <tr>\n",
       "      <th>27</th>\n",
       "      <td>davidcechak/Mouse_DNA_v0_DNABert6tokenized</td>\n",
       "      <td>simecek/DNADebertaSmall</td>\n",
       "      <td>6.978280</td>\n",
       "    </tr>\n",
       "    <tr>\n",
       "      <th>28</th>\n",
       "      <td>davidcechak/Worm_DNA_v0_DNABert6tokenized</td>\n",
       "      <td>simecek/HumanRedoneDNADeberta</td>\n",
       "      <td>7.359206</td>\n",
       "    </tr>\n",
       "    <tr>\n",
       "      <th>29</th>\n",
       "      <td>davidcechak/Worm_DNA_v0_DNABert6tokenized</td>\n",
       "      <td>simecek/ZebrafishDNADeberta</td>\n",
       "      <td>7.320830</td>\n",
       "    </tr>\n",
       "    <tr>\n",
       "      <th>30</th>\n",
       "      <td>davidcechak/Worm_DNA_v0_DNABert6tokenized</td>\n",
       "      <td>simecek/ArabidopsisDNADeberta</td>\n",
       "      <td>7.270550</td>\n",
       "    </tr>\n",
       "    <tr>\n",
       "      <th>31</th>\n",
       "      <td>davidcechak/Worm_DNA_v0_DNABert6tokenized</td>\n",
       "      <td>simecek/FruitflyDNADeberta</td>\n",
       "      <td>7.240469</td>\n",
       "    </tr>\n",
       "    <tr>\n",
       "      <th>32</th>\n",
       "      <td>davidcechak/Worm_DNA_v0_DNABert6tokenized</td>\n",
       "      <td>simecek/MouseDNADeberta</td>\n",
       "      <td>7.353074</td>\n",
       "    </tr>\n",
       "    <tr>\n",
       "      <th>33</th>\n",
       "      <td>davidcechak/Worm_DNA_v0_DNABert6tokenized</td>\n",
       "      <td>simecek/WormDNADeberta</td>\n",
       "      <td>7.214277</td>\n",
       "    </tr>\n",
       "    <tr>\n",
       "      <th>34</th>\n",
       "      <td>davidcechak/Worm_DNA_v0_DNABert6tokenized</td>\n",
       "      <td>simecek/DNADebertaSmall</td>\n",
       "      <td>7.292907</td>\n",
       "    </tr>\n",
       "    <tr>\n",
       "      <th>35</th>\n",
       "      <td>davidcechak/Fruitfly_DNA_v0_DNABert6tokenized</td>\n",
       "      <td>simecek/HumanRedoneDNADeberta</td>\n",
       "      <td>7.542044</td>\n",
       "    </tr>\n",
       "    <tr>\n",
       "      <th>36</th>\n",
       "      <td>davidcechak/Fruitfly_DNA_v0_DNABert6tokenized</td>\n",
       "      <td>simecek/ZebrafishDNADeberta</td>\n",
       "      <td>7.496083</td>\n",
       "    </tr>\n",
       "    <tr>\n",
       "      <th>37</th>\n",
       "      <td>davidcechak/Fruitfly_DNA_v0_DNABert6tokenized</td>\n",
       "      <td>simecek/ArabidopsisDNADeberta</td>\n",
       "      <td>7.467254</td>\n",
       "    </tr>\n",
       "    <tr>\n",
       "      <th>38</th>\n",
       "      <td>davidcechak/Fruitfly_DNA_v0_DNABert6tokenized</td>\n",
       "      <td>simecek/FruitflyDNADeberta</td>\n",
       "      <td>7.336008</td>\n",
       "    </tr>\n",
       "    <tr>\n",
       "      <th>39</th>\n",
       "      <td>davidcechak/Fruitfly_DNA_v0_DNABert6tokenized</td>\n",
       "      <td>simecek/MouseDNADeberta</td>\n",
       "      <td>7.533914</td>\n",
       "    </tr>\n",
       "    <tr>\n",
       "      <th>40</th>\n",
       "      <td>davidcechak/Fruitfly_DNA_v0_DNABert6tokenized</td>\n",
       "      <td>simecek/WormDNADeberta</td>\n",
       "      <td>7.504520</td>\n",
       "    </tr>\n",
       "    <tr>\n",
       "      <th>41</th>\n",
       "      <td>davidcechak/Fruitfly_DNA_v0_DNABert6tokenized</td>\n",
       "      <td>simecek/DNADebertaSmall</td>\n",
       "      <td>7.413303</td>\n",
       "    </tr>\n",
       "  </tbody>\n",
       "</table>\n",
       "</div>"
      ],
      "text/plain": [
       "                                              dataset  \\\n",
       "0              simecek/Human_DNA_v0_DNABert6tokenized   \n",
       "1              simecek/Human_DNA_v0_DNABert6tokenized   \n",
       "2              simecek/Human_DNA_v0_DNABert6tokenized   \n",
       "3              simecek/Human_DNA_v0_DNABert6tokenized   \n",
       "4              simecek/Human_DNA_v0_DNABert6tokenized   \n",
       "5              simecek/Human_DNA_v0_DNABert6tokenized   \n",
       "6              simecek/Human_DNA_v0_DNABert6tokenized   \n",
       "7      davidcechak/Zebrafish_DNA_v0_DNABert6tokenized   \n",
       "8      davidcechak/Zebrafish_DNA_v0_DNABert6tokenized   \n",
       "9      davidcechak/Zebrafish_DNA_v0_DNABert6tokenized   \n",
       "10     davidcechak/Zebrafish_DNA_v0_DNABert6tokenized   \n",
       "11     davidcechak/Zebrafish_DNA_v0_DNABert6tokenized   \n",
       "12     davidcechak/Zebrafish_DNA_v0_DNABert6tokenized   \n",
       "13     davidcechak/Zebrafish_DNA_v0_DNABert6tokenized   \n",
       "14  davidcechak/Arabidopsis_thaliana_DNA_v0_DNABer...   \n",
       "15  davidcechak/Arabidopsis_thaliana_DNA_v0_DNABer...   \n",
       "16  davidcechak/Arabidopsis_thaliana_DNA_v0_DNABer...   \n",
       "17  davidcechak/Arabidopsis_thaliana_DNA_v0_DNABer...   \n",
       "18  davidcechak/Arabidopsis_thaliana_DNA_v0_DNABer...   \n",
       "19  davidcechak/Arabidopsis_thaliana_DNA_v0_DNABer...   \n",
       "20  davidcechak/Arabidopsis_thaliana_DNA_v0_DNABer...   \n",
       "21         davidcechak/Mouse_DNA_v0_DNABert6tokenized   \n",
       "22         davidcechak/Mouse_DNA_v0_DNABert6tokenized   \n",
       "23         davidcechak/Mouse_DNA_v0_DNABert6tokenized   \n",
       "24         davidcechak/Mouse_DNA_v0_DNABert6tokenized   \n",
       "25         davidcechak/Mouse_DNA_v0_DNABert6tokenized   \n",
       "26         davidcechak/Mouse_DNA_v0_DNABert6tokenized   \n",
       "27         davidcechak/Mouse_DNA_v0_DNABert6tokenized   \n",
       "28          davidcechak/Worm_DNA_v0_DNABert6tokenized   \n",
       "29          davidcechak/Worm_DNA_v0_DNABert6tokenized   \n",
       "30          davidcechak/Worm_DNA_v0_DNABert6tokenized   \n",
       "31          davidcechak/Worm_DNA_v0_DNABert6tokenized   \n",
       "32          davidcechak/Worm_DNA_v0_DNABert6tokenized   \n",
       "33          davidcechak/Worm_DNA_v0_DNABert6tokenized   \n",
       "34          davidcechak/Worm_DNA_v0_DNABert6tokenized   \n",
       "35      davidcechak/Fruitfly_DNA_v0_DNABert6tokenized   \n",
       "36      davidcechak/Fruitfly_DNA_v0_DNABert6tokenized   \n",
       "37      davidcechak/Fruitfly_DNA_v0_DNABert6tokenized   \n",
       "38      davidcechak/Fruitfly_DNA_v0_DNABert6tokenized   \n",
       "39      davidcechak/Fruitfly_DNA_v0_DNABert6tokenized   \n",
       "40      davidcechak/Fruitfly_DNA_v0_DNABert6tokenized   \n",
       "41      davidcechak/Fruitfly_DNA_v0_DNABert6tokenized   \n",
       "\n",
       "                            model      loss  \n",
       "0   simecek/HumanRedoneDNADeberta  7.245747  \n",
       "1     simecek/ZebrafishDNADeberta  7.334394  \n",
       "2   simecek/ArabidopsisDNADeberta  7.345582  \n",
       "3      simecek/FruitflyDNADeberta  7.384778  \n",
       "4         simecek/MouseDNADeberta  7.302046  \n",
       "5          simecek/WormDNADeberta  7.438027  \n",
       "6         simecek/DNADebertaSmall  6.135972  \n",
       "7   simecek/HumanRedoneDNADeberta  7.325280  \n",
       "8     simecek/ZebrafishDNADeberta  7.250859  \n",
       "9   simecek/ArabidopsisDNADeberta  7.284417  \n",
       "10     simecek/FruitflyDNADeberta  7.268256  \n",
       "11        simecek/MouseDNADeberta  7.312208  \n",
       "12         simecek/WormDNADeberta  7.363481  \n",
       "13        simecek/DNADebertaSmall  7.106801  \n",
       "14  simecek/HumanRedoneDNADeberta  7.402442  \n",
       "15    simecek/ZebrafishDNADeberta  7.376945  \n",
       "16  simecek/ArabidopsisDNADeberta  7.242719  \n",
       "17     simecek/FruitflyDNADeberta  7.319701  \n",
       "18        simecek/MouseDNADeberta  7.394494  \n",
       "19         simecek/WormDNADeberta  7.360411  \n",
       "20        simecek/DNADebertaSmall  7.313121  \n",
       "21  simecek/HumanRedoneDNADeberta  7.309452  \n",
       "22    simecek/ZebrafishDNADeberta  7.339880  \n",
       "23  simecek/ArabidopsisDNADeberta  7.350377  \n",
       "24     simecek/FruitflyDNADeberta  7.398281  \n",
       "25        simecek/MouseDNADeberta  7.276564  \n",
       "26         simecek/WormDNADeberta  7.462936  \n",
       "27        simecek/DNADebertaSmall  6.978280  \n",
       "28  simecek/HumanRedoneDNADeberta  7.359206  \n",
       "29    simecek/ZebrafishDNADeberta  7.320830  \n",
       "30  simecek/ArabidopsisDNADeberta  7.270550  \n",
       "31     simecek/FruitflyDNADeberta  7.240469  \n",
       "32        simecek/MouseDNADeberta  7.353074  \n",
       "33         simecek/WormDNADeberta  7.214277  \n",
       "34        simecek/DNADebertaSmall  7.292907  \n",
       "35  simecek/HumanRedoneDNADeberta  7.542044  \n",
       "36    simecek/ZebrafishDNADeberta  7.496083  \n",
       "37  simecek/ArabidopsisDNADeberta  7.467254  \n",
       "38     simecek/FruitflyDNADeberta  7.336008  \n",
       "39        simecek/MouseDNADeberta  7.533914  \n",
       "40         simecek/WormDNADeberta  7.504520  \n",
       "41        simecek/DNADebertaSmall  7.413303  "
      ]
     },
     "execution_count": 33,
     "metadata": {},
     "output_type": "execute_result"
    }
   ],
   "source": [
    "import pandas as pd\n",
    "\n",
    "results_long = pd.DataFrame.from_records(results, columns=[\"dataset\", \"model\", \"loss\"])\n",
    "results_long"
   ]
  },
  {
   "cell_type": "code",
   "execution_count": 34,
   "metadata": {},
   "outputs": [
    {
     "data": {
      "text/html": [
       "<div>\n",
       "<style scoped>\n",
       "    .dataframe tbody tr th:only-of-type {\n",
       "        vertical-align: middle;\n",
       "    }\n",
       "\n",
       "    .dataframe tbody tr th {\n",
       "        vertical-align: top;\n",
       "    }\n",
       "\n",
       "    .dataframe thead th {\n",
       "        text-align: right;\n",
       "    }\n",
       "</style>\n",
       "<table border=\"1\" class=\"dataframe\">\n",
       "  <thead>\n",
       "    <tr style=\"text-align: right;\">\n",
       "      <th>model</th>\n",
       "      <th>simecek/ArabidopsisDNADeberta</th>\n",
       "      <th>simecek/DNADebertaSmall</th>\n",
       "      <th>simecek/FruitflyDNADeberta</th>\n",
       "      <th>simecek/HumanRedoneDNADeberta</th>\n",
       "      <th>simecek/MouseDNADeberta</th>\n",
       "      <th>simecek/WormDNADeberta</th>\n",
       "      <th>simecek/ZebrafishDNADeberta</th>\n",
       "    </tr>\n",
       "    <tr>\n",
       "      <th>dataset</th>\n",
       "      <th></th>\n",
       "      <th></th>\n",
       "      <th></th>\n",
       "      <th></th>\n",
       "      <th></th>\n",
       "      <th></th>\n",
       "      <th></th>\n",
       "    </tr>\n",
       "  </thead>\n",
       "  <tbody>\n",
       "    <tr>\n",
       "      <th>davidcechak/Arabidopsis_thaliana_DNA_v0_DNABert6tokenized</th>\n",
       "      <td>7.242719</td>\n",
       "      <td>7.313121</td>\n",
       "      <td>7.319701</td>\n",
       "      <td>7.402442</td>\n",
       "      <td>7.394494</td>\n",
       "      <td>7.360411</td>\n",
       "      <td>7.376945</td>\n",
       "    </tr>\n",
       "    <tr>\n",
       "      <th>davidcechak/Fruitfly_DNA_v0_DNABert6tokenized</th>\n",
       "      <td>7.467254</td>\n",
       "      <td>7.413303</td>\n",
       "      <td>7.336008</td>\n",
       "      <td>7.542044</td>\n",
       "      <td>7.533914</td>\n",
       "      <td>7.504520</td>\n",
       "      <td>7.496083</td>\n",
       "    </tr>\n",
       "    <tr>\n",
       "      <th>davidcechak/Mouse_DNA_v0_DNABert6tokenized</th>\n",
       "      <td>7.350377</td>\n",
       "      <td>6.978280</td>\n",
       "      <td>7.398281</td>\n",
       "      <td>7.309452</td>\n",
       "      <td>7.276564</td>\n",
       "      <td>7.462936</td>\n",
       "      <td>7.339880</td>\n",
       "    </tr>\n",
       "    <tr>\n",
       "      <th>davidcechak/Worm_DNA_v0_DNABert6tokenized</th>\n",
       "      <td>7.270550</td>\n",
       "      <td>7.292907</td>\n",
       "      <td>7.240469</td>\n",
       "      <td>7.359206</td>\n",
       "      <td>7.353074</td>\n",
       "      <td>7.214277</td>\n",
       "      <td>7.320830</td>\n",
       "    </tr>\n",
       "    <tr>\n",
       "      <th>davidcechak/Zebrafish_DNA_v0_DNABert6tokenized</th>\n",
       "      <td>7.284417</td>\n",
       "      <td>7.106801</td>\n",
       "      <td>7.268256</td>\n",
       "      <td>7.325280</td>\n",
       "      <td>7.312208</td>\n",
       "      <td>7.363481</td>\n",
       "      <td>7.250859</td>\n",
       "    </tr>\n",
       "    <tr>\n",
       "      <th>simecek/Human_DNA_v0_DNABert6tokenized</th>\n",
       "      <td>7.345582</td>\n",
       "      <td>6.135972</td>\n",
       "      <td>7.384778</td>\n",
       "      <td>7.245747</td>\n",
       "      <td>7.302046</td>\n",
       "      <td>7.438027</td>\n",
       "      <td>7.334394</td>\n",
       "    </tr>\n",
       "  </tbody>\n",
       "</table>\n",
       "</div>"
      ],
      "text/plain": [
       "model                                               simecek/ArabidopsisDNADeberta  \\\n",
       "dataset                                                                             \n",
       "davidcechak/Arabidopsis_thaliana_DNA_v0_DNABert...                       7.242719   \n",
       "davidcechak/Fruitfly_DNA_v0_DNABert6tokenized                            7.467254   \n",
       "davidcechak/Mouse_DNA_v0_DNABert6tokenized                               7.350377   \n",
       "davidcechak/Worm_DNA_v0_DNABert6tokenized                                7.270550   \n",
       "davidcechak/Zebrafish_DNA_v0_DNABert6tokenized                           7.284417   \n",
       "simecek/Human_DNA_v0_DNABert6tokenized                                   7.345582   \n",
       "\n",
       "model                                               simecek/DNADebertaSmall  \\\n",
       "dataset                                                                       \n",
       "davidcechak/Arabidopsis_thaliana_DNA_v0_DNABert...                 7.313121   \n",
       "davidcechak/Fruitfly_DNA_v0_DNABert6tokenized                      7.413303   \n",
       "davidcechak/Mouse_DNA_v0_DNABert6tokenized                         6.978280   \n",
       "davidcechak/Worm_DNA_v0_DNABert6tokenized                          7.292907   \n",
       "davidcechak/Zebrafish_DNA_v0_DNABert6tokenized                     7.106801   \n",
       "simecek/Human_DNA_v0_DNABert6tokenized                             6.135972   \n",
       "\n",
       "model                                               simecek/FruitflyDNADeberta  \\\n",
       "dataset                                                                          \n",
       "davidcechak/Arabidopsis_thaliana_DNA_v0_DNABert...                    7.319701   \n",
       "davidcechak/Fruitfly_DNA_v0_DNABert6tokenized                         7.336008   \n",
       "davidcechak/Mouse_DNA_v0_DNABert6tokenized                            7.398281   \n",
       "davidcechak/Worm_DNA_v0_DNABert6tokenized                             7.240469   \n",
       "davidcechak/Zebrafish_DNA_v0_DNABert6tokenized                        7.268256   \n",
       "simecek/Human_DNA_v0_DNABert6tokenized                                7.384778   \n",
       "\n",
       "model                                               simecek/HumanRedoneDNADeberta  \\\n",
       "dataset                                                                             \n",
       "davidcechak/Arabidopsis_thaliana_DNA_v0_DNABert...                       7.402442   \n",
       "davidcechak/Fruitfly_DNA_v0_DNABert6tokenized                            7.542044   \n",
       "davidcechak/Mouse_DNA_v0_DNABert6tokenized                               7.309452   \n",
       "davidcechak/Worm_DNA_v0_DNABert6tokenized                                7.359206   \n",
       "davidcechak/Zebrafish_DNA_v0_DNABert6tokenized                           7.325280   \n",
       "simecek/Human_DNA_v0_DNABert6tokenized                                   7.245747   \n",
       "\n",
       "model                                               simecek/MouseDNADeberta  \\\n",
       "dataset                                                                       \n",
       "davidcechak/Arabidopsis_thaliana_DNA_v0_DNABert...                 7.394494   \n",
       "davidcechak/Fruitfly_DNA_v0_DNABert6tokenized                      7.533914   \n",
       "davidcechak/Mouse_DNA_v0_DNABert6tokenized                         7.276564   \n",
       "davidcechak/Worm_DNA_v0_DNABert6tokenized                          7.353074   \n",
       "davidcechak/Zebrafish_DNA_v0_DNABert6tokenized                     7.312208   \n",
       "simecek/Human_DNA_v0_DNABert6tokenized                             7.302046   \n",
       "\n",
       "model                                               simecek/WormDNADeberta  \\\n",
       "dataset                                                                      \n",
       "davidcechak/Arabidopsis_thaliana_DNA_v0_DNABert...                7.360411   \n",
       "davidcechak/Fruitfly_DNA_v0_DNABert6tokenized                     7.504520   \n",
       "davidcechak/Mouse_DNA_v0_DNABert6tokenized                        7.462936   \n",
       "davidcechak/Worm_DNA_v0_DNABert6tokenized                         7.214277   \n",
       "davidcechak/Zebrafish_DNA_v0_DNABert6tokenized                    7.363481   \n",
       "simecek/Human_DNA_v0_DNABert6tokenized                            7.438027   \n",
       "\n",
       "model                                               simecek/ZebrafishDNADeberta  \n",
       "dataset                                                                          \n",
       "davidcechak/Arabidopsis_thaliana_DNA_v0_DNABert...                     7.376945  \n",
       "davidcechak/Fruitfly_DNA_v0_DNABert6tokenized                          7.496083  \n",
       "davidcechak/Mouse_DNA_v0_DNABert6tokenized                             7.339880  \n",
       "davidcechak/Worm_DNA_v0_DNABert6tokenized                              7.320830  \n",
       "davidcechak/Zebrafish_DNA_v0_DNABert6tokenized                         7.250859  \n",
       "simecek/Human_DNA_v0_DNABert6tokenized                                 7.334394  "
      ]
     },
     "execution_count": 34,
     "metadata": {},
     "output_type": "execute_result"
    }
   ],
   "source": [
    "results_pivot = results_long.pivot(index='dataset', columns='model', values='loss')\n",
    "results_pivot"
   ]
  },
  {
   "cell_type": "code",
   "execution_count": 37,
   "metadata": {},
   "outputs": [
    {
     "data": {
      "text/html": [
       "<div>\n",
       "<style scoped>\n",
       "    .dataframe tbody tr th:only-of-type {\n",
       "        vertical-align: middle;\n",
       "    }\n",
       "\n",
       "    .dataframe tbody tr th {\n",
       "        vertical-align: top;\n",
       "    }\n",
       "\n",
       "    .dataframe thead th {\n",
       "        text-align: right;\n",
       "    }\n",
       "</style>\n",
       "<table border=\"1\" class=\"dataframe\">\n",
       "  <thead>\n",
       "    <tr style=\"text-align: right;\">\n",
       "      <th>model</th>\n",
       "      <th>simecek/HumanRedoneDNADeberta</th>\n",
       "      <th>simecek/MouseDNADeberta</th>\n",
       "      <th>simecek/ZebrafishDNADeberta</th>\n",
       "      <th>simecek/FruitflyDNADeberta</th>\n",
       "      <th>simecek/WormDNADeberta</th>\n",
       "      <th>simecek/ArabidopsisDNADeberta</th>\n",
       "      <th>simecek/DNADebertaSmall</th>\n",
       "    </tr>\n",
       "    <tr>\n",
       "      <th>dataset</th>\n",
       "      <th></th>\n",
       "      <th></th>\n",
       "      <th></th>\n",
       "      <th></th>\n",
       "      <th></th>\n",
       "      <th></th>\n",
       "      <th></th>\n",
       "    </tr>\n",
       "  </thead>\n",
       "  <tbody>\n",
       "    <tr>\n",
       "      <th>simecek/Human_DNA_v0_DNABert6tokenized</th>\n",
       "      <td>7.25</td>\n",
       "      <td>7.30</td>\n",
       "      <td>7.33</td>\n",
       "      <td>7.38</td>\n",
       "      <td>7.44</td>\n",
       "      <td>7.35</td>\n",
       "      <td>6.14</td>\n",
       "    </tr>\n",
       "    <tr>\n",
       "      <th>davidcechak/Mouse_DNA_v0_DNABert6tokenized</th>\n",
       "      <td>7.31</td>\n",
       "      <td>7.28</td>\n",
       "      <td>7.34</td>\n",
       "      <td>7.40</td>\n",
       "      <td>7.46</td>\n",
       "      <td>7.35</td>\n",
       "      <td>6.98</td>\n",
       "    </tr>\n",
       "    <tr>\n",
       "      <th>davidcechak/Zebrafish_DNA_v0_DNABert6tokenized</th>\n",
       "      <td>7.33</td>\n",
       "      <td>7.31</td>\n",
       "      <td>7.25</td>\n",
       "      <td>7.27</td>\n",
       "      <td>7.36</td>\n",
       "      <td>7.28</td>\n",
       "      <td>7.11</td>\n",
       "    </tr>\n",
       "    <tr>\n",
       "      <th>davidcechak/Fruitfly_DNA_v0_DNABert6tokenized</th>\n",
       "      <td>7.54</td>\n",
       "      <td>7.53</td>\n",
       "      <td>7.50</td>\n",
       "      <td>7.34</td>\n",
       "      <td>7.50</td>\n",
       "      <td>7.47</td>\n",
       "      <td>7.41</td>\n",
       "    </tr>\n",
       "    <tr>\n",
       "      <th>davidcechak/Worm_DNA_v0_DNABert6tokenized</th>\n",
       "      <td>7.36</td>\n",
       "      <td>7.35</td>\n",
       "      <td>7.32</td>\n",
       "      <td>7.24</td>\n",
       "      <td>7.21</td>\n",
       "      <td>7.27</td>\n",
       "      <td>7.29</td>\n",
       "    </tr>\n",
       "    <tr>\n",
       "      <th>davidcechak/Arabidopsis_thaliana_DNA_v0_DNABert6tokenized</th>\n",
       "      <td>7.40</td>\n",
       "      <td>7.39</td>\n",
       "      <td>7.38</td>\n",
       "      <td>7.32</td>\n",
       "      <td>7.36</td>\n",
       "      <td>7.24</td>\n",
       "      <td>7.31</td>\n",
       "    </tr>\n",
       "  </tbody>\n",
       "</table>\n",
       "</div>"
      ],
      "text/plain": [
       "model                                               simecek/HumanRedoneDNADeberta  \\\n",
       "dataset                                                                             \n",
       "simecek/Human_DNA_v0_DNABert6tokenized                                       7.25   \n",
       "davidcechak/Mouse_DNA_v0_DNABert6tokenized                                   7.31   \n",
       "davidcechak/Zebrafish_DNA_v0_DNABert6tokenized                               7.33   \n",
       "davidcechak/Fruitfly_DNA_v0_DNABert6tokenized                                7.54   \n",
       "davidcechak/Worm_DNA_v0_DNABert6tokenized                                    7.36   \n",
       "davidcechak/Arabidopsis_thaliana_DNA_v0_DNABert...                           7.40   \n",
       "\n",
       "model                                               simecek/MouseDNADeberta  \\\n",
       "dataset                                                                       \n",
       "simecek/Human_DNA_v0_DNABert6tokenized                                 7.30   \n",
       "davidcechak/Mouse_DNA_v0_DNABert6tokenized                             7.28   \n",
       "davidcechak/Zebrafish_DNA_v0_DNABert6tokenized                         7.31   \n",
       "davidcechak/Fruitfly_DNA_v0_DNABert6tokenized                          7.53   \n",
       "davidcechak/Worm_DNA_v0_DNABert6tokenized                              7.35   \n",
       "davidcechak/Arabidopsis_thaliana_DNA_v0_DNABert...                     7.39   \n",
       "\n",
       "model                                               simecek/ZebrafishDNADeberta  \\\n",
       "dataset                                                                           \n",
       "simecek/Human_DNA_v0_DNABert6tokenized                                     7.33   \n",
       "davidcechak/Mouse_DNA_v0_DNABert6tokenized                                 7.34   \n",
       "davidcechak/Zebrafish_DNA_v0_DNABert6tokenized                             7.25   \n",
       "davidcechak/Fruitfly_DNA_v0_DNABert6tokenized                              7.50   \n",
       "davidcechak/Worm_DNA_v0_DNABert6tokenized                                  7.32   \n",
       "davidcechak/Arabidopsis_thaliana_DNA_v0_DNABert...                         7.38   \n",
       "\n",
       "model                                               simecek/FruitflyDNADeberta  \\\n",
       "dataset                                                                          \n",
       "simecek/Human_DNA_v0_DNABert6tokenized                                    7.38   \n",
       "davidcechak/Mouse_DNA_v0_DNABert6tokenized                                7.40   \n",
       "davidcechak/Zebrafish_DNA_v0_DNABert6tokenized                            7.27   \n",
       "davidcechak/Fruitfly_DNA_v0_DNABert6tokenized                             7.34   \n",
       "davidcechak/Worm_DNA_v0_DNABert6tokenized                                 7.24   \n",
       "davidcechak/Arabidopsis_thaliana_DNA_v0_DNABert...                        7.32   \n",
       "\n",
       "model                                               simecek/WormDNADeberta  \\\n",
       "dataset                                                                      \n",
       "simecek/Human_DNA_v0_DNABert6tokenized                                7.44   \n",
       "davidcechak/Mouse_DNA_v0_DNABert6tokenized                            7.46   \n",
       "davidcechak/Zebrafish_DNA_v0_DNABert6tokenized                        7.36   \n",
       "davidcechak/Fruitfly_DNA_v0_DNABert6tokenized                         7.50   \n",
       "davidcechak/Worm_DNA_v0_DNABert6tokenized                             7.21   \n",
       "davidcechak/Arabidopsis_thaliana_DNA_v0_DNABert...                    7.36   \n",
       "\n",
       "model                                               simecek/ArabidopsisDNADeberta  \\\n",
       "dataset                                                                             \n",
       "simecek/Human_DNA_v0_DNABert6tokenized                                       7.35   \n",
       "davidcechak/Mouse_DNA_v0_DNABert6tokenized                                   7.35   \n",
       "davidcechak/Zebrafish_DNA_v0_DNABert6tokenized                               7.28   \n",
       "davidcechak/Fruitfly_DNA_v0_DNABert6tokenized                                7.47   \n",
       "davidcechak/Worm_DNA_v0_DNABert6tokenized                                    7.27   \n",
       "davidcechak/Arabidopsis_thaliana_DNA_v0_DNABert...                           7.24   \n",
       "\n",
       "model                                               simecek/DNADebertaSmall  \n",
       "dataset                                                                      \n",
       "simecek/Human_DNA_v0_DNABert6tokenized                                 6.14  \n",
       "davidcechak/Mouse_DNA_v0_DNABert6tokenized                             6.98  \n",
       "davidcechak/Zebrafish_DNA_v0_DNABert6tokenized                         7.11  \n",
       "davidcechak/Fruitfly_DNA_v0_DNABert6tokenized                          7.41  \n",
       "davidcechak/Worm_DNA_v0_DNABert6tokenized                              7.29  \n",
       "davidcechak/Arabidopsis_thaliana_DNA_v0_DNABert...                     7.31  "
      ]
     },
     "execution_count": 37,
     "metadata": {},
     "output_type": "execute_result"
    }
   ],
   "source": [
    "results_output = results_pivot.reindex(DATASETS)[MODELS]\n",
    "results_output.round(2)"
   ]
  },
  {
   "cell_type": "code",
   "execution_count": 27,
   "metadata": {},
   "outputs": [],
   "source": [
    "results_output.to_csv(\"loss_per_organism.csv\")"
   ]
  },
  {
   "cell_type": "code",
   "execution_count": null,
   "metadata": {},
   "outputs": [],
   "source": []
  }
 ],
 "metadata": {
  "accelerator": "GPU",
  "colab": {
   "collapsed_sections": [],
   "name": "Results_organisms.ipynb",
   "provenance": []
  },
  "kernelspec": {
   "display_name": "Python [conda env:myEnv]",
   "language": "python",
   "name": "conda-env-myEnv-py"
  },
  "language_info": {
   "codemirror_mode": {
    "name": "ipython",
    "version": 3
   },
   "file_extension": ".py",
   "mimetype": "text/x-python",
   "name": "python",
   "nbconvert_exporter": "python",
   "pygments_lexer": "ipython3",
   "version": "3.8.13"
  },
  "widgets": {
   "application/vnd.jupyter.widget-state+json": {
    "308724289ef1457283031dcb02cb2cb8": {
     "model_module": "@jupyter-widgets/base",
     "model_module_version": "1.2.0",
     "model_name": "LayoutModel",
     "state": {
      "_model_module": "@jupyter-widgets/base",
      "_model_module_version": "1.2.0",
      "_model_name": "LayoutModel",
      "_view_count": null,
      "_view_module": "@jupyter-widgets/base",
      "_view_module_version": "1.2.0",
      "_view_name": "LayoutView",
      "align_content": null,
      "align_items": null,
      "align_self": null,
      "border": null,
      "bottom": null,
      "display": null,
      "flex": null,
      "flex_flow": null,
      "grid_area": null,
      "grid_auto_columns": null,
      "grid_auto_flow": null,
      "grid_auto_rows": null,
      "grid_column": null,
      "grid_gap": null,
      "grid_row": null,
      "grid_template_areas": null,
      "grid_template_columns": null,
      "grid_template_rows": null,
      "height": null,
      "justify_content": null,
      "justify_items": null,
      "left": null,
      "margin": null,
      "max_height": null,
      "max_width": null,
      "min_height": null,
      "min_width": null,
      "object_fit": null,
      "object_position": null,
      "order": null,
      "overflow": null,
      "overflow_x": null,
      "overflow_y": null,
      "padding": null,
      "right": null,
      "top": null,
      "visibility": null,
      "width": null
     }
    },
    "4cbaee3e14984796a14c2eb25582d6a7": {
     "model_module": "@jupyter-widgets/base",
     "model_module_version": "1.2.0",
     "model_name": "LayoutModel",
     "state": {
      "_model_module": "@jupyter-widgets/base",
      "_model_module_version": "1.2.0",
      "_model_name": "LayoutModel",
      "_view_count": null,
      "_view_module": "@jupyter-widgets/base",
      "_view_module_version": "1.2.0",
      "_view_name": "LayoutView",
      "align_content": null,
      "align_items": null,
      "align_self": null,
      "border": null,
      "bottom": null,
      "display": null,
      "flex": null,
      "flex_flow": null,
      "grid_area": null,
      "grid_auto_columns": null,
      "grid_auto_flow": null,
      "grid_auto_rows": null,
      "grid_column": null,
      "grid_gap": null,
      "grid_row": null,
      "grid_template_areas": null,
      "grid_template_columns": null,
      "grid_template_rows": null,
      "height": null,
      "justify_content": null,
      "justify_items": null,
      "left": null,
      "margin": null,
      "max_height": null,
      "max_width": null,
      "min_height": null,
      "min_width": null,
      "object_fit": null,
      "object_position": null,
      "order": null,
      "overflow": null,
      "overflow_x": null,
      "overflow_y": null,
      "padding": null,
      "right": null,
      "top": null,
      "visibility": null,
      "width": null
     }
    },
    "84a66579d3284d02afd280eecd6e107f": {
     "model_module": "@jupyter-widgets/controls",
     "model_module_version": "1.5.0",
     "model_name": "DescriptionStyleModel",
     "state": {
      "_model_module": "@jupyter-widgets/controls",
      "_model_module_version": "1.5.0",
      "_model_name": "DescriptionStyleModel",
      "_view_count": null,
      "_view_module": "@jupyter-widgets/base",
      "_view_module_version": "1.2.0",
      "_view_name": "StyleView",
      "description_width": ""
     }
    },
    "8b06826c433d45069db6594cf5d1e3a8": {
     "model_module": "@jupyter-widgets/controls",
     "model_module_version": "1.5.0",
     "model_name": "ProgressStyleModel",
     "state": {
      "_model_module": "@jupyter-widgets/controls",
      "_model_module_version": "1.5.0",
      "_model_name": "ProgressStyleModel",
      "_view_count": null,
      "_view_module": "@jupyter-widgets/base",
      "_view_module_version": "1.2.0",
      "_view_name": "StyleView",
      "bar_color": null,
      "description_width": ""
     }
    },
    "9b1ec658660247868c12c2e360e0e668": {
     "model_module": "@jupyter-widgets/controls",
     "model_module_version": "1.5.0",
     "model_name": "HTMLModel",
     "state": {
      "_dom_classes": [],
      "_model_module": "@jupyter-widgets/controls",
      "_model_module_version": "1.5.0",
      "_model_name": "HTMLModel",
      "_view_count": null,
      "_view_module": "@jupyter-widgets/controls",
      "_view_module_version": "1.5.0",
      "_view_name": "HTMLView",
      "description": "",
      "description_tooltip": null,
      "layout": "IPY_MODEL_4cbaee3e14984796a14c2eb25582d6a7",
      "placeholder": "​",
      "style": "IPY_MODEL_fb7266c6463648d89033732f9e39e96b",
      "value": " 2/2 [00:00&lt;00:00, 59.09it/s]"
     }
    },
    "bddadc26e1624fa4be4001bb18af6dd8": {
     "model_module": "@jupyter-widgets/controls",
     "model_module_version": "1.5.0",
     "model_name": "HBoxModel",
     "state": {
      "_dom_classes": [],
      "_model_module": "@jupyter-widgets/controls",
      "_model_module_version": "1.5.0",
      "_model_name": "HBoxModel",
      "_view_count": null,
      "_view_module": "@jupyter-widgets/controls",
      "_view_module_version": "1.5.0",
      "_view_name": "HBoxView",
      "box_style": "",
      "children": [
       "IPY_MODEL_befc29ff05df42578dbe21ca754793ea",
       "IPY_MODEL_c87218097f0345b0994b0cee494371bb",
       "IPY_MODEL_9b1ec658660247868c12c2e360e0e668"
      ],
      "layout": "IPY_MODEL_308724289ef1457283031dcb02cb2cb8"
     }
    },
    "befc29ff05df42578dbe21ca754793ea": {
     "model_module": "@jupyter-widgets/controls",
     "model_module_version": "1.5.0",
     "model_name": "HTMLModel",
     "state": {
      "_dom_classes": [],
      "_model_module": "@jupyter-widgets/controls",
      "_model_module_version": "1.5.0",
      "_model_name": "HTMLModel",
      "_view_count": null,
      "_view_module": "@jupyter-widgets/controls",
      "_view_module_version": "1.5.0",
      "_view_name": "HTMLView",
      "description": "",
      "description_tooltip": null,
      "layout": "IPY_MODEL_eb54a600ea6941e9871a41e7cdfcbd71",
      "placeholder": "​",
      "style": "IPY_MODEL_84a66579d3284d02afd280eecd6e107f",
      "value": "100%"
     }
    },
    "c87218097f0345b0994b0cee494371bb": {
     "model_module": "@jupyter-widgets/controls",
     "model_module_version": "1.5.0",
     "model_name": "FloatProgressModel",
     "state": {
      "_dom_classes": [],
      "_model_module": "@jupyter-widgets/controls",
      "_model_module_version": "1.5.0",
      "_model_name": "FloatProgressModel",
      "_view_count": null,
      "_view_module": "@jupyter-widgets/controls",
      "_view_module_version": "1.5.0",
      "_view_name": "ProgressView",
      "bar_style": "success",
      "description": "",
      "description_tooltip": null,
      "layout": "IPY_MODEL_f4c30a38bbc445b38976389c7321796f",
      "max": 2,
      "min": 0,
      "orientation": "horizontal",
      "style": "IPY_MODEL_8b06826c433d45069db6594cf5d1e3a8",
      "value": 2
     }
    },
    "eb54a600ea6941e9871a41e7cdfcbd71": {
     "model_module": "@jupyter-widgets/base",
     "model_module_version": "1.2.0",
     "model_name": "LayoutModel",
     "state": {
      "_model_module": "@jupyter-widgets/base",
      "_model_module_version": "1.2.0",
      "_model_name": "LayoutModel",
      "_view_count": null,
      "_view_module": "@jupyter-widgets/base",
      "_view_module_version": "1.2.0",
      "_view_name": "LayoutView",
      "align_content": null,
      "align_items": null,
      "align_self": null,
      "border": null,
      "bottom": null,
      "display": null,
      "flex": null,
      "flex_flow": null,
      "grid_area": null,
      "grid_auto_columns": null,
      "grid_auto_flow": null,
      "grid_auto_rows": null,
      "grid_column": null,
      "grid_gap": null,
      "grid_row": null,
      "grid_template_areas": null,
      "grid_template_columns": null,
      "grid_template_rows": null,
      "height": null,
      "justify_content": null,
      "justify_items": null,
      "left": null,
      "margin": null,
      "max_height": null,
      "max_width": null,
      "min_height": null,
      "min_width": null,
      "object_fit": null,
      "object_position": null,
      "order": null,
      "overflow": null,
      "overflow_x": null,
      "overflow_y": null,
      "padding": null,
      "right": null,
      "top": null,
      "visibility": null,
      "width": null
     }
    },
    "f4c30a38bbc445b38976389c7321796f": {
     "model_module": "@jupyter-widgets/base",
     "model_module_version": "1.2.0",
     "model_name": "LayoutModel",
     "state": {
      "_model_module": "@jupyter-widgets/base",
      "_model_module_version": "1.2.0",
      "_model_name": "LayoutModel",
      "_view_count": null,
      "_view_module": "@jupyter-widgets/base",
      "_view_module_version": "1.2.0",
      "_view_name": "LayoutView",
      "align_content": null,
      "align_items": null,
      "align_self": null,
      "border": null,
      "bottom": null,
      "display": null,
      "flex": null,
      "flex_flow": null,
      "grid_area": null,
      "grid_auto_columns": null,
      "grid_auto_flow": null,
      "grid_auto_rows": null,
      "grid_column": null,
      "grid_gap": null,
      "grid_row": null,
      "grid_template_areas": null,
      "grid_template_columns": null,
      "grid_template_rows": null,
      "height": null,
      "justify_content": null,
      "justify_items": null,
      "left": null,
      "margin": null,
      "max_height": null,
      "max_width": null,
      "min_height": null,
      "min_width": null,
      "object_fit": null,
      "object_position": null,
      "order": null,
      "overflow": null,
      "overflow_x": null,
      "overflow_y": null,
      "padding": null,
      "right": null,
      "top": null,
      "visibility": null,
      "width": null
     }
    },
    "fb7266c6463648d89033732f9e39e96b": {
     "model_module": "@jupyter-widgets/controls",
     "model_module_version": "1.5.0",
     "model_name": "DescriptionStyleModel",
     "state": {
      "_model_module": "@jupyter-widgets/controls",
      "_model_module_version": "1.5.0",
      "_model_name": "DescriptionStyleModel",
      "_view_count": null,
      "_view_module": "@jupyter-widgets/base",
      "_view_module_version": "1.2.0",
      "_view_name": "StyleView",
      "description_width": ""
     }
    }
   }
  }
 },
 "nbformat": 4,
 "nbformat_minor": 4
}
