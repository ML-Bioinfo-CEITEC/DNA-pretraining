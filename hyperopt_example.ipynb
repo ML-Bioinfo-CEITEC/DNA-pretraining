{
 "cells": [
  {
   "cell_type": "markdown",
   "id": "399287c2-5aa9-4444-b89e-5c6cc03e6dc9",
   "metadata": {
    "tags": []
   },
   "source": [
    "# SETUP"
   ]
  },
  {
   "cell_type": "code",
   "execution_count": 1,
   "id": "208f0a3c-2ac7-41f8-96a4-7c61080cb15a",
   "metadata": {},
   "outputs": [
    {
     "name": "stderr",
     "output_type": "stream",
     "text": [
      "COMET INFO: Comet API key is valid\n",
      "COMET INFO: Comet API key saved in /home/jovyan/.comet.config\n"
     ]
    }
   ],
   "source": [
    "import comet_ml\n",
    "api_key = \"\"\n",
    "project_name=\"CDNA_BERT\"\n",
    "comet_ml.init(project_name=project_name, api_key=api_key)"
   ]
  },
  {
   "cell_type": "code",
   "execution_count": 2,
   "id": "5c09f04b-f931-4958-85d5-22cbf958bed8",
   "metadata": {},
   "outputs": [],
   "source": [
    "from datasets import load_dataset\n",
    "from transformers import AutoTokenizer, AutoModelForMaskedLM, AutoModelForSequenceClassification, DataCollatorForLanguageModeling, TextDataset\n",
    "from transformers import DistilBertConfig, DistilBertForMaskedLM\n",
    "from transformers import TrainingArguments, Trainer\n",
    "from transformers import DebertaConfig, DebertaForMaskedLM\n",
    "\n",
    "\n",
    "tokenizer = AutoTokenizer.from_pretrained(\"armheb/DNA_bert_6\")\n"
   ]
  },
  {
   "cell_type": "markdown",
   "id": "d2c367b6-6591-4e02-aad4-848cf335bf10",
   "metadata": {},
   "source": [
    "# OPTUNA HYPERPARAM TUNING"
   ]
  },
  {
   "cell_type": "code",
   "execution_count": 3,
   "id": "c4782c29-311b-4294-9c8d-3c4035eb4ad6",
   "metadata": {},
   "outputs": [],
   "source": [
    "#Install in terminal and confirm \n",
    "# !conda install -n YOUR_CONDA_ENV optuna\n",
    "# !conda install -n YOUR_CONDA_ENV -c plotly plotly=5.8.2\n",
    "# !conda install -n YOUR_CONDA_ENV \"jupyterlab>=3\" \"ipywidgets>=7.6\"\n",
    "# !conda install -n YOUR_CONDA_ENV scikit-learn -c conda-forge\n"
   ]
  },
  {
   "cell_type": "code",
   "execution_count": 4,
   "id": "9a4b60cf-2467-4285-84f8-45427393f01c",
   "metadata": {},
   "outputs": [],
   "source": [
    "from transformers import TrainerCallback\n",
    "#Optional part for pruning of experiments\n",
    "\n",
    "class PruningLogCallback(TrainerCallback):\n",
    "    def __init__(self, trial):\n",
    "        self.step = 0\n",
    "        self.trial = trial\n",
    "    \n",
    "    def on_evaluate(self, args, state, control, metrics, **kwargs):\n",
    "        eval_loss = metrics['eval_loss']\n",
    "        current_step = self.step\n",
    "        self.step = self.step+1\n",
    "        self.trial.report(eval_loss, current_step)\n",
    "        \n",
    "        if(self.trial.should_prune()):\n",
    "            raise optuna.TrialPruned()\n"
   ]
  },
  {
   "cell_type": "code",
   "execution_count": 5,
   "id": "1185eb83-1846-41e9-89d3-1169276fe9d1",
   "metadata": {},
   "outputs": [],
   "source": [
    "# How to define search spaces\n",
    "# https://optuna.readthedocs.io/en/stable/tutorial/10_key_features/002_configurations.html\n",
    "# https://optuna.readthedocs.io/en/stable/reference/generated/optuna.trial.Trial.html#optuna.trial.Trial.suggest_float\n",
    "\n",
    "\n",
    "log_once_every_x_sequences = 64000\n",
    "\n",
    "def objective(trial):\n",
    "    num_train_epochs = 1\n",
    "    hidden_layers = trial.suggest_int('num_hidden_layers', low=1, high=12, step=1)\n",
    "    learning_rate = trial.suggest_float('learning_rate', low=1e-5, high=1e-1, log=True)\n",
    "    weight_decay = trial.suggest_float('weight_decay', low=0, high=0.3)\n",
    "    mlm_probability = trial.suggest_float('mlm_probability', low=0.05, high=0.5, step=0.05)\n",
    "    batch_size = trial.suggest_categorical('batch_size', [8,16,32,64,128,256,512])\n",
    "    \n",
    "    logging_steps = (log_once_every_x_sequences/batch_size)\n",
    "    if(batch_size <=64):\n",
    "        accumulation_steps = 1 \n",
    "    else:\n",
    "        accumulation_steps = batch_size/64\n",
    "        batch_size = 64\n",
    "    \n",
    "    model_config = DebertaConfig(vocab_size=len(tokenizer.vocab), max_position_embeddings=512, num_hidden_layers=hidden_layers)\n",
    "    model = DebertaForMaskedLM(config=model_config)\n",
    "    model.init_weights()\n",
    "    \n",
    "    training_args = TrainingArguments(\n",
    "            output_dir='./model',\n",
    "            overwrite_output_dir=True,\n",
    "            evaluation_strategy = \"steps\",\n",
    "            save_strategy = \"steps\",\n",
    "            learning_rate=learning_rate,\n",
    "            weight_decay=weight_decay, \n",
    "            push_to_hub=False,\n",
    "            per_device_train_batch_size=batch_size,\n",
    "            per_device_eval_batch_size=64,\n",
    "            gradient_accumulation_steps=accumulation_steps,\n",
    "            num_train_epochs=num_train_epochs,\n",
    "            save_total_limit=1,\n",
    "            load_best_model_at_end=True,\n",
    "            logging_steps=logging_steps,       \n",
    "            save_steps=5000,\n",
    "            fp16=True,\n",
    "            # warmup_steps=1000,\n",
    "    )\n",
    "\n",
    "    #getting only 2% of datasets for faster hyperopt demonstration\n",
    "    # train_dset = load_dataset(\"simecek/Human_DNA_v0_DNABert6tokenized\", split='train[:2%]')\n",
    "    # test_dset = load_dataset(\"simecek/Human_DNA_v0_DNABert6tokenized\", split='test[:2%]')\n",
    "    \n",
    "    train_dset = load_dataset(\"simecek/Human_DNA_v0_DNABert6tokenized\", split='train')\n",
    "    test_dset = load_dataset(\"simecek/Human_DNA_v0_DNABert6tokenized\", split='test')\n",
    "    \n",
    "\n",
    "    data_collator = DataCollatorForLanguageModeling(\n",
    "        tokenizer=tokenizer, mlm=True, mlm_probability=mlm_probability\n",
    "    )\n",
    "    trainer = Trainer(\n",
    "            model=model,\n",
    "            args=training_args,\n",
    "            data_collator=data_collator,\n",
    "            train_dataset=train_dset,\n",
    "            eval_dataset=test_dset,\n",
    "            callbacks=[PruningLogCallback(trial)],\n",
    "    )\n",
    "    \n",
    "    train_loss = trainer.train().training_loss\n",
    "    eval_loss = trainer.evaluate()['eval_loss']\n",
    "    \n",
    "    #Optimizing for validation loss\n",
    "    return eval_loss\n",
    "\n"
   ]
  },
  {
   "cell_type": "code",
   "execution_count": null,
   "id": "cacd1754-2c2d-4613-a120-519359e77d5a",
   "metadata": {},
   "outputs": [
    {
     "name": "stderr",
     "output_type": "stream",
     "text": [
      "\u001b[32m[I 2022-06-21 16:43:04,765]\u001b[0m A new study created in memory with name: my_first_hyperparameter_search\u001b[0m\n"
     ]
    },
    {
     "name": "stdout",
     "output_type": "stream",
     "text": [
      "A new study created in memory with name: my_first_hyperparameter_search\n"
     ]
    },
    {
     "name": "stderr",
     "output_type": "stream",
     "text": [
      "Using custom data configuration simecek--Human_DNA_v0_DNABert6tokenized-9a684042f2db6cd1\n",
      "Reusing dataset parquet (/home/jovyan/.cache/huggingface/datasets/simecek___parquet/simecek--Human_DNA_v0_DNABert6tokenized-9a684042f2db6cd1/0.0.0/0b6d5799bb726b24ad7fc7be720c170d8e497f575d02d47537de9a5bac074901)\n",
      "Using custom data configuration simecek--Human_DNA_v0_DNABert6tokenized-9a684042f2db6cd1\n",
      "Reusing dataset parquet (/home/jovyan/.cache/huggingface/datasets/simecek___parquet/simecek--Human_DNA_v0_DNABert6tokenized-9a684042f2db6cd1/0.0.0/0b6d5799bb726b24ad7fc7be720c170d8e497f575d02d47537de9a5bac074901)\n",
      "Using amp half precision backend\n",
      "/home/jovyan/my-conda-envs/myCudaCondaEnv/lib/python3.8/site-packages/transformers/optimization.py:306: FutureWarning: This implementation of AdamW is deprecated and will be removed in a future version. Use the PyTorch implementation torch.optim.AdamW instead, or set `no_deprecation_warning=True` to disable this warning\n",
      "  warnings.warn(\n",
      "***** Running training *****\n",
      "  Num examples = 858737\n",
      "  Num Epochs = 1\n",
      "  Instantaneous batch size per device = 64\n",
      "  Total train batch size (w. parallel, distributed & accumulation) = 256.0\n",
      "  Gradient Accumulation steps = 4.0\n",
      "  Total optimization steps = 3354\n",
      "COMET WARNING: As you are running in a Jupyter environment, you will need to call `experiment.end()` when finished to ensure all metrics and code are logged before exiting.\n",
      "COMET INFO: Experiment is live on comet.ml https://www.comet.ml/vlasta/cdna-bert/0a052578f4a744f6a64d6d66d6cffe1c\n",
      "\n",
      "Automatic Comet.ml online logging enabled\n"
     ]
    },
    {
     "data": {
      "text/html": [
       "\n",
       "    <div>\n",
       "      \n",
       "      <progress value='45' max='3354' style='width:300px; height:20px; vertical-align: middle;'></progress>\n",
       "      [  45/3354 02:30 < 3:12:42, 0.29 it/s, Epoch 0.01/1]\n",
       "    </div>\n",
       "    <table border=\"1\" class=\"dataframe\">\n",
       "  <thead>\n",
       " <tr style=\"text-align: left;\">\n",
       "      <th>Step</th>\n",
       "      <th>Training Loss</th>\n",
       "      <th>Validation Loss</th>\n",
       "    </tr>\n",
       "  </thead>\n",
       "  <tbody>\n",
       "  </tbody>\n",
       "</table><p>"
      ],
      "text/plain": [
       "<IPython.core.display.HTML object>"
      ]
     },
     "metadata": {},
     "output_type": "display_data"
    }
   ],
   "source": [
    "import optuna\n",
    "import logging\n",
    "import sys\n",
    "# pruner doc https://optuna.readthedocs.io/en/stable/reference/generated/optuna.pruners.MedianPruner.html#optuna.pruners.MedianPruner\n",
    "optuna.logging.get_logger(\"optuna\").addHandler(logging.StreamHandler(sys.stdout))\n",
    "\n",
    "study=optuna.create_study(\n",
    "    study_name=\"my_first_hyperparameter_search\", \n",
    "    direction='minimize', \n",
    "    pruner=optuna.pruners.MedianPruner(n_startup_trials=3, n_warmup_steps=0) #n_startup_trials=5 as a default\n",
    ")\n",
    "# n_trials dictates the total number of runs (one hyperparam combination = one run)\n",
    "study.optimize(func=objective, n_trials=20) #n_trials=10\n",
    "print(study.best_value)\n",
    "print(study.best_params)\n",
    "print(study.best_trial)\n"
   ]
  },
  {
   "cell_type": "code",
   "execution_count": null,
   "id": "8ef722d3-d252-43e5-8f91-fc97acd46c4d",
   "metadata": {},
   "outputs": [],
   "source": [
    "print(study.best_params)\n"
   ]
  },
  {
   "cell_type": "code",
   "execution_count": null,
   "id": "d46e1e46-28db-4c62-9f42-44a0b5ca4244",
   "metadata": {},
   "outputs": [],
   "source": [
    "import plotly.io as pio\n",
    "pio.renderers.default = \"iframe\""
   ]
  },
  {
   "cell_type": "code",
   "execution_count": null,
   "id": "dd319dda-56f1-4e48-8414-af85f70faf5e",
   "metadata": {},
   "outputs": [],
   "source": [
    "hyperparameters = ['num_hidden_layers', 'learning_rate','weight_decay', 'mlm_probability', 'batch_size']\n",
    "fig = optuna.visualization.plot_parallel_coordinate(study, params=hyperparameters)\n",
    "fig.show()"
   ]
  },
  {
   "cell_type": "code",
   "execution_count": null,
   "id": "20891048-3f11-4fb6-a9bd-c0f266d9b836",
   "metadata": {},
   "outputs": [],
   "source": [
    "fig = optuna.visualization.plot_param_importances(study)\n",
    "fig.show()"
   ]
  }
 ],
 "metadata": {
  "kernelspec": {
   "display_name": "Python [conda env:myCudaCondaEnv]",
   "language": "python",
   "name": "conda-env-myCudaCondaEnv-py"
  },
  "language_info": {
   "codemirror_mode": {
    "name": "ipython",
    "version": 3
   },
   "file_extension": ".py",
   "mimetype": "text/x-python",
   "name": "python",
   "nbconvert_exporter": "python",
   "pygments_lexer": "ipython3",
   "version": "3.8.13"
  }
 },
 "nbformat": 4,
 "nbformat_minor": 5
}
